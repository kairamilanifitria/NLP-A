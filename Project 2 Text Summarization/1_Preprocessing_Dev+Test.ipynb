{
  "nbformat": 4,
  "nbformat_minor": 0,
  "metadata": {
    "colab": {
      "provenance": [],
      "collapsed_sections": [
        "y5U2d1sS7fbK",
        "gH8pI6Ob_HbH",
        "TDeQSw2GDThq"
      ],
      "mount_file_id": "1MCupTsFhBq8kLVz2kjGtitjsksNRwXlE",
      "authorship_tag": "ABX9TyOqDT86ZM+UV0ZdjPUib2+v",
      "include_colab_link": true
    },
    "kernelspec": {
      "name": "python3",
      "display_name": "Python 3"
    },
    "language_info": {
      "name": "python"
    }
  },
  "cells": [
    {
      "cell_type": "markdown",
      "metadata": {
        "id": "view-in-github",
        "colab_type": "text"
      },
      "source": [
        "<a href=\"https://colab.research.google.com/github/kairamilanifitria/NLP-Projects/blob/main/Project%202%20Text%20Summarization/1_Preprocessing_Dev%2BTest.ipynb\" target=\"_parent\"><img src=\"https://colab.research.google.com/assets/colab-badge.svg\" alt=\"Open In Colab\"/></a>"
      ]
    },
    {
      "cell_type": "code",
      "execution_count": 1,
      "metadata": {
        "id": "vbMGi9JA4sh3"
      },
      "outputs": [],
      "source": [
        "import pandas as pd\n",
        "import numpy as np\n",
        "import matplotlib.pyplot as plt\n",
        "\n",
        "pd.set_option('display.max_colwidth', None)"
      ]
    },
    {
      "cell_type": "code",
      "source": [
        "# Load the dataset\n",
        "dev_df = pd.read_csv('/content/drive/MyDrive/Bootcamp AI/Dataset/Task2 : Text Summarization/normalized_dataset/dev_normalized.csv')\n",
        "test_df = pd.read_csv('/content/drive/MyDrive/Bootcamp AI/Dataset/Task2 : Text Summarization/normalized_dataset/test_normalized.csv')\n",
        ""
      ],
      "metadata": {
        "id": "K3H_4DKv42cW"
      },
      "execution_count": 5,
      "outputs": []
    },
    {
      "cell_type": "markdown",
      "source": [
        "# Dev + Test Set"
      ],
      "metadata": {
        "id": "y5U2d1sS7fbK"
      }
    },
    {
      "cell_type": "code",
      "source": [
        "dev_df.iloc[1]"
      ],
      "metadata": {
        "colab": {
          "base_uri": "https://localhost:8080/",
          "height": 765
        },
        "id": "Ky_F_Liy5YDL",
        "outputId": "404016eb-5e69-4460-e2a0-40a4a1948e5e"
      },
      "execution_count": 7,
      "outputs": [
        {
          "output_type": "execute_result",
          "data": {
            "text/plain": [
              "id                                                                                                                                                                                                                                                                                                                                                                                                                                                                                                                                                                                                                                                                                                                                                                                                                                                                                                                                                                                                                                                                                                                                                                                                                                                                                                                                                                                                                                                                                                                                                                                                                                                                                                                                                                                                                                                                                                                                                                                    10628\n",
              "url                                                                                                                                                                                                                                                                                                                                                                                                                                                                                                                                                                                                                                                                                                                                                                                                                                                                                                                                                                                                                                                                                                                                                                                                                                                                                                                                                                                                                                                                                                                                                                                                                                                                                                                                                                                                                                                                                                      https://www.liputan6.com/news/read/10628/pengungsi-madura-masih-mengaliri-surabaya\n",
              "clean_article                 [['Liputan6', '.', 'com', ',', 'Surabaya', ':', 'Tokoh', 'Madura', 'dan', 'Kalimantan', 'telah', 'bersepakat', 'untuk', 'berdamai', '.'], ['Tapi', ',', 'arus', 'pengungsi', 'dari', 'Bumi', 'Borneo', 'terus', 'mengaliri', 'Tanah', 'Jawa', '.'], ['Hingga', 'kini', ',', 'ada', 'sekitar', '90', 'ribu', 'pengungsi', 'masuk', 'ke', 'Jawa', 'Timur', '.'], ['Karena', 'itu', ',', 'Gubernur', 'Jatim', 'Imam', 'Utomo', 'meminta', 'gubernur', 'se-Kalimantan', 'mensosialisasikan', 'kesepakatan', 'damai', 'di', 'Jakarta', 'dengan', 'para', 'tokoh', 'masyarakat', 'dan', 'tetua', 'adat', 'di', 'Kalimantan', '.'], ['Pernyataan', 'itu', 'diungkapkan', 'Imam', 'di', 'Surabaya', ',', 'baru-baru', 'ini', '.'], ['Imam', 'mengaku', 'cemas', 'melihat', 'gelombang', 'pengungsi', 'yang', 'tak', 'pernah', 'surut', '.'], ['Sebab', ',', 'konflik', 'masih', 'terus', 'menyeruak', 'di', 'sejumlah', 'daerah', 'di', 'Kalimantan', 'Tengah', 'dan', 'Kalimantan', 'Selatan', '.'], ['Akibatnya', ',', 'pengungsi', 'yang', 'berjumlah', '70', '.', '000', 'bertambah', '20', '.', '000', 'orang', '.'], ['Padahal', ',', 'dana', 'yang', 'ada', 'di', 'kas', 'Pemerintah', 'Daerah', 'Jatim', 'terbatas', '.'], ['Karena', 'itu', ',', 'Imam', 'meminta', 'para', 'gubernur', 'di', 'Kalimantan', 'mengerem', 'arus', 'pengungsi', '.'], ['Caranya', 'dengan', 'menciptakan', 'rasa', 'aman', 'buat', 'warga', 'Madura', 'yang', 'ada', 'di', 'Kalimantan', '.'], ['Imam', 'juga', 'meminta', 'gubenur', 'Kalimantan', 'memberi', 'tempat', 'perlindungan', 'yang', 'aman', 'bagi', 'pengungsi', 'Madura', '.'], ['Sebab', ',', 'saat', 'ini', ',', 'Pemda', 'Jatim', 'tengah', 'menata', 'kehidupan', 'pengungsi', 'gelombang', 'pertama', '.'], ['Dia', 'khawatir', ',', 'jumlah', 'yang', 'membludak', 'akan', 'memperburuk', 'situasi', 'pengungsi', 'di', 'Jatim', '.', '(', 'TNA/Hasan', 'Sentot', 'dan', 'Joko', 'Sulistiobudi', ')', '.']]\n",
              "clean_summary                                                                                                                                                                                                                                                                                                                                                                                                                                                                                                                                                                                                                                                                                                                                                                                                                                                                                                                                                                                                                                                                                                                                                                                                                                                                                                                                                                                                                                                                                                                                                                                                                                                                                                          [['Gubernur', 'Jawa', 'Timur', 'meminta', 'para', 'gubernur', 'se-Kalimantan', 'mensosialisasikan', 'kesepakatan', 'damai', 'kepada', 'warganya', '.'], ['Dengan', 'begitu', 'tak', 'ada', 'lagi', 'gelombang', 'pengungsi', 'warga', 'Madura', 'ke', 'Jatim', '.']]\n",
              "extractive_summary                                                                                                                                                                                                                                                                                                                                                                                                                                                                                                                                                                                                                                                                                                                                                                                                                                                                                                                                                                                                                                                                                                                                                                                                                                                                                                                                                                                                                                                                                                                                                                                                                                                                                                                                                                                                                                                                                                                                                                   [2, 3]\n",
              "rebuilt_extractive_summary                                                                                                                                                                                                                                                                                                                                                                                                                                                                                                                                                                                                                                                                                                                                                                                                                                                                                                                                                                                                                                                                                                                                                                                                                                                                                                                                                                                                                                                                                                                                                                                        [['Hingga', 'kini', ',', 'ada', 'sekitar', '90', 'ribu', 'pengungsi', 'masuk', 'ke', 'Jawa', 'Timur', '.'], ['Karena', 'itu', ',', 'Gubernur', 'Jatim', 'Imam', 'Utomo', 'meminta', 'gubernur', 'se-Kalimantan', 'mensosialisasikan', 'kesepakatan', 'damai', 'di', 'Jakarta', 'dengan', 'para', 'tokoh', 'masyarakat', 'dan', 'tetua', 'adat', 'di', 'Kalimantan', '.']]\n",
              "text                                                                                                                                                                                                                                                                                                                                                                            liputan6       com       surabaya       tokoh   madura   dan   kalimantan   telah   sepakat   untuk   damai         tapi       arus   ungsi   dari   bumi   borneo   terus   alir   tanah   jawa         hingga   kini       ada   sekitar   90   ribu   ungsi   masuk   ke   jawa   timur         karena   itu       gubernur   jatim   imam   utomo   minta   gubernur   se-kalimantan   sosialisasi   sepakat   damai   di   jakarta   dengan   para   tokoh   masyarakat   dan   tetua   adat   di   kalimantan         nyata   itu   ungkap   imam   di   surabaya       baru   ini         imam   aku   cemas   lihat   gelombang   ungsi   yang   tak   pernah   surut         sebab       konflik   masih   terus   seruak   di   jumlah   daerah   di   kalimantan   tengah   dan   kalimantan   selatan         akibat       ungsi   yang   jumlah   70       000   tambah   20       000   orang         padahal       dana   yang   ada   di   kas   perintah   daerah   jatim   batas         karena   itu       imam   minta   para   gubernur   di   kalimantan   rem   arus   ungsi         cara   dengan   cipta   rasa   aman   buat   warga   madura   yang   ada   di   kalimantan         imam   juga   minta   gubenur   kalimantan   beri   tempat   lindung   yang   aman   bagi   ungsi   madura         sebab       saat   ini       pemda   jatim   tengah   tata   hidup   ungsi   gelombang   pertama         dia   khawatir       jumlah   yang   membludak   akan   buruk   situasi   ungsi   di   jatim           tna hasan   sentot   dan   joko   sulistiobudi           \n",
              "summary                                                                                                                                                                                                                                                                                                                                                                                                                                                                                                                                                                                                                                                                                                                                                                                                                                                                                                                                                                                                                                                                                                                                                                                                                                                                                                                                                                                                                                                                                                                                                                                                                                                                                                                                                              gubernur   jawa   timur   minta   para   gubernur   se-kalimantan   sosialisasi   sepakat   damai   kepada   warga         dengan   begitu   tak   ada   lagi   gelombang   ungsi   warga   madura   ke   jatim       \n",
              "e_summary                                                                                                                                                                                                                                                                                                                                                                                                                                                                                                                                                                                                                                                                                                                                                                                                                                                                                                                                                                                                                                                                                                                                                                                                                                                                                                                                                                                                                                                                                                                                                                                                                                                                                                                                                    hingga kini  ada sekitar 90 ribu ungsi masuk ke jawa timur  karena itu  gubernur jatim imam utomo minta gubernur se-kalimantan sosialisasi sepakat damai di jakarta dengan para tokoh masyarakat dan tetua adat di kalimantan \n",
              "Name: 1, dtype: object"
            ],
            "text/html": [
              "<div>\n",
              "<style scoped>\n",
              "    .dataframe tbody tr th:only-of-type {\n",
              "        vertical-align: middle;\n",
              "    }\n",
              "\n",
              "    .dataframe tbody tr th {\n",
              "        vertical-align: top;\n",
              "    }\n",
              "\n",
              "    .dataframe thead th {\n",
              "        text-align: right;\n",
              "    }\n",
              "</style>\n",
              "<table border=\"1\" class=\"dataframe\">\n",
              "  <thead>\n",
              "    <tr style=\"text-align: right;\">\n",
              "      <th></th>\n",
              "      <th>1</th>\n",
              "    </tr>\n",
              "  </thead>\n",
              "  <tbody>\n",
              "    <tr>\n",
              "      <th>id</th>\n",
              "      <td>10628</td>\n",
              "    </tr>\n",
              "    <tr>\n",
              "      <th>url</th>\n",
              "      <td>https://www.liputan6.com/news/read/10628/pengungsi-madura-masih-mengaliri-surabaya</td>\n",
              "    </tr>\n",
              "    <tr>\n",
              "      <th>clean_article</th>\n",
              "      <td>[['Liputan6', '.', 'com', ',', 'Surabaya', ':', 'Tokoh', 'Madura', 'dan', 'Kalimantan', 'telah', 'bersepakat', 'untuk', 'berdamai', '.'], ['Tapi', ',', 'arus', 'pengungsi', 'dari', 'Bumi', 'Borneo', 'terus', 'mengaliri', 'Tanah', 'Jawa', '.'], ['Hingga', 'kini', ',', 'ada', 'sekitar', '90', 'ribu', 'pengungsi', 'masuk', 'ke', 'Jawa', 'Timur', '.'], ['Karena', 'itu', ',', 'Gubernur', 'Jatim', 'Imam', 'Utomo', 'meminta', 'gubernur', 'se-Kalimantan', 'mensosialisasikan', 'kesepakatan', 'damai', 'di', 'Jakarta', 'dengan', 'para', 'tokoh', 'masyarakat', 'dan', 'tetua', 'adat', 'di', 'Kalimantan', '.'], ['Pernyataan', 'itu', 'diungkapkan', 'Imam', 'di', 'Surabaya', ',', 'baru-baru', 'ini', '.'], ['Imam', 'mengaku', 'cemas', 'melihat', 'gelombang', 'pengungsi', 'yang', 'tak', 'pernah', 'surut', '.'], ['Sebab', ',', 'konflik', 'masih', 'terus', 'menyeruak', 'di', 'sejumlah', 'daerah', 'di', 'Kalimantan', 'Tengah', 'dan', 'Kalimantan', 'Selatan', '.'], ['Akibatnya', ',', 'pengungsi', 'yang', 'berjumlah', '70', '.', '000', 'bertambah', '20', '.', '000', 'orang', '.'], ['Padahal', ',', 'dana', 'yang', 'ada', 'di', 'kas', 'Pemerintah', 'Daerah', 'Jatim', 'terbatas', '.'], ['Karena', 'itu', ',', 'Imam', 'meminta', 'para', 'gubernur', 'di', 'Kalimantan', 'mengerem', 'arus', 'pengungsi', '.'], ['Caranya', 'dengan', 'menciptakan', 'rasa', 'aman', 'buat', 'warga', 'Madura', 'yang', 'ada', 'di', 'Kalimantan', '.'], ['Imam', 'juga', 'meminta', 'gubenur', 'Kalimantan', 'memberi', 'tempat', 'perlindungan', 'yang', 'aman', 'bagi', 'pengungsi', 'Madura', '.'], ['Sebab', ',', 'saat', 'ini', ',', 'Pemda', 'Jatim', 'tengah', 'menata', 'kehidupan', 'pengungsi', 'gelombang', 'pertama', '.'], ['Dia', 'khawatir', ',', 'jumlah', 'yang', 'membludak', 'akan', 'memperburuk', 'situasi', 'pengungsi', 'di', 'Jatim', '.', '(', 'TNA/Hasan', 'Sentot', 'dan', 'Joko', 'Sulistiobudi', ')', '.']]</td>\n",
              "    </tr>\n",
              "    <tr>\n",
              "      <th>clean_summary</th>\n",
              "      <td>[['Gubernur', 'Jawa', 'Timur', 'meminta', 'para', 'gubernur', 'se-Kalimantan', 'mensosialisasikan', 'kesepakatan', 'damai', 'kepada', 'warganya', '.'], ['Dengan', 'begitu', 'tak', 'ada', 'lagi', 'gelombang', 'pengungsi', 'warga', 'Madura', 'ke', 'Jatim', '.']]</td>\n",
              "    </tr>\n",
              "    <tr>\n",
              "      <th>extractive_summary</th>\n",
              "      <td>[2, 3]</td>\n",
              "    </tr>\n",
              "    <tr>\n",
              "      <th>rebuilt_extractive_summary</th>\n",
              "      <td>[['Hingga', 'kini', ',', 'ada', 'sekitar', '90', 'ribu', 'pengungsi', 'masuk', 'ke', 'Jawa', 'Timur', '.'], ['Karena', 'itu', ',', 'Gubernur', 'Jatim', 'Imam', 'Utomo', 'meminta', 'gubernur', 'se-Kalimantan', 'mensosialisasikan', 'kesepakatan', 'damai', 'di', 'Jakarta', 'dengan', 'para', 'tokoh', 'masyarakat', 'dan', 'tetua', 'adat', 'di', 'Kalimantan', '.']]</td>\n",
              "    </tr>\n",
              "    <tr>\n",
              "      <th>text</th>\n",
              "      <td>liputan6       com       surabaya       tokoh   madura   dan   kalimantan   telah   sepakat   untuk   damai         tapi       arus   ungsi   dari   bumi   borneo   terus   alir   tanah   jawa         hingga   kini       ada   sekitar   90   ribu   ungsi   masuk   ke   jawa   timur         karena   itu       gubernur   jatim   imam   utomo   minta   gubernur   se-kalimantan   sosialisasi   sepakat   damai   di   jakarta   dengan   para   tokoh   masyarakat   dan   tetua   adat   di   kalimantan         nyata   itu   ungkap   imam   di   surabaya       baru   ini         imam   aku   cemas   lihat   gelombang   ungsi   yang   tak   pernah   surut         sebab       konflik   masih   terus   seruak   di   jumlah   daerah   di   kalimantan   tengah   dan   kalimantan   selatan         akibat       ungsi   yang   jumlah   70       000   tambah   20       000   orang         padahal       dana   yang   ada   di   kas   perintah   daerah   jatim   batas         karena   itu       imam   minta   para   gubernur   di   kalimantan   rem   arus   ungsi         cara   dengan   cipta   rasa   aman   buat   warga   madura   yang   ada   di   kalimantan         imam   juga   minta   gubenur   kalimantan   beri   tempat   lindung   yang   aman   bagi   ungsi   madura         sebab       saat   ini       pemda   jatim   tengah   tata   hidup   ungsi   gelombang   pertama         dia   khawatir       jumlah   yang   membludak   akan   buruk   situasi   ungsi   di   jatim           tna hasan   sentot   dan   joko   sulistiobudi</td>\n",
              "    </tr>\n",
              "    <tr>\n",
              "      <th>summary</th>\n",
              "      <td>gubernur   jawa   timur   minta   para   gubernur   se-kalimantan   sosialisasi   sepakat   damai   kepada   warga         dengan   begitu   tak   ada   lagi   gelombang   ungsi   warga   madura   ke   jatim</td>\n",
              "    </tr>\n",
              "    <tr>\n",
              "      <th>e_summary</th>\n",
              "      <td>hingga kini  ada sekitar 90 ribu ungsi masuk ke jawa timur  karena itu  gubernur jatim imam utomo minta gubernur se-kalimantan sosialisasi sepakat damai di jakarta dengan para tokoh masyarakat dan tetua adat di kalimantan</td>\n",
              "    </tr>\n",
              "  </tbody>\n",
              "</table>\n",
              "</div><br><label><b>dtype:</b> object</label>"
            ]
          },
          "metadata": {},
          "execution_count": 7
        }
      ]
    },
    {
      "cell_type": "code",
      "source": [
        "import re\n",
        "\n",
        "def clean_text(text):\n",
        "    # Remove URL + lowercase\n",
        "    text = re.sub(r'#(\\w+)', lambda match: ' ' + re.sub(r'(?<=[a-z0-9])(?=[A-Z])', ' ', match.group(1)), text)\n",
        "    text = text.lower()\n",
        "\n",
        "    # Remove special characters and punctuation\n",
        "    text = re.sub(r'[^\\w\\s]', ' ', text)\n",
        "    text = re.sub(r'[^a-zA-Z0-9\\s]', ' ', text)\n",
        "\n",
        "    # Remove extra whitespace\n",
        "    text = re.sub(r'\\s+', ' ', text).strip()\n",
        "\n",
        "    return text\n",
        "\n",
        "# Apply the function to create new columns\n",
        "dev_df['clean1_article'] = dev_df['clean_article'].apply(clean_text)\n",
        "dev_df['clean1_summary'] = dev_df['clean_summary'].apply(clean_text)\n",
        "dev_df['extractive1_summary'] = dev_df['rebuilt_extractive_summary'].apply(clean_text)\n",
        "\n",
        "test_df['clean1_article'] = test_df['clean_article'].apply(clean_text)\n",
        "test_df['clean1_summary'] = test_df['clean_summary'].apply(clean_text)\n",
        "test_df['extractive1_summary'] = test_df['rebuilt_extractive_summary'].apply(clean_text)\n"
      ],
      "metadata": {
        "id": "jRwwibFh5wnM"
      },
      "execution_count": 9,
      "outputs": []
    },
    {
      "cell_type": "code",
      "source": [
        "dev_df.iloc[1]"
      ],
      "metadata": {
        "colab": {
          "base_uri": "https://localhost:8080/",
          "height": 1000
        },
        "id": "t3NOX82g8pzu",
        "outputId": "4ca54f8d-f53d-4bd5-be41-c7e8a3bc3167"
      },
      "execution_count": 10,
      "outputs": [
        {
          "output_type": "execute_result",
          "data": {
            "text/plain": [
              "id                                                                                                                                                                                                                                                                                                                                                                                                                                                                                                                                                                                                                                                                                                                                                                                                                                                                                                                                                                                                                                                                                                                                                                                                                                                                                                                                                                                                                                                                                                                                                                                                                                                                                                                                                                                                                                                                                                                                                                                    10628\n",
              "url                                                                                                                                                                                                                                                                                                                                                                                                                                                                                                                                                                                                                                                                                                                                                                                                                                                                                                                                                                                                                                                                                                                                                                                                                                                                                                                                                                                                                                                                                                                                                                                                                                                                                                                                                                                                                                                                                                      https://www.liputan6.com/news/read/10628/pengungsi-madura-masih-mengaliri-surabaya\n",
              "clean_article                 [['Liputan6', '.', 'com', ',', 'Surabaya', ':', 'Tokoh', 'Madura', 'dan', 'Kalimantan', 'telah', 'bersepakat', 'untuk', 'berdamai', '.'], ['Tapi', ',', 'arus', 'pengungsi', 'dari', 'Bumi', 'Borneo', 'terus', 'mengaliri', 'Tanah', 'Jawa', '.'], ['Hingga', 'kini', ',', 'ada', 'sekitar', '90', 'ribu', 'pengungsi', 'masuk', 'ke', 'Jawa', 'Timur', '.'], ['Karena', 'itu', ',', 'Gubernur', 'Jatim', 'Imam', 'Utomo', 'meminta', 'gubernur', 'se-Kalimantan', 'mensosialisasikan', 'kesepakatan', 'damai', 'di', 'Jakarta', 'dengan', 'para', 'tokoh', 'masyarakat', 'dan', 'tetua', 'adat', 'di', 'Kalimantan', '.'], ['Pernyataan', 'itu', 'diungkapkan', 'Imam', 'di', 'Surabaya', ',', 'baru-baru', 'ini', '.'], ['Imam', 'mengaku', 'cemas', 'melihat', 'gelombang', 'pengungsi', 'yang', 'tak', 'pernah', 'surut', '.'], ['Sebab', ',', 'konflik', 'masih', 'terus', 'menyeruak', 'di', 'sejumlah', 'daerah', 'di', 'Kalimantan', 'Tengah', 'dan', 'Kalimantan', 'Selatan', '.'], ['Akibatnya', ',', 'pengungsi', 'yang', 'berjumlah', '70', '.', '000', 'bertambah', '20', '.', '000', 'orang', '.'], ['Padahal', ',', 'dana', 'yang', 'ada', 'di', 'kas', 'Pemerintah', 'Daerah', 'Jatim', 'terbatas', '.'], ['Karena', 'itu', ',', 'Imam', 'meminta', 'para', 'gubernur', 'di', 'Kalimantan', 'mengerem', 'arus', 'pengungsi', '.'], ['Caranya', 'dengan', 'menciptakan', 'rasa', 'aman', 'buat', 'warga', 'Madura', 'yang', 'ada', 'di', 'Kalimantan', '.'], ['Imam', 'juga', 'meminta', 'gubenur', 'Kalimantan', 'memberi', 'tempat', 'perlindungan', 'yang', 'aman', 'bagi', 'pengungsi', 'Madura', '.'], ['Sebab', ',', 'saat', 'ini', ',', 'Pemda', 'Jatim', 'tengah', 'menata', 'kehidupan', 'pengungsi', 'gelombang', 'pertama', '.'], ['Dia', 'khawatir', ',', 'jumlah', 'yang', 'membludak', 'akan', 'memperburuk', 'situasi', 'pengungsi', 'di', 'Jatim', '.', '(', 'TNA/Hasan', 'Sentot', 'dan', 'Joko', 'Sulistiobudi', ')', '.']]\n",
              "clean_summary                                                                                                                                                                                                                                                                                                                                                                                                                                                                                                                                                                                                                                                                                                                                                                                                                                                                                                                                                                                                                                                                                                                                                                                                                                                                                                                                                                                                                                                                                                                                                                                                                                                                                                          [['Gubernur', 'Jawa', 'Timur', 'meminta', 'para', 'gubernur', 'se-Kalimantan', 'mensosialisasikan', 'kesepakatan', 'damai', 'kepada', 'warganya', '.'], ['Dengan', 'begitu', 'tak', 'ada', 'lagi', 'gelombang', 'pengungsi', 'warga', 'Madura', 'ke', 'Jatim', '.']]\n",
              "extractive_summary                                                                                                                                                                                                                                                                                                                                                                                                                                                                                                                                                                                                                                                                                                                                                                                                                                                                                                                                                                                                                                                                                                                                                                                                                                                                                                                                                                                                                                                                                                                                                                                                                                                                                                                                                                                                                                                                                                                                                                   [2, 3]\n",
              "rebuilt_extractive_summary                                                                                                                                                                                                                                                                                                                                                                                                                                                                                                                                                                                                                                                                                                                                                                                                                                                                                                                                                                                                                                                                                                                                                                                                                                                                                                                                                                                                                                                                                                                                                                                        [['Hingga', 'kini', ',', 'ada', 'sekitar', '90', 'ribu', 'pengungsi', 'masuk', 'ke', 'Jawa', 'Timur', '.'], ['Karena', 'itu', ',', 'Gubernur', 'Jatim', 'Imam', 'Utomo', 'meminta', 'gubernur', 'se-Kalimantan', 'mensosialisasikan', 'kesepakatan', 'damai', 'di', 'Jakarta', 'dengan', 'para', 'tokoh', 'masyarakat', 'dan', 'tetua', 'adat', 'di', 'Kalimantan', '.']]\n",
              "text                                                                                                                                                                                                                                                                                                                                                                            liputan6       com       surabaya       tokoh   madura   dan   kalimantan   telah   sepakat   untuk   damai         tapi       arus   ungsi   dari   bumi   borneo   terus   alir   tanah   jawa         hingga   kini       ada   sekitar   90   ribu   ungsi   masuk   ke   jawa   timur         karena   itu       gubernur   jatim   imam   utomo   minta   gubernur   se-kalimantan   sosialisasi   sepakat   damai   di   jakarta   dengan   para   tokoh   masyarakat   dan   tetua   adat   di   kalimantan         nyata   itu   ungkap   imam   di   surabaya       baru   ini         imam   aku   cemas   lihat   gelombang   ungsi   yang   tak   pernah   surut         sebab       konflik   masih   terus   seruak   di   jumlah   daerah   di   kalimantan   tengah   dan   kalimantan   selatan         akibat       ungsi   yang   jumlah   70       000   tambah   20       000   orang         padahal       dana   yang   ada   di   kas   perintah   daerah   jatim   batas         karena   itu       imam   minta   para   gubernur   di   kalimantan   rem   arus   ungsi         cara   dengan   cipta   rasa   aman   buat   warga   madura   yang   ada   di   kalimantan         imam   juga   minta   gubenur   kalimantan   beri   tempat   lindung   yang   aman   bagi   ungsi   madura         sebab       saat   ini       pemda   jatim   tengah   tata   hidup   ungsi   gelombang   pertama         dia   khawatir       jumlah   yang   membludak   akan   buruk   situasi   ungsi   di   jatim           tna hasan   sentot   dan   joko   sulistiobudi           \n",
              "summary                                                                                                                                                                                                                                                                                                                                                                                                                                                                                                                                                                                                                                                                                                                                                                                                                                                                                                                                                                                                                                                                                                                                                                                                                                                                                                                                                                                                                                                                                                                                                                                                                                                                                                                                                              gubernur   jawa   timur   minta   para   gubernur   se-kalimantan   sosialisasi   sepakat   damai   kepada   warga         dengan   begitu   tak   ada   lagi   gelombang   ungsi   warga   madura   ke   jatim       \n",
              "e_summary                                                                                                                                                                                                                                                                                                                                                                                                                                                                                                                                                                                                                                                                                                                                                                                                                                                                                                                                                                                                                                                                                                                                                                                                                                                                                                                                                                                                                                                                                                                                                                                                                                                                                                                                                    hingga kini  ada sekitar 90 ribu ungsi masuk ke jawa timur  karena itu  gubernur jatim imam utomo minta gubernur se-kalimantan sosialisasi sepakat damai di jakarta dengan para tokoh masyarakat dan tetua adat di kalimantan \n",
              "clean1_article                                                                                                                                                                                                                                                                                                                                                                                                                                                                                                                                                                                                                                                                                                                                                liputan6 com surabaya tokoh madura dan kalimantan telah bersepakat untuk berdamai tapi arus pengungsi dari bumi borneo terus mengaliri tanah jawa hingga kini ada sekitar 90 ribu pengungsi masuk ke jawa timur karena itu gubernur jatim imam utomo meminta gubernur se kalimantan mensosialisasikan kesepakatan damai di jakarta dengan para tokoh masyarakat dan tetua adat di kalimantan pernyataan itu diungkapkan imam di surabaya baru baru ini imam mengaku cemas melihat gelombang pengungsi yang tak pernah surut sebab konflik masih terus menyeruak di sejumlah daerah di kalimantan tengah dan kalimantan selatan akibatnya pengungsi yang berjumlah 70 000 bertambah 20 000 orang padahal dana yang ada di kas pemerintah daerah jatim terbatas karena itu imam meminta para gubernur di kalimantan mengerem arus pengungsi caranya dengan menciptakan rasa aman buat warga madura yang ada di kalimantan imam juga meminta gubenur kalimantan memberi tempat perlindungan yang aman bagi pengungsi madura sebab saat ini pemda jatim tengah menata kehidupan pengungsi gelombang pertama dia khawatir jumlah yang membludak akan memperburuk situasi pengungsi di jatim tna hasan sentot dan joko sulistiobudi\n",
              "clean1_summary                                                                                                                                                                                                                                                                                                                                                                                                                                                                                                                                                                                                                                                                                                                                                                                                                                                                                                                                                                                                                                                                                                                                                                                                                                                                                                                                                                                                                                                                                                                                                                                                                                                                                                                                                                                             gubernur jawa timur meminta para gubernur se kalimantan mensosialisasikan kesepakatan damai kepada warganya dengan begitu tak ada lagi gelombang pengungsi warga madura ke jatim\n",
              "extractive1_summary                                                                                                                                                                                                                                                                                                                                                                                                                                                                                                                                                                                                                                                                                                                                                                                                                                                                                                                                                                                                                                                                                                                                                                                                                                                                                                                                                                                                                                                                                                                                                                                                                                                                                                                              hingga kini ada sekitar 90 ribu pengungsi masuk ke jawa timur karena itu gubernur jatim imam utomo meminta gubernur se kalimantan mensosialisasikan kesepakatan damai di jakarta dengan para tokoh masyarakat dan tetua adat di kalimantan\n",
              "Name: 1, dtype: object"
            ],
            "text/html": [
              "<div>\n",
              "<style scoped>\n",
              "    .dataframe tbody tr th:only-of-type {\n",
              "        vertical-align: middle;\n",
              "    }\n",
              "\n",
              "    .dataframe tbody tr th {\n",
              "        vertical-align: top;\n",
              "    }\n",
              "\n",
              "    .dataframe thead th {\n",
              "        text-align: right;\n",
              "    }\n",
              "</style>\n",
              "<table border=\"1\" class=\"dataframe\">\n",
              "  <thead>\n",
              "    <tr style=\"text-align: right;\">\n",
              "      <th></th>\n",
              "      <th>1</th>\n",
              "    </tr>\n",
              "  </thead>\n",
              "  <tbody>\n",
              "    <tr>\n",
              "      <th>id</th>\n",
              "      <td>10628</td>\n",
              "    </tr>\n",
              "    <tr>\n",
              "      <th>url</th>\n",
              "      <td>https://www.liputan6.com/news/read/10628/pengungsi-madura-masih-mengaliri-surabaya</td>\n",
              "    </tr>\n",
              "    <tr>\n",
              "      <th>clean_article</th>\n",
              "      <td>[['Liputan6', '.', 'com', ',', 'Surabaya', ':', 'Tokoh', 'Madura', 'dan', 'Kalimantan', 'telah', 'bersepakat', 'untuk', 'berdamai', '.'], ['Tapi', ',', 'arus', 'pengungsi', 'dari', 'Bumi', 'Borneo', 'terus', 'mengaliri', 'Tanah', 'Jawa', '.'], ['Hingga', 'kini', ',', 'ada', 'sekitar', '90', 'ribu', 'pengungsi', 'masuk', 'ke', 'Jawa', 'Timur', '.'], ['Karena', 'itu', ',', 'Gubernur', 'Jatim', 'Imam', 'Utomo', 'meminta', 'gubernur', 'se-Kalimantan', 'mensosialisasikan', 'kesepakatan', 'damai', 'di', 'Jakarta', 'dengan', 'para', 'tokoh', 'masyarakat', 'dan', 'tetua', 'adat', 'di', 'Kalimantan', '.'], ['Pernyataan', 'itu', 'diungkapkan', 'Imam', 'di', 'Surabaya', ',', 'baru-baru', 'ini', '.'], ['Imam', 'mengaku', 'cemas', 'melihat', 'gelombang', 'pengungsi', 'yang', 'tak', 'pernah', 'surut', '.'], ['Sebab', ',', 'konflik', 'masih', 'terus', 'menyeruak', 'di', 'sejumlah', 'daerah', 'di', 'Kalimantan', 'Tengah', 'dan', 'Kalimantan', 'Selatan', '.'], ['Akibatnya', ',', 'pengungsi', 'yang', 'berjumlah', '70', '.', '000', 'bertambah', '20', '.', '000', 'orang', '.'], ['Padahal', ',', 'dana', 'yang', 'ada', 'di', 'kas', 'Pemerintah', 'Daerah', 'Jatim', 'terbatas', '.'], ['Karena', 'itu', ',', 'Imam', 'meminta', 'para', 'gubernur', 'di', 'Kalimantan', 'mengerem', 'arus', 'pengungsi', '.'], ['Caranya', 'dengan', 'menciptakan', 'rasa', 'aman', 'buat', 'warga', 'Madura', 'yang', 'ada', 'di', 'Kalimantan', '.'], ['Imam', 'juga', 'meminta', 'gubenur', 'Kalimantan', 'memberi', 'tempat', 'perlindungan', 'yang', 'aman', 'bagi', 'pengungsi', 'Madura', '.'], ['Sebab', ',', 'saat', 'ini', ',', 'Pemda', 'Jatim', 'tengah', 'menata', 'kehidupan', 'pengungsi', 'gelombang', 'pertama', '.'], ['Dia', 'khawatir', ',', 'jumlah', 'yang', 'membludak', 'akan', 'memperburuk', 'situasi', 'pengungsi', 'di', 'Jatim', '.', '(', 'TNA/Hasan', 'Sentot', 'dan', 'Joko', 'Sulistiobudi', ')', '.']]</td>\n",
              "    </tr>\n",
              "    <tr>\n",
              "      <th>clean_summary</th>\n",
              "      <td>[['Gubernur', 'Jawa', 'Timur', 'meminta', 'para', 'gubernur', 'se-Kalimantan', 'mensosialisasikan', 'kesepakatan', 'damai', 'kepada', 'warganya', '.'], ['Dengan', 'begitu', 'tak', 'ada', 'lagi', 'gelombang', 'pengungsi', 'warga', 'Madura', 'ke', 'Jatim', '.']]</td>\n",
              "    </tr>\n",
              "    <tr>\n",
              "      <th>extractive_summary</th>\n",
              "      <td>[2, 3]</td>\n",
              "    </tr>\n",
              "    <tr>\n",
              "      <th>rebuilt_extractive_summary</th>\n",
              "      <td>[['Hingga', 'kini', ',', 'ada', 'sekitar', '90', 'ribu', 'pengungsi', 'masuk', 'ke', 'Jawa', 'Timur', '.'], ['Karena', 'itu', ',', 'Gubernur', 'Jatim', 'Imam', 'Utomo', 'meminta', 'gubernur', 'se-Kalimantan', 'mensosialisasikan', 'kesepakatan', 'damai', 'di', 'Jakarta', 'dengan', 'para', 'tokoh', 'masyarakat', 'dan', 'tetua', 'adat', 'di', 'Kalimantan', '.']]</td>\n",
              "    </tr>\n",
              "    <tr>\n",
              "      <th>text</th>\n",
              "      <td>liputan6       com       surabaya       tokoh   madura   dan   kalimantan   telah   sepakat   untuk   damai         tapi       arus   ungsi   dari   bumi   borneo   terus   alir   tanah   jawa         hingga   kini       ada   sekitar   90   ribu   ungsi   masuk   ke   jawa   timur         karena   itu       gubernur   jatim   imam   utomo   minta   gubernur   se-kalimantan   sosialisasi   sepakat   damai   di   jakarta   dengan   para   tokoh   masyarakat   dan   tetua   adat   di   kalimantan         nyata   itu   ungkap   imam   di   surabaya       baru   ini         imam   aku   cemas   lihat   gelombang   ungsi   yang   tak   pernah   surut         sebab       konflik   masih   terus   seruak   di   jumlah   daerah   di   kalimantan   tengah   dan   kalimantan   selatan         akibat       ungsi   yang   jumlah   70       000   tambah   20       000   orang         padahal       dana   yang   ada   di   kas   perintah   daerah   jatim   batas         karena   itu       imam   minta   para   gubernur   di   kalimantan   rem   arus   ungsi         cara   dengan   cipta   rasa   aman   buat   warga   madura   yang   ada   di   kalimantan         imam   juga   minta   gubenur   kalimantan   beri   tempat   lindung   yang   aman   bagi   ungsi   madura         sebab       saat   ini       pemda   jatim   tengah   tata   hidup   ungsi   gelombang   pertama         dia   khawatir       jumlah   yang   membludak   akan   buruk   situasi   ungsi   di   jatim           tna hasan   sentot   dan   joko   sulistiobudi</td>\n",
              "    </tr>\n",
              "    <tr>\n",
              "      <th>summary</th>\n",
              "      <td>gubernur   jawa   timur   minta   para   gubernur   se-kalimantan   sosialisasi   sepakat   damai   kepada   warga         dengan   begitu   tak   ada   lagi   gelombang   ungsi   warga   madura   ke   jatim</td>\n",
              "    </tr>\n",
              "    <tr>\n",
              "      <th>e_summary</th>\n",
              "      <td>hingga kini  ada sekitar 90 ribu ungsi masuk ke jawa timur  karena itu  gubernur jatim imam utomo minta gubernur se-kalimantan sosialisasi sepakat damai di jakarta dengan para tokoh masyarakat dan tetua adat di kalimantan</td>\n",
              "    </tr>\n",
              "    <tr>\n",
              "      <th>clean1_article</th>\n",
              "      <td>liputan6 com surabaya tokoh madura dan kalimantan telah bersepakat untuk berdamai tapi arus pengungsi dari bumi borneo terus mengaliri tanah jawa hingga kini ada sekitar 90 ribu pengungsi masuk ke jawa timur karena itu gubernur jatim imam utomo meminta gubernur se kalimantan mensosialisasikan kesepakatan damai di jakarta dengan para tokoh masyarakat dan tetua adat di kalimantan pernyataan itu diungkapkan imam di surabaya baru baru ini imam mengaku cemas melihat gelombang pengungsi yang tak pernah surut sebab konflik masih terus menyeruak di sejumlah daerah di kalimantan tengah dan kalimantan selatan akibatnya pengungsi yang berjumlah 70 000 bertambah 20 000 orang padahal dana yang ada di kas pemerintah daerah jatim terbatas karena itu imam meminta para gubernur di kalimantan mengerem arus pengungsi caranya dengan menciptakan rasa aman buat warga madura yang ada di kalimantan imam juga meminta gubenur kalimantan memberi tempat perlindungan yang aman bagi pengungsi madura sebab saat ini pemda jatim tengah menata kehidupan pengungsi gelombang pertama dia khawatir jumlah yang membludak akan memperburuk situasi pengungsi di jatim tna hasan sentot dan joko sulistiobudi</td>\n",
              "    </tr>\n",
              "    <tr>\n",
              "      <th>clean1_summary</th>\n",
              "      <td>gubernur jawa timur meminta para gubernur se kalimantan mensosialisasikan kesepakatan damai kepada warganya dengan begitu tak ada lagi gelombang pengungsi warga madura ke jatim</td>\n",
              "    </tr>\n",
              "    <tr>\n",
              "      <th>extractive1_summary</th>\n",
              "      <td>hingga kini ada sekitar 90 ribu pengungsi masuk ke jawa timur karena itu gubernur jatim imam utomo meminta gubernur se kalimantan mensosialisasikan kesepakatan damai di jakarta dengan para tokoh masyarakat dan tetua adat di kalimantan</td>\n",
              "    </tr>\n",
              "  </tbody>\n",
              "</table>\n",
              "</div><br><label><b>dtype:</b> object</label>"
            ]
          },
          "metadata": {},
          "execution_count": 10
        }
      ]
    },
    {
      "cell_type": "code",
      "source": [
        "test_df.iloc[1]"
      ],
      "metadata": {
        "colab": {
          "base_uri": "https://localhost:8080/",
          "height": 1000
        },
        "id": "1zD1-KKO8vq3",
        "outputId": "6ef9006c-3ada-43ce-8a37-9bc0e5916a6c"
      },
      "execution_count": 11,
      "outputs": [
        {
          "output_type": "execute_result",
          "data": {
            "text/plain": [
              "id                                                                                                                                                                                                                                                                                                                                                                                                                                                                                                                                                                                                                                                                                                                                                                                                                                                                                                                                                                                                                                                                                                                                                                                                                                                                                                                                                                                                                                                                                                                                                                                                                                                                                                                                                                                                                                                                                                                                                                                                                                                                            22708\n",
              "url                                                                                                                                                                                                                                                                                                                                                                                                                                                                                                                                                                                                                                                                                                                                                                                                                                                                                                                                                                                                                                                                                                                                                                                                                                                                                                                                                                                                                                                                                                                                                                                                                                                                                                                                                                                                                                                                                                                                                                                       https://www.liputan6.com/news/read/22708/kereta-api-jalur-selatan-mengalami-keterlambatan\n",
              "clean_article                 [['Liputan6', '.', 'com', ',', 'Yogyakarta', ':', 'Kedatangan', 'kereta', 'api', 'dari', 'jalur', 'selatan', ',', 'Senin', '(', '29/10', ')', ',', 'dipastikan', 'terlambat', 'tiba', 'di', 'Stasiun', 'Bandung', ',', 'Jawa', 'Barat', '.'], ['Hal', 'itu', 'terjadi', 'menyusul', 'amblasnya', 'lintasan', 'kereta', 'di', 'Kroya', ',', 'Jawa', 'Tengah', ',', 'Kamis', 'silam', '[', 'baca', ':', 'Lintasan', 'KA', 'Antara', 'Kroya', 'dan', 'Bandung', 'Ambles', ']', '.'], ['Rangkaian', 'kereta', 'api', 'yang', 'dipastikan', 'terlambat', 'adalah', 'Taksaka', ',', 'Argowilis', ',', 'Lodaya', ',', 'Mutiara', 'Selatan', ',', 'Turangga', ',', 'Cisadane', ',', 'dan', 'Kahuripan', '.'], ['Demikian', 'diungkapkan', 'seorang', 'petugas', 'PT', 'Kereta', 'Api', 'Indonesia', 'Daerah', 'Operasi', 'VI', 'di', 'Stasiun', 'Tugu', ',', 'Yogyakarta', '.'], ['Petugas', 'itu', 'menjelaskan', ',', 'kereta', 'yang', 'berjalan', 'di', 'atas', 'lintasan', 'Kroya', 'mesti', 'ekstra', 'hati-hati', 'karena', 'tengah', 'diperbaiki', 'petugas', '.'], ['Apalagi', ',', 'hujan', 'lebat', 'yang', 'terus', 'mengguyur', 'wilayah', 'Cilacap', 'juga', 'ikut', 'memperparah', 'kondisi', 'lintasan', '.'], ['Karena', 'itulah', ',', 'Daops', 'VI', 'memberlakukan', 'sistem', 'susul', 'guna', 'mengantisipasi', 'terjadinya', 'tumpang', 'tindih', 'jadwal', 'keberangkatan', '.'], ['Jelasnya', ',', 'kereta', 'yang', 'jadwalnya', 'tepat', 'waktu', 'diberangkatkan', 'terlebih', 'dahulu', 'dibanding', 'kereta', 'yang', 'telanjur', 'molor', '.'], ['Berdasarkan', 'pemantauan', 'SCTV', ',', 'penerapan', 'sistem', 'tersebut', 'mengakibatkan', 'ribuan', 'penumpang', 'menumpuk', 'di', 'Stasiun', 'Tugu', 'dan', 'Lempuyangan', ',', 'Yogyakarta', '.'], ['Sementara', 'jadwal', 'KA', 'jalur', 'selatan', 'pada', 'akhir', 'pekan', 'ini', 'terbilang', 'padat', ',', 'soalnya', 'bertepatan', 'dengan', 'puncak', 'arus', 'balik', 'pelajar', 'sehabis', 'liburan', 'semester', '.', '(', 'KEN/Wiwik', 'Susilo', ')', '.']]\n",
              "clean_summary                                                                                                                                                                                                                                                                                                                                                                                                                                                                                                                                                                                                                                                                                                                                                                                                                                                                                                                                                                                                                                                                                                                                                                                                                                                                                                                                                                                                                                                                                                                                                                                                                                                                                                                                                                                                                   [['Pemberangkatan', 'kereta', 'api', 'dari', 'jalur', 'selatan', 'kembali', 'mengalami', 'keterlambatan', '.'], ['Lintasan', 'di', 'Kroya', ',', 'Jawa', 'Tengah', ',', 'masih', 'diperbaiki', 'petugas', 'PT', 'Kereta', 'Api', 'Indonesia', '.']]\n",
              "extractive_summary                                                                                                                                                                                                                                                                                                                                                                                                                                                                                                                                                                                                                                                                                                                                                                                                                                                                                                                                                                                                                                                                                                                                                                                                                                                                                                                                                                                                                                                                                                                                                                                                                                                                                                                                                                                                                                                                                                                                                                                                                                                           [3, 4]\n",
              "rebuilt_extractive_summary                                                                                                                                                                                                                                                                                                                                                                                                                                                                                                                                                                                                                                                                                                                                                                                                                                                                                                                                                                                                                                                                                                                                                                                                                                                                                                                                                                                                                                                                                                                                                                                                                                                                                           [['Demikian', 'diungkapkan', 'seorang', 'petugas', 'PT', 'Kereta', 'Api', 'Indonesia', 'Daerah', 'Operasi', 'VI', 'di', 'Stasiun', 'Tugu', ',', 'Yogyakarta', '.'], ['Petugas', 'itu', 'menjelaskan', ',', 'kereta', 'yang', 'berjalan', 'di', 'atas', 'lintasan', 'Kroya', 'mesti', 'ekstra', 'hati-hati', 'karena', 'tengah', 'diperbaiki', 'petugas', '.']]\n",
              "text                                                                                                                                                                                                                                                                                                                                                                                                                        liputan6       com       yogyakarta       datang   kereta   api   dari   jalur   selatan       senin       29 10           pasti   lambat   tiba   di   stasiun   bandung       jawa   barat         hal   itu   jadi   susul   amblas   lintas   kereta   di   kroya       jawa   tengah       kamis   silam       baca       lintas   ka   antara   kroya   dan   bandung   ambles             rangkai   kereta   api   yang   pasti   lambat   adalah   taksaka       argowilis       lodaya       mutiara   selatan       turangga       cisadane       dan   kahuripan         demikian   ungkap   orang   tugas   pt   kereta   api   indonesia   daerah   operasi   vi   di   stasiun   tugu       yogyakarta         tugas   itu   jelas       kereta   yang   jalan   di   atas   lintas   kroya   mesti   ekstra   hati   karena   tengah   baik   tugas         apalagi       hujan   lebat   yang   terus   guyur   wilayah   cilacap   juga   ikut   parah   kondisi   lintas         karena   itu       daops   vi   laku   sistem   susul   guna   antisipasi   jadi   tumpang   tindih   jadwal   berangkat         jelas       kereta   yang   jadwal   tepat   waktu   berangkat   lebih   dahulu   banding   kereta   yang   telanjur   molor         dasar   pantau   sctv       terap   sistem   sebut   akibat   ribu   tumpang   tumpuk   di   stasiun   tugu   dan   lempuyangan       yogyakarta         sementara   jadwal   ka   jalur   selatan   pada   akhir   pekan   ini   bilang   padat       soal   tepat   dengan   puncak   arus   balik   ajar   habis   libur   semester           ken wiwik   susilo           \n",
              "summary                                                                                                                                                                                                                                                                                                                                                                                                                                                                                                                                                                                                                                                                                                                                                                                                                                                                                                                                                                                                                                                                                                                                                                                                                                                                                                                                                                                                                                                                                                                                                                                                                                                                                                                                                                                                                                                                               berangkat   kereta   api   dari   jalur   selatan   kembali   alam   lambat         lintas   di   kroya       jawa   tengah       masih   baik   tugas   pt   kereta   api   indonesia       \n",
              "e_summary                                                                                                                                                                                                                                                                                                                                                                                                                                                                                                                                                                                                                                                                                                                                                                                                                                                                                                                                                                                                                                                                                                                                                                                                                                                                                                                                                                                                                                                                                                                                                                                                                                                                                                                                                                                                                                                                    demikian ungkap orang tugas pt kereta api indonesia daerah operasi vi di stasiun tugu  yogyakarta  tugas itu jelas  kereta yang jalan di atas lintas kroya mesti ekstra hati karena tengah baik tugas \n",
              "clean1_article                                                                                                                                                                                                                                                                                                                                                                                                                                                                                                                                                                                                                                                                                                                                                                     liputan6 com yogyakarta kedatangan kereta api dari jalur selatan senin 29 10 dipastikan terlambat tiba di stasiun bandung jawa barat hal itu terjadi menyusul amblasnya lintasan kereta di kroya jawa tengah kamis silam baca lintasan ka antara kroya dan bandung ambles rangkaian kereta api yang dipastikan terlambat adalah taksaka argowilis lodaya mutiara selatan turangga cisadane dan kahuripan demikian diungkapkan seorang petugas pt kereta api indonesia daerah operasi vi di stasiun tugu yogyakarta petugas itu menjelaskan kereta yang berjalan di atas lintasan kroya mesti ekstra hati hati karena tengah diperbaiki petugas apalagi hujan lebat yang terus mengguyur wilayah cilacap juga ikut memperparah kondisi lintasan karena itulah daops vi memberlakukan sistem susul guna mengantisipasi terjadinya tumpang tindih jadwal keberangkatan jelasnya kereta yang jadwalnya tepat waktu diberangkatkan terlebih dahulu dibanding kereta yang telanjur molor berdasarkan pemantauan sctv penerapan sistem tersebut mengakibatkan ribuan penumpang menumpuk di stasiun tugu dan lempuyangan yogyakarta sementara jadwal ka jalur selatan pada akhir pekan ini terbilang padat soalnya bertepatan dengan puncak arus balik pelajar sehabis liburan semester ken wiwik susilo\n",
              "clean1_summary                                                                                                                                                                                                                                                                                                                                                                                                                                                                                                                                                                                                                                                                                                                                                                                                                                                                                                                                                                                                                                                                                                                                                                                                                                                                                                                                                                                                                                                                                                                                                                                                                                                                                                                                                                                                                                                                                                          pemberangkatan kereta api dari jalur selatan kembali mengalami keterlambatan lintasan di kroya jawa tengah masih diperbaiki petugas pt kereta api indonesia\n",
              "extractive1_summary                                                                                                                                                                                                                                                                                                                                                                                                                                                                                                                                                                                                                                                                                                                                                                                                                                                                                                                                                                                                                                                                                                                                                                                                                                                                                                                                                                                                                                                                                                                                                                                                                                                                                                                                                                                                                           demikian diungkapkan seorang petugas pt kereta api indonesia daerah operasi vi di stasiun tugu yogyakarta petugas itu menjelaskan kereta yang berjalan di atas lintasan kroya mesti ekstra hati hati karena tengah diperbaiki petugas\n",
              "Name: 1, dtype: object"
            ],
            "text/html": [
              "<div>\n",
              "<style scoped>\n",
              "    .dataframe tbody tr th:only-of-type {\n",
              "        vertical-align: middle;\n",
              "    }\n",
              "\n",
              "    .dataframe tbody tr th {\n",
              "        vertical-align: top;\n",
              "    }\n",
              "\n",
              "    .dataframe thead th {\n",
              "        text-align: right;\n",
              "    }\n",
              "</style>\n",
              "<table border=\"1\" class=\"dataframe\">\n",
              "  <thead>\n",
              "    <tr style=\"text-align: right;\">\n",
              "      <th></th>\n",
              "      <th>1</th>\n",
              "    </tr>\n",
              "  </thead>\n",
              "  <tbody>\n",
              "    <tr>\n",
              "      <th>id</th>\n",
              "      <td>22708</td>\n",
              "    </tr>\n",
              "    <tr>\n",
              "      <th>url</th>\n",
              "      <td>https://www.liputan6.com/news/read/22708/kereta-api-jalur-selatan-mengalami-keterlambatan</td>\n",
              "    </tr>\n",
              "    <tr>\n",
              "      <th>clean_article</th>\n",
              "      <td>[['Liputan6', '.', 'com', ',', 'Yogyakarta', ':', 'Kedatangan', 'kereta', 'api', 'dari', 'jalur', 'selatan', ',', 'Senin', '(', '29/10', ')', ',', 'dipastikan', 'terlambat', 'tiba', 'di', 'Stasiun', 'Bandung', ',', 'Jawa', 'Barat', '.'], ['Hal', 'itu', 'terjadi', 'menyusul', 'amblasnya', 'lintasan', 'kereta', 'di', 'Kroya', ',', 'Jawa', 'Tengah', ',', 'Kamis', 'silam', '[', 'baca', ':', 'Lintasan', 'KA', 'Antara', 'Kroya', 'dan', 'Bandung', 'Ambles', ']', '.'], ['Rangkaian', 'kereta', 'api', 'yang', 'dipastikan', 'terlambat', 'adalah', 'Taksaka', ',', 'Argowilis', ',', 'Lodaya', ',', 'Mutiara', 'Selatan', ',', 'Turangga', ',', 'Cisadane', ',', 'dan', 'Kahuripan', '.'], ['Demikian', 'diungkapkan', 'seorang', 'petugas', 'PT', 'Kereta', 'Api', 'Indonesia', 'Daerah', 'Operasi', 'VI', 'di', 'Stasiun', 'Tugu', ',', 'Yogyakarta', '.'], ['Petugas', 'itu', 'menjelaskan', ',', 'kereta', 'yang', 'berjalan', 'di', 'atas', 'lintasan', 'Kroya', 'mesti', 'ekstra', 'hati-hati', 'karena', 'tengah', 'diperbaiki', 'petugas', '.'], ['Apalagi', ',', 'hujan', 'lebat', 'yang', 'terus', 'mengguyur', 'wilayah', 'Cilacap', 'juga', 'ikut', 'memperparah', 'kondisi', 'lintasan', '.'], ['Karena', 'itulah', ',', 'Daops', 'VI', 'memberlakukan', 'sistem', 'susul', 'guna', 'mengantisipasi', 'terjadinya', 'tumpang', 'tindih', 'jadwal', 'keberangkatan', '.'], ['Jelasnya', ',', 'kereta', 'yang', 'jadwalnya', 'tepat', 'waktu', 'diberangkatkan', 'terlebih', 'dahulu', 'dibanding', 'kereta', 'yang', 'telanjur', 'molor', '.'], ['Berdasarkan', 'pemantauan', 'SCTV', ',', 'penerapan', 'sistem', 'tersebut', 'mengakibatkan', 'ribuan', 'penumpang', 'menumpuk', 'di', 'Stasiun', 'Tugu', 'dan', 'Lempuyangan', ',', 'Yogyakarta', '.'], ['Sementara', 'jadwal', 'KA', 'jalur', 'selatan', 'pada', 'akhir', 'pekan', 'ini', 'terbilang', 'padat', ',', 'soalnya', 'bertepatan', 'dengan', 'puncak', 'arus', 'balik', 'pelajar', 'sehabis', 'liburan', 'semester', '.', '(', 'KEN/Wiwik', 'Susilo', ')', '.']]</td>\n",
              "    </tr>\n",
              "    <tr>\n",
              "      <th>clean_summary</th>\n",
              "      <td>[['Pemberangkatan', 'kereta', 'api', 'dari', 'jalur', 'selatan', 'kembali', 'mengalami', 'keterlambatan', '.'], ['Lintasan', 'di', 'Kroya', ',', 'Jawa', 'Tengah', ',', 'masih', 'diperbaiki', 'petugas', 'PT', 'Kereta', 'Api', 'Indonesia', '.']]</td>\n",
              "    </tr>\n",
              "    <tr>\n",
              "      <th>extractive_summary</th>\n",
              "      <td>[3, 4]</td>\n",
              "    </tr>\n",
              "    <tr>\n",
              "      <th>rebuilt_extractive_summary</th>\n",
              "      <td>[['Demikian', 'diungkapkan', 'seorang', 'petugas', 'PT', 'Kereta', 'Api', 'Indonesia', 'Daerah', 'Operasi', 'VI', 'di', 'Stasiun', 'Tugu', ',', 'Yogyakarta', '.'], ['Petugas', 'itu', 'menjelaskan', ',', 'kereta', 'yang', 'berjalan', 'di', 'atas', 'lintasan', 'Kroya', 'mesti', 'ekstra', 'hati-hati', 'karena', 'tengah', 'diperbaiki', 'petugas', '.']]</td>\n",
              "    </tr>\n",
              "    <tr>\n",
              "      <th>text</th>\n",
              "      <td>liputan6       com       yogyakarta       datang   kereta   api   dari   jalur   selatan       senin       29 10           pasti   lambat   tiba   di   stasiun   bandung       jawa   barat         hal   itu   jadi   susul   amblas   lintas   kereta   di   kroya       jawa   tengah       kamis   silam       baca       lintas   ka   antara   kroya   dan   bandung   ambles             rangkai   kereta   api   yang   pasti   lambat   adalah   taksaka       argowilis       lodaya       mutiara   selatan       turangga       cisadane       dan   kahuripan         demikian   ungkap   orang   tugas   pt   kereta   api   indonesia   daerah   operasi   vi   di   stasiun   tugu       yogyakarta         tugas   itu   jelas       kereta   yang   jalan   di   atas   lintas   kroya   mesti   ekstra   hati   karena   tengah   baik   tugas         apalagi       hujan   lebat   yang   terus   guyur   wilayah   cilacap   juga   ikut   parah   kondisi   lintas         karena   itu       daops   vi   laku   sistem   susul   guna   antisipasi   jadi   tumpang   tindih   jadwal   berangkat         jelas       kereta   yang   jadwal   tepat   waktu   berangkat   lebih   dahulu   banding   kereta   yang   telanjur   molor         dasar   pantau   sctv       terap   sistem   sebut   akibat   ribu   tumpang   tumpuk   di   stasiun   tugu   dan   lempuyangan       yogyakarta         sementara   jadwal   ka   jalur   selatan   pada   akhir   pekan   ini   bilang   padat       soal   tepat   dengan   puncak   arus   balik   ajar   habis   libur   semester           ken wiwik   susilo</td>\n",
              "    </tr>\n",
              "    <tr>\n",
              "      <th>summary</th>\n",
              "      <td>berangkat   kereta   api   dari   jalur   selatan   kembali   alam   lambat         lintas   di   kroya       jawa   tengah       masih   baik   tugas   pt   kereta   api   indonesia</td>\n",
              "    </tr>\n",
              "    <tr>\n",
              "      <th>e_summary</th>\n",
              "      <td>demikian ungkap orang tugas pt kereta api indonesia daerah operasi vi di stasiun tugu  yogyakarta  tugas itu jelas  kereta yang jalan di atas lintas kroya mesti ekstra hati karena tengah baik tugas</td>\n",
              "    </tr>\n",
              "    <tr>\n",
              "      <th>clean1_article</th>\n",
              "      <td>liputan6 com yogyakarta kedatangan kereta api dari jalur selatan senin 29 10 dipastikan terlambat tiba di stasiun bandung jawa barat hal itu terjadi menyusul amblasnya lintasan kereta di kroya jawa tengah kamis silam baca lintasan ka antara kroya dan bandung ambles rangkaian kereta api yang dipastikan terlambat adalah taksaka argowilis lodaya mutiara selatan turangga cisadane dan kahuripan demikian diungkapkan seorang petugas pt kereta api indonesia daerah operasi vi di stasiun tugu yogyakarta petugas itu menjelaskan kereta yang berjalan di atas lintasan kroya mesti ekstra hati hati karena tengah diperbaiki petugas apalagi hujan lebat yang terus mengguyur wilayah cilacap juga ikut memperparah kondisi lintasan karena itulah daops vi memberlakukan sistem susul guna mengantisipasi terjadinya tumpang tindih jadwal keberangkatan jelasnya kereta yang jadwalnya tepat waktu diberangkatkan terlebih dahulu dibanding kereta yang telanjur molor berdasarkan pemantauan sctv penerapan sistem tersebut mengakibatkan ribuan penumpang menumpuk di stasiun tugu dan lempuyangan yogyakarta sementara jadwal ka jalur selatan pada akhir pekan ini terbilang padat soalnya bertepatan dengan puncak arus balik pelajar sehabis liburan semester ken wiwik susilo</td>\n",
              "    </tr>\n",
              "    <tr>\n",
              "      <th>clean1_summary</th>\n",
              "      <td>pemberangkatan kereta api dari jalur selatan kembali mengalami keterlambatan lintasan di kroya jawa tengah masih diperbaiki petugas pt kereta api indonesia</td>\n",
              "    </tr>\n",
              "    <tr>\n",
              "      <th>extractive1_summary</th>\n",
              "      <td>demikian diungkapkan seorang petugas pt kereta api indonesia daerah operasi vi di stasiun tugu yogyakarta petugas itu menjelaskan kereta yang berjalan di atas lintasan kroya mesti ekstra hati hati karena tengah diperbaiki petugas</td>\n",
              "    </tr>\n",
              "  </tbody>\n",
              "</table>\n",
              "</div><br><label><b>dtype:</b> object</label>"
            ]
          },
          "metadata": {},
          "execution_count": 11
        }
      ]
    },
    {
      "cell_type": "code",
      "source": [
        "# prompt: make a new df that contains only column id, url, clean1_article, clean1_summary, and extractive1_summary for those two dataset\n",
        "\n",
        "new_dev_df = dev_df[['id', 'url', 'clean1_article', 'clean1_summary', 'extractive1_summary']].copy()\n",
        "new_test_df = test_df[['id', 'url', 'clean1_article', 'clean1_summary', 'extractive1_summary']].copy()\n"
      ],
      "metadata": {
        "id": "UdCszE2_81sV"
      },
      "execution_count": 12,
      "outputs": []
    },
    {
      "cell_type": "code",
      "source": [
        "new_dev_df.iloc[1]"
      ],
      "metadata": {
        "colab": {
          "base_uri": "https://localhost:8080/",
          "height": 414
        },
        "id": "DeegIirQ9J-2",
        "outputId": "6f0ee5da-9ab4-4c40-f563-553aa99ea324"
      },
      "execution_count": 13,
      "outputs": [
        {
          "output_type": "execute_result",
          "data": {
            "text/plain": [
              "id                                                                                                                                                                                                                                                                                                                                                                                                                                                                                                                                                                                                                                                                                                                                                                                                                                                                                                                                                                                                                                                                                                                                                                                                                                             10628\n",
              "url                                                                                                                                                                                                                                                                                                                                                                                                                                                                                                                                                                                                                                                                                                                                                                                                                                                                                                                                                                                                                                                                                                                                                               https://www.liputan6.com/news/read/10628/pengungsi-madura-masih-mengaliri-surabaya\n",
              "clean1_article         liputan6 com surabaya tokoh madura dan kalimantan telah bersepakat untuk berdamai tapi arus pengungsi dari bumi borneo terus mengaliri tanah jawa hingga kini ada sekitar 90 ribu pengungsi masuk ke jawa timur karena itu gubernur jatim imam utomo meminta gubernur se kalimantan mensosialisasikan kesepakatan damai di jakarta dengan para tokoh masyarakat dan tetua adat di kalimantan pernyataan itu diungkapkan imam di surabaya baru baru ini imam mengaku cemas melihat gelombang pengungsi yang tak pernah surut sebab konflik masih terus menyeruak di sejumlah daerah di kalimantan tengah dan kalimantan selatan akibatnya pengungsi yang berjumlah 70 000 bertambah 20 000 orang padahal dana yang ada di kas pemerintah daerah jatim terbatas karena itu imam meminta para gubernur di kalimantan mengerem arus pengungsi caranya dengan menciptakan rasa aman buat warga madura yang ada di kalimantan imam juga meminta gubenur kalimantan memberi tempat perlindungan yang aman bagi pengungsi madura sebab saat ini pemda jatim tengah menata kehidupan pengungsi gelombang pertama dia khawatir jumlah yang membludak akan memperburuk situasi pengungsi di jatim tna hasan sentot dan joko sulistiobudi\n",
              "clean1_summary                                                                                                                                                                                                                                                                                                                                                                                                                                                                                                                                                                                                                                                                                                                                                                                                                                                                                                                                                                                                                                                      gubernur jawa timur meminta para gubernur se kalimantan mensosialisasikan kesepakatan damai kepada warganya dengan begitu tak ada lagi gelombang pengungsi warga madura ke jatim\n",
              "extractive1_summary                                                                                                                                                                                                                                                                                                                                                                                                                                                                                                                                                                                                                                                                                                                                                                                                                                                                                                                                                                                       hingga kini ada sekitar 90 ribu pengungsi masuk ke jawa timur karena itu gubernur jatim imam utomo meminta gubernur se kalimantan mensosialisasikan kesepakatan damai di jakarta dengan para tokoh masyarakat dan tetua adat di kalimantan\n",
              "Name: 1, dtype: object"
            ],
            "text/html": [
              "<div>\n",
              "<style scoped>\n",
              "    .dataframe tbody tr th:only-of-type {\n",
              "        vertical-align: middle;\n",
              "    }\n",
              "\n",
              "    .dataframe tbody tr th {\n",
              "        vertical-align: top;\n",
              "    }\n",
              "\n",
              "    .dataframe thead th {\n",
              "        text-align: right;\n",
              "    }\n",
              "</style>\n",
              "<table border=\"1\" class=\"dataframe\">\n",
              "  <thead>\n",
              "    <tr style=\"text-align: right;\">\n",
              "      <th></th>\n",
              "      <th>1</th>\n",
              "    </tr>\n",
              "  </thead>\n",
              "  <tbody>\n",
              "    <tr>\n",
              "      <th>id</th>\n",
              "      <td>10628</td>\n",
              "    </tr>\n",
              "    <tr>\n",
              "      <th>url</th>\n",
              "      <td>https://www.liputan6.com/news/read/10628/pengungsi-madura-masih-mengaliri-surabaya</td>\n",
              "    </tr>\n",
              "    <tr>\n",
              "      <th>clean1_article</th>\n",
              "      <td>liputan6 com surabaya tokoh madura dan kalimantan telah bersepakat untuk berdamai tapi arus pengungsi dari bumi borneo terus mengaliri tanah jawa hingga kini ada sekitar 90 ribu pengungsi masuk ke jawa timur karena itu gubernur jatim imam utomo meminta gubernur se kalimantan mensosialisasikan kesepakatan damai di jakarta dengan para tokoh masyarakat dan tetua adat di kalimantan pernyataan itu diungkapkan imam di surabaya baru baru ini imam mengaku cemas melihat gelombang pengungsi yang tak pernah surut sebab konflik masih terus menyeruak di sejumlah daerah di kalimantan tengah dan kalimantan selatan akibatnya pengungsi yang berjumlah 70 000 bertambah 20 000 orang padahal dana yang ada di kas pemerintah daerah jatim terbatas karena itu imam meminta para gubernur di kalimantan mengerem arus pengungsi caranya dengan menciptakan rasa aman buat warga madura yang ada di kalimantan imam juga meminta gubenur kalimantan memberi tempat perlindungan yang aman bagi pengungsi madura sebab saat ini pemda jatim tengah menata kehidupan pengungsi gelombang pertama dia khawatir jumlah yang membludak akan memperburuk situasi pengungsi di jatim tna hasan sentot dan joko sulistiobudi</td>\n",
              "    </tr>\n",
              "    <tr>\n",
              "      <th>clean1_summary</th>\n",
              "      <td>gubernur jawa timur meminta para gubernur se kalimantan mensosialisasikan kesepakatan damai kepada warganya dengan begitu tak ada lagi gelombang pengungsi warga madura ke jatim</td>\n",
              "    </tr>\n",
              "    <tr>\n",
              "      <th>extractive1_summary</th>\n",
              "      <td>hingga kini ada sekitar 90 ribu pengungsi masuk ke jawa timur karena itu gubernur jatim imam utomo meminta gubernur se kalimantan mensosialisasikan kesepakatan damai di jakarta dengan para tokoh masyarakat dan tetua adat di kalimantan</td>\n",
              "    </tr>\n",
              "  </tbody>\n",
              "</table>\n",
              "</div><br><label><b>dtype:</b> object</label>"
            ]
          },
          "metadata": {},
          "execution_count": 13
        }
      ]
    },
    {
      "cell_type": "code",
      "source": [
        "new_test_df .iloc[1]"
      ],
      "metadata": {
        "colab": {
          "base_uri": "https://localhost:8080/",
          "height": 414
        },
        "id": "840x0hBR9MOz",
        "outputId": "b97aed5c-b941-4440-f6f5-90acaeca54a6"
      },
      "execution_count": 14,
      "outputs": [
        {
          "output_type": "execute_result",
          "data": {
            "text/plain": [
              "id                                                                                                                                                                                                                                                                                                                                                                                                                                                                                                                                                                                                                                                                                                                                                                                                                                                                                                                                                                                                                                                                                                                                                                                                                                                                                                                22708\n",
              "url                                                                                                                                                                                                                                                                                                                                                                                                                                                                                                                                                                                                                                                                                                                                                                                                                                                                                                                                                                                                                                                                                                                                                                                                                           https://www.liputan6.com/news/read/22708/kereta-api-jalur-selatan-mengalami-keterlambatan\n",
              "clean1_article         liputan6 com yogyakarta kedatangan kereta api dari jalur selatan senin 29 10 dipastikan terlambat tiba di stasiun bandung jawa barat hal itu terjadi menyusul amblasnya lintasan kereta di kroya jawa tengah kamis silam baca lintasan ka antara kroya dan bandung ambles rangkaian kereta api yang dipastikan terlambat adalah taksaka argowilis lodaya mutiara selatan turangga cisadane dan kahuripan demikian diungkapkan seorang petugas pt kereta api indonesia daerah operasi vi di stasiun tugu yogyakarta petugas itu menjelaskan kereta yang berjalan di atas lintasan kroya mesti ekstra hati hati karena tengah diperbaiki petugas apalagi hujan lebat yang terus mengguyur wilayah cilacap juga ikut memperparah kondisi lintasan karena itulah daops vi memberlakukan sistem susul guna mengantisipasi terjadinya tumpang tindih jadwal keberangkatan jelasnya kereta yang jadwalnya tepat waktu diberangkatkan terlebih dahulu dibanding kereta yang telanjur molor berdasarkan pemantauan sctv penerapan sistem tersebut mengakibatkan ribuan penumpang menumpuk di stasiun tugu dan lempuyangan yogyakarta sementara jadwal ka jalur selatan pada akhir pekan ini terbilang padat soalnya bertepatan dengan puncak arus balik pelajar sehabis liburan semester ken wiwik susilo\n",
              "clean1_summary                                                                                                                                                                                                                                                                                                                                                                                                                                                                                                                                                                                                                                                                                                                                                                                                                                                                                                                                                                                                                                                                                                                                              pemberangkatan kereta api dari jalur selatan kembali mengalami keterlambatan lintasan di kroya jawa tengah masih diperbaiki petugas pt kereta api indonesia\n",
              "extractive1_summary                                                                                                                                                                                                                                                                                                                                                                                                                                                                                                                                                                                                                                                                                                                                                                                                                                                                                                                                                                                                                                                               demikian diungkapkan seorang petugas pt kereta api indonesia daerah operasi vi di stasiun tugu yogyakarta petugas itu menjelaskan kereta yang berjalan di atas lintasan kroya mesti ekstra hati hati karena tengah diperbaiki petugas\n",
              "Name: 1, dtype: object"
            ],
            "text/html": [
              "<div>\n",
              "<style scoped>\n",
              "    .dataframe tbody tr th:only-of-type {\n",
              "        vertical-align: middle;\n",
              "    }\n",
              "\n",
              "    .dataframe tbody tr th {\n",
              "        vertical-align: top;\n",
              "    }\n",
              "\n",
              "    .dataframe thead th {\n",
              "        text-align: right;\n",
              "    }\n",
              "</style>\n",
              "<table border=\"1\" class=\"dataframe\">\n",
              "  <thead>\n",
              "    <tr style=\"text-align: right;\">\n",
              "      <th></th>\n",
              "      <th>1</th>\n",
              "    </tr>\n",
              "  </thead>\n",
              "  <tbody>\n",
              "    <tr>\n",
              "      <th>id</th>\n",
              "      <td>22708</td>\n",
              "    </tr>\n",
              "    <tr>\n",
              "      <th>url</th>\n",
              "      <td>https://www.liputan6.com/news/read/22708/kereta-api-jalur-selatan-mengalami-keterlambatan</td>\n",
              "    </tr>\n",
              "    <tr>\n",
              "      <th>clean1_article</th>\n",
              "      <td>liputan6 com yogyakarta kedatangan kereta api dari jalur selatan senin 29 10 dipastikan terlambat tiba di stasiun bandung jawa barat hal itu terjadi menyusul amblasnya lintasan kereta di kroya jawa tengah kamis silam baca lintasan ka antara kroya dan bandung ambles rangkaian kereta api yang dipastikan terlambat adalah taksaka argowilis lodaya mutiara selatan turangga cisadane dan kahuripan demikian diungkapkan seorang petugas pt kereta api indonesia daerah operasi vi di stasiun tugu yogyakarta petugas itu menjelaskan kereta yang berjalan di atas lintasan kroya mesti ekstra hati hati karena tengah diperbaiki petugas apalagi hujan lebat yang terus mengguyur wilayah cilacap juga ikut memperparah kondisi lintasan karena itulah daops vi memberlakukan sistem susul guna mengantisipasi terjadinya tumpang tindih jadwal keberangkatan jelasnya kereta yang jadwalnya tepat waktu diberangkatkan terlebih dahulu dibanding kereta yang telanjur molor berdasarkan pemantauan sctv penerapan sistem tersebut mengakibatkan ribuan penumpang menumpuk di stasiun tugu dan lempuyangan yogyakarta sementara jadwal ka jalur selatan pada akhir pekan ini terbilang padat soalnya bertepatan dengan puncak arus balik pelajar sehabis liburan semester ken wiwik susilo</td>\n",
              "    </tr>\n",
              "    <tr>\n",
              "      <th>clean1_summary</th>\n",
              "      <td>pemberangkatan kereta api dari jalur selatan kembali mengalami keterlambatan lintasan di kroya jawa tengah masih diperbaiki petugas pt kereta api indonesia</td>\n",
              "    </tr>\n",
              "    <tr>\n",
              "      <th>extractive1_summary</th>\n",
              "      <td>demikian diungkapkan seorang petugas pt kereta api indonesia daerah operasi vi di stasiun tugu yogyakarta petugas itu menjelaskan kereta yang berjalan di atas lintasan kroya mesti ekstra hati hati karena tengah diperbaiki petugas</td>\n",
              "    </tr>\n",
              "  </tbody>\n",
              "</table>\n",
              "</div><br><label><b>dtype:</b> object</label>"
            ]
          },
          "metadata": {},
          "execution_count": 14
        }
      ]
    },
    {
      "cell_type": "code",
      "source": [
        "# prompt: rename the column clean1_article into \"text\", clean1_summary into \"abstractive_summary\", and extractive1_summary into \" extactive_summary\" for those two dataset\n",
        "\n",
        "new_dev_df = new_dev_df.rename(columns={'clean1_article': 'text', 'clean1_summary': 'abstractive_summary', 'extractive1_summary': 'extractive_summary'})\n",
        "new_test_df = new_test_df.rename(columns={'clean1_article': 'text', 'clean1_summary': 'abstractive_summary', 'extractive1_summary': 'extractive_summary'})\n"
      ],
      "metadata": {
        "id": "Ytqart9P9OmG"
      },
      "execution_count": 15,
      "outputs": []
    },
    {
      "cell_type": "code",
      "source": [
        "new_dev_df.iloc[1]"
      ],
      "metadata": {
        "colab": {
          "base_uri": "https://localhost:8080/",
          "height": 414
        },
        "id": "wtC6_23z9jxs",
        "outputId": "6e6975d6-e050-4dc4-cc49-646e26b8f904"
      },
      "execution_count": 16,
      "outputs": [
        {
          "output_type": "execute_result",
          "data": {
            "text/plain": [
              "id                                                                                                                                                                                                                                                                                                                                                                                                                                                                                                                                                                                                                                                                                                                                                                                                                                                                                                                                                                                                                                                                                                                                                                                                                                             10628\n",
              "url                                                                                                                                                                                                                                                                                                                                                                                                                                                                                                                                                                                                                                                                                                                                                                                                                                                                                                                                                                                                                                                                                                                                                               https://www.liputan6.com/news/read/10628/pengungsi-madura-masih-mengaliri-surabaya\n",
              "text                   liputan6 com surabaya tokoh madura dan kalimantan telah bersepakat untuk berdamai tapi arus pengungsi dari bumi borneo terus mengaliri tanah jawa hingga kini ada sekitar 90 ribu pengungsi masuk ke jawa timur karena itu gubernur jatim imam utomo meminta gubernur se kalimantan mensosialisasikan kesepakatan damai di jakarta dengan para tokoh masyarakat dan tetua adat di kalimantan pernyataan itu diungkapkan imam di surabaya baru baru ini imam mengaku cemas melihat gelombang pengungsi yang tak pernah surut sebab konflik masih terus menyeruak di sejumlah daerah di kalimantan tengah dan kalimantan selatan akibatnya pengungsi yang berjumlah 70 000 bertambah 20 000 orang padahal dana yang ada di kas pemerintah daerah jatim terbatas karena itu imam meminta para gubernur di kalimantan mengerem arus pengungsi caranya dengan menciptakan rasa aman buat warga madura yang ada di kalimantan imam juga meminta gubenur kalimantan memberi tempat perlindungan yang aman bagi pengungsi madura sebab saat ini pemda jatim tengah menata kehidupan pengungsi gelombang pertama dia khawatir jumlah yang membludak akan memperburuk situasi pengungsi di jatim tna hasan sentot dan joko sulistiobudi\n",
              "abstractive_summary                                                                                                                                                                                                                                                                                                                                                                                                                                                                                                                                                                                                                                                                                                                                                                                                                                                                                                                                                                                                                                                 gubernur jawa timur meminta para gubernur se kalimantan mensosialisasikan kesepakatan damai kepada warganya dengan begitu tak ada lagi gelombang pengungsi warga madura ke jatim\n",
              "extractive_summary                                                                                                                                                                                                                                                                                                                                                                                                                                                                                                                                                                                                                                                                                                                                                                                                                                                                                                                                                                                        hingga kini ada sekitar 90 ribu pengungsi masuk ke jawa timur karena itu gubernur jatim imam utomo meminta gubernur se kalimantan mensosialisasikan kesepakatan damai di jakarta dengan para tokoh masyarakat dan tetua adat di kalimantan\n",
              "Name: 1, dtype: object"
            ],
            "text/html": [
              "<div>\n",
              "<style scoped>\n",
              "    .dataframe tbody tr th:only-of-type {\n",
              "        vertical-align: middle;\n",
              "    }\n",
              "\n",
              "    .dataframe tbody tr th {\n",
              "        vertical-align: top;\n",
              "    }\n",
              "\n",
              "    .dataframe thead th {\n",
              "        text-align: right;\n",
              "    }\n",
              "</style>\n",
              "<table border=\"1\" class=\"dataframe\">\n",
              "  <thead>\n",
              "    <tr style=\"text-align: right;\">\n",
              "      <th></th>\n",
              "      <th>1</th>\n",
              "    </tr>\n",
              "  </thead>\n",
              "  <tbody>\n",
              "    <tr>\n",
              "      <th>id</th>\n",
              "      <td>10628</td>\n",
              "    </tr>\n",
              "    <tr>\n",
              "      <th>url</th>\n",
              "      <td>https://www.liputan6.com/news/read/10628/pengungsi-madura-masih-mengaliri-surabaya</td>\n",
              "    </tr>\n",
              "    <tr>\n",
              "      <th>text</th>\n",
              "      <td>liputan6 com surabaya tokoh madura dan kalimantan telah bersepakat untuk berdamai tapi arus pengungsi dari bumi borneo terus mengaliri tanah jawa hingga kini ada sekitar 90 ribu pengungsi masuk ke jawa timur karena itu gubernur jatim imam utomo meminta gubernur se kalimantan mensosialisasikan kesepakatan damai di jakarta dengan para tokoh masyarakat dan tetua adat di kalimantan pernyataan itu diungkapkan imam di surabaya baru baru ini imam mengaku cemas melihat gelombang pengungsi yang tak pernah surut sebab konflik masih terus menyeruak di sejumlah daerah di kalimantan tengah dan kalimantan selatan akibatnya pengungsi yang berjumlah 70 000 bertambah 20 000 orang padahal dana yang ada di kas pemerintah daerah jatim terbatas karena itu imam meminta para gubernur di kalimantan mengerem arus pengungsi caranya dengan menciptakan rasa aman buat warga madura yang ada di kalimantan imam juga meminta gubenur kalimantan memberi tempat perlindungan yang aman bagi pengungsi madura sebab saat ini pemda jatim tengah menata kehidupan pengungsi gelombang pertama dia khawatir jumlah yang membludak akan memperburuk situasi pengungsi di jatim tna hasan sentot dan joko sulistiobudi</td>\n",
              "    </tr>\n",
              "    <tr>\n",
              "      <th>abstractive_summary</th>\n",
              "      <td>gubernur jawa timur meminta para gubernur se kalimantan mensosialisasikan kesepakatan damai kepada warganya dengan begitu tak ada lagi gelombang pengungsi warga madura ke jatim</td>\n",
              "    </tr>\n",
              "    <tr>\n",
              "      <th>extractive_summary</th>\n",
              "      <td>hingga kini ada sekitar 90 ribu pengungsi masuk ke jawa timur karena itu gubernur jatim imam utomo meminta gubernur se kalimantan mensosialisasikan kesepakatan damai di jakarta dengan para tokoh masyarakat dan tetua adat di kalimantan</td>\n",
              "    </tr>\n",
              "  </tbody>\n",
              "</table>\n",
              "</div><br><label><b>dtype:</b> object</label>"
            ]
          },
          "metadata": {},
          "execution_count": 16
        }
      ]
    },
    {
      "cell_type": "code",
      "source": [
        "new_test_df.iloc[1]"
      ],
      "metadata": {
        "colab": {
          "base_uri": "https://localhost:8080/",
          "height": 414
        },
        "id": "iSlxeA6s9lXr",
        "outputId": "d78eaf2f-655a-43a6-f71d-46892ce78aab"
      },
      "execution_count": 17,
      "outputs": [
        {
          "output_type": "execute_result",
          "data": {
            "text/plain": [
              "id                                                                                                                                                                                                                                                                                                                                                                                                                                                                                                                                                                                                                                                                                                                                                                                                                                                                                                                                                                                                                                                                                                                                                                                                                                                                                                                22708\n",
              "url                                                                                                                                                                                                                                                                                                                                                                                                                                                                                                                                                                                                                                                                                                                                                                                                                                                                                                                                                                                                                                                                                                                                                                                                                           https://www.liputan6.com/news/read/22708/kereta-api-jalur-selatan-mengalami-keterlambatan\n",
              "text                   liputan6 com yogyakarta kedatangan kereta api dari jalur selatan senin 29 10 dipastikan terlambat tiba di stasiun bandung jawa barat hal itu terjadi menyusul amblasnya lintasan kereta di kroya jawa tengah kamis silam baca lintasan ka antara kroya dan bandung ambles rangkaian kereta api yang dipastikan terlambat adalah taksaka argowilis lodaya mutiara selatan turangga cisadane dan kahuripan demikian diungkapkan seorang petugas pt kereta api indonesia daerah operasi vi di stasiun tugu yogyakarta petugas itu menjelaskan kereta yang berjalan di atas lintasan kroya mesti ekstra hati hati karena tengah diperbaiki petugas apalagi hujan lebat yang terus mengguyur wilayah cilacap juga ikut memperparah kondisi lintasan karena itulah daops vi memberlakukan sistem susul guna mengantisipasi terjadinya tumpang tindih jadwal keberangkatan jelasnya kereta yang jadwalnya tepat waktu diberangkatkan terlebih dahulu dibanding kereta yang telanjur molor berdasarkan pemantauan sctv penerapan sistem tersebut mengakibatkan ribuan penumpang menumpuk di stasiun tugu dan lempuyangan yogyakarta sementara jadwal ka jalur selatan pada akhir pekan ini terbilang padat soalnya bertepatan dengan puncak arus balik pelajar sehabis liburan semester ken wiwik susilo\n",
              "abstractive_summary                                                                                                                                                                                                                                                                                                                                                                                                                                                                                                                                                                                                                                                                                                                                                                                                                                                                                                                                                                                                                                                                                                                                         pemberangkatan kereta api dari jalur selatan kembali mengalami keterlambatan lintasan di kroya jawa tengah masih diperbaiki petugas pt kereta api indonesia\n",
              "extractive_summary                                                                                                                                                                                                                                                                                                                                                                                                                                                                                                                                                                                                                                                                                                                                                                                                                                                                                                                                                                                                                                                                demikian diungkapkan seorang petugas pt kereta api indonesia daerah operasi vi di stasiun tugu yogyakarta petugas itu menjelaskan kereta yang berjalan di atas lintasan kroya mesti ekstra hati hati karena tengah diperbaiki petugas\n",
              "Name: 1, dtype: object"
            ],
            "text/html": [
              "<div>\n",
              "<style scoped>\n",
              "    .dataframe tbody tr th:only-of-type {\n",
              "        vertical-align: middle;\n",
              "    }\n",
              "\n",
              "    .dataframe tbody tr th {\n",
              "        vertical-align: top;\n",
              "    }\n",
              "\n",
              "    .dataframe thead th {\n",
              "        text-align: right;\n",
              "    }\n",
              "</style>\n",
              "<table border=\"1\" class=\"dataframe\">\n",
              "  <thead>\n",
              "    <tr style=\"text-align: right;\">\n",
              "      <th></th>\n",
              "      <th>1</th>\n",
              "    </tr>\n",
              "  </thead>\n",
              "  <tbody>\n",
              "    <tr>\n",
              "      <th>id</th>\n",
              "      <td>22708</td>\n",
              "    </tr>\n",
              "    <tr>\n",
              "      <th>url</th>\n",
              "      <td>https://www.liputan6.com/news/read/22708/kereta-api-jalur-selatan-mengalami-keterlambatan</td>\n",
              "    </tr>\n",
              "    <tr>\n",
              "      <th>text</th>\n",
              "      <td>liputan6 com yogyakarta kedatangan kereta api dari jalur selatan senin 29 10 dipastikan terlambat tiba di stasiun bandung jawa barat hal itu terjadi menyusul amblasnya lintasan kereta di kroya jawa tengah kamis silam baca lintasan ka antara kroya dan bandung ambles rangkaian kereta api yang dipastikan terlambat adalah taksaka argowilis lodaya mutiara selatan turangga cisadane dan kahuripan demikian diungkapkan seorang petugas pt kereta api indonesia daerah operasi vi di stasiun tugu yogyakarta petugas itu menjelaskan kereta yang berjalan di atas lintasan kroya mesti ekstra hati hati karena tengah diperbaiki petugas apalagi hujan lebat yang terus mengguyur wilayah cilacap juga ikut memperparah kondisi lintasan karena itulah daops vi memberlakukan sistem susul guna mengantisipasi terjadinya tumpang tindih jadwal keberangkatan jelasnya kereta yang jadwalnya tepat waktu diberangkatkan terlebih dahulu dibanding kereta yang telanjur molor berdasarkan pemantauan sctv penerapan sistem tersebut mengakibatkan ribuan penumpang menumpuk di stasiun tugu dan lempuyangan yogyakarta sementara jadwal ka jalur selatan pada akhir pekan ini terbilang padat soalnya bertepatan dengan puncak arus balik pelajar sehabis liburan semester ken wiwik susilo</td>\n",
              "    </tr>\n",
              "    <tr>\n",
              "      <th>abstractive_summary</th>\n",
              "      <td>pemberangkatan kereta api dari jalur selatan kembali mengalami keterlambatan lintasan di kroya jawa tengah masih diperbaiki petugas pt kereta api indonesia</td>\n",
              "    </tr>\n",
              "    <tr>\n",
              "      <th>extractive_summary</th>\n",
              "      <td>demikian diungkapkan seorang petugas pt kereta api indonesia daerah operasi vi di stasiun tugu yogyakarta petugas itu menjelaskan kereta yang berjalan di atas lintasan kroya mesti ekstra hati hati karena tengah diperbaiki petugas</td>\n",
              "    </tr>\n",
              "  </tbody>\n",
              "</table>\n",
              "</div><br><label><b>dtype:</b> object</label>"
            ]
          },
          "metadata": {},
          "execution_count": 17
        }
      ]
    },
    {
      "cell_type": "code",
      "source": [
        "dev_df = new_dev_df\n",
        "dev_df.iloc[1]"
      ],
      "metadata": {
        "colab": {
          "base_uri": "https://localhost:8080/",
          "height": 414
        },
        "id": "70lMzLB99pAp",
        "outputId": "bb8cf0cd-e1f1-4b5f-9201-394203539a6e"
      },
      "execution_count": 20,
      "outputs": [
        {
          "output_type": "execute_result",
          "data": {
            "text/plain": [
              "id                                                                                                                                                                                                                                                                                                                                                                                                                                                                                                                                                                                                                                                                                                                                                                                                                                                                                                                                                                                                                                                                                                                                                                                                                                             10628\n",
              "url                                                                                                                                                                                                                                                                                                                                                                                                                                                                                                                                                                                                                                                                                                                                                                                                                                                                                                                                                                                                                                                                                                                                                               https://www.liputan6.com/news/read/10628/pengungsi-madura-masih-mengaliri-surabaya\n",
              "text                   liputan6 com surabaya tokoh madura dan kalimantan telah bersepakat untuk berdamai tapi arus pengungsi dari bumi borneo terus mengaliri tanah jawa hingga kini ada sekitar 90 ribu pengungsi masuk ke jawa timur karena itu gubernur jatim imam utomo meminta gubernur se kalimantan mensosialisasikan kesepakatan damai di jakarta dengan para tokoh masyarakat dan tetua adat di kalimantan pernyataan itu diungkapkan imam di surabaya baru baru ini imam mengaku cemas melihat gelombang pengungsi yang tak pernah surut sebab konflik masih terus menyeruak di sejumlah daerah di kalimantan tengah dan kalimantan selatan akibatnya pengungsi yang berjumlah 70 000 bertambah 20 000 orang padahal dana yang ada di kas pemerintah daerah jatim terbatas karena itu imam meminta para gubernur di kalimantan mengerem arus pengungsi caranya dengan menciptakan rasa aman buat warga madura yang ada di kalimantan imam juga meminta gubenur kalimantan memberi tempat perlindungan yang aman bagi pengungsi madura sebab saat ini pemda jatim tengah menata kehidupan pengungsi gelombang pertama dia khawatir jumlah yang membludak akan memperburuk situasi pengungsi di jatim tna hasan sentot dan joko sulistiobudi\n",
              "abstractive_summary                                                                                                                                                                                                                                                                                                                                                                                                                                                                                                                                                                                                                                                                                                                                                                                                                                                                                                                                                                                                                                                 gubernur jawa timur meminta para gubernur se kalimantan mensosialisasikan kesepakatan damai kepada warganya dengan begitu tak ada lagi gelombang pengungsi warga madura ke jatim\n",
              "extractive_summary                                                                                                                                                                                                                                                                                                                                                                                                                                                                                                                                                                                                                                                                                                                                                                                                                                                                                                                                                                                        hingga kini ada sekitar 90 ribu pengungsi masuk ke jawa timur karena itu gubernur jatim imam utomo meminta gubernur se kalimantan mensosialisasikan kesepakatan damai di jakarta dengan para tokoh masyarakat dan tetua adat di kalimantan\n",
              "Name: 1, dtype: object"
            ],
            "text/html": [
              "<div>\n",
              "<style scoped>\n",
              "    .dataframe tbody tr th:only-of-type {\n",
              "        vertical-align: middle;\n",
              "    }\n",
              "\n",
              "    .dataframe tbody tr th {\n",
              "        vertical-align: top;\n",
              "    }\n",
              "\n",
              "    .dataframe thead th {\n",
              "        text-align: right;\n",
              "    }\n",
              "</style>\n",
              "<table border=\"1\" class=\"dataframe\">\n",
              "  <thead>\n",
              "    <tr style=\"text-align: right;\">\n",
              "      <th></th>\n",
              "      <th>1</th>\n",
              "    </tr>\n",
              "  </thead>\n",
              "  <tbody>\n",
              "    <tr>\n",
              "      <th>id</th>\n",
              "      <td>10628</td>\n",
              "    </tr>\n",
              "    <tr>\n",
              "      <th>url</th>\n",
              "      <td>https://www.liputan6.com/news/read/10628/pengungsi-madura-masih-mengaliri-surabaya</td>\n",
              "    </tr>\n",
              "    <tr>\n",
              "      <th>text</th>\n",
              "      <td>liputan6 com surabaya tokoh madura dan kalimantan telah bersepakat untuk berdamai tapi arus pengungsi dari bumi borneo terus mengaliri tanah jawa hingga kini ada sekitar 90 ribu pengungsi masuk ke jawa timur karena itu gubernur jatim imam utomo meminta gubernur se kalimantan mensosialisasikan kesepakatan damai di jakarta dengan para tokoh masyarakat dan tetua adat di kalimantan pernyataan itu diungkapkan imam di surabaya baru baru ini imam mengaku cemas melihat gelombang pengungsi yang tak pernah surut sebab konflik masih terus menyeruak di sejumlah daerah di kalimantan tengah dan kalimantan selatan akibatnya pengungsi yang berjumlah 70 000 bertambah 20 000 orang padahal dana yang ada di kas pemerintah daerah jatim terbatas karena itu imam meminta para gubernur di kalimantan mengerem arus pengungsi caranya dengan menciptakan rasa aman buat warga madura yang ada di kalimantan imam juga meminta gubenur kalimantan memberi tempat perlindungan yang aman bagi pengungsi madura sebab saat ini pemda jatim tengah menata kehidupan pengungsi gelombang pertama dia khawatir jumlah yang membludak akan memperburuk situasi pengungsi di jatim tna hasan sentot dan joko sulistiobudi</td>\n",
              "    </tr>\n",
              "    <tr>\n",
              "      <th>abstractive_summary</th>\n",
              "      <td>gubernur jawa timur meminta para gubernur se kalimantan mensosialisasikan kesepakatan damai kepada warganya dengan begitu tak ada lagi gelombang pengungsi warga madura ke jatim</td>\n",
              "    </tr>\n",
              "    <tr>\n",
              "      <th>extractive_summary</th>\n",
              "      <td>hingga kini ada sekitar 90 ribu pengungsi masuk ke jawa timur karena itu gubernur jatim imam utomo meminta gubernur se kalimantan mensosialisasikan kesepakatan damai di jakarta dengan para tokoh masyarakat dan tetua adat di kalimantan</td>\n",
              "    </tr>\n",
              "  </tbody>\n",
              "</table>\n",
              "</div><br><label><b>dtype:</b> object</label>"
            ]
          },
          "metadata": {},
          "execution_count": 20
        }
      ]
    },
    {
      "cell_type": "code",
      "source": [
        "test_df = new_test_df\n",
        "test_df.iloc[1]"
      ],
      "metadata": {
        "colab": {
          "base_uri": "https://localhost:8080/",
          "height": 414
        },
        "id": "uId-cZvj9srT",
        "outputId": "2ee96c60-5032-47a3-9a14-91cefaa24dd7"
      },
      "execution_count": 21,
      "outputs": [
        {
          "output_type": "execute_result",
          "data": {
            "text/plain": [
              "id                                                                                                                                                                                                                                                                                                                                                                                                                                                                                                                                                                                                                                                                                                                                                                                                                                                                                                                                                                                                                                                                                                                                                                                                                                                                                                                22708\n",
              "url                                                                                                                                                                                                                                                                                                                                                                                                                                                                                                                                                                                                                                                                                                                                                                                                                                                                                                                                                                                                                                                                                                                                                                                                                           https://www.liputan6.com/news/read/22708/kereta-api-jalur-selatan-mengalami-keterlambatan\n",
              "text                   liputan6 com yogyakarta kedatangan kereta api dari jalur selatan senin 29 10 dipastikan terlambat tiba di stasiun bandung jawa barat hal itu terjadi menyusul amblasnya lintasan kereta di kroya jawa tengah kamis silam baca lintasan ka antara kroya dan bandung ambles rangkaian kereta api yang dipastikan terlambat adalah taksaka argowilis lodaya mutiara selatan turangga cisadane dan kahuripan demikian diungkapkan seorang petugas pt kereta api indonesia daerah operasi vi di stasiun tugu yogyakarta petugas itu menjelaskan kereta yang berjalan di atas lintasan kroya mesti ekstra hati hati karena tengah diperbaiki petugas apalagi hujan lebat yang terus mengguyur wilayah cilacap juga ikut memperparah kondisi lintasan karena itulah daops vi memberlakukan sistem susul guna mengantisipasi terjadinya tumpang tindih jadwal keberangkatan jelasnya kereta yang jadwalnya tepat waktu diberangkatkan terlebih dahulu dibanding kereta yang telanjur molor berdasarkan pemantauan sctv penerapan sistem tersebut mengakibatkan ribuan penumpang menumpuk di stasiun tugu dan lempuyangan yogyakarta sementara jadwal ka jalur selatan pada akhir pekan ini terbilang padat soalnya bertepatan dengan puncak arus balik pelajar sehabis liburan semester ken wiwik susilo\n",
              "abstractive_summary                                                                                                                                                                                                                                                                                                                                                                                                                                                                                                                                                                                                                                                                                                                                                                                                                                                                                                                                                                                                                                                                                                                                         pemberangkatan kereta api dari jalur selatan kembali mengalami keterlambatan lintasan di kroya jawa tengah masih diperbaiki petugas pt kereta api indonesia\n",
              "extractive_summary                                                                                                                                                                                                                                                                                                                                                                                                                                                                                                                                                                                                                                                                                                                                                                                                                                                                                                                                                                                                                                                                demikian diungkapkan seorang petugas pt kereta api indonesia daerah operasi vi di stasiun tugu yogyakarta petugas itu menjelaskan kereta yang berjalan di atas lintasan kroya mesti ekstra hati hati karena tengah diperbaiki petugas\n",
              "Name: 1, dtype: object"
            ],
            "text/html": [
              "<div>\n",
              "<style scoped>\n",
              "    .dataframe tbody tr th:only-of-type {\n",
              "        vertical-align: middle;\n",
              "    }\n",
              "\n",
              "    .dataframe tbody tr th {\n",
              "        vertical-align: top;\n",
              "    }\n",
              "\n",
              "    .dataframe thead th {\n",
              "        text-align: right;\n",
              "    }\n",
              "</style>\n",
              "<table border=\"1\" class=\"dataframe\">\n",
              "  <thead>\n",
              "    <tr style=\"text-align: right;\">\n",
              "      <th></th>\n",
              "      <th>1</th>\n",
              "    </tr>\n",
              "  </thead>\n",
              "  <tbody>\n",
              "    <tr>\n",
              "      <th>id</th>\n",
              "      <td>22708</td>\n",
              "    </tr>\n",
              "    <tr>\n",
              "      <th>url</th>\n",
              "      <td>https://www.liputan6.com/news/read/22708/kereta-api-jalur-selatan-mengalami-keterlambatan</td>\n",
              "    </tr>\n",
              "    <tr>\n",
              "      <th>text</th>\n",
              "      <td>liputan6 com yogyakarta kedatangan kereta api dari jalur selatan senin 29 10 dipastikan terlambat tiba di stasiun bandung jawa barat hal itu terjadi menyusul amblasnya lintasan kereta di kroya jawa tengah kamis silam baca lintasan ka antara kroya dan bandung ambles rangkaian kereta api yang dipastikan terlambat adalah taksaka argowilis lodaya mutiara selatan turangga cisadane dan kahuripan demikian diungkapkan seorang petugas pt kereta api indonesia daerah operasi vi di stasiun tugu yogyakarta petugas itu menjelaskan kereta yang berjalan di atas lintasan kroya mesti ekstra hati hati karena tengah diperbaiki petugas apalagi hujan lebat yang terus mengguyur wilayah cilacap juga ikut memperparah kondisi lintasan karena itulah daops vi memberlakukan sistem susul guna mengantisipasi terjadinya tumpang tindih jadwal keberangkatan jelasnya kereta yang jadwalnya tepat waktu diberangkatkan terlebih dahulu dibanding kereta yang telanjur molor berdasarkan pemantauan sctv penerapan sistem tersebut mengakibatkan ribuan penumpang menumpuk di stasiun tugu dan lempuyangan yogyakarta sementara jadwal ka jalur selatan pada akhir pekan ini terbilang padat soalnya bertepatan dengan puncak arus balik pelajar sehabis liburan semester ken wiwik susilo</td>\n",
              "    </tr>\n",
              "    <tr>\n",
              "      <th>abstractive_summary</th>\n",
              "      <td>pemberangkatan kereta api dari jalur selatan kembali mengalami keterlambatan lintasan di kroya jawa tengah masih diperbaiki petugas pt kereta api indonesia</td>\n",
              "    </tr>\n",
              "    <tr>\n",
              "      <th>extractive_summary</th>\n",
              "      <td>demikian diungkapkan seorang petugas pt kereta api indonesia daerah operasi vi di stasiun tugu yogyakarta petugas itu menjelaskan kereta yang berjalan di atas lintasan kroya mesti ekstra hati hati karena tengah diperbaiki petugas</td>\n",
              "    </tr>\n",
              "  </tbody>\n",
              "</table>\n",
              "</div><br><label><b>dtype:</b> object</label>"
            ]
          },
          "metadata": {},
          "execution_count": 21
        }
      ]
    },
    {
      "cell_type": "markdown",
      "source": [
        "# Lemmatize"
      ],
      "metadata": {
        "id": "gH8pI6Ob_HbH"
      }
    },
    {
      "cell_type": "code",
      "source": [
        "!pip install nlp-id\n",
        "from nlp_id.lemmatizer import Lemmatizer\n",
        "from nltk.tokenize import word_tokenize"
      ],
      "metadata": {
        "colab": {
          "base_uri": "https://localhost:8080/"
        },
        "collapsed": true,
        "id": "Ri4w1GYu_Lrf",
        "outputId": "5a1ee262-dcff-403d-c6bb-0c00679ca286"
      },
      "execution_count": 23,
      "outputs": [
        {
          "output_type": "stream",
          "name": "stdout",
          "text": [
            "Collecting nlp-id\n",
            "  Downloading nlp_id-0.1.18.0-py3-none-any.whl.metadata (7.7 kB)\n",
            "Collecting huggingface-hub==0.23.4 (from nlp-id)\n",
            "  Downloading huggingface_hub-0.23.4-py3-none-any.whl.metadata (12 kB)\n",
            "Collecting nltk==3.9.1 (from nlp-id)\n",
            "  Downloading nltk-3.9.1-py3-none-any.whl.metadata (2.9 kB)\n",
            "Requirement already satisfied: numpy==1.26.4 in /usr/local/lib/python3.10/dist-packages (from nlp-id) (1.26.4)\n",
            "Collecting scikit-learn==1.5.1 (from nlp-id)\n",
            "  Downloading scikit_learn-1.5.1-cp310-cp310-manylinux_2_17_x86_64.manylinux2014_x86_64.whl.metadata (12 kB)\n",
            "Requirement already satisfied: scipy==1.13.1 in /usr/local/lib/python3.10/dist-packages (from nlp-id) (1.13.1)\n",
            "Collecting wget==3.2 (from nlp-id)\n",
            "  Downloading wget-3.2.zip (10 kB)\n",
            "  Preparing metadata (setup.py) ... \u001b[?25l\u001b[?25hdone\n",
            "Requirement already satisfied: filelock in /usr/local/lib/python3.10/dist-packages (from huggingface-hub==0.23.4->nlp-id) (3.16.1)\n",
            "Requirement already satisfied: fsspec>=2023.5.0 in /usr/local/lib/python3.10/dist-packages (from huggingface-hub==0.23.4->nlp-id) (2024.6.1)\n",
            "Requirement already satisfied: packaging>=20.9 in /usr/local/lib/python3.10/dist-packages (from huggingface-hub==0.23.4->nlp-id) (24.1)\n",
            "Requirement already satisfied: pyyaml>=5.1 in /usr/local/lib/python3.10/dist-packages (from huggingface-hub==0.23.4->nlp-id) (6.0.2)\n",
            "Requirement already satisfied: requests in /usr/local/lib/python3.10/dist-packages (from huggingface-hub==0.23.4->nlp-id) (2.32.3)\n",
            "Requirement already satisfied: tqdm>=4.42.1 in /usr/local/lib/python3.10/dist-packages (from huggingface-hub==0.23.4->nlp-id) (4.66.5)\n",
            "Requirement already satisfied: typing-extensions>=3.7.4.3 in /usr/local/lib/python3.10/dist-packages (from huggingface-hub==0.23.4->nlp-id) (4.12.2)\n",
            "Requirement already satisfied: click in /usr/local/lib/python3.10/dist-packages (from nltk==3.9.1->nlp-id) (8.1.7)\n",
            "Requirement already satisfied: joblib in /usr/local/lib/python3.10/dist-packages (from nltk==3.9.1->nlp-id) (1.4.2)\n",
            "Requirement already satisfied: regex>=2021.8.3 in /usr/local/lib/python3.10/dist-packages (from nltk==3.9.1->nlp-id) (2024.9.11)\n",
            "Requirement already satisfied: threadpoolctl>=3.1.0 in /usr/local/lib/python3.10/dist-packages (from scikit-learn==1.5.1->nlp-id) (3.5.0)\n",
            "Requirement already satisfied: charset-normalizer<4,>=2 in /usr/local/lib/python3.10/dist-packages (from requests->huggingface-hub==0.23.4->nlp-id) (3.3.2)\n",
            "Requirement already satisfied: idna<4,>=2.5 in /usr/local/lib/python3.10/dist-packages (from requests->huggingface-hub==0.23.4->nlp-id) (3.10)\n",
            "Requirement already satisfied: urllib3<3,>=1.21.1 in /usr/local/lib/python3.10/dist-packages (from requests->huggingface-hub==0.23.4->nlp-id) (2.2.3)\n",
            "Requirement already satisfied: certifi>=2017.4.17 in /usr/local/lib/python3.10/dist-packages (from requests->huggingface-hub==0.23.4->nlp-id) (2024.8.30)\n",
            "Downloading nlp_id-0.1.18.0-py3-none-any.whl (8.1 MB)\n",
            "\u001b[2K   \u001b[90m━━━━━━━━━━━━━━━━━━━━━━━━━━━━━━━━━━━━━━━━\u001b[0m \u001b[32m8.1/8.1 MB\u001b[0m \u001b[31m48.8 MB/s\u001b[0m eta \u001b[36m0:00:00\u001b[0m\n",
            "\u001b[?25hDownloading huggingface_hub-0.23.4-py3-none-any.whl (402 kB)\n",
            "\u001b[2K   \u001b[90m━━━━━━━━━━━━━━━━━━━━━━━━━━━━━━━━━━━━━━━━\u001b[0m \u001b[32m402.6/402.6 kB\u001b[0m \u001b[31m31.4 MB/s\u001b[0m eta \u001b[36m0:00:00\u001b[0m\n",
            "\u001b[?25hDownloading nltk-3.9.1-py3-none-any.whl (1.5 MB)\n",
            "\u001b[2K   \u001b[90m━━━━━━━━━━━━━━━━━━━━━━━━━━━━━━━━━━━━━━━━\u001b[0m \u001b[32m1.5/1.5 MB\u001b[0m \u001b[31m63.3 MB/s\u001b[0m eta \u001b[36m0:00:00\u001b[0m\n",
            "\u001b[?25hDownloading scikit_learn-1.5.1-cp310-cp310-manylinux_2_17_x86_64.manylinux2014_x86_64.whl (13.4 MB)\n",
            "\u001b[2K   \u001b[90m━━━━━━━━━━━━━━━━━━━━━━━━━━━━━━━━━━━━━━━━\u001b[0m \u001b[32m13.4/13.4 MB\u001b[0m \u001b[31m58.5 MB/s\u001b[0m eta \u001b[36m0:00:00\u001b[0m\n",
            "\u001b[?25hBuilding wheels for collected packages: wget\n",
            "  Building wheel for wget (setup.py) ... \u001b[?25l\u001b[?25hdone\n",
            "  Created wheel for wget: filename=wget-3.2-py3-none-any.whl size=9656 sha256=4daf39751a16e354264a6dd3ed3ea3d181a30ce94006ee61dece59b5c3cda338\n",
            "  Stored in directory: /root/.cache/pip/wheels/8b/f1/7f/5c94f0a7a505ca1c81cd1d9208ae2064675d97582078e6c769\n",
            "Successfully built wget\n",
            "Installing collected packages: wget, nltk, scikit-learn, huggingface-hub, nlp-id\n",
            "  Attempting uninstall: nltk\n",
            "    Found existing installation: nltk 3.8.1\n",
            "    Uninstalling nltk-3.8.1:\n",
            "      Successfully uninstalled nltk-3.8.1\n",
            "  Attempting uninstall: scikit-learn\n",
            "    Found existing installation: scikit-learn 1.5.2\n",
            "    Uninstalling scikit-learn-1.5.2:\n",
            "      Successfully uninstalled scikit-learn-1.5.2\n",
            "  Attempting uninstall: huggingface-hub\n",
            "    Found existing installation: huggingface-hub 0.24.7\n",
            "    Uninstalling huggingface-hub-0.24.7:\n",
            "      Successfully uninstalled huggingface-hub-0.24.7\n",
            "Successfully installed huggingface-hub-0.23.4 nlp-id-0.1.18.0 nltk-3.9.1 scikit-learn-1.5.1 wget-3.2\n"
          ]
        }
      ]
    },
    {
      "cell_type": "code",
      "source": [
        "import nltk\n",
        "\n",
        "nltk.download('punkt_tab')"
      ],
      "metadata": {
        "colab": {
          "base_uri": "https://localhost:8080/"
        },
        "id": "T8Cnwp9NAhzt",
        "outputId": "c1ac51c5-fbf4-4496-865d-c2e352c61342"
      },
      "execution_count": 26,
      "outputs": [
        {
          "output_type": "stream",
          "name": "stderr",
          "text": [
            "[nltk_data] Downloading package punkt_tab to /root/nltk_data...\n",
            "[nltk_data]   Unzipping tokenizers/punkt_tab.zip.\n"
          ]
        },
        {
          "output_type": "execute_result",
          "data": {
            "text/plain": [
              "True"
            ]
          },
          "metadata": {},
          "execution_count": 26
        }
      ]
    },
    {
      "cell_type": "code",
      "source": [
        "lemmatizer = Lemmatizer()\n",
        "\n",
        "def lemmatize_text(text):\n",
        "  tokens = word_tokenize(text)\n",
        "  lemmatized_tokens = [lemmatizer.lemmatize(token) for token in tokens]\n",
        "  return \" \".join(lemmatized_tokens)\n",
        "\n",
        "test_df['text1'] = test_df['text'].apply(lemmatize_text)\n",
        "test_df['abstractive_summary1'] = test_df['abstractive_summary'].apply(lemmatize_text)\n",
        "test_df['extractive_summary1'] = test_df['extractive_summary'].apply(lemmatize_text)\n",
        "\n",
        "dev_df['text1'] = dev_df['text'].apply(lemmatize_text)\n",
        "dev_df['abstractive_summary1'] = dev_df['abstractive_summary'].apply(lemmatize_text)\n",
        "dev_df['extractive_summary1'] = dev_df['extractive_summary'].apply(lemmatize_text)\n"
      ],
      "metadata": {
        "id": "hzbkh6Sg_E7N"
      },
      "execution_count": 27,
      "outputs": []
    },
    {
      "cell_type": "code",
      "source": [
        "dev_df.iloc[1]"
      ],
      "metadata": {
        "colab": {
          "base_uri": "https://localhost:8080/",
          "height": 664
        },
        "id": "VwLKocY4A3k-",
        "outputId": "519a85c5-037c-4ba3-c032-ec39dada750a"
      },
      "execution_count": 29,
      "outputs": [
        {
          "output_type": "execute_result",
          "data": {
            "text/plain": [
              "id                                                                                                                                                                                                                                                                                                                                                                                                                                                                                                                                                                                                                                                                                                                                                                                                                                                                                                                                                                                                                                                                                                                                                                                                                                              10628\n",
              "url                                                                                                                                                                                                                                                                                                                                                                                                                                                                                                                                                                                                                                                                                                                                                                                                                                                                                                                                                                                                                                                                                                                                                                https://www.liputan6.com/news/read/10628/pengungsi-madura-masih-mengaliri-surabaya\n",
              "text                    liputan6 com surabaya tokoh madura dan kalimantan telah bersepakat untuk berdamai tapi arus pengungsi dari bumi borneo terus mengaliri tanah jawa hingga kini ada sekitar 90 ribu pengungsi masuk ke jawa timur karena itu gubernur jatim imam utomo meminta gubernur se kalimantan mensosialisasikan kesepakatan damai di jakarta dengan para tokoh masyarakat dan tetua adat di kalimantan pernyataan itu diungkapkan imam di surabaya baru baru ini imam mengaku cemas melihat gelombang pengungsi yang tak pernah surut sebab konflik masih terus menyeruak di sejumlah daerah di kalimantan tengah dan kalimantan selatan akibatnya pengungsi yang berjumlah 70 000 bertambah 20 000 orang padahal dana yang ada di kas pemerintah daerah jatim terbatas karena itu imam meminta para gubernur di kalimantan mengerem arus pengungsi caranya dengan menciptakan rasa aman buat warga madura yang ada di kalimantan imam juga meminta gubenur kalimantan memberi tempat perlindungan yang aman bagi pengungsi madura sebab saat ini pemda jatim tengah menata kehidupan pengungsi gelombang pertama dia khawatir jumlah yang membludak akan memperburuk situasi pengungsi di jatim tna hasan sentot dan joko sulistiobudi\n",
              "abstractive_summary                                                                                                                                                                                                                                                                                                                                                                                                                                                                                                                                                                                                                                                                                                                                                                                                                                                                                                                                                                                                                                                  gubernur jawa timur meminta para gubernur se kalimantan mensosialisasikan kesepakatan damai kepada warganya dengan begitu tak ada lagi gelombang pengungsi warga madura ke jatim\n",
              "extractive_summary                                                                                                                                                                                                                                                                                                                                                                                                                                                                                                                                                                                                                                                                                                                                                                                                                                                                                                                                                                                         hingga kini ada sekitar 90 ribu pengungsi masuk ke jawa timur karena itu gubernur jatim imam utomo meminta gubernur se kalimantan mensosialisasikan kesepakatan damai di jakarta dengan para tokoh masyarakat dan tetua adat di kalimantan\n",
              "text1                                                                                                                                                   liputan6 com surabaya tokoh madura dan kalimantan telah sepakat untuk damai tapi arus ungsi dari bumi borneo terus alir tanah jawa hingga kini ada sekitar 90 ribu ungsi masuk ke jawa timur karena itu gubernur jatim imam utomo minta gubernur se kalimantan sosialisasi sepakat damai di jakarta dengan para tokoh masyarakat dan tetua adat di kalimantan nyata itu ungkap imam di surabaya baru baru ini imam aku cemas lihat gelombang ungsi yang tak pernah surut sebab konflik masih terus seruak di jumlah daerah di kalimantan tengah dan kalimantan selatan akibat ungsi yang jumlah 70 000 tambah 20 000 orang padahal dana yang ada di kas perintah daerah jatim batas karena itu imam minta para gubernur di kalimantan rem arus ungsi cara dengan cipta rasa aman buat warga madura yang ada di kalimantan imam juga minta gubenur kalimantan beri tempat lindung yang aman bagi ungsi madura sebab saat ini pemda jatim tengah tata hidup ungsi gelombang pertama dia khawatir jumlah yang membludak akan buruk situasi ungsi di jatim tna hasan sentot dan joko sulistiobudi\n",
              "abstractive_summary1                                                                                                                                                                                                                                                                                                                                                                                                                                                                                                                                                                                                                                                                                                                                                                                                                                                                                                                                                                                                                                                                    gubernur jawa timur minta para gubernur se kalimantan sosialisasi sepakat damai kepada warga dengan begitu tak ada lagi gelombang ungsi warga madura ke jatim\n",
              "extractive_summary1                                                                                                                                                                                                                                                                                                                                                                                                                                                                                                                                                                                                                                                                                                                                                                                                                                                                                                                                                                                                        hingga kini ada sekitar 90 ribu ungsi masuk ke jawa timur karena itu gubernur jatim imam utomo minta gubernur se kalimantan sosialisasi sepakat damai di jakarta dengan para tokoh masyarakat dan tetua adat di kalimantan\n",
              "Name: 1, dtype: object"
            ],
            "text/html": [
              "<div>\n",
              "<style scoped>\n",
              "    .dataframe tbody tr th:only-of-type {\n",
              "        vertical-align: middle;\n",
              "    }\n",
              "\n",
              "    .dataframe tbody tr th {\n",
              "        vertical-align: top;\n",
              "    }\n",
              "\n",
              "    .dataframe thead th {\n",
              "        text-align: right;\n",
              "    }\n",
              "</style>\n",
              "<table border=\"1\" class=\"dataframe\">\n",
              "  <thead>\n",
              "    <tr style=\"text-align: right;\">\n",
              "      <th></th>\n",
              "      <th>1</th>\n",
              "    </tr>\n",
              "  </thead>\n",
              "  <tbody>\n",
              "    <tr>\n",
              "      <th>id</th>\n",
              "      <td>10628</td>\n",
              "    </tr>\n",
              "    <tr>\n",
              "      <th>url</th>\n",
              "      <td>https://www.liputan6.com/news/read/10628/pengungsi-madura-masih-mengaliri-surabaya</td>\n",
              "    </tr>\n",
              "    <tr>\n",
              "      <th>text</th>\n",
              "      <td>liputan6 com surabaya tokoh madura dan kalimantan telah bersepakat untuk berdamai tapi arus pengungsi dari bumi borneo terus mengaliri tanah jawa hingga kini ada sekitar 90 ribu pengungsi masuk ke jawa timur karena itu gubernur jatim imam utomo meminta gubernur se kalimantan mensosialisasikan kesepakatan damai di jakarta dengan para tokoh masyarakat dan tetua adat di kalimantan pernyataan itu diungkapkan imam di surabaya baru baru ini imam mengaku cemas melihat gelombang pengungsi yang tak pernah surut sebab konflik masih terus menyeruak di sejumlah daerah di kalimantan tengah dan kalimantan selatan akibatnya pengungsi yang berjumlah 70 000 bertambah 20 000 orang padahal dana yang ada di kas pemerintah daerah jatim terbatas karena itu imam meminta para gubernur di kalimantan mengerem arus pengungsi caranya dengan menciptakan rasa aman buat warga madura yang ada di kalimantan imam juga meminta gubenur kalimantan memberi tempat perlindungan yang aman bagi pengungsi madura sebab saat ini pemda jatim tengah menata kehidupan pengungsi gelombang pertama dia khawatir jumlah yang membludak akan memperburuk situasi pengungsi di jatim tna hasan sentot dan joko sulistiobudi</td>\n",
              "    </tr>\n",
              "    <tr>\n",
              "      <th>abstractive_summary</th>\n",
              "      <td>gubernur jawa timur meminta para gubernur se kalimantan mensosialisasikan kesepakatan damai kepada warganya dengan begitu tak ada lagi gelombang pengungsi warga madura ke jatim</td>\n",
              "    </tr>\n",
              "    <tr>\n",
              "      <th>extractive_summary</th>\n",
              "      <td>hingga kini ada sekitar 90 ribu pengungsi masuk ke jawa timur karena itu gubernur jatim imam utomo meminta gubernur se kalimantan mensosialisasikan kesepakatan damai di jakarta dengan para tokoh masyarakat dan tetua adat di kalimantan</td>\n",
              "    </tr>\n",
              "    <tr>\n",
              "      <th>text1</th>\n",
              "      <td>liputan6 com surabaya tokoh madura dan kalimantan telah sepakat untuk damai tapi arus ungsi dari bumi borneo terus alir tanah jawa hingga kini ada sekitar 90 ribu ungsi masuk ke jawa timur karena itu gubernur jatim imam utomo minta gubernur se kalimantan sosialisasi sepakat damai di jakarta dengan para tokoh masyarakat dan tetua adat di kalimantan nyata itu ungkap imam di surabaya baru baru ini imam aku cemas lihat gelombang ungsi yang tak pernah surut sebab konflik masih terus seruak di jumlah daerah di kalimantan tengah dan kalimantan selatan akibat ungsi yang jumlah 70 000 tambah 20 000 orang padahal dana yang ada di kas perintah daerah jatim batas karena itu imam minta para gubernur di kalimantan rem arus ungsi cara dengan cipta rasa aman buat warga madura yang ada di kalimantan imam juga minta gubenur kalimantan beri tempat lindung yang aman bagi ungsi madura sebab saat ini pemda jatim tengah tata hidup ungsi gelombang pertama dia khawatir jumlah yang membludak akan buruk situasi ungsi di jatim tna hasan sentot dan joko sulistiobudi</td>\n",
              "    </tr>\n",
              "    <tr>\n",
              "      <th>abstractive_summary1</th>\n",
              "      <td>gubernur jawa timur minta para gubernur se kalimantan sosialisasi sepakat damai kepada warga dengan begitu tak ada lagi gelombang ungsi warga madura ke jatim</td>\n",
              "    </tr>\n",
              "    <tr>\n",
              "      <th>extractive_summary1</th>\n",
              "      <td>hingga kini ada sekitar 90 ribu ungsi masuk ke jawa timur karena itu gubernur jatim imam utomo minta gubernur se kalimantan sosialisasi sepakat damai di jakarta dengan para tokoh masyarakat dan tetua adat di kalimantan</td>\n",
              "    </tr>\n",
              "  </tbody>\n",
              "</table>\n",
              "</div><br><label><b>dtype:</b> object</label>"
            ]
          },
          "metadata": {},
          "execution_count": 29
        }
      ]
    },
    {
      "cell_type": "code",
      "source": [
        "test_df.iloc[1]"
      ],
      "metadata": {
        "colab": {
          "base_uri": "https://localhost:8080/",
          "height": 647
        },
        "id": "Lo5g7bfA_pyk",
        "outputId": "2bb379c3-9084-4e6d-e114-3a96b16627bb"
      },
      "execution_count": 28,
      "outputs": [
        {
          "output_type": "execute_result",
          "data": {
            "text/plain": [
              "id                                                                                                                                                                                                                                                                                                                                                                                                                                                                                                                                                                                                                                                                                                                                                                                                                                                                                                                                                                                                                                                                                                                                                                                                                                                                                                                 22708\n",
              "url                                                                                                                                                                                                                                                                                                                                                                                                                                                                                                                                                                                                                                                                                                                                                                                                                                                                                                                                                                                                                                                                                                                                                                                                                            https://www.liputan6.com/news/read/22708/kereta-api-jalur-selatan-mengalami-keterlambatan\n",
              "text                    liputan6 com yogyakarta kedatangan kereta api dari jalur selatan senin 29 10 dipastikan terlambat tiba di stasiun bandung jawa barat hal itu terjadi menyusul amblasnya lintasan kereta di kroya jawa tengah kamis silam baca lintasan ka antara kroya dan bandung ambles rangkaian kereta api yang dipastikan terlambat adalah taksaka argowilis lodaya mutiara selatan turangga cisadane dan kahuripan demikian diungkapkan seorang petugas pt kereta api indonesia daerah operasi vi di stasiun tugu yogyakarta petugas itu menjelaskan kereta yang berjalan di atas lintasan kroya mesti ekstra hati hati karena tengah diperbaiki petugas apalagi hujan lebat yang terus mengguyur wilayah cilacap juga ikut memperparah kondisi lintasan karena itulah daops vi memberlakukan sistem susul guna mengantisipasi terjadinya tumpang tindih jadwal keberangkatan jelasnya kereta yang jadwalnya tepat waktu diberangkatkan terlebih dahulu dibanding kereta yang telanjur molor berdasarkan pemantauan sctv penerapan sistem tersebut mengakibatkan ribuan penumpang menumpuk di stasiun tugu dan lempuyangan yogyakarta sementara jadwal ka jalur selatan pada akhir pekan ini terbilang padat soalnya bertepatan dengan puncak arus balik pelajar sehabis liburan semester ken wiwik susilo\n",
              "abstractive_summary                                                                                                                                                                                                                                                                                                                                                                                                                                                                                                                                                                                                                                                                                                                                                                                                                                                                                                                                                                                                                                                                                                                                          pemberangkatan kereta api dari jalur selatan kembali mengalami keterlambatan lintasan di kroya jawa tengah masih diperbaiki petugas pt kereta api indonesia\n",
              "extractive_summary                                                                                                                                                                                                                                                                                                                                                                                                                                                                                                                                                                                                                                                                                                                                                                                                                                                                                                                                                                                                                                                                 demikian diungkapkan seorang petugas pt kereta api indonesia daerah operasi vi di stasiun tugu yogyakarta petugas itu menjelaskan kereta yang berjalan di atas lintasan kroya mesti ekstra hati hati karena tengah diperbaiki petugas\n",
              "text1                                                                                                                                                                                          liputan6 com yogyakarta datang kereta api dari jalur selatan senin 29 10 pasti lambat tiba di stasiun bandung jawa barat hal itu jadi susul amblas lintas kereta di kroya jawa tengah kamis silam baca lintas ka antara kroya dan bandung ambles rangkai kereta api yang pasti lambat adalah taksaka argowilis lodaya mutiara selatan turangga cisadane dan kahuripan demikian ungkap orang tugas pt kereta api indonesia daerah operasi vi di stasiun tugu yogyakarta tugas itu jelas kereta yang jalan di atas lintas kroya mesti ekstra hati hati karena tengah baik tugas apalagi hujan lebat yang terus guyur wilayah cilacap juga ikut parah kondisi lintas karena itu daops vi laku sistem susul guna antisipasi jadi tumpang tindih jadwal berangkat jelas kereta yang jadwal tepat waktu berangkat lebih dahulu banding kereta yang telanjur molor dasar pantau sctv terap sistem sebut akibat ribu tumpang tumpuk di stasiun tugu dan lempuyangan yogyakarta sementara jadwal ka jalur selatan pada akhir pekan ini bilang padat soal tepat dengan puncak arus balik ajar habis libur semester ken wiwik susilo\n",
              "abstractive_summary1                                                                                                                                                                                                                                                                                                                                                                                                                                                                                                                                                                                                                                                                                                                                                                                                                                                                                                                                                                                                                                                                                                                                                                    berangkat kereta api dari jalur selatan kembali alam lambat lintas di kroya jawa tengah masih baik tugas pt kereta api indonesia\n",
              "extractive_summary1                                                                                                                                                                                                                                                                                                                                                                                                                                                                                                                                                                                                                                                                                                                                                                                                                                                                                                                                                                                                                                                                                              demikian ungkap orang tugas pt kereta api indonesia daerah operasi vi di stasiun tugu yogyakarta tugas itu jelas kereta yang jalan di atas lintas kroya mesti ekstra hati hati karena tengah baik tugas\n",
              "Name: 1, dtype: object"
            ],
            "text/html": [
              "<div>\n",
              "<style scoped>\n",
              "    .dataframe tbody tr th:only-of-type {\n",
              "        vertical-align: middle;\n",
              "    }\n",
              "\n",
              "    .dataframe tbody tr th {\n",
              "        vertical-align: top;\n",
              "    }\n",
              "\n",
              "    .dataframe thead th {\n",
              "        text-align: right;\n",
              "    }\n",
              "</style>\n",
              "<table border=\"1\" class=\"dataframe\">\n",
              "  <thead>\n",
              "    <tr style=\"text-align: right;\">\n",
              "      <th></th>\n",
              "      <th>1</th>\n",
              "    </tr>\n",
              "  </thead>\n",
              "  <tbody>\n",
              "    <tr>\n",
              "      <th>id</th>\n",
              "      <td>22708</td>\n",
              "    </tr>\n",
              "    <tr>\n",
              "      <th>url</th>\n",
              "      <td>https://www.liputan6.com/news/read/22708/kereta-api-jalur-selatan-mengalami-keterlambatan</td>\n",
              "    </tr>\n",
              "    <tr>\n",
              "      <th>text</th>\n",
              "      <td>liputan6 com yogyakarta kedatangan kereta api dari jalur selatan senin 29 10 dipastikan terlambat tiba di stasiun bandung jawa barat hal itu terjadi menyusul amblasnya lintasan kereta di kroya jawa tengah kamis silam baca lintasan ka antara kroya dan bandung ambles rangkaian kereta api yang dipastikan terlambat adalah taksaka argowilis lodaya mutiara selatan turangga cisadane dan kahuripan demikian diungkapkan seorang petugas pt kereta api indonesia daerah operasi vi di stasiun tugu yogyakarta petugas itu menjelaskan kereta yang berjalan di atas lintasan kroya mesti ekstra hati hati karena tengah diperbaiki petugas apalagi hujan lebat yang terus mengguyur wilayah cilacap juga ikut memperparah kondisi lintasan karena itulah daops vi memberlakukan sistem susul guna mengantisipasi terjadinya tumpang tindih jadwal keberangkatan jelasnya kereta yang jadwalnya tepat waktu diberangkatkan terlebih dahulu dibanding kereta yang telanjur molor berdasarkan pemantauan sctv penerapan sistem tersebut mengakibatkan ribuan penumpang menumpuk di stasiun tugu dan lempuyangan yogyakarta sementara jadwal ka jalur selatan pada akhir pekan ini terbilang padat soalnya bertepatan dengan puncak arus balik pelajar sehabis liburan semester ken wiwik susilo</td>\n",
              "    </tr>\n",
              "    <tr>\n",
              "      <th>abstractive_summary</th>\n",
              "      <td>pemberangkatan kereta api dari jalur selatan kembali mengalami keterlambatan lintasan di kroya jawa tengah masih diperbaiki petugas pt kereta api indonesia</td>\n",
              "    </tr>\n",
              "    <tr>\n",
              "      <th>extractive_summary</th>\n",
              "      <td>demikian diungkapkan seorang petugas pt kereta api indonesia daerah operasi vi di stasiun tugu yogyakarta petugas itu menjelaskan kereta yang berjalan di atas lintasan kroya mesti ekstra hati hati karena tengah diperbaiki petugas</td>\n",
              "    </tr>\n",
              "    <tr>\n",
              "      <th>text1</th>\n",
              "      <td>liputan6 com yogyakarta datang kereta api dari jalur selatan senin 29 10 pasti lambat tiba di stasiun bandung jawa barat hal itu jadi susul amblas lintas kereta di kroya jawa tengah kamis silam baca lintas ka antara kroya dan bandung ambles rangkai kereta api yang pasti lambat adalah taksaka argowilis lodaya mutiara selatan turangga cisadane dan kahuripan demikian ungkap orang tugas pt kereta api indonesia daerah operasi vi di stasiun tugu yogyakarta tugas itu jelas kereta yang jalan di atas lintas kroya mesti ekstra hati hati karena tengah baik tugas apalagi hujan lebat yang terus guyur wilayah cilacap juga ikut parah kondisi lintas karena itu daops vi laku sistem susul guna antisipasi jadi tumpang tindih jadwal berangkat jelas kereta yang jadwal tepat waktu berangkat lebih dahulu banding kereta yang telanjur molor dasar pantau sctv terap sistem sebut akibat ribu tumpang tumpuk di stasiun tugu dan lempuyangan yogyakarta sementara jadwal ka jalur selatan pada akhir pekan ini bilang padat soal tepat dengan puncak arus balik ajar habis libur semester ken wiwik susilo</td>\n",
              "    </tr>\n",
              "    <tr>\n",
              "      <th>abstractive_summary1</th>\n",
              "      <td>berangkat kereta api dari jalur selatan kembali alam lambat lintas di kroya jawa tengah masih baik tugas pt kereta api indonesia</td>\n",
              "    </tr>\n",
              "    <tr>\n",
              "      <th>extractive_summary1</th>\n",
              "      <td>demikian ungkap orang tugas pt kereta api indonesia daerah operasi vi di stasiun tugu yogyakarta tugas itu jelas kereta yang jalan di atas lintas kroya mesti ekstra hati hati karena tengah baik tugas</td>\n",
              "    </tr>\n",
              "  </tbody>\n",
              "</table>\n",
              "</div><br><label><b>dtype:</b> object</label>"
            ]
          },
          "metadata": {},
          "execution_count": 28
        }
      ]
    },
    {
      "cell_type": "code",
      "source": [
        "dev_df['text'] = dev_df['text1']\n",
        "dev_df['abstractive_summary'] = dev_df['abstractive_summary1']\n",
        "dev_df['extractive_summary'] = dev_df['extractive_summary1']\n",
        "\n",
        "test_df['text'] = test_df['text1']\n",
        "test_df['abstractive_summary'] = test_df['abstractive_summary1']\n",
        "test_df['extractive_summary'] = test_df['extractive_summary1']\n"
      ],
      "metadata": {
        "id": "3UNjJ3M3A7MG"
      },
      "execution_count": 32,
      "outputs": []
    },
    {
      "cell_type": "code",
      "source": [
        "dev_df.iloc[1]"
      ],
      "metadata": {
        "colab": {
          "base_uri": "https://localhost:8080/",
          "height": 397
        },
        "id": "IUYBogC0BPN3",
        "outputId": "e4f16230-9da3-42bf-8b65-12bb8e60488f"
      },
      "execution_count": 36,
      "outputs": [
        {
          "output_type": "execute_result",
          "data": {
            "text/plain": [
              "id                                                                                                                                                                                                                                                                                                                                                                                                                                                                                                                                                                                                                                                                                                                                                                                                                                                                                                                                                                                                                                                                                                             10628\n",
              "url                                                                                                                                                                                                                                                                                                                                                                                                                                                                                                                                                                                                                                                                                                                                                                                                                                                                                                                                                                                                                               https://www.liputan6.com/news/read/10628/pengungsi-madura-masih-mengaliri-surabaya\n",
              "text                   liputan6 com surabaya tokoh madura dan kalimantan telah sepakat untuk damai tapi arus ungsi dari bumi borneo terus alir tanah jawa hingga kini ada sekitar 90 ribu ungsi masuk ke jawa timur karena itu gubernur jatim imam utomo minta gubernur se kalimantan sosialisasi sepakat damai di jakarta dengan para tokoh masyarakat dan tetua adat di kalimantan nyata itu ungkap imam di surabaya baru baru ini imam aku cemas lihat gelombang ungsi yang tak pernah surut sebab konflik masih terus seruak di jumlah daerah di kalimantan tengah dan kalimantan selatan akibat ungsi yang jumlah 70 000 tambah 20 000 orang padahal dana yang ada di kas perintah daerah jatim batas karena itu imam minta para gubernur di kalimantan rem arus ungsi cara dengan cipta rasa aman buat warga madura yang ada di kalimantan imam juga minta gubenur kalimantan beri tempat lindung yang aman bagi ungsi madura sebab saat ini pemda jatim tengah tata hidup ungsi gelombang pertama dia khawatir jumlah yang membludak akan buruk situasi ungsi di jatim tna hasan sentot dan joko sulistiobudi\n",
              "abstractive_summary                                                                                                                                                                                                                                                                                                                                                                                                                                                                                                                                                                                                                                                                                                                                                                                                                                                                                                                                    gubernur jawa timur minta para gubernur se kalimantan sosialisasi sepakat damai kepada warga dengan begitu tak ada lagi gelombang ungsi warga madura ke jatim\n",
              "extractive_summary                                                                                                                                                                                                                                                                                                                                                                                                                                                                                                                                                                                                                                                                                                                                                                                                                                                                        hingga kini ada sekitar 90 ribu ungsi masuk ke jawa timur karena itu gubernur jatim imam utomo minta gubernur se kalimantan sosialisasi sepakat damai di jakarta dengan para tokoh masyarakat dan tetua adat di kalimantan\n",
              "Name: 1, dtype: object"
            ],
            "text/html": [
              "<div>\n",
              "<style scoped>\n",
              "    .dataframe tbody tr th:only-of-type {\n",
              "        vertical-align: middle;\n",
              "    }\n",
              "\n",
              "    .dataframe tbody tr th {\n",
              "        vertical-align: top;\n",
              "    }\n",
              "\n",
              "    .dataframe thead th {\n",
              "        text-align: right;\n",
              "    }\n",
              "</style>\n",
              "<table border=\"1\" class=\"dataframe\">\n",
              "  <thead>\n",
              "    <tr style=\"text-align: right;\">\n",
              "      <th></th>\n",
              "      <th>1</th>\n",
              "    </tr>\n",
              "  </thead>\n",
              "  <tbody>\n",
              "    <tr>\n",
              "      <th>id</th>\n",
              "      <td>10628</td>\n",
              "    </tr>\n",
              "    <tr>\n",
              "      <th>url</th>\n",
              "      <td>https://www.liputan6.com/news/read/10628/pengungsi-madura-masih-mengaliri-surabaya</td>\n",
              "    </tr>\n",
              "    <tr>\n",
              "      <th>text</th>\n",
              "      <td>liputan6 com surabaya tokoh madura dan kalimantan telah sepakat untuk damai tapi arus ungsi dari bumi borneo terus alir tanah jawa hingga kini ada sekitar 90 ribu ungsi masuk ke jawa timur karena itu gubernur jatim imam utomo minta gubernur se kalimantan sosialisasi sepakat damai di jakarta dengan para tokoh masyarakat dan tetua adat di kalimantan nyata itu ungkap imam di surabaya baru baru ini imam aku cemas lihat gelombang ungsi yang tak pernah surut sebab konflik masih terus seruak di jumlah daerah di kalimantan tengah dan kalimantan selatan akibat ungsi yang jumlah 70 000 tambah 20 000 orang padahal dana yang ada di kas perintah daerah jatim batas karena itu imam minta para gubernur di kalimantan rem arus ungsi cara dengan cipta rasa aman buat warga madura yang ada di kalimantan imam juga minta gubenur kalimantan beri tempat lindung yang aman bagi ungsi madura sebab saat ini pemda jatim tengah tata hidup ungsi gelombang pertama dia khawatir jumlah yang membludak akan buruk situasi ungsi di jatim tna hasan sentot dan joko sulistiobudi</td>\n",
              "    </tr>\n",
              "    <tr>\n",
              "      <th>abstractive_summary</th>\n",
              "      <td>gubernur jawa timur minta para gubernur se kalimantan sosialisasi sepakat damai kepada warga dengan begitu tak ada lagi gelombang ungsi warga madura ke jatim</td>\n",
              "    </tr>\n",
              "    <tr>\n",
              "      <th>extractive_summary</th>\n",
              "      <td>hingga kini ada sekitar 90 ribu ungsi masuk ke jawa timur karena itu gubernur jatim imam utomo minta gubernur se kalimantan sosialisasi sepakat damai di jakarta dengan para tokoh masyarakat dan tetua adat di kalimantan</td>\n",
              "    </tr>\n",
              "  </tbody>\n",
              "</table>\n",
              "</div><br><label><b>dtype:</b> object</label>"
            ]
          },
          "metadata": {},
          "execution_count": 36
        }
      ]
    },
    {
      "cell_type": "code",
      "source": [
        "# prompt: drop the column text1, abstractive_summary1, extractive_summary1 in those two df/\n",
        "\n",
        "dev_df = dev_df.drop(['text1', 'abstractive_summary1', 'extractive_summary1'], axis=1)\n",
        "test_df = test_df.drop(['text1', 'abstractive_summary1', 'extractive_summary1'], axis=1)\n"
      ],
      "metadata": {
        "id": "uXNeq9LLBh2n"
      },
      "execution_count": 34,
      "outputs": []
    },
    {
      "cell_type": "code",
      "source": [
        "dev_df.head(1)"
      ],
      "metadata": {
        "colab": {
          "base_uri": "https://localhost:8080/",
          "height": 688
        },
        "id": "R4M5NfdZBv-Q",
        "outputId": "37d5ecc1-6304-4c00-e684-7633f35b1048"
      },
      "execution_count": 37,
      "outputs": [
        {
          "output_type": "execute_result",
          "data": {
            "text/plain": [
              "      id  \\\n",
              "0  10362   \n",
              "\n",
              "                                                                                     url  \\\n",
              "0  https://www.liputan6.com/news/read/10362/masyarakat-riau-membantah-pernyataan-gus-dur   \n",
              "\n",
              "                                                                                                                                                                                                                                                                                                                                                                                                                                                                                                                                                                                                                                                                                                                                                                                                                                                                                                                                                                                                                                                                                                                                                                                                                                                                                                                                                                                                                                      text  \\\n",
              "0  liputan6 com jakarta jumlah tokoh masyarakat riau bantah nyata presiden abdurrahman wahid soal jumlah daerah masuk pulau riau yang akan pisah diri dari indonesia bahkan mereka malah tuntut gus dur mundur dari jabat atau paksa bila perlu mundur hal ini ungkap orang muka masyarakat riau abbas jamil ketika terima komisi ii dpr di gedung dpr mpr jakarta kamis 29 3 dalam nyata rombong masyarakat riau yang nama diri forum komunikasi muka masyarakat riau ingin gus dur mundur dari jabat sebab presiden nilai gagal jalan perintah turut abbas agar situasi ekonomi politik nasional dapat baik dpr harap dapat tampung dan realisasi aspirasi mereka sementara itu di riau dprd tempat belum tentu sikap tentang isu kepri yang ingin pisah diri dari provinsi riau turut ketua dprd riau chaoidir di pekanbaru riau jauh ini masih patok pada putus lama mereka yang tak terima minta kepri pisah diri isu bentuk provinsi kepri kembali edar susul nyata presiden wahid di tanjung pinang riau beberapa waktu silam saat itu gus dur nyata agar gubernur riau tak halang halang minta masyarakat kepri untuk pisah diri dari pekanbaru riau darat turut gus dur provinsi riau terlalu luas sehingga buka mungkin bentuk provinsi baru namun jumlah kalang dan tokoh masyarakat di riau tolak bentuk provinsi kepri dengan alas karakteristik budaya masih sama dan cenderung pecah masyarakat melayu ors tim liput 6 sctv   \n",
              "\n",
              "                                                                                                                                                abstractive_summary  \\\n",
              "0  jumlah tokoh masyarakat riau bantah nyata presiden wahid kena pisah pulau riau dari indonesia malah balik mereka minta gus dur turun dari tampuk pimpin nasional   \n",
              "\n",
              "                                                                                                                                                            extractive_summary  \n",
              "0  liputan6 com jakarta jumlah tokoh masyarakat riau bantah nyata presiden abdurrahman wahid bahkan mereka malah tuntut gus dur mundur dari jabat atau paksa bila perlu mundur  "
            ],
            "text/html": [
              "\n",
              "  <div id=\"df-857d4481-29d5-419d-b816-a48f9dc6d3f1\" class=\"colab-df-container\">\n",
              "    <div>\n",
              "<style scoped>\n",
              "    .dataframe tbody tr th:only-of-type {\n",
              "        vertical-align: middle;\n",
              "    }\n",
              "\n",
              "    .dataframe tbody tr th {\n",
              "        vertical-align: top;\n",
              "    }\n",
              "\n",
              "    .dataframe thead th {\n",
              "        text-align: right;\n",
              "    }\n",
              "</style>\n",
              "<table border=\"1\" class=\"dataframe\">\n",
              "  <thead>\n",
              "    <tr style=\"text-align: right;\">\n",
              "      <th></th>\n",
              "      <th>id</th>\n",
              "      <th>url</th>\n",
              "      <th>text</th>\n",
              "      <th>abstractive_summary</th>\n",
              "      <th>extractive_summary</th>\n",
              "    </tr>\n",
              "  </thead>\n",
              "  <tbody>\n",
              "    <tr>\n",
              "      <th>0</th>\n",
              "      <td>10362</td>\n",
              "      <td>https://www.liputan6.com/news/read/10362/masyarakat-riau-membantah-pernyataan-gus-dur</td>\n",
              "      <td>liputan6 com jakarta jumlah tokoh masyarakat riau bantah nyata presiden abdurrahman wahid soal jumlah daerah masuk pulau riau yang akan pisah diri dari indonesia bahkan mereka malah tuntut gus dur mundur dari jabat atau paksa bila perlu mundur hal ini ungkap orang muka masyarakat riau abbas jamil ketika terima komisi ii dpr di gedung dpr mpr jakarta kamis 29 3 dalam nyata rombong masyarakat riau yang nama diri forum komunikasi muka masyarakat riau ingin gus dur mundur dari jabat sebab presiden nilai gagal jalan perintah turut abbas agar situasi ekonomi politik nasional dapat baik dpr harap dapat tampung dan realisasi aspirasi mereka sementara itu di riau dprd tempat belum tentu sikap tentang isu kepri yang ingin pisah diri dari provinsi riau turut ketua dprd riau chaoidir di pekanbaru riau jauh ini masih patok pada putus lama mereka yang tak terima minta kepri pisah diri isu bentuk provinsi kepri kembali edar susul nyata presiden wahid di tanjung pinang riau beberapa waktu silam saat itu gus dur nyata agar gubernur riau tak halang halang minta masyarakat kepri untuk pisah diri dari pekanbaru riau darat turut gus dur provinsi riau terlalu luas sehingga buka mungkin bentuk provinsi baru namun jumlah kalang dan tokoh masyarakat di riau tolak bentuk provinsi kepri dengan alas karakteristik budaya masih sama dan cenderung pecah masyarakat melayu ors tim liput 6 sctv</td>\n",
              "      <td>jumlah tokoh masyarakat riau bantah nyata presiden wahid kena pisah pulau riau dari indonesia malah balik mereka minta gus dur turun dari tampuk pimpin nasional</td>\n",
              "      <td>liputan6 com jakarta jumlah tokoh masyarakat riau bantah nyata presiden abdurrahman wahid bahkan mereka malah tuntut gus dur mundur dari jabat atau paksa bila perlu mundur</td>\n",
              "    </tr>\n",
              "  </tbody>\n",
              "</table>\n",
              "</div>\n",
              "    <div class=\"colab-df-buttons\">\n",
              "\n",
              "  <div class=\"colab-df-container\">\n",
              "    <button class=\"colab-df-convert\" onclick=\"convertToInteractive('df-857d4481-29d5-419d-b816-a48f9dc6d3f1')\"\n",
              "            title=\"Convert this dataframe to an interactive table.\"\n",
              "            style=\"display:none;\">\n",
              "\n",
              "  <svg xmlns=\"http://www.w3.org/2000/svg\" height=\"24px\" viewBox=\"0 -960 960 960\">\n",
              "    <path d=\"M120-120v-720h720v720H120Zm60-500h600v-160H180v160Zm220 220h160v-160H400v160Zm0 220h160v-160H400v160ZM180-400h160v-160H180v160Zm440 0h160v-160H620v160ZM180-180h160v-160H180v160Zm440 0h160v-160H620v160Z\"/>\n",
              "  </svg>\n",
              "    </button>\n",
              "\n",
              "  <style>\n",
              "    .colab-df-container {\n",
              "      display:flex;\n",
              "      gap: 12px;\n",
              "    }\n",
              "\n",
              "    .colab-df-convert {\n",
              "      background-color: #E8F0FE;\n",
              "      border: none;\n",
              "      border-radius: 50%;\n",
              "      cursor: pointer;\n",
              "      display: none;\n",
              "      fill: #1967D2;\n",
              "      height: 32px;\n",
              "      padding: 0 0 0 0;\n",
              "      width: 32px;\n",
              "    }\n",
              "\n",
              "    .colab-df-convert:hover {\n",
              "      background-color: #E2EBFA;\n",
              "      box-shadow: 0px 1px 2px rgba(60, 64, 67, 0.3), 0px 1px 3px 1px rgba(60, 64, 67, 0.15);\n",
              "      fill: #174EA6;\n",
              "    }\n",
              "\n",
              "    .colab-df-buttons div {\n",
              "      margin-bottom: 4px;\n",
              "    }\n",
              "\n",
              "    [theme=dark] .colab-df-convert {\n",
              "      background-color: #3B4455;\n",
              "      fill: #D2E3FC;\n",
              "    }\n",
              "\n",
              "    [theme=dark] .colab-df-convert:hover {\n",
              "      background-color: #434B5C;\n",
              "      box-shadow: 0px 1px 3px 1px rgba(0, 0, 0, 0.15);\n",
              "      filter: drop-shadow(0px 1px 2px rgba(0, 0, 0, 0.3));\n",
              "      fill: #FFFFFF;\n",
              "    }\n",
              "  </style>\n",
              "\n",
              "    <script>\n",
              "      const buttonEl =\n",
              "        document.querySelector('#df-857d4481-29d5-419d-b816-a48f9dc6d3f1 button.colab-df-convert');\n",
              "      buttonEl.style.display =\n",
              "        google.colab.kernel.accessAllowed ? 'block' : 'none';\n",
              "\n",
              "      async function convertToInteractive(key) {\n",
              "        const element = document.querySelector('#df-857d4481-29d5-419d-b816-a48f9dc6d3f1');\n",
              "        const dataTable =\n",
              "          await google.colab.kernel.invokeFunction('convertToInteractive',\n",
              "                                                    [key], {});\n",
              "        if (!dataTable) return;\n",
              "\n",
              "        const docLinkHtml = 'Like what you see? Visit the ' +\n",
              "          '<a target=\"_blank\" href=https://colab.research.google.com/notebooks/data_table.ipynb>data table notebook</a>'\n",
              "          + ' to learn more about interactive tables.';\n",
              "        element.innerHTML = '';\n",
              "        dataTable['output_type'] = 'display_data';\n",
              "        await google.colab.output.renderOutput(dataTable, element);\n",
              "        const docLink = document.createElement('div');\n",
              "        docLink.innerHTML = docLinkHtml;\n",
              "        element.appendChild(docLink);\n",
              "      }\n",
              "    </script>\n",
              "  </div>\n",
              "\n",
              "\n",
              "    </div>\n",
              "  </div>\n"
            ],
            "application/vnd.google.colaboratory.intrinsic+json": {
              "type": "dataframe",
              "variable_name": "dev_df",
              "summary": "{\n  \"name\": \"dev_df\",\n  \"rows\": 10972,\n  \"fields\": [\n    {\n      \"column\": \"id\",\n      \"properties\": {\n        \"dtype\": \"number\",\n        \"std\": 3713,\n        \"min\": 1,\n        \"max\": 13018,\n        \"num_unique_values\": 10972,\n        \"samples\": [\n          1216,\n          7299,\n          8337\n        ],\n        \"semantic_type\": \"\",\n        \"description\": \"\"\n      }\n    },\n    {\n      \"column\": \"url\",\n      \"properties\": {\n        \"dtype\": \"string\",\n        \"num_unique_values\": 10972,\n        \"samples\": [\n          \"https://www.liputan6.com/news/read/1216/rusia-menentang-embargo-pbb\",\n          \"https://www.liputan6.com/news/read/7299/penderita-diabetes-dan-hipertensi-berpotensi-gagal-ginjal\",\n          \"https://www.liputan6.com/news/read/8337/sapuan-menangis-saat-membacakan-pledoi\"\n        ],\n        \"semantic_type\": \"\",\n        \"description\": \"\"\n      }\n    },\n    {\n      \"column\": \"text\",\n      \"properties\": {\n        \"dtype\": \"string\",\n        \"num_unique_values\": 10960,\n        \"samples\": [\n          \"liputan6 com surabaya selundup mobil mewah kembali jadi baru baru ini polisi lalu lintas polisi resor kota surabaya selatan jawa timur hasil aman buah mobil jaguar tanpa surat surat resmi yang tengah lintas di jalan raya turut kemudi mobil itu datang dari selandia baru dengan harga rp 200 juta tanpa bayar pajak tangkap satu unit mobil jaguar tipe 3 0 v6 ini mula dari curiga polisi yang lihat plat nomor mobil sebut hanya pasang dengan isolasi telah periksa yoris enhosa kemudi mobil itutak dapat tunjuk surat surat milik yang sah di depan polisi yoris kata mobil sebut adalah milik pt remaja prima engeenering yang akan kirim ke ruang pamer di kawasan sono kembang kira jaguar sebut bisa capai harga rp 1 miliar lebih bila jual di indonesia sama jaguar sebut polisi juga periksa orang polisi dari polsekta tandes yang kawal mobil sebut sayang hingga kini milik mobil masih belum penuh panggil polisi untuk ungkap kasus sebut polisi masih kembang selidik karena selain mobil jaguar sebut masih ada mobil lain yang sembunyi siar kabar jaguar sebut masuk lewat labuh tanjungpriok jakarta utara ulf hasan sentot dan joko sulistiobudi\",\n          \"liputan6 com jakarta kuasa hukum siti farika indra syahnun lubis sama empat rekan yang lain datang ke markas besar polri senin 5 2 sekitar pukul 12 00 wib datang indra untuk lapor ketua dpr akbar tandjung ketua panitia khusus buloggate dan bruneigate bachtiar chamsyah selain itu wakil ketua dpr soetardjo suryoguritno dan jumlah ketua fraksi dpr juga lapor lantar anggap telah laku cemar nama baik dan sebar berita bohong turut indra hasil pansus itu tak benar karena para saksi yang telah periksa aku bahwa presiden abdurrahman wahid tak libat dalam dua kasus sebut sementara itu mabes polri lalu kepala dinas terang polri brigadir jenderal saleh saaf kata polri akan menindaklanjuti lapor sebut namun polri akan ajar lebih dahulu serta kumpul bukti bukti tentang ada atau tidak unsur pidana ich nina waskito dan gatot setiawan\",\n          \"liputan6 com batam perintah minta segera baik anggar dapat dan belanja negara 2001 sebab defisit anggar taksir hampir capai rp 100 triliun agar ada tak buruk perintah minta hati sekaligus tempuh bijak fiskal yang efektif demikian rekomendasi ikat sarjana ekonomi indonesia yang telur dalam sidang pleno ke puluh yang langsung di batam baru baru ini isei minta perintah hati geser jumlah asumsi ekonomi seperti nilai tukar rupiah harga minyak dunia dan sertifikat suku bunga bank indonesia kira yang lenceng itu sebab defisit apbn nilai perintah bakal sulit gerak roda ekonomi jika defisit lampau angka rp 100 triliun belum presiden abdurrahman wahid nyata gelembung defisit anggar baru batas proyeksi saat ini apbn 2001 masih jalan sesuai target kendati tak sebut cara rinci perintah sejak dini telah ambil langkah langkah padu serta siap jumlah agenda untuk kurang defisit anggar sementara itu selain sorot apbn 2001 isei juga cermat kondisi ekonomi makro indonesia yang harus jadi prioritas perintah untuk segera selesai mereka juga desak perintah taruh perhati pada soal otonomi daerah dan investasi yang gerak negatif tna tim liput 6 sctv\"\n        ],\n        \"semantic_type\": \"\",\n        \"description\": \"\"\n      }\n    },\n    {\n      \"column\": \"abstractive_summary\",\n      \"properties\": {\n        \"dtype\": \"string\",\n        \"num_unique_values\": 10958,\n        \"samples\": [\n          \"gempa berkekuatan 5 skala richter kembali guncang jakarta gempa yang langsung sekitar tiga menit itu pusat di belah barat daya bengkulu\",\n          \"eliza maria tuahatu aku bahwa tiga paket bom yang bawa asal dari tommy soeharto libat gerak aceh merdeka pasti pada rangkai teror bom di medan\",\n          \"tambak dipasena lampung desak perintah tangkap sjamsul nursalim komisaris pt dipasena itu nilai kerap abai hak hak para tambak\"\n        ],\n        \"semantic_type\": \"\",\n        \"description\": \"\"\n      }\n    },\n    {\n      \"column\": \"extractive_summary\",\n      \"properties\": {\n        \"dtype\": \"string\",\n        \"num_unique_values\": 10958,\n        \"samples\": [\n          \"liputan6 com jakarta gempa kembali guncang jakarta sekitar pukul 02 36 wib rabu 14 2 dinihari gempa berkekuatan 5 skala richter itu langsung sekitar tiga menit dan kira pusat di barat daya provinsi bengkulu\",\n          \"turut kepala dinas terang polri brigadir jenderal saleh saaf di jakarta sabtu 20 1 eliza aku tiga paket bom yang bawa asal dari tommy soeharto masuk tiga lembar cek nilai rp 75 juta sementara itu polisi daerah sumatra utara nyata gerak aceh merdeka libat dalam kasus 14 bom malam natal di medan dan pematangsiantar tahun silam\",\n          \"pasal sjamsul nilai kerap abai hak hak tambak sementara itu manajemen pt gajah tunggal yang taung pt dipasena anggap minta tambak p3uw lebih\"\n        ],\n        \"semantic_type\": \"\",\n        \"description\": \"\"\n      }\n    }\n  ]\n}"
            }
          },
          "metadata": {},
          "execution_count": 37
        }
      ]
    },
    {
      "cell_type": "code",
      "source": [
        "test_df.head(1)"
      ],
      "metadata": {
        "colab": {
          "base_uri": "https://localhost:8080/",
          "height": 462
        },
        "id": "HS9fKvzVBzZR",
        "outputId": "a1da342a-67fa-4345-bfa5-50d44c1da863"
      },
      "execution_count": 38,
      "outputs": [
        {
          "output_type": "execute_result",
          "data": {
            "text/plain": [
              "      id  \\\n",
              "0  22405   \n",
              "\n",
              "                                                                     url  \\\n",
              "0  https://www.liputan6.com/news/read/22405/tommy-soeharto-resmi-dicekal   \n",
              "\n",
              "                                                                                                                                                                                                                                                                                                                                                                                                                                                                                                                                                                                                                                                                                                                                                                                                                                                                               text  \\\n",
              "0  liputan6 com jakarta jaksa agung resmi cekal hutomo mandala putera alias tommy soeharto untuk pergi ke luar negeri cekal tommy alias ibrahim kali ini kait dengan milik senjata api amunisi dan bahan ledak di apartemen cemara dan rumah di jalan alam segar iii no 23 pondok indah demikian sampai kepala pusat terang dan hukum jagung moeljohardjo di jakarta baru baru ini moeljohardjo jelas cekal kepada tommy lama tahun itu laku sejak 19 oktober 2001 cekal itu buat dasar minta kepala direktorat reserse polisi daerah metro jaya komisaris besar adang rochjana agustus silam sementara itu direktur jenderal imigrasi iman santoso tegas telah panjang cekal tommy sesuai dengan minta jagung cekal kali ini adalah yang dua bagi tommy telah cekal pertama dalam kasus tukar guling tanah badan urus logistik dan pt goro batara sakti akhir pin tim liput 6 sctv   \n",
              "\n",
              "                                                                                                                              abstractive_summary  \\\n",
              "0  tommy soeharto kembali cekal atas kasus milik senjata api amunisi dan bahan ledak cekal kepada tommy lama tahun itu laku sejak 19 oktober 2001   \n",
              "\n",
              "                                                                                                                                                                                                                  extractive_summary  \n",
              "0  cekal tommy alias ibrahim kali ini kait dengan milik senjata api amunisi dan bahan ledak di apartemen cemara dan rumah di jalan alam segar iii no moeljohardjo jelas cekal kepada tommy lama tahun itu laku sejak 19 oktober 2001  "
            ],
            "text/html": [
              "\n",
              "  <div id=\"df-5afcbfe3-59a9-4982-a621-605bb47dcc08\" class=\"colab-df-container\">\n",
              "    <div>\n",
              "<style scoped>\n",
              "    .dataframe tbody tr th:only-of-type {\n",
              "        vertical-align: middle;\n",
              "    }\n",
              "\n",
              "    .dataframe tbody tr th {\n",
              "        vertical-align: top;\n",
              "    }\n",
              "\n",
              "    .dataframe thead th {\n",
              "        text-align: right;\n",
              "    }\n",
              "</style>\n",
              "<table border=\"1\" class=\"dataframe\">\n",
              "  <thead>\n",
              "    <tr style=\"text-align: right;\">\n",
              "      <th></th>\n",
              "      <th>id</th>\n",
              "      <th>url</th>\n",
              "      <th>text</th>\n",
              "      <th>abstractive_summary</th>\n",
              "      <th>extractive_summary</th>\n",
              "    </tr>\n",
              "  </thead>\n",
              "  <tbody>\n",
              "    <tr>\n",
              "      <th>0</th>\n",
              "      <td>22405</td>\n",
              "      <td>https://www.liputan6.com/news/read/22405/tommy-soeharto-resmi-dicekal</td>\n",
              "      <td>liputan6 com jakarta jaksa agung resmi cekal hutomo mandala putera alias tommy soeharto untuk pergi ke luar negeri cekal tommy alias ibrahim kali ini kait dengan milik senjata api amunisi dan bahan ledak di apartemen cemara dan rumah di jalan alam segar iii no 23 pondok indah demikian sampai kepala pusat terang dan hukum jagung moeljohardjo di jakarta baru baru ini moeljohardjo jelas cekal kepada tommy lama tahun itu laku sejak 19 oktober 2001 cekal itu buat dasar minta kepala direktorat reserse polisi daerah metro jaya komisaris besar adang rochjana agustus silam sementara itu direktur jenderal imigrasi iman santoso tegas telah panjang cekal tommy sesuai dengan minta jagung cekal kali ini adalah yang dua bagi tommy telah cekal pertama dalam kasus tukar guling tanah badan urus logistik dan pt goro batara sakti akhir pin tim liput 6 sctv</td>\n",
              "      <td>tommy soeharto kembali cekal atas kasus milik senjata api amunisi dan bahan ledak cekal kepada tommy lama tahun itu laku sejak 19 oktober 2001</td>\n",
              "      <td>cekal tommy alias ibrahim kali ini kait dengan milik senjata api amunisi dan bahan ledak di apartemen cemara dan rumah di jalan alam segar iii no moeljohardjo jelas cekal kepada tommy lama tahun itu laku sejak 19 oktober 2001</td>\n",
              "    </tr>\n",
              "  </tbody>\n",
              "</table>\n",
              "</div>\n",
              "    <div class=\"colab-df-buttons\">\n",
              "\n",
              "  <div class=\"colab-df-container\">\n",
              "    <button class=\"colab-df-convert\" onclick=\"convertToInteractive('df-5afcbfe3-59a9-4982-a621-605bb47dcc08')\"\n",
              "            title=\"Convert this dataframe to an interactive table.\"\n",
              "            style=\"display:none;\">\n",
              "\n",
              "  <svg xmlns=\"http://www.w3.org/2000/svg\" height=\"24px\" viewBox=\"0 -960 960 960\">\n",
              "    <path d=\"M120-120v-720h720v720H120Zm60-500h600v-160H180v160Zm220 220h160v-160H400v160Zm0 220h160v-160H400v160ZM180-400h160v-160H180v160Zm440 0h160v-160H620v160ZM180-180h160v-160H180v160Zm440 0h160v-160H620v160Z\"/>\n",
              "  </svg>\n",
              "    </button>\n",
              "\n",
              "  <style>\n",
              "    .colab-df-container {\n",
              "      display:flex;\n",
              "      gap: 12px;\n",
              "    }\n",
              "\n",
              "    .colab-df-convert {\n",
              "      background-color: #E8F0FE;\n",
              "      border: none;\n",
              "      border-radius: 50%;\n",
              "      cursor: pointer;\n",
              "      display: none;\n",
              "      fill: #1967D2;\n",
              "      height: 32px;\n",
              "      padding: 0 0 0 0;\n",
              "      width: 32px;\n",
              "    }\n",
              "\n",
              "    .colab-df-convert:hover {\n",
              "      background-color: #E2EBFA;\n",
              "      box-shadow: 0px 1px 2px rgba(60, 64, 67, 0.3), 0px 1px 3px 1px rgba(60, 64, 67, 0.15);\n",
              "      fill: #174EA6;\n",
              "    }\n",
              "\n",
              "    .colab-df-buttons div {\n",
              "      margin-bottom: 4px;\n",
              "    }\n",
              "\n",
              "    [theme=dark] .colab-df-convert {\n",
              "      background-color: #3B4455;\n",
              "      fill: #D2E3FC;\n",
              "    }\n",
              "\n",
              "    [theme=dark] .colab-df-convert:hover {\n",
              "      background-color: #434B5C;\n",
              "      box-shadow: 0px 1px 3px 1px rgba(0, 0, 0, 0.15);\n",
              "      filter: drop-shadow(0px 1px 2px rgba(0, 0, 0, 0.3));\n",
              "      fill: #FFFFFF;\n",
              "    }\n",
              "  </style>\n",
              "\n",
              "    <script>\n",
              "      const buttonEl =\n",
              "        document.querySelector('#df-5afcbfe3-59a9-4982-a621-605bb47dcc08 button.colab-df-convert');\n",
              "      buttonEl.style.display =\n",
              "        google.colab.kernel.accessAllowed ? 'block' : 'none';\n",
              "\n",
              "      async function convertToInteractive(key) {\n",
              "        const element = document.querySelector('#df-5afcbfe3-59a9-4982-a621-605bb47dcc08');\n",
              "        const dataTable =\n",
              "          await google.colab.kernel.invokeFunction('convertToInteractive',\n",
              "                                                    [key], {});\n",
              "        if (!dataTable) return;\n",
              "\n",
              "        const docLinkHtml = 'Like what you see? Visit the ' +\n",
              "          '<a target=\"_blank\" href=https://colab.research.google.com/notebooks/data_table.ipynb>data table notebook</a>'\n",
              "          + ' to learn more about interactive tables.';\n",
              "        element.innerHTML = '';\n",
              "        dataTable['output_type'] = 'display_data';\n",
              "        await google.colab.output.renderOutput(dataTable, element);\n",
              "        const docLink = document.createElement('div');\n",
              "        docLink.innerHTML = docLinkHtml;\n",
              "        element.appendChild(docLink);\n",
              "      }\n",
              "    </script>\n",
              "  </div>\n",
              "\n",
              "\n",
              "    </div>\n",
              "  </div>\n"
            ],
            "application/vnd.google.colaboratory.intrinsic+json": {
              "type": "dataframe",
              "variable_name": "test_df",
              "summary": "{\n  \"name\": \"test_df\",\n  \"rows\": 10972,\n  \"fields\": [\n    {\n      \"column\": \"id\",\n      \"properties\": {\n        \"dtype\": \"number\",\n        \"std\": 3902,\n        \"min\": 13019,\n        \"max\": 26406,\n        \"num_unique_values\": 10972,\n        \"samples\": [\n          18639,\n          16337,\n          15692\n        ],\n        \"semantic_type\": \"\",\n        \"description\": \"\"\n      }\n    },\n    {\n      \"column\": \"url\",\n      \"properties\": {\n        \"dtype\": \"string\",\n        \"num_unique_values\": 10972,\n        \"samples\": [\n          \"https://www.liputan6.com/news/read/18639/penundaan-persetujuan-rekening-502-tak-mempengaruhi-imf\",\n          \"https://www.liputan6.com/news/read/16337/kodam-jaya-siap-membantu-polisi-mengamankan-jakarta\",\n          \"https://www.liputan6.com/news/read/15692/kasus-pengoplosan-oli-mesti-ditangani-serius\"\n        ],\n        \"semantic_type\": \"\",\n        \"description\": \"\"\n      }\n    },\n    {\n      \"column\": \"text\",\n      \"properties\": {\n        \"dtype\": \"string\",\n        \"num_unique_values\": 10970,\n        \"samples\": [\n          \"liputan6 com jakarta jual saham pt indomobil duga milik janggal yang amat kuat sebab kira grup salim bakal beli kembali saham usaha otomotif sebut lalu trimegah securities atas dasar ini ombudsman badan sehat bank nasional usul supaya kasus sebut teliti lebih jauh oleh auditor independen sebab teliti oleh auditor independen yang kredibel bagai dapat dua amat perlu demikian tegas ketua ombusman bppn i nyoman moena sabtu 22 12 di jakarta turut moena lalu hasil audit yang independen bppn dapat jernih masalah jual saham usaha mobil yang belum milik grup salim memang sampai saat ini bppn belum lihat indikasi simpang dalam transaksi jual saham pt indomobil saat ini bppn maupun trimegah securities nyata bahwa transaksi jual saham pt indomobil sudah rampung sejak jumat petang dari hasil jual itu bppn terima dana besar rp 625 miliar saham pt indomobil milik perintah yang serah capai besar 72 63 persen bmi arfan yap bano dan zakaria\",\n          \"liputan6 com jakarta akhir musyawarah daerah partai golong karya pilih ade supriyatna jadi ketua dewan pimpin daerah partai golkar dki jakarta untuk periode 2001 2004 jakarta jumat 22 6 dini hari pada saat yang sama data jumlah anggota yang duduk dalam urus alam tambah dua kali lipat jadi 91 orang angkat ade supriyatna itu laku susul undur diri ketua yang lama tadjus sobirin lantar tak mau calon kembali baca ketua golkar jakarta henti namun kabar tadjus mundur lantar desak dari cabang dan pusat yang nilai bekas orang nomor satu partai beringin di ibu kota itu gagal tanggap ganti ketua di partai golkar dki tadjus sendiri aku bahwa jumlah rekan rekan memang ada yang tak dapat terima gaya pimpin oleh karena itu ungkap tadjus ia sadar akan desak mundur sebut sementara pada urus yang baru jabat wakil ketua alam tambah dari sembilan jadi 12 orang untuk bendahara masih pegang jack napitupulu sedang untuk sekretaris percaya kepada enggar urus baru itu lantik dewan pimpin pusat partai golkar yang hadir agung laksono orang anggota urus pusat ors edi priyono dan dwi nindyas\",\n          \"liputan6 com jakarta sebelas dewan pimpin cabang dan dewan pimpin wilayah partai bangkit bangsa desak selenggara muktamar luar biasa hal itu maksud bagai upaya dalam selesai konflik internal di tubuh partai bahkan jika tuntut itu tak gubris dewan pimpin pusat maka mereka akan aku matori abdul djalil tetap bagai ketua umum pkb nyata sikap itu sampai wakil ketua dpw pkb jawa barat muhammad iskandar di jakarta ahad 12 8 muhammad iskandar nyata tuntut itu akan sampai dalam acara musyawarah kerja nasional yang akan langsung di jakarta senin besok turut dia lalu muktamar tikai antara elite partai bisa selesai dengan cara islah atau rujuk hasil muktamar itu nanti akan milik legalitas mukernas pkb yang akan gelar itu adalah yang pertama pascalengsernya presiden abdurrahman wahid yang juga jabat ketua dewan syuro pkb kabar agenda mukernas pkb adalah untuk tetap henti matori bagai ketua umum dan tunjuk alwi shihab bagai ganti baca muhaimin pkb ke parlemen bahas di mukernas den satya pandita\"\n        ],\n        \"semantic_type\": \"\",\n        \"description\": \"\"\n      }\n    },\n    {\n      \"column\": \"abstractive_summary\",\n      \"properties\": {\n        \"dtype\": \"string\",\n        \"num_unique_values\": 10967,\n        \"samples\": [\n          \"ada dua kerangka hukum untuk dekrit presiden wahid yakni uu pkb tahun 1999 dan putus presiden nomor 1 tahun 1950 seperti yang guna sukarno namun dua cara itu akhir akan undang militer\",\n          \"rumor ganti dan mutasi pimpin di lingkung tentara bantah panglima tni laksamana widodo a s presiden tak bisa wenang wenang ganti pucuk pimpin tni\",\n          \"puluh awak ppd temu direktur jenderal hubung darat dephub mereka tanya jauh mana proses restrukturisasi hadap usaha transportasi jalan\"\n        ],\n        \"semantic_type\": \"\",\n        \"description\": \"\"\n      }\n    },\n    {\n      \"column\": \"extractive_summary\",\n      \"properties\": {\n        \"dtype\": \"string\",\n        \"num_unique_values\": 10968,\n        \"samples\": [\n          \"padahal belum kasus yang libat sangka mantan direktur utama pt marga nurindo bakti mnb joko ramiaji itu sempat henti lewat surat perintah henti sidik sp3 pada september 1999 silam oleh jaksa agung sampai saat ini total rugi negara atas kasus korupsi itu masih hitung jagung\",\n          \"liputan6 com jakarta panglima tni laksamana widodo a s bantah rumor yang sebut ada ganti pucuk pimpin di lingkung tentara\",\n          \"liputan6 com jakarta perintah rencana tambah utang luar negeri besar rp 35 triliun untuk tahun anggar 2002 di sisi lain perintah juga akan upaya tunda bayar utang luar negeri besar rp 27 triliun\"\n        ],\n        \"semantic_type\": \"\",\n        \"description\": \"\"\n      }\n    }\n  ]\n}"
            }
          },
          "metadata": {},
          "execution_count": 38
        }
      ]
    },
    {
      "cell_type": "markdown",
      "source": [
        "# Clean Outlier"
      ],
      "metadata": {
        "id": "4WRUTsgI99On"
      }
    },
    {
      "cell_type": "markdown",
      "source": [
        "## dev_df"
      ],
      "metadata": {
        "id": "TDeQSw2GDThq"
      }
    },
    {
      "cell_type": "code",
      "source": [
        "import matplotlib.pyplot as plt\n",
        "import seaborn as sns\n",
        "\n",
        "# Calculate the IQR for each column\n",
        "Q1_text = dev_df['text'].apply(lambda x: len(str(x).split())).quantile(0.25)\n",
        "Q3_text = dev_df['text'].apply(lambda x: len(str(x).split())).quantile(0.75)\n",
        "IQR_text = Q3_text - Q1_text\n",
        "lower_bound_text = Q1_text - 1.5 * IQR_text\n",
        "upper_bound_text = Q3_text + 1.5 * IQR_text\n",
        "\n",
        "Q1_summary = dev_df['abstractive_summary'].apply(lambda x: len(str(x).split())).quantile(0.25)\n",
        "Q3_summary = dev_df['abstractive_summary'].apply(lambda x: len(str(x).split())).quantile(0.75)\n",
        "IQR_summary = Q3_summary - Q1_summary\n",
        "lower_bound_summary = Q1_summary - 1.5 * IQR_summary\n",
        "upper_bound_summary = Q3_summary + 1.5 * IQR_summary\n",
        "\n",
        "\n",
        "Q1_e_summary = dev_df['extractive_summary'].apply(lambda x: len(str(x).split())).quantile(0.25)\n",
        "Q3_e_summary = dev_df['extractive_summary'].apply(lambda x: len(str(x).split())).quantile(0.75)\n",
        "IQR_e_summary = Q3_e_summary - Q1_e_summary\n",
        "lower_bound_e_summary = Q1_e_summary - 1.5 * IQR_e_summary\n",
        "upper_bound_e_summary = Q3_e_summary + 1.5 * IQR_e_summary\n",
        "\n",
        "\n",
        "# Find rows with outliers in 'text_length', 'summary_length', and 'e_summary_length'\n",
        "outliers = dev_df[\n",
        "    ~(dev_df['text'].apply(lambda x: len(str(x).split())).between(lower_bound_text, upper_bound_text) &\n",
        "      dev_df['abstractive_summary'].apply(lambda x: len(str(x).split())).between(lower_bound_summary, upper_bound_summary) &\n",
        "      dev_df['extractive_summary'].apply(lambda x: len(str(x).split())).between(lower_bound_e_summary, upper_bound_e_summary))\n",
        "]\n",
        "\n",
        "print(\"Outliers in dev_df:\")\n",
        "print(outliers)"
      ],
      "metadata": {
        "colab": {
          "base_uri": "https://localhost:8080/"
        },
        "id": "0RV4IEhN9wca",
        "outputId": "19aaf3e5-b67a-4332-ddf0-dc687cb7f4cc"
      },
      "execution_count": 54,
      "outputs": [
        {
          "output_type": "stream",
          "name": "stdout",
          "text": [
            "Outliers in dev_df:\n",
            "Empty DataFrame\n",
            "Columns: [id, url, text, abstractive_summary, extractive_summary, text_length, abstractive_summary_length, extractive_summary_length]\n",
            "Index: []\n"
          ]
        }
      ]
    },
    {
      "cell_type": "code",
      "source": [
        "# Remove rows with outliers\n",
        "dev_df_1 = dev_df[\n",
        "    dev_df['text'].apply(lambda x: len(str(x).split())).between(lower_bound_text, upper_bound_text) &\n",
        "    dev_df['abstractive_summary'].apply(lambda x: len(str(x).split())).between(lower_bound_summary, upper_bound_summary) &\n",
        "    dev_df['extractive_summary'].apply(lambda x: len(str(x).split())).between(lower_bound_e_summary, upper_bound_e_summary)\n",
        "]\n",
        "\n",
        "print(\"Original DataFrame shape:\", dev_df.shape)\n",
        "print(\"DataFrame shape after removing outliers:\", dev_df_1.shape)\n",
        "\n",
        "# Update train_df with the DataFrame without outliers\n",
        "dev_df = dev_df_1\n"
      ],
      "metadata": {
        "colab": {
          "base_uri": "https://localhost:8080/"
        },
        "id": "lqvbuKDkCRSD",
        "outputId": "a3b7020c-cdaa-4c2b-e57b-cfaaf790f6b0"
      },
      "execution_count": 52,
      "outputs": [
        {
          "output_type": "stream",
          "name": "stdout",
          "text": [
            "Original DataFrame shape: (9558, 8)\n",
            "DataFrame shape after removing outliers: (9540, 8)\n"
          ]
        }
      ]
    },
    {
      "cell_type": "code",
      "source": [
        "plt.figure(figsize=(12, 6))\n",
        "dev_df['text_length'] = dev_df['text'].apply(lambda x: len(str(x).split()))\n",
        "dev_df['abstractive_summary_length'] = dev_df['abstractive_summary'].apply(lambda x: len(str(x).split()))\n",
        "dev_df['extractive_summary_length'] = dev_df['extractive_summary'].apply(lambda x: len(str(x).split()))\n",
        "sns.boxplot(data=dev_df[['text_length', 'abstractive_summary_length', 'extractive_summary_length']])\n",
        "plt.title('Box Plot of Word Length for Text, Abstractive Summary, and Extractive Summary')\n",
        "plt.ylabel('Word Count')\n",
        "plt.show()"
      ],
      "metadata": {
        "colab": {
          "base_uri": "https://localhost:8080/",
          "height": 773
        },
        "id": "64YZiwkzCjkK",
        "outputId": "fb404745-80fa-4947-8ff2-f4c929f46188"
      },
      "execution_count": 53,
      "outputs": [
        {
          "output_type": "stream",
          "name": "stderr",
          "text": [
            "/usr/local/lib/python3.10/dist-packages/seaborn/_base.py:949: FutureWarning: When grouping with a length-1 list-like, you will need to pass a length-1 tuple to get_group in a future version of pandas. Pass `(name,)` instead of `name` to silence this warning.\n",
            "  data_subset = grouped_data.get_group(pd_key)\n",
            "/usr/local/lib/python3.10/dist-packages/seaborn/categorical.py:640: FutureWarning: SeriesGroupBy.grouper is deprecated and will be removed in a future version of pandas.\n",
            "  positions = grouped.grouper.result_index.to_numpy(dtype=float)\n",
            "/usr/local/lib/python3.10/dist-packages/seaborn/_base.py:949: FutureWarning: When grouping with a length-1 list-like, you will need to pass a length-1 tuple to get_group in a future version of pandas. Pass `(name,)` instead of `name` to silence this warning.\n",
            "  data_subset = grouped_data.get_group(pd_key)\n",
            "/usr/local/lib/python3.10/dist-packages/seaborn/categorical.py:640: FutureWarning: SeriesGroupBy.grouper is deprecated and will be removed in a future version of pandas.\n",
            "  positions = grouped.grouper.result_index.to_numpy(dtype=float)\n",
            "/usr/local/lib/python3.10/dist-packages/seaborn/_base.py:949: FutureWarning: When grouping with a length-1 list-like, you will need to pass a length-1 tuple to get_group in a future version of pandas. Pass `(name,)` instead of `name` to silence this warning.\n",
            "  data_subset = grouped_data.get_group(pd_key)\n",
            "/usr/local/lib/python3.10/dist-packages/seaborn/categorical.py:640: FutureWarning: SeriesGroupBy.grouper is deprecated and will be removed in a future version of pandas.\n",
            "  positions = grouped.grouper.result_index.to_numpy(dtype=float)\n"
          ]
        },
        {
          "output_type": "display_data",
          "data": {
            "text/plain": [
              "<Figure size 1200x600 with 1 Axes>"
            ],
            "image/png": "[encoded data removed]"
          },
          "metadata": {}
        }
      ]
    },
    {
      "cell_type": "code",
      "source": [],
      "metadata": {
        "id": "cdAFKdDPC9XH"
      },
      "execution_count": null,
      "outputs": []
    },
    {
      "cell_type": "markdown",
      "source": [
        "## test_df"
      ],
      "metadata": {
        "id": "D9PZQ2dRDZnm"
      }
    },
    {
      "cell_type": "code",
      "source": [
        "import matplotlib.pyplot as plt\n",
        "import seaborn as sns\n",
        "\n",
        "# Calculate the IQR for each column\n",
        "Q1_text = test_df['text'].apply(lambda x: len(str(x).split())).quantile(0.25)\n",
        "Q3_text = test_df['text'].apply(lambda x: len(str(x).split())).quantile(0.75)\n",
        "IQR_text = Q3_text - Q1_text\n",
        "lower_bound_text = Q1_text - 1.5 * IQR_text\n",
        "upper_bound_text = Q3_text + 1.5 * IQR_text\n",
        "\n",
        "Q1_summary = test_df['abstractive_summary'].apply(lambda x: len(str(x).split())).quantile(0.25)\n",
        "Q3_summary = test_df['abstractive_summary'].apply(lambda x: len(str(x).split())).quantile(0.75)\n",
        "IQR_summary = Q3_summary - Q1_summary\n",
        "lower_bound_summary = Q1_summary - 1.5 * IQR_summary\n",
        "upper_bound_summary = Q3_summary + 1.5 * IQR_summary\n",
        "\n",
        "\n",
        "Q1_e_summary = test_df['extractive_summary'].apply(lambda x: len(str(x).split())).quantile(0.25)\n",
        "Q3_e_summary = test_df['extractive_summary'].apply(lambda x: len(str(x).split())).quantile(0.75)\n",
        "IQR_e_summary = Q3_e_summary - Q1_e_summary\n",
        "lower_bound_e_summary = Q1_e_summary - 1.5 * IQR_e_summary\n",
        "upper_bound_e_summary = Q3_e_summary + 1.5 * IQR_e_summary\n",
        "\n",
        "\n",
        "# Find rows with outliers in 'text_length', 'summary_length', and 'e_summary_length'\n",
        "outliers = test_df[\n",
        "    ~(test_df['text'].apply(lambda x: len(str(x).split())).between(lower_bound_text, upper_bound_text) &\n",
        "      test_df['abstractive_summary'].apply(lambda x: len(str(x).split())).between(lower_bound_summary, upper_bound_summary) &\n",
        "      test_df['extractive_summary'].apply(lambda x: len(str(x).split())).between(lower_bound_e_summary, upper_bound_e_summary))\n",
        "]\n",
        "\n",
        "print(\"Outliers in test_df:\")\n",
        "print(outliers)"
      ],
      "metadata": {
        "colab": {
          "base_uri": "https://localhost:8080/"
        },
        "outputId": "c2f429c0-1f33-4922-b86e-06531ea75dd5",
        "id": "_1lIoBa6DZnm"
      },
      "execution_count": 68,
      "outputs": [
        {
          "output_type": "stream",
          "name": "stdout",
          "text": [
            "Outliers in test_df:\n",
            "Empty DataFrame\n",
            "Columns: [id, url, text, abstractive_summary, extractive_summary, text_length, abstractive_summary_length, extractive_summary_length]\n",
            "Index: []\n"
          ]
        }
      ]
    },
    {
      "cell_type": "code",
      "source": [
        "# Remove rows with outliers\n",
        "test_df_1 = test_df[\n",
        "    test_df['text'].apply(lambda x: len(str(x).split())).between(lower_bound_text, upper_bound_text) &\n",
        "    test_df['abstractive_summary'].apply(lambda x: len(str(x).split())).between(lower_bound_summary, upper_bound_summary) &\n",
        "    test_df['extractive_summary'].apply(lambda x: len(str(x).split())).between(lower_bound_e_summary, upper_bound_e_summary)\n",
        "]\n",
        "\n",
        "print(\"Original DataFrame shape:\", test_df.shape)\n",
        "print(\"DataFrame shape after removing outliers:\", test_df_1.shape)\n",
        "\n",
        "# Update train_df with the DataFrame without outliers\n",
        "test_df = test_df_1\n"
      ],
      "metadata": {
        "colab": {
          "base_uri": "https://localhost:8080/"
        },
        "outputId": "d0f5d1ca-a193-44b4-ca58-c18ab59b00b1",
        "id": "NJezKHsgDZnn"
      },
      "execution_count": 65,
      "outputs": [
        {
          "output_type": "stream",
          "name": "stdout",
          "text": [
            "Original DataFrame shape: (9795, 8)\n",
            "DataFrame shape after removing outliers: (9775, 8)\n"
          ]
        }
      ]
    },
    {
      "cell_type": "code",
      "source": [
        "plt.figure(figsize=(12, 6))\n",
        "test_df['text_length'] = test_df['text'].apply(lambda x: len(str(x).split()))\n",
        "test_df['abstractive_summary_length'] = test_df['abstractive_summary'].apply(lambda x: len(str(x).split()))\n",
        "test_df['extractive_summary_length'] = test_df['extractive_summary'].apply(lambda x: len(str(x).split()))\n",
        "sns.boxplot(data=test_df[['text_length', 'abstractive_summary_length', 'extractive_summary_length']])\n",
        "plt.title('Box Plot of Word Length for Text, Abstractive Summary, and Extractive Summary')\n",
        "plt.ylabel('Word Count')\n",
        "plt.show()"
      ],
      "metadata": {
        "colab": {
          "base_uri": "https://localhost:8080/",
          "height": 773
        },
        "outputId": "6acaf149-aa55-483d-a061-5669c6fad584",
        "id": "UyXCzhUeDZnn"
      },
      "execution_count": 69,
      "outputs": [
        {
          "output_type": "stream",
          "name": "stderr",
          "text": [
            "/usr/local/lib/python3.10/dist-packages/seaborn/_base.py:949: FutureWarning: When grouping with a length-1 list-like, you will need to pass a length-1 tuple to get_group in a future version of pandas. Pass `(name,)` instead of `name` to silence this warning.\n",
            "  data_subset = grouped_data.get_group(pd_key)\n",
            "/usr/local/lib/python3.10/dist-packages/seaborn/categorical.py:640: FutureWarning: SeriesGroupBy.grouper is deprecated and will be removed in a future version of pandas.\n",
            "  positions = grouped.grouper.result_index.to_numpy(dtype=float)\n",
            "/usr/local/lib/python3.10/dist-packages/seaborn/_base.py:949: FutureWarning: When grouping with a length-1 list-like, you will need to pass a length-1 tuple to get_group in a future version of pandas. Pass `(name,)` instead of `name` to silence this warning.\n",
            "  data_subset = grouped_data.get_group(pd_key)\n",
            "/usr/local/lib/python3.10/dist-packages/seaborn/categorical.py:640: FutureWarning: SeriesGroupBy.grouper is deprecated and will be removed in a future version of pandas.\n",
            "  positions = grouped.grouper.result_index.to_numpy(dtype=float)\n",
            "/usr/local/lib/python3.10/dist-packages/seaborn/_base.py:949: FutureWarning: When grouping with a length-1 list-like, you will need to pass a length-1 tuple to get_group in a future version of pandas. Pass `(name,)` instead of `name` to silence this warning.\n",
            "  data_subset = grouped_data.get_group(pd_key)\n",
            "/usr/local/lib/python3.10/dist-packages/seaborn/categorical.py:640: FutureWarning: SeriesGroupBy.grouper is deprecated and will be removed in a future version of pandas.\n",
            "  positions = grouped.grouper.result_index.to_numpy(dtype=float)\n"
          ]
        },
        {
          "output_type": "display_data",
          "data": {
            "text/plain": [
              "<Figure size 1200x600 with 1 Axes>"
            ],
            "image/png": "[encoded data removed]"
          },
          "metadata": {}
        }
      ]
    },
    {
      "cell_type": "markdown",
      "source": [
        "## download data"
      ],
      "metadata": {
        "id": "ChCXUsUgEHi7"
      }
    },
    {
      "cell_type": "code",
      "source": [
        "test_df.iloc[1]"
      ],
      "metadata": {
        "colab": {
          "base_uri": "https://localhost:8080/",
          "height": 379
        },
        "id": "ZB7g1-uFEmop",
        "outputId": "6258ce2e-f36d-45b8-bf96-dfda9cd3905f"
      },
      "execution_count": 74,
      "outputs": [
        {
          "output_type": "execute_result",
          "data": {
            "text/plain": [
              "id                                                                                                                                                                                                                                                                                                                                                                                                                                                                                                                                                                                                                                                                                                                                                                                                                                                                                                                                                                                                                                                                                                                                         22708\n",
              "url                                                                                                                                                                                                                                                                                                                                                                                                                                                                                                                                                                                                                                                                                                                                                                                                                                                                                                                                                                                                                                                    https://www.liputan6.com/news/read/22708/kereta-api-jalur-selatan-mengalami-keterlambatan\n",
              "text                   liputan6 com yogyakarta datang kereta api dari jalur selatan senin 29 10 pasti lambat tiba di stasiun bandung jawa barat hal itu jadi susul amblas lintas kereta di kroya jawa tengah kamis silam baca lintas ka antara kroya dan bandung ambles rangkai kereta api yang pasti lambat adalah taksaka argowilis lodaya mutiara selatan turangga cisadane dan kahuripan demikian ungkap orang tugas pt kereta api indonesia daerah operasi vi di stasiun tugu yogyakarta tugas itu jelas kereta yang jalan di atas lintas kroya mesti ekstra hati hati karena tengah baik tugas apalagi hujan lebat yang terus guyur wilayah cilacap juga ikut parah kondisi lintas karena itu daops vi laku sistem susul guna antisipasi jadi tumpang tindih jadwal berangkat jelas kereta yang jadwal tepat waktu berangkat lebih dahulu banding kereta yang telanjur molor dasar pantau sctv terap sistem sebut akibat ribu tumpang tumpuk di stasiun tugu dan lempuyangan yogyakarta sementara jadwal ka jalur selatan pada akhir pekan ini bilang padat soal tepat dengan puncak arus balik ajar habis libur semester ken wiwik susilo\n",
              "abstractive_summary                                                                                                                                                                                                                                                                                                                                                                                                                                                                                                                                                                                                                                                                                                                                                                                                                                                                                                                                                                                             berangkat kereta api dari jalur selatan kembali alam lambat lintas di kroya jawa tengah masih baik tugas pt kereta api indonesia\n",
              "extractive_summary                                                                                                                                                                                                                                                                                                                                                                                                                                                                                                                                                                                                                                                                                                                                                                                                                                                                                                                       demikian ungkap orang tugas pt kereta api indonesia daerah operasi vi di stasiun tugu yogyakarta tugas itu jelas kereta yang jalan di atas lintas kroya mesti ekstra hati hati karena tengah baik tugas\n",
              "Name: 1, dtype: object"
            ],
            "text/html": [
              "<div>\n",
              "<style scoped>\n",
              "    .dataframe tbody tr th:only-of-type {\n",
              "        vertical-align: middle;\n",
              "    }\n",
              "\n",
              "    .dataframe tbody tr th {\n",
              "        vertical-align: top;\n",
              "    }\n",
              "\n",
              "    .dataframe thead th {\n",
              "        text-align: right;\n",
              "    }\n",
              "</style>\n",
              "<table border=\"1\" class=\"dataframe\">\n",
              "  <thead>\n",
              "    <tr style=\"text-align: right;\">\n",
              "      <th></th>\n",
              "      <th>1</th>\n",
              "    </tr>\n",
              "  </thead>\n",
              "  <tbody>\n",
              "    <tr>\n",
              "      <th>id</th>\n",
              "      <td>22708</td>\n",
              "    </tr>\n",
              "    <tr>\n",
              "      <th>url</th>\n",
              "      <td>https://www.liputan6.com/news/read/22708/kereta-api-jalur-selatan-mengalami-keterlambatan</td>\n",
              "    </tr>\n",
              "    <tr>\n",
              "      <th>text</th>\n",
              "      <td>liputan6 com yogyakarta datang kereta api dari jalur selatan senin 29 10 pasti lambat tiba di stasiun bandung jawa barat hal itu jadi susul amblas lintas kereta di kroya jawa tengah kamis silam baca lintas ka antara kroya dan bandung ambles rangkai kereta api yang pasti lambat adalah taksaka argowilis lodaya mutiara selatan turangga cisadane dan kahuripan demikian ungkap orang tugas pt kereta api indonesia daerah operasi vi di stasiun tugu yogyakarta tugas itu jelas kereta yang jalan di atas lintas kroya mesti ekstra hati hati karena tengah baik tugas apalagi hujan lebat yang terus guyur wilayah cilacap juga ikut parah kondisi lintas karena itu daops vi laku sistem susul guna antisipasi jadi tumpang tindih jadwal berangkat jelas kereta yang jadwal tepat waktu berangkat lebih dahulu banding kereta yang telanjur molor dasar pantau sctv terap sistem sebut akibat ribu tumpang tumpuk di stasiun tugu dan lempuyangan yogyakarta sementara jadwal ka jalur selatan pada akhir pekan ini bilang padat soal tepat dengan puncak arus balik ajar habis libur semester ken wiwik susilo</td>\n",
              "    </tr>\n",
              "    <tr>\n",
              "      <th>abstractive_summary</th>\n",
              "      <td>berangkat kereta api dari jalur selatan kembali alam lambat lintas di kroya jawa tengah masih baik tugas pt kereta api indonesia</td>\n",
              "    </tr>\n",
              "    <tr>\n",
              "      <th>extractive_summary</th>\n",
              "      <td>demikian ungkap orang tugas pt kereta api indonesia daerah operasi vi di stasiun tugu yogyakarta tugas itu jelas kereta yang jalan di atas lintas kroya mesti ekstra hati hati karena tengah baik tugas</td>\n",
              "    </tr>\n",
              "  </tbody>\n",
              "</table>\n",
              "</div><br><label><b>dtype:</b> object</label>"
            ]
          },
          "metadata": {},
          "execution_count": 74
        }
      ]
    },
    {
      "cell_type": "code",
      "source": [
        "# prompt: drop the column text_length, abstractive_summary_length\t, extractive_summary_length in dev_df and test_df\n",
        "\n",
        "dev_df = dev_df.drop(['text_length', 'abstractive_summary_length', 'extractive_summary_length'], axis=1)\n",
        "test_df = test_df.drop(['text_length', 'abstractive_summary_length', 'extractive_summary_length'], axis=1)\n"
      ],
      "metadata": {
        "id": "6KjbUF9CEj9I"
      },
      "execution_count": 72,
      "outputs": []
    },
    {
      "cell_type": "code",
      "source": [
        "# download the dev_df and rest_df into csv format into my local folder\n",
        "\n",
        "from google.colab import files\n",
        "\n",
        "dev_df.to_csv('dev_df.csv', encoding='utf-8', index=False)\n",
        "files.download('dev_df.csv')\n",
        "\n",
        "test_df.to_csv('test_df.csv', encoding='utf-8', index=False)\n",
        "files.download('test_df.csv')\n"
      ],
      "metadata": {
        "colab": {
          "base_uri": "https://localhost:8080/",
          "height": 17
        },
        "id": "lxTkzJNLDZnn",
        "outputId": "223cd1a9-8d86-4cc4-8aa8-8c4bc52f6dec"
      },
      "execution_count": 75,
      "outputs": [
        {
          "output_type": "display_data",
          "data": {
            "text/plain": [
              "<IPython.core.display.Javascript object>"
            ],
            "application/javascript": [
              "\n",
              "    async function download(id, filename, size) {\n",
              "      if (!google.colab.kernel.accessAllowed) {\n",
              "        return;\n",
              "      }\n",
              "      const div = document.createElement('div');\n",
              "      const label = document.createElement('label');\n",
              "      label.textContent = `Downloading \"${filename}\": `;\n",
              "      div.appendChild(label);\n",
              "      const progress = document.createElement('progress');\n",
              "      progress.max = size;\n",
              "      div.appendChild(progress);\n",
              "      document.body.appendChild(div);\n",
              "\n",
              "      const buffers = [];\n",
              "      let downloaded = 0;\n",
              "\n",
              "      const channel = await google.colab.kernel.comms.open(id);\n",
              "      // Send a message to notify the kernel that we're ready.\n",
              "      channel.send({})\n",
              "\n",
              "      for await (const message of channel.messages) {\n",
              "        // Send a message to notify the kernel that we're ready.\n",
              "        channel.send({})\n",
              "        if (message.buffers) {\n",
              "          for (const buffer of message.buffers) {\n",
              "            buffers.push(buffer);\n",
              "            downloaded += buffer.byteLength;\n",
              "            progress.value = downloaded;\n",
              "          }\n",
              "        }\n",
              "      }\n",
              "      const blob = new Blob(buffers, {type: 'application/binary'});\n",
              "      const a = document.createElement('a');\n",
              "      a.href = window.URL.createObjectURL(blob);\n",
              "      a.download = filename;\n",
              "      div.appendChild(a);\n",
              "      a.click();\n",
              "      div.remove();\n",
              "    }\n",
              "  "
            ]
          },
          "metadata": {}
        },
        {
          "output_type": "display_data",
          "data": {
            "text/plain": [
              "<IPython.core.display.Javascript object>"
            ],
            "application/javascript": [
              "download(\"download_cc094d18-b0ba-4d1e-9ae8-347a6fcbf518\", \"dev_df.csv\", 13992613)"
            ]
          },
          "metadata": {}
        },
        {
          "output_type": "display_data",
          "data": {
            "text/plain": [
              "<IPython.core.display.Javascript object>"
            ],
            "application/javascript": [
              "\n",
              "    async function download(id, filename, size) {\n",
              "      if (!google.colab.kernel.accessAllowed) {\n",
              "        return;\n",
              "      }\n",
              "      const div = document.createElement('div');\n",
              "      const label = document.createElement('label');\n",
              "      label.textContent = `Downloading \"${filename}\": `;\n",
              "      div.appendChild(label);\n",
              "      const progress = document.createElement('progress');\n",
              "      progress.max = size;\n",
              "      div.appendChild(progress);\n",
              "      document.body.appendChild(div);\n",
              "\n",
              "      const buffers = [];\n",
              "      let downloaded = 0;\n",
              "\n",
              "      const channel = await google.colab.kernel.comms.open(id);\n",
              "      // Send a message to notify the kernel that we're ready.\n",
              "      channel.send({})\n",
              "\n",
              "      for await (const message of channel.messages) {\n",
              "        // Send a message to notify the kernel that we're ready.\n",
              "        channel.send({})\n",
              "        if (message.buffers) {\n",
              "          for (const buffer of message.buffers) {\n",
              "            buffers.push(buffer);\n",
              "            downloaded += buffer.byteLength;\n",
              "            progress.value = downloaded;\n",
              "          }\n",
              "        }\n",
              "      }\n",
              "      const blob = new Blob(buffers, {type: 'application/binary'});\n",
              "      const a = document.createElement('a');\n",
              "      a.href = window.URL.createObjectURL(blob);\n",
              "      a.download = filename;\n",
              "      div.appendChild(a);\n",
              "      a.click();\n",
              "      div.remove();\n",
              "    }\n",
              "  "
            ]
          },
          "metadata": {}
        },
        {
          "output_type": "display_data",
          "data": {
            "text/plain": [
              "<IPython.core.display.Javascript object>"
            ],
            "application/javascript": [
              "download(\"download_8dd3cfa2-6ff3-4c7e-9a74-be7438d232f9\", \"test_df.csv\", 14073155)"
            ]
          },
          "metadata": {}
        }
      ]
    },
    {
      "cell_type": "code",
      "source": [],
      "metadata": {
        "id": "2u1bwO5KEQXu"
      },
      "execution_count": null,
      "outputs": []
    }
  ]
}