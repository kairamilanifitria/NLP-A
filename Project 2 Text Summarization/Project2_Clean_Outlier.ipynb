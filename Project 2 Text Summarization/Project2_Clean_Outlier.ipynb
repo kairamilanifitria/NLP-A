{
  "nbformat": 4,
  "nbformat_minor": 0,
  "metadata": {
    "colab": {
      "provenance": [],
      "mount_file_id": "1Swm213_kMkh4PCzSGvfvDXhaDnylIWrZ",
      "authorship_tag": "ABX9TyOAM+2GZtxntqcVxe4yzpvY",
      "include_colab_link": true
    },
    "kernelspec": {
      "name": "python3",
      "display_name": "Python 3"
    },
    "language_info": {
      "name": "python"
    }
  },
  "cells": [
    {
      "cell_type": "markdown",
      "metadata": {
        "id": "view-in-github",
        "colab_type": "text"
      },
      "source": [
        "<a href=\"https://colab.research.google.com/github/kairamilanifitria/NLP-Projects/blob/main/Project%202%20Text%20Summarization/Project2_Clean_Outlier.ipynb\" target=\"_parent\"><img src=\"https://colab.research.google.com/assets/colab-badge.svg\" alt=\"Open In Colab\"/></a>"
      ]
    },
    {
      "cell_type": "code",
      "execution_count": 2,
      "metadata": {
        "colab": {
          "base_uri": "https://localhost:8080/"
        },
        "id": "qNo_8bWnPBa6",
        "outputId": "89228092-dde5-438f-8b4c-981142b6b2db"
      },
      "outputs": [
        {
          "output_type": "stream",
          "name": "stdout",
          "text": [
            "(193883, 5)\n",
            "<class 'pandas.core.frame.DataFrame'>\n",
            "RangeIndex: 193883 entries, 0 to 193882\n",
            "Data columns (total 5 columns):\n",
            " #   Column     Non-Null Count   Dtype \n",
            "---  ------     --------------   ----- \n",
            " 0   id         193883 non-null  int64 \n",
            " 1   url        193883 non-null  object\n",
            " 2   text       193883 non-null  object\n",
            " 3   summary    193883 non-null  object\n",
            " 4   e_summary  193883 non-null  object\n",
            "dtypes: int64(1), object(4)\n",
            "memory usage: 7.4+ MB\n",
            "None\n",
            "id           0\n",
            "url          0\n",
            "text         0\n",
            "summary      0\n",
            "e_summary    0\n",
            "dtype: int64\n"
          ]
        }
      ],
      "source": [
        "import pandas as pd\n",
        "\n",
        "# Load the dataset\n",
        "train_df = pd.read_csv('/content/drive/MyDrive/Bootcamp AI/Dataset/Task2 : Text Summarization/reformed_dataset/train_reformed.csv')\n",
        "test_df = pd.read_csv('/content/drive/MyDrive/Bootcamp AI/Dataset/Task2 : Text Summarization/reformed_dataset/test_reformed.csv')\n",
        "dev_df = pd.read_csv('/content/drive/MyDrive/Bootcamp AI/Dataset/Task2 : Text Summarization/reformed_dataset/dev_reformed.csv')\n",
        "\n",
        "# Basic overview\n",
        "print(train_df.shape)\n",
        "print(train_df.info())\n",
        "print(train_df.isnull().sum())"
      ]
    },
    {
      "cell_type": "code",
      "source": [
        "# prompt: show the most longer text in train_df, show the count of words\n",
        "\n",
        "longest_text = train_df.loc[train_df['article_word_length'].idxmax()]\n",
        "print(\"The longest text in train_df:\\n\")\n",
        "print(longest_text['text'])\n",
        "print(\"\\nWord count:\", longest_text['article_word_length'])\n"
      ],
      "metadata": {
        "colab": {
          "base_uri": "https://localhost:8080/"
        },
        "id": "nB7ok878RBAX",
        "outputId": "0af035fa-7080-482a-c940-bf0cadcbe5d2"
      },
      "execution_count": 16,
      "outputs": [
        {
          "output_type": "stream",
          "name": "stdout",
          "text": [
            "The longest text in train_df:\n",
            "\n",
            "  liputan6       com       jakarta       tim    8   yang   bentuk   presiden   rekomendasi   agar   proses   hukum   hadap   pimpin   non   aktif   kpk       bibit   samad   riyanto   dan   chandra   hamzah   henti   karena   tidak   cukup   bukti         ikut   ini   adalah   isi   lapor   dan   rekomendasi   tim    8       bab    i   -   iii       yang   serah   kepada   presiden   selasa       17 11           bab   ipendahuluan    a         latar   belakang    1         proses   hukum   hadap   chandra   m         hamzah       lanjut   sebut       chandra           dan   bibit   samad   rianto       lanjut   sebut       bibit           jadi   isu   strategis   di   masyarakat   karena   timbul   curiga   ada   rekayasa   hadap   proses   hukum   sebut          2         curiga   masyarakat   timbul   karena   jumlah   alas       di   antara        a         edar   transkrip   rekam   bicara   antasari   azhar   dengan   anggoro   widjojo   di   singapura   di   bagai   media   massa        b         edar   rumor   sadap   hadap   susno   duadji   kait   cair   dana   dari   bank   century       yang   kemudian   muncul   istilah       cicak   vs         buaya       oleh   susno   duadji   dalam   wawancara   dengan   majalah   tempo        c         tetap   chandra   dan   bibit   bagai   sangka   oleh   polisi   pada   tanggal   15   september   2009   dengan   sangka   peras   dan   penyalahgunaan   wenang   jabat       d         edar   transkrip   rekam   sadap   telpon   anggodo   yang   menyebut-nyebut   ri    1        e         laku   tahan   chandra   dan   bibit   pada   tanggal   29   oktober   2009   oleh   polisi   meski   dasar   hukum   anggap   masih   lemah   yang   akibat   beberapa   tokoh   nasional       praktisi   serta   akademisi   jamin   diri       agar   polisi   tangguh   tahan   chandra   dan   bibit          3         untuk   tepis   curiga   masyarakat   yang   imbas   pada   suasana   tidak   kondusif   pada   stabilitas   sosial   dan   politik       presiden   undang   jumlah   tokoh   yaitu   anies   baswedan       rektor   universitas   paramadina           komaruddin   hidayat       rektor   uin   syarif   hidayatullah           teten   masduki       sekjen   transparansi   internasional   indonesia           dan   hikmahanto   juwana       guru   besar   ilmu   hukum   ui       untuk   bicara   kondisi   yang   jadi   dan   usul   bagi   selesai   masalah          4         pada   temu   sebut   usul   agar   presiden   bentuk   tim   cari   fakta   yang   independen   untuk   tepis   curiga   dan   ketidak-percayaan       mistrust   and   distrust       masyarakat   atas   proses   hukum   hadap   chandra   dan   bibit          5         usul   ini   sampai   ingat   proses   hukum   atas   chandra   dan   bibit   tidak   dar   masalah   formal   legal   lain   sudah   dampak   pada   masalah   sosial       politik   dan   ekonomi          6         suasana   ketika   itu   tanda   dengan   puncak   tegang   antara   masyarakat   yang   dukung   chandra   dan   bibit   di   satu   pihak   dengan   polisi   di   lain   pihak   yang   keras   untuk   laku   proses   hukum         dukung   masyarakat   hadap   chandra   dan   bibit   bentuk   jamin   untuk   tangguh   hingga   dukung   dalam   dunia   maya   rupa   akun   facebook          7         pada   tanggal    2   november   2009       presiden   terbit   putus   presiden   no         31   tahun   2009   tentang   bentuk   tim   independen   verifikasi   fakta   dan   proses   hukum   atas   kasus   sdr         chandra   m         hamzah   dan   sdr         bibit   samad   rianto       lanjut   sebut       tim    8                  b         ruang   lingkup    1         tim    8   dasar   putus   presiden   no         31   tahun   2009       tim    8   tugas   untuk   laku   verifikasi   fakta   dan   proses   hukum   atas   kasus   chandra   m         hamzah   dan   bibit   samad   rianto          2         jangka   waktu   yang   beri   untuk   kumpul   fakta   dan   laku   verifikasi   adalah   14   hari   kerja          3         tim    8   beri   wenang   untuk   koordinasi   dengan   bagai   instansi   perintah   dan   panggil   pihak   yang   anggap   kait   dengan   tangan   kasus   ini       bab   ii   giat   tim    8   dalam   laksana   tugas   yang   beban   pada   tim    8       tim    8   telah   laku   bagai   giat   yang   tuju   untuk   kumpul   fakta   kait   proses   hukum   atas   chandra   dan   bibit       serta   laku   proses   verifikasi   lalu   gelar   perkara   oleh   para   sidik   polisi   yang   hadir   oleh   teliti   perkara   dari   jaksa   agung         dalam   bab   ini   akan   urai   jumlah   giat   yang   laku   oleh   tim    8        a         dengar   rekam   sadap   kpk   di   mahkamah   konstitusi    1         hari   telah   bentuk       tim    8   laku   rapat   konsolidasi   lanjut   dengan   turut   dengar   putar   rekam   sadap   komisi   berantas   korupsi       kpk       hadap   telepon   anggodo   widjojo   dalam   sidang   mahkamah   konstitusi       mk              2         adapun   rekam   sadap   yang   dengar   adalah   bagai   ikut        a         kasus   masaro   oleh   anggodo        b         perinci   uang   dari   anggodo   kepada   ari   muladi        c         rekam   minta   bantu   ke   jaksa       d         catut   nama   ri    1        e         minta   bantu   lembaga   lindung   saksi   dan   korban       lpsk            f         susun   strategi   dari   suap   jadi   peras        g         lapor   menang   komitmen   tinggi   dan   ancam   hadap   chandra        h         hitung   fee   pihak   kait        i         untuk   pengaruh   am       ari   muladi       kembali   ke   bap   awal        b         sampai   rekomendasi   interim   guna   tenang   masyarakat1         pasca   dengar   rekam   sadap   kpk   di   mahkamah   konstitusi       masyarakat   reaksi   sangat   luar   biasa         untuk   tenang   reaksi   masyarakat   agar   hindar   hal   yang   tidak   ingin   maka   tiim    8   keluar   rekomendasi   interim   pada   tanggal    3   november   2009   kepada   presiden   dan   laku   koordinasi   langkah   yang   perlu   ambil   oleh   kepala   polisi   republik   indonesia       lanjut   sebut       kapolri                  2         adapun   rekomendasi   kepada   presiden   adalah   bagai   ikut        a         perlu   ambil   langkah   yang   cepat   dan   antisipatif   dengan   membebastugaskan       nonaktif       jabat   tinggi   polisi   dan   jaksa   yaitu       susno   duadji       kabareskrim       dan   abdul   hakim   ritonga       wakil   jaksa   agung       yang   sebut   dalam   rekam   sadap         pembebastugasan   sebut   perlu   agar   dapat   laku   periksa   yang   lebih   efektif       obyektif   dan   hindar   dari   bentur   penting        b         tindak   yang   cepat   sebut   perlu   laku   untuk   beri   pesan   yang   jelas   kepada   masyarakat   bahwa   perintah   milik   komitmen   kuat   untuk   tega   hukum   cara   obyektif       jujur   dan   adil       dan    c         soal   yang   muka   tidak   semata-mata   lihat   bagai   soal   individu       oknum           akan   tetapi   bagai   buah   soal   institusional   dan   sistemik   mana   presiden   perlu   siap   langkah   strategis   untuk   laku   reformasi   seluruh   hadap   semua   aparatur   tegak   hukum          3         sementara       koordinasi   yang   laku   kepada   kapolri   dalam   bentuk   sampai   rekomendasi   bagai   ikut        a         kabul   minta   tangguh   tahan   kepada   chandra   dan   bibit   agar   tahan   tidak   persepsi   oleh   masyarakat   bagai   simbol   wenang   polri   dan   upaya   polri   lawan   kpk        b         laku   tangkap   hadap   anggodo   widjojo   yang   jadi   simbol   resah   masyarakat   pasca   dengar   rekam   sadap   cara   nasional   oleh   jumlah   media       dan    c         nonaktif   susno   duadji   yang   sebut   dalam   rekam   dan   jadi   simbol   dari   polisi        c         dengar   dan   dalam   keterangan1         dalam   laku   kumpul   fakta       tim    8   pulai   dengan   dengar   dan   dalam   terang   dari   bagai   pihak       yaitu        a         civil   society   temu   laku   pada   hari   rabu        4   november   2009   yang   hadir   oleh   wakil   15   lembaga   swadaya   masyarakat       lsm           yakni   krhn       lbh   jakarta       transparency   international   indonesia       indonesia   police   watch       imparsial       elsam       icjr       pusat   studi   hukum   dan   bijak       pshk           masyarakat   transparansi   indonesia       mti           leip       dompet   dhuafa   republika       pro   patria   institute       p2d       pb   hmi       lipi         tuju   dari   temu   ini   adalah   tahu   apa   yang   jadi   concern   masyarakat   hadap   proses   hukum   chandra   dan   bibit         dalam   temu   juga   dengar   aspirasi   lsm         aspirasi   ini   antara   lain   adalah   selesai   kasus   pt         masaro   dan   kasus   bank   century       perlu   transparansi   dan   akuntabilitas   tim   dalam   sampai   substansi   rekomendasi   yang   sampai   kepada   presiden   kepada   publik       perlu   presiden   laku   bureaucratic   reform   yang   seluruh   hadap   semua   institusi   tegak   hukum       dan   minta   supaya   tim   buat   rekomendasi   kepada   presiden   untuk   henti   kapolri   dan   jaksa   agung          b         pimpin   redaksi   media   massa   temu   dengan   pimpin   redaksi   media   massa   adakan   di   hotel   nikko   pada   hari   rabu        4   november   2009         temu   laku   dengan   tuju   untuk   dapat   masuk   dari   media   kait   dengan   masalah   ini         samping   itu       tim    8   manfaat   temu   ini   untuk   jelas   alas   bentuk   tim    8   dan   apa   yang   jadi   tugas         ini   penting   agar   pers   tahu   persis   ada   dari   tim    8   agar   tidak   jadi   distorsi   berita          c         kapolri   dan   jajar   temu   dengan   kapolri   dan   jajar   laku   pada   hari   kamis        5   november   2009         dalam   temu       kapolri   mengikutsertakan   tim   sidik   kasus   chandra   dan   bibit         temu   ini   tidak   hadir   oleh   susno   duadji         dalam   terang   kapolri   sampai   kronologis   selidik   dan   sidik   yang   laku   oleh   polri   hadap   chandra   dan   bibit         kapolri   juga   sampai   pasal   yang   jadi   dasar   sangka   atas   chandra   dan   bibit         kapolri   juga   beber   beberapa   alat   bukti   yang   guna   oleh   sidik         pada   sempat   sebut   sepakat   sidik   polri   akan   laku   gelar   perkara   hadap   tim    8   dengan   hadir   pihak   jaksa         telah   kapolri   beri   terang   dan   tinggal   tempat       kapolri   silah   tim    8   untuk   dapat   terang   dalam   dari   sidik   kasus   chandra   dan   bibit         tim    8   laku   gali   untuk   dapat   jumlah   fakta   dari   sidik   polri         d         anggodo   widjojo   temu   dengan   anggodo   widjojo   adakan   pada   hari   kamis        5   november   2009         anggodo   rupa   adik   dari   anggoro   widjojo   dan   jadi   tokoh   yang   sadap   oleh   kpk         hadir   anggodo   damping   oleh   beberapa   advokat       antara   lain       indra   sahnun   lubis       ketua   tim       dan   bonar   situmeang         anggodo   beri   terang   kena       tangan   kasus   pt         masaro   radiokom   oleh   komisi   berantas   korupsi       kpk           serah   uang   serta   jumahnya   kepada   ari   muladi   yang   tuju   kepada   kepada   jumlah   pimpin   kpk   dan   deputi   serta   direktur       buat   kronologis   sama   ari   muladi       larang   cegah   oleh   kpk   hadap   anggoro       bicara   antara   anggodo   dengan   beberapa   orang   yang   sadap   oleh   kpk       serta   klarifikasi   ancam   bunuh   hadap   chandra          e         chandra   dan   bibit   temu   laku   pada   hari   kamis        5   november   2009   dengan   tuju   oleh   fakta   lalu   terang   yang   sampai         hadir   chandra   dan   bibit   damping   oleh   advokat   para   advokat       antara   lain       luhut   pangaribuan       alexander   lay   dan   taufik   basari         chandra   dan   bibit   beri   terang   yang   tuju   untuk   tangkis   duga   terima   uang   dari   anggoro   maupun   anggodo         dalam   terang   sampai   jumlah   fakta       antara   lain       ketidakbenaran   hubung   emosional   antara   chandra   dengan   m       s         ka   ban   bagaimana   tenggara   oleh   polri       kronologis   tangan   kasus   pt         masaro   radiokom       jelas   atas   tidak   segera   limpah   kasus   pt   masaro   ke   adil         dalam   temu   tim   bela   juga   sampai   perihal   konstruksi   hukum   yang   janggal   kait   dengan   sidik   yang   laku   oleh   polri          f         komisi   berantas   korupsi   temu   adakan   pada   hari   kamis        5   november   2009         dalam   temu       semua   pimpin   kpk   hadir   damping   deputi   tindak   ade   rahardja         kpk   sampai   jumlah   terang   antara   wenang   tetap   cegah   orang   pergi   ke   luar   negeri       tangan   kasus   pt         masaro   radiokom   dan   kasus   alih   fungsi   hutan   lindung   dengan   dakwa   yusuf    e         faisal       duga   libat   ade   rahardja   dalam   transaksi   beri   uang   kepada   jumlah   pimpin   kpk       surat   cabut   cegah   palsu       mekanisme   tentang   laksana   musyawarah   antar   pimpin   bagai   wujud   dari   putus   pimpin   kpk   yang   sifat   kolegial       dan   perihal   sadap   atas   lucas   yang   libat   susno   duadji          g         jaksa   agung   dan   jajar   temu   dengan   jaksa   agung   serta   jajar   laku   pada   hari   jumat        6   november   2009         jaksa   agung   damping   oleh   jaksa   agung   muda   tindak   pidana   khusus       jampidsus           jabat   teras   jaksa   agung       serta   jumlah   jaksa   teliti   yang   akan   tangan   kasus   chandra   dan   bibit         jaksa   agung   lebih   dahulu   sampai   terang   kait   undur   diri   wakil   jaksa   agung   abdul   hakim   ritonga   serta   alas         telah   itu   jaksa   agung   sampai   bagai   hal   putar   rekam   bicara   yang   sadap   oleh   kpk   mana   sebut   nama   ah   ritonga       ketika   itu   jabat   bagai   jaksa   agung   muda   tindak   pidana   umum       wisnu   subroto   yang   mantan   jaksa   agung   muda   intelijen         jaksa   agung   juga   beri   tegas   tentang   independensi   jaksa   dalam   tangan   kasus   chandra   dan   bibit         jaksa   tidak   bisa   buka   cara   rinci   kait   dengan   tuntut   yang   akan   laku   oleh   chandra   dan   bibit   karena   ikat   dengan   sumpah   jabat         jaksa   agung   juga   sudah   sampai   pihak   jaksa   yang   beri   tunjuk   kepada   sidik   polri   guna   lengkap   berkas   perkara       antara       dengan   masuk   delik   peras         jaksa   agung   juga   sampai   terang   cara   kilas   tentang   posisi   kasus   dan   proses   tangan   oleh   jaksa   agung         namun   jelas   cara   perinci   sampai   oleh   jampidsus   dan   jaksa   teliti   yang   masing-masing   diri   dari    4   orang   untuk   satu   berkas   perkara          h         susno   duadji       kabareskrim   polri non   aktif       temu   dengan   susno   duadji   laku   pada   hari   jumat        6   november   2009         susno   duadji   temu   tim    8   dengan   damping   oleh   m         panggabean       wakadiv   hukum   mabes   polri         susno   duadji   beri   terang   perihal   alas   undur   diri   dari   jabat   kabareskrim       tegas   bahwa   diri   tidak   terima   uang   dari   siapa   dalam   kasus   bank   century       perihal   surat   terang   dari   kabareskrim   tentang   status   dana   milik   budi   sampurno   guna   penting   cair   dana       muncul   diri   dalam   rekam   sadap   bicara   yang   laku   kpk       tuju   kunjung   ke   singapura   untuk   temu   anggoro   widjojo       tindak   susno   duadji   yang   sadap   untuk   kesan   seolah-olah   akan   terima   buah   tas       meski   benar   kosong   bagai   bentuk   kontra   intelijen       istilah   cicak   versus   buaya   yang   muncul       dan   peran   dalam   proses   hukum   atas   chandra   dan   bibit          i         pusat   lapor   dan   analisis   transaksi   uang       ppatk       temu   dengan   ppatk   adakan   pada   hari   jumat        6   november   2009   yang   hadir   oleh   kepala   ppatk       yunus   hussein         dalam   terang   sampai   hal   yang   kait   dengan   informasi   rekening   chandra   dan   bibit         ppatk   sampai   bahwa   tidak   dapat   alir   dana   yang   masuk   kait   kasus   pt         masaro   kepada   chandra   atau   bibit         selain   itu       ppatk   juga   beri   informasi   cara   lisan   tentang   arus   keluar   masuk   dana   ke   rekening   ari   muladi       anggodo         demi   aman   semua   pihak       ppatk   minta   mohon   informasi   rekening   laku   cara   tulis   oleh   tim    8   dan   ppatk   akan   beri   jawab   cara   tulis   juga         selain   itu       ppatk   juga   beri   jelas   putar   modus   cuci   uang          j         ari   muladi   temu   dengan   tokoh   sentral   serah   uang   dari   anggodo   ke   jumlah   pimpin   kpk       ari   muladi   laku   pada   hari   sabtu        7   november   2009         hadir   ari   muladi   damping   oleh   beberapa   advokat       antara       sugeng   teguh   santoso         peran   ari   muladi   dalam   kasus   ini   adalah   bagai   orang   percaya   anggodo   yang   beri   tugas   untuk   serah   uang   kepada   pimpin   kpk         cara   perinci   ari   muladi   beri   terang       antara   lain       putar   kenal   dengan   anggodo       kronologis   serah   uang   dari   anggodo   kepada   ari       cabut   terang   ari   muladi   atas   berita   acara   periksa   yang   pertama   di   mabes   polri       temu   dengan   kabareskrim   susno   duadji   di   mabes   polri       putar   periksa   diri   yang   laku   cara   marathon       dan   tegas   bahwa   ari   tidak   pernah   serah   sendiri   uang   dari   anggodo   kepada   pimpin   kpk       lain   lalu   orang   yang   nama   yulianto          k         eddy   sumarsono   temu   dengan   eddy   sumarsono   adakan   pada   hari   sabtu        7   november   2009         temu   tidak   laku   atas   dasar   undang   tim    8       lain   eddy   sumarsono   yang   minta   waktu   kepada   tim    8         peran   eddy   sumarsono   dalam   kait   dengan   perkara   chandra   dan   bibit   adalah   bagai   pihak   yang   beri   informasi   kepada   antasri   azhar   bagai   ketua   kpk   saat   itu   kait   dengan   ada   pimpin   kpk   yang   terima   uang   dari   anggoro         atas   dasar   informasi   ini   antasari   azhar   fasilitas   untuk   temu   dengan   anggoro   di   singapura   dan   ari   muladi   di   malang         eddy   sumarsono   juga   beri   terang   putar   kenal   dengan   antasari   azhar       lalu   orang   jaksa   yang   nama   irwan   nasution         tim    8   tanya   motivasi   datang   eddy   dalam   kasus   ini         dalam   temu   ungkap   bahwa   benar   eddy   beri   terang   tentang   informasi   yang   tidak   alami       dengar   atau   lihat   sendiri         tetapi   dengar   cerita   dari   orang   lain       testimonium   de   auditu              l         antasari   azhar   temu   dengan   antasari   azhar   adakan   banyak    2   kali   yaitu   pada   hari   sabtu   dan   minggu        7-8   november   2009         antasari   azhar   damping   jumlah   advokat       antara   lain       juniver   girsang       hotma   sitompul   dan   lain         antasari   azhar   beri   terang   perihal   buat   testimoni   yang   jadi   dasar   bagi   polisi   untuk   laku   selidik   dan   sidik   atas   chandra   dan   bibit       hubung   antara   kasus   tuduh   bunuh   atas   antasari   azhar   dengan   kasus   chandra   dan   bibit       temu   dengan   anggoro   di   singapura       proses   selidik   dan   sidik   atas   kasus   pt         masaro       kasus   korupsi   alih   fungsi   hutan   lindung   di   sumatera   selatan   dengan   dakwa   yusuf    e         faisal       dan   duga   pimpin   kpk   terima   uang   dari   anggodo   ikut   tindak   yang   ambil   oleh   antasari   azhar         m         tim   majalah   tempo   temu   dengan   tim   majalah   tempo   laku   pada   hari   senin        9   november   2009       tempat   di   hotel   nikko         tim   tempo   wakil   oleh   pimpin   redaksi   majalah   tempo       toriq   haddad   yang   damping   oleh   beberapa   redaktur wartawan         tempo   beri   terang   perihal   hasil   investigasi   wartawannya   kait   proses   cair   dana   budi   sampoerna   di   bank   century       peran   robert   tantular   dalam   kasus   bank   century       peran   lucas   bagai   acara   budi   sampoerna   dalam   cair   dana   di   bank   century       komunikasi   yang   jadi   antara   lucas   dengan   kabareskrim       susno   duadji       serta   temu   lain   putar   tangan   kasus   bank   century   yang   kait   dana   budi   sampoerna   yang   upaya   cair   oleh   lucas   dengan   bantu   susno   duadji         n         ade   rahardja       deputi   bidang   tindak   kpk       temu   dengan   ade   rahardja   adakan   pada   hari   rabu       11   november   2009         ade   rahardja   rupa   pihak   yang   penting   dalam   sampai   uang   dari   ari   muladi   ke   jumlah   pimpin   kpk   bagaimana   tuang   dalam   bap   polisi   pertama   atas   ari   muladi         dalam   terang   ade   rahardja   sampai   fakta   bahwa   diri   tidak   kenal   anggoro       ari   muladi   atau   yulianto         tim    8   juga   tanya   kait   kasus   skrt   dengan   kasus   alih   fungsi   hutan   lindung   tanjung   api          o         bambang   widaryatmo       mantan   direktur   tindak   kpk       temu   dengan   bambang   widaryatmo   adakan   pada   hari   rabu       11   november   2009         hadir   bambang   damping   oleh   kombes   pol   dr         iza   fadri       s       ik           s        h           m        h         dari   divisi   hukum   mabes   polri         dalam   terang   bambang   bantah   bahwa   diri   kenal   dan   hubung   atau   terima   uang   dari   ari   muladi       anggoro       anggodo       maupun   yulianto         selain   itu       bambang   juga   ungkap   jumlah   lemah   sistem   dalam   kpk   antara   rupa   simpang   administrasi   dan   konflik   antar   pimpin   yang   dapat   dalam   institusi   kpk       khusus   dalam   proses   sidik   kasus   korupsi         alam   sebut   alami   bambang   lama   jabat   bagai   direktur   sidik   kpk         bambang   juga   cerita   latar   belakang   penting   pribadi   pimpin   balik   pindah   tempat   tugas   dari   kpk   ke   mabes   polri          p         abdul   hakim   ritonga       mantan   wakil   jaksa   agung       temu   dengan   abdul   hakim   ritonga   adakan   pada   hari   rabu       11   november   2009         hadir   ritonga   serta   dengan   jumlah   pihak   dari   jaksa   dan   acara         ritonga   beri   terang   antara   lain   tentang   hubung   kenal   dengan   yuliana   ong       putar   sakit   yang   alami   sehingga   kenal   pada   yuliana   bagai   tukang   pijat         tim    8   tanya   kepada   ritonga   tentang   rekam   bicara   kpk   kait   dengan   nyata   yuliana   bahwa   diri   dukung   oleh   ri    1       posisi   jampidum   dalam   kasus   chandra   dan   bibit       maksud   kata   duren       dan   pijat   yang   laku   oleh   yuliana   kepada   ritonga          q         wisnu   subroto       mantan   jamintel   jaksa   agung       temu   dengan   wisnu   subroto   adakan   pada   hari   rabu       11   november   2009         wisnu   beri   terang   antara   lain   tentang   kenal   dengan   anggodo   serta   punya   hubung   usaha   dalam   jual   beli   cincin   dan   paket   kayu   jati       tegas   bahwa   diri   tidak   kenal   anggoro       yuliana   dan   ari   muladi       dan   klarifikasi   tentang   bicara   diri   yang   sadap   oleh   kpk          r         kombes   pol   m         iriawan       wakil   direktur    i   bareskrim   polri       temu   dengan   kombes   pol   m         iriawan   adakan   pada   hari   kamis       12   november   2009         temu   laku   atas   minta   dari   polri   yang   sampai   cara   resmi   oleh   iza   fadri   hari   belum   pada   temu   dengan   bambang   widaryatmo         kombes   iriawan   di   damping   oleh   beberapa   sidik   dari   bareskrim   yang   tangan   kasus   antasari   azhar         dalam   terang   sampai       antara   lain       tentang   tangan   kasus   bunuh   atas   nasrudin   dengan   sangka   antasari       geledah   ruang   dan   sita   laptop   antasari       perihal   waktu   buat   dan   serah   testimoni   antasari       perihal   buat   lapor   polisi   kait   duga   penyalahgunaan   wenang   dan   suap   yang   laku   oleh   pimpin   kpk       dan   perihal   cabut   bap   williardi   wizard         s         edy   widjaya       milik   show   room   duta   motor       temu   dengan   edy   widjaya   adakan   pada   hari   minggu       15   november   2009         temu   laku   atas   minta   yang   sangkut   kait   duga   beri   mobil   mercy   kepada   wisnu   subroto   oleh   anggodo   -   bagaimana   rekam   dalam   bicara   telepon   yang   sadap   oleh   kpk         dalam   terang       edy   widjaya   nyata   anggodo   beli   dua   mobil   mercy   seri   s   300   yang   diatasnamakan   dua   anak   anggodo         harga   satu   mobil   mercy   sebut       turut   edy   widjaya   adalah   rp    1        6   miliar         beli   salah   satu   mobil   mercy   sebut       bayar   dengan   cara   tukar   mobil   bmw   milik   wisnu   subroto       yang   harga   rp   500   juta       dan   kurang       rp    1        1   miliar       tambah   oleh   anggodo       d         verifikasi   lalu   gelar   perkara    1         tugas   tim    8   telah   dapat   fakta   atas   proses   hukum   hadap   chandra   dan   bibit   dari   jumlah   pihak       guna   fakta   sebut   bagai   dasar   dalam   gelar   perkara   yang   laku   oleh   sidik   polri   dan   hadir   oleh   teliti   dari   jaksa          2         gelar   perkara   laku   pada   hari   sabtu        7   november   2009       pukul   19       00          3         untuk   kuat   verifikasi       tim    8   undang    2   orang   ahli   di   bidang   polisi   dan   jaksa       yakni   prof         farouk   muhammad       mantan   gubernur   ptik       dan   dr         ramelan       s        h           m        h       mantan   jaksa   agung   muda   tindak   pidana   khusus              4         dalam   gelar   perkara       tim    8   laku   proses   tanya   jawab   guna   dalam   fakta       bukti   dan   pasal   yang   guna   oleh   sidik   polri         tim    8   memposisikan   bagai   jaksa   teliti   yang   harus   buat   dakwa   dan   serta   fakta   dan   bukti   di   sidang          5         dalam   gelar   perkara       ungkap   sidik   polri   patok   pada   terang   dalam   bap   pertama   oleh   ari   muladi   dan   untuk   kuat   terang   sebut   guna   petunjukpetunjuk   bahwa   telah   jadi   serah   uang   kepada   chandra   dan   bibit       bab   iii   temu   tim   8a         duga   makelar   kasus   dasar   rekam   bicara   yang   telah   dengar   di   sidang   mk   mana   dapat   nama   dan   sebut   nama   bagai   ikut        a         anggoro   widjojo   yang   rupa   sangka   kpk   dalam   kasus   korupsi   pt         masaro   radiokom       yang   peran   bagai   sedia   dana   yang   tuju   agar   kasus   dapat   henti          b         anggodo   widjojo   yang   rupa   adik   dari   anggoro       yang   peran   besar   dalam   mungkin   proses   rekayasa   dan   atur   proses   hukum   chandra   m         hamzah   dan   bibit   s         rianto   dengan   para   oknum   jabat   polisi       jaksa       kpk       lpsk   dan   acara          c         susno   duadji   yang   rupa   kepala   badan   reserse   dan   kriminal   mabes   polri   -   sebut   berulangkali   dengan   istilah   truno    3   -   yang   meski   tidak   libat   bicara   telepon   hasil   sadap       namun   dasar   nyata   anggodo       susno   duadji   milik   peran   sentral   dalam   tetap   sangka   hadap   chandra   m         hamzah   dan   bibit   s         rianto   dan   milik   komitmen   tinggi   hadap   anggodo         d         abdul   hakim   ritonga   yang   rupa   jaksa   agung   muda   tindak   pidana   umum       jampidum       ketika   sadap   laku       sebut   banyak   24   kali   dalam   rekam   bagai   oknum   yang   milik   peran   penting   dalam   rencana   yang   siap   oleh   anggodo       serta   klaim   milik   dukung   dari   ri    1       bagaimana   ungkap   oleh   rekan   anggodo       yuliana   gunawan          e         wisnu   subroto   yang   rupa   mantan   jaksa   agung   muda   intelejen       jamintel             peran   aktif   dalam   rancang   dan   komunikasi   dengan   anggodo   khusus   dalam   proses   sidik   chandra   m         hamzah   dan   bibit   s         rianto          f         irwan   nasution   yang   rupa   jaksa   pada   jamintel         sebut   dalam   rekam   banyak    9   kali        g         farman   yang   rupa   sidik   pada   mabes   polri       sebut   dalam   rekam   banyak    8   kali   dan   milik   peran   penting   dalam   susun   bap   kasus   chandra   m         hamzah   dan   bibit   s         rianto        h         ketut       sudiarsa       dan   mira       diarsih       yang   rupa   komisioner   lembaga   lindung   saksi   dan   korban          i         bonar   situmeang       kosasih   dan   alex   yang   rupa   acara   dari   anggodo          j         eddy   sumarsono    k         ari   muladi    l         yuliana   gunawan   dapat   duga   jadi   main   antara   aparat   tegak   hukum   dengan   pihak   masyarakat   biasa         main   ini   yang   muncul   kesan   ada   masyarakat   biasa   yang   dapat   selesai   atau   atur   perkara   dengan   imbal   jumlah   uang   yang   sebut   bagai   makelar   kasus       markus            b         dasar   sidik   polri    1         inisiatif   dari   antasari   azhar   kait   testimoni   kait   testimoni   antasari   azhar   dasar   rekam   bicara   dengan   anggoro   widjojo       serta   lapor   kasus   suap   masaro   yang   kemudian   jadi   dasar   untuk   sangka   chandra   dan   bibit       tim    8   temu   beda   terang   dari   antasari   azhar   sendiri   maupun   antara   terang   antasari   azhar   dengan   sidik         pada   temu   pertama   dengan   tim    8   tanggal    7   november   2009       antasari   azhar   nyata   bahwa   testimoni   buat   tanggal   16   mei   2009         namun       pada   temu   dua   dengan   tim    8   tanggal    8   november   2009       antasari   nyata   bahwa   testimoni   itu   buat   tanggal   16   juni   2009         ini   beda   dengan   terang   sidik   polri   bahwa   mereka   baru   tahu   ada   kasus   peras   anggoro   telah   ada   sita   laptop   kpk   pada   11   juni   2009         antasari   azhar   kemudian   buat   lapor   resmi   perihal   duga   suap   pimpin   kpk   kepada   polisi   yang   sampai   tanggal    6   juli   2009         beda   terang   sebut   implikasi   pada   lapor   polisi       lp       di   atas   apakah   dasar   minta   antasari   azhar   atau   minta   dari   sidik         beda   ini   potensi   jadi   masalah   ketika   kasus   chandra   dan   bibit   masuk   ke   sidang         antasari   azhar   bagai   saksi   lapor   akan   sampai   terang   yang   guna   oleh   sidik   dan   jaksa   tutut   umum         ini   jadi   salah   satu   faktor   tidak   kuat   proses   hukum   atas   chandra   dan   bibit   di   sidang         dari   hasil   verifikasi       tim    8   pandang   -   utama   telah   lihat   rekam   video   sita   barang   bukti   di   ruang   kerja   antasari   azhar   di   kpk   -   bahwa   inisiatif   awal   ungkap   kasus   duga   suap   kait   pt   masaro   ini   benar   laku   oleh   antasari   azhar         di   dalam   rekam   video   jelas   gambar   bahwa   antasari   memang   datang   ke   kantor   untuk   ambil   rekam   bicara   diri   dengan   anggoro   yang   simpan   di   dalam   komputer   jinjing         antasari   mungkin   upaya   alih   isu   hukum   yang   sedang   hadap       kait   bunuh   nasrudin   zulkarnaen       dengan   tarik   pula   pimpin   kpk   ke   dalam   kasus   hukum   pt         masaro       lalu   testimoni   yang   buat   dasar   rekam   bicara   antasari   dengan   anggoro   widjojo          2         inisiatif   temu   susno   duadji   dengan   anggoro   widjojo   pada   tanggal    7   juli   2009   kpk   telah   keluar   surat   perintah   tangkap   kepada   anggoro   widjojo         surat   kirim   kpk   ke   kabareskrim   dengan   nomor   sprindik   25 01 vi 2009   tanggal   19   juni   tahun   2009   dan   serta   surat   perintah   tangkap   no         kep-04 p6kpk vii 2009   tanggal    7   juli   2009         namun   demikian   pada   tanggal   10   juli   2009       susno   duadji   laku   temu   dengan   anggoro   di   singapura   dengan   alas   anggoro   hanya   mau   temu   dengan   kabareskrim   untuk   sampai   terang       bap       kait   duga   suap peras   oleh   pimpin   kpk         temu   di   singapura   sebut   laku   dengan   tahu   kapolri       pada   saat   itu   tidak   tahu   apakah   sidik   laku   periksa   atas   anggoro   untuk   kemudian   buat   bap         dalam   terang   sidik   bap   atas   anggoro   yang   inti   nyata   anggoro   peras   oleh   jumlah   pimpin   kpk         hanya   saja   tim    8   temu   fakta   bahwa   bap   buat   di   luar   negeri       di   singapura       dan   tidak   di   duta   besar   republik   indonesia       singapura         cara   yuridis   formal   bap   oleh   polisi   di   luar   negeri   hanya   dapat   laku   di   duta   besar   republik   indonesia         oleh   karena   bap   atas   anggoro   yang   jadi   dasar   bagi   sangka   hadap   chandra   dan   bibit   dapat   tanya   oleh   tim   bela   chandra   dan   bibit   absah         bap   yang   buat   di   luar   negeri   namun   tidak   di   duta   besar   republik   indonesia   rupa   faktor   yang   tidak   kuat   bagi   sangka   dan   dakwa   atas   chandra   dan   bibit          3         kronologi   15   juli       ditandatangani   anggodo   widjojo   dan   ari   muladi       sidik   dalam   laku   proses   hukum   atas   chandra   dan   bibit   dasar   pada   kronologi   yang   buat   oleh   anggodo   widjojo   dan   ari   muladi         bap   ari   muladi   dasar   pada   kronologi   ini         dalam   kronologi   sebut   jumlah   tanggal   mana   ari   muladi   serah   uang   kepada   ade   rahardja   yang   untuk   lanjut   ade   rahardja   serah   uang   sebut   kepada   jumlah   pimpin   kpk         untuk   tahu   kronologi   sebut   buat   telah   temu   susno   duadji   dan   anggoro   di   singapura   pada   tanggal   10   juli   2009         kronologi   yang   jadi   dasar   oleh   sidik   oleh   ari   muladi   telah   cabut         ari   muladi   sampai   bahwa   uang   serah   kepada   yulianto         dengan   cabut   maka   kronologi   tidak   dapat   jadi   dasar   yang   kuat         cabut   tidak   arti   aku   pertama   ari   muladi   tidak   dapat   percaya       tetapi   ari   muladi   sendiri   bagai   pihak   yang   tidak   dapat   percaya         guna   kronologi   oleh   sidik   bagai   dasar   untuk   sangka   adalah   lemah   ingat   kredibilitas   ari   muladi         sidik   lihat   bersikukuh   pada   urut   jadi   sesuai   dengan   kronologi   anggodo          4         tunjuk   sidik   guna   tunjuk   untuk   bukti   bahwa   kronologi   sudah   benar         tunjuk   yang   milik   oleh   sidik   adalah   jumlah   mobil   kpk   yang   masuk   area   bellagio   dan   pasar   festival   pada   tanggal   yang   sebut   dalam   kronologi         sidik   telah   dapat   bukti   rupa   foto   masuk   mobil   kpk         hanya   saja   ketika   tim    8   tanya   apakah   mobil   sebut   adalah   mobil   yang   guna   oleh   bibit   atau   chandra   maka   sidik   tidak   dapat   beri   konfirmasi         samping   itu       jumlah   mobil   yang   sebut   jumlah   banyak   yang   tanda   dengan   plat   nomor   berbedabeda         oleh   karena   tunjuk   ini   tidak   dapat   kuat   bap   ari   muladi   yang   dasar   pada   kronologi         tunjuk   ini   tidak   sama   dengan   tunjuk   yang   guna   untuk   sangka   dan   dakwa   polycarpus   dalam   kasus   mati   munir         ini   rupa   bukti   tidak   kuat   dasar   yang   guna   oleh   sidik   untuk   sangka   chandra   dan   bibit   terima   uang   dari   ari   muladi   bagai   bentuk   peras          5         bap   ade   rahardja   ade   rahardja   bagai   tokoh   sentral   yang   hubung   uang   yang   terima   oleh   ari   muladi   dari   anggodo   ke   jumlah   pimpin   kpk   dalam   bap   nyata   tidak   kenal   ari   muladi         ade   rahardja   juga   laku   sangkal   bahwa   pada   waktu   yang   ada   dalam   kronologi   ia   ada   di   bellagio   atau   pasar   festival         kalaupun   benar   bahwa   chandra   dan   bibit   terima   uang   dari   ari   muladi   dasar   kronologi   maka   ade   rahardja   harus   tetap   bagai   sangka   oleh   sidik         namun   hingga   datang   ade   rahardja   ke   tim    8       ade   rahardja   tidak   dalam   status   bagai   sangka         oleh   karena   ini   rupa   tidak   kuat   proses   hukum   yang   laku   oleh   sidik   maupun   tuntut   umum   bila   limpah   ke   adil          6         bap   bambang   widaryatmo   meski   dalam   kronologi   sebut   bahwa   bambang   widaryatmo   terima   uang   namun   hingga   datang   bambang   widaryatmo   ke   tim    8       tidak   ada   minta   bap   oleh   sidik   hadap   hal   ini         bambang   widaryatmo   minta   terang   yang   telah   buat   bap   oleh   sidik   dalam   pasal   penyalahgunaan   wenang         oleh   karena   proses   hukum   hadap   chandra   dan   bibit   sangat   lemah   bila   bawa   ke   adil   karena   kronologi   yang   guna   oleh   sidik   nyata   tidak   ikut   cara   konsisten         kronologi   olah   guna   panjang   ada   kait   dengan   chandra   dan   bibit   dalam   laku   peras          7         rekam   sadap   telpon   anggodo   widjojo   oleh   kpk   bagi   besar   materi   bicara   anggodo   dasar   hasil   sadap   kpk   yang   telah   dengar   cara   umum   dalam   sidang   mahkamah   konstitusi   pada    3   november   2009       tunjuk   terang   dan   infomasi   ada   alur   atau   proses   suai   bap   yang   susun   oleh   sidik   dengan   kronologi   yang   buat   anggodo         kurun   waktu   bicara   anggodo   dalam   rekam   sebut   adalah   periode   juli-september   2009       jika   banding   dengan   susun   bap   dan   rumus   sangka   hadap   chandra   dan   bibit   maka   dapat   sama   periode   waktu         dapat   beberapa   kalimat   dalam   rekam   yang   tunjuk   infomasi   bahwa   anggodo   pengaruh   dan   koordinasi   dengan   oknum   sidik       jaksa   dan   acara   untuk   pasti   bahwa   bap   saksi   semua   sesuai   dengan   kronologi   yang   buat          8         rekam   sadap   kpk   kait   lucas   dan   susno   duadji   kpk   mulai   selidik   duga   suap   kait   bank   century   sejak   25   november   2008         kait   selidik       kpk   aku   milik   rekam   sadap   bicara   di   antara   antara   lucas   dan   susno   duadji         bicara   kait   upaya   cair   dana   budi   sampoerna         dalam   upaya   cair   sebut       susno   duadji   keluar   dua   surat   klarifikasi   tanggal    7   april   dan   17   april   2009         dalam   temu   dengan   tim    8       susno   duadji   bantah   terima   suap   dalam   cair   dana   budi   sampoerna   sebut         dia   kata       sengaja   susun   skenario   bicara   seolah-olah   akan   terima   suap         maksud   untuk   laku   latih   sadap   bagi   kpk       dan   sekaligus   latih       kontra   intelijen             hanya   ketika   tanya   apakah   pihak   tiga       lucas       tahu   bahwa   tindak   ini   rupa   kontra   intelijen   tahu       jawab   adalah   tidak         meski   bantah       susno   duadji   aku   ada   temu   di   hotel   ambhara   dan   sempat   desain   suatu   rencana   serah   dengan   guna   tas       yang   aku   kosong         terang   dan   bantah   susno   duadji   kait   pura   akan   terima   suap   demikian       ragu   oleh   tim    8         lanjut       ada   rekam   sadap   kpk   sebut       sempat   buat   susno   duadji   tidak   kenan   dan   salah   satu   muncul   istilah       cicak   vs   buaya       dalam   wawancara   dengan   majalah   tempo        c         kait   sangka   peras   oleh   chandra   m         hamzah   dan   bibit   s         rianto    1         rumus   dan   ubah   sangka   yang   janggal   pada   awal   sidik   pulai   proses   hukum   dasar   testimoni   dan   lapor   resmi   dari   antasari   azhar   yang   pada   pokok   dapat   duga   suap   atau   peras         namun   pada   tanggal    7   agustus   2009   lalu   proses   gelar   perkara   dengan   jaksa   oleh   fakta   ada   tindak   pidana   penyalahgunaan   wenang   oleh   dua   sangka   yang   langgar   pasal   21   ayat    5   uu   no   30   tahun   2002   tentang   kpk         sedang   rumus   sangka   peras       pasal   12    b   dan   15   uu   31 1999   tentang   suap   dan   peras       oleh   telah   ada   tunjuk   dari   jaksa   tuntut   umum       p16       yang   nyata   bahwa   penyalahgunaan   wenang   sebut   dalam   kait   untuk   laku   peras         pada   tanggal   15   september   2009       chandra   m         hamzah   dan   bibit   s         rianto   tetap   bagai   sangka   dengan   sangka   peras   dan   penyalahgunaan   wenang   jabat    2         unsur   peras   yang   lemah   sidik   hanya   pegang   pada   terang   ari   muladi   bahwa   pimpin   kpk-lah   yang   inisiatif   awal   untuk   minta   jumlah   dana       atensi       kepada   anggoro         fakta       ari   muladi       sesuai   dengan   bap   pertama   tanggal   11   juli   2009       nyata   hanya   hubung   dengan   ade   rahardja       bukan   pimpin   kpk         turut   ari   muladi       minta   atensi   dari   pimpin   kpk   sebut   hanya   dia   dengar   dari   ade   rahardja         bahkan   terang   ari   muladi   sebut   pada   akhir   cabut       bap   tanggal   18   agustus   2009   dan   bap   lanjut   tanggal   26   agustus   2009       dengan   nyata   bahwa   diri   tidak   pernah   temu   dengan   ade   rahardja   maupun   pimpin   kpk         ade   rahardja   dalam   saksi   juga   tegas   bahwa   diri   tidak   pernah   temu   dengan   ari   muladi   kait   dengan   duga   suap   atau   peras   oleh   pimpin   kpk         ade   juga   membatah   telah   terima   jumlah   uang   dari   ari   muladi   serta   bantah   semua   terang   bagaimana   tuang   dalam   kronologi   anggodo         dengan   demikian       sidik   hadap   tim    8   tidak   dapat   tunjuk   bukti   ada   unsur   minta   atensi       peras       dari   pimpin   kpk         sidik   harus   bukti   bahwa   terang   dari   ari   muladi   dan   ade   rahardja   tidak   benar       sisi   lain   sidik   hadap   tim    8   nyata   tidak   milik   saksi   fakta   atau   bukti   lain   yang   tunjuk   ada   minta   atensi   dari   pimpin   kpk         sidik   hanya   milik   tunjuk       yang   tunjuk   itu   sendiri   telah   cabut   oleh   yang   sangkut         masih   kait   dengan   inisiatif   untuk   minta   uang       fakta   tunjuk   bahwa   anggodo   bagaimana   tuang   dalam   kronologi   yang   buat   sendiri   tanggal   15   juli   2009       pernah   nyata   bahwa   minta   bantu   ari   muladi   yang   milik   teman   di   kpk   untuk       urus       kasus   pt   masaro   radiokom   telah   geledah   hadap   usaha   sebut   oleh   kpk   tanggal   29   juli   2008       hal   sebut   benar   oleh   ari   muladi   bahwa   anggodo   minta   tolong   kepada   diri   untuk   selesai   kasus   pt   masaro   radiokom         dengan   demikian       inisiatif   awal   pertama   kali   untuk   laku   suap   justru   muncul   dari   anggoro anggodo          3         serah   uang   kepada   pimpin   kpk   tidak   dukung   bukti   hukum   yang   kuat   polisi   dasar   pada   saksi   ari   muladi   yang   pada   terang   bap   pertama   tanggal   11   juli   2009   yang   nyata   bahwa   uang   sebut   serah   kepada   pimpin   kpk   lalu   ade   rahardja         terang   lain   yang   guna   sidik   adalah   nyata   edy   sumarsono   yang   aku   dengar   nyata   ari   muladi   saat   temu   dengan   antasari   azhar   di   malang   pada   29   november   2008   yang   pada   pokok   ari   muladi   aku   telah   serah   jumlah   uang   kepada   m         yasin   sama   dengan   ade   rahardja         padahal       akhir   ari   muladi   rubah   bap   pertama   tanggal   11   juli   2009       dan   nyata   dalam   bap   ubah       bap   tanggal   18   agustus   2009   dan   bap   lanjut   tanggal   26   agustus   2009       bahwa   dia   tidak   serah   jumlah   uang   kepada   ade   rahardja         uang   yang   dia   terima   dari   anggodo   guna   bagi   untuk   perlu   hidup   dan   bagi   serah   kepada   orang   yang   nama   yulianto         ade   rahardja   juga   bantah   semua   terang   ari   muladi   dan   nyata   tidak   pernah   temu   dengan   ari   muladi         orang   yang   sebut   bagai   yulianto       hingga   saat   ini   belum   tahu   ada         ari   muladi   bahkan   tidak   tahu   alamat       nomor   telepon   maupun   segala   hal   kait   dengan   identitas   yulianto         bibit   samad   rianto   bagaimana   sebut   dalam   kronologi   yang   buat   ari   muladi   dan   anggodo   bahwa   yang   sangkut   telah   terima   uang   pada   15   agustus   2008   di   belaggio   residence   adalah   tidak   benar   karena   pada   saat   itu   bibit   samad   rianto   ada   di   peru         begitu   dengan   chandra   m         hamzah   nyata   bahwa   pada   tanggal   serah   uang   tanggal   27   februari   2009   bagaimana   sebut   dalam   kronologi   anggodo       yang   sangkut   tidak   ada   di   pasar   festival         hadap   terang   sebut       sidik   tetap   bersikukuh   pada   saksi   ari   muladi   sesuai   bap   pertama   meski   bap   sebut   telah   rubah       cabut   bagi             sidik   hanya   guna   tunjuk   rupa   ada   jumlah   mobil   kpk   di   pasar   festival   dan   hotel   bellagio   pada   waktu   yang   sama   sesuai   kronologi       karcis   parkir    a       n         mobil   kpk   di   pasar   festival   dan   hotel   bellagio       lie   detector   untuk   bukti   bahwa   cabut   terang   oleh   ari   muladi   adalah   bohong       surat   terang   dari   suatu   lurah   di   surabaya   yang   nyata   bahwa   benar   tidak   ada   warga   yang   nama   yulianto       dan   tunjuk   lain   yang   arah   pada   ada   ade   rahardja       chandra   m         hamzah   dan   bibit   s         rianto   pada   waktu   dan   tempat   sesuai   dengan   kronologi   anggodo          4         ketidakyakinan   antasari   azhar   hadap   suap   kepada   chandra   m         hamzah   dan   bibit   s         rianto   antasari   azhar   nyata   tidak   yakin   dengan   bahwa   chandra   m         hamzah   dan   bibit   s         rianto   terima   jumlah   uang   dari   anggoro         antasari   azhar   juga   tegas   bahwa   testimoni   yang   buat   adalah   testimoni   anggoro       sehingga   tidak   ada   satu   urut   jadi   dalam   kronologi   kasus   ini   yang   saksi   atau   tahu   cara   langsung   oleh   antasari   azhar          5         ari   muladi   bagai   saksi   sekaligus   sangka   ari   muladi   jadi   sangka   oleh   polisi   pada   tanggal   18   agustus   2009   dengan   tuduh   tipu   dan   atau   gelap   hadap   anggodo   serta   palsu   surat         tipu   dan   atau   gelap   sangka   kepada   ari   muladi   kait   dengan   guna   uang   yang   beri   anggodo       yang   pada   awal   tuju   untuk   pimpin   kpk   namun   kemudian   guna   sendiri   oleh   ari   muladi   dan   bagi   serah   kepada   yulianto         uang   yang   terima   ari   muladi   dari   anggodo       turut   aku   ari       adalah       us    404       600       tara   dengan   rp          3       750       000       000       -       pada   11   agustus   2008         rp   400       000       000   pada   13   november   2008         dolar   singapur       124       920       tara   dengan   rp          1       000       000       000       -       pada   13   februari   2009         sedang   palsu   surat   sangka   hadap   ari   muladi   kait   dengan   palsu   surat   cabut   cegah   ke   luar   negeri    a       n         anggoro   widjojo   cs         kepada   dirjen   imigrasi   up         direktur   sidik   dan   tindak   imigrasi   nomor        r-85 22 vi 2009   tanggal    5   juni   2009   yang   dalam   dapat   tanda   tangan   chandra   m         hamzah   dan   bibit   s   rianto          6         anggodo   widjojo   tidak   jadi   sangka   dalam   kumpul   fakta       tahu   bahwa   polisi   tidak   tetap   anggodo   bagai   sangka   dalam   kasus   ini         sesuai   dengan   kronologi   yang   buat   sendiri   tanggal   15   juli   2009       cara   jelas   tunjuk   bahwa   inisiatif   untuk       urus       kasus   pt   masaro   radiokom       pertama   kali   muncul   dari   anggodo   dengan   minta   bantu   ari   muladi   yang   anggap   milik   teman   di   kpk         dalam   bap   ari   muladi   tanggal   18   agustus   2009   juga   nyata   bahwa   anggodo   minta   tolong   kepada   ari   muladi   untuk   selesai   perkara   yang   jadi   di   pt         masaro   radiokom         dengan   demikian   mesti   orang   yang   milik   inisiatif   awal   dan   sedia   dana   untuk   laku   suap   dapat   anggap   libat   dalam   kasus   ini   sehingga   sudah   layak   untuk   jadi   sangka          7         ubah   bap   ari   muladi   ari   muladi   telah   rubah   bap   pertama   dengan   nyata   bahwa   dia   tidak   pernah   temu   dan   tidak   pernah   komunikasi   dengan   ade   rahardja         ari   muladi   juga   nyata   bahwa   dia   tidak   pernah   dengar   ade   rahardja   minta   jumlah   uang   untuk   urus   pt   masaro   serta   tidak   pernah   serah   uang   kepada   ade   rahardja         ari   muladi   nyata   pula   bahwa   uang   yang   oleh   dari   anggodo       dia   pakai   sendiri   dan   bagi   dia   serah   kepada   orang   nama   yulianto         ari   muladi   juga   nyata   bahwa   surat   cabut   cegah   ke   luar   negeri    a       n         anggoro   widjojo   cs         adalah   palsu   dan   buat   oleh   ari   muladi   serta   yulianto   pada    6   juni   2009   di   daerah   matraman         atas   ubah   bap   dan   terang   sebut       sidik   tetap   bersikukuh   dengan   bap   belum   ubah       11   juli   2009       dan   pilih   untuk   guna   lie   detector   untuk   bukti   bahwa   bap   dua   dari   ari   muladi   adalah   bohong         guna   lie   detector   juga   jadi   catat   tim    8       khusus   akurat   dan   proses   penggunanaan   mesin   sebut       d         kait   penyalahgunaan   wenang    1         prosedur   terbit   dan   cabut   surat   larang   pergi   ke   luar   negeri       cegah       tidak   langgar   standard   operating   procedure   kpk   proses   terbit   dan   cabut   surat   telah   sesuai   dengan   standar   operating   procedure       sop       kpk         hal   sebut   atur   dalam   surat   putus   pimpin   kpk   no         kep-447 01 xii 2008   tentang   ubah   putus   pimpin   kpk   no         kep-33 01 i 2008   tentang   bagi   tugas   pimpin   kpk   periode   tahun   2007-2011         dalam   uu   kpk   juga   atur   bahwa   kpk   beri   wenang   atur   sendiri   mekanisme   dalam   tetap   bijak   bagaimana   yang   atur   dalam   pasal   25   ayat        2       uu   kpk       sehingga   jikalau   jadi   keliru   dalam   terap   wenang       maka   hal   sebut   bukan   masuk   dalam   ranah   pidana       namun   masuk   dalam   ranah   adil   tata   usaha   negara         namun   demikian       sidik   tetap   bersikukuh   anggap   sop   kpk   tentang   dengan   uu   kpk          2         tidak   penuh   unsur   paksa   dalam   terbit   dan   cabut   surat   larang   pergi   ke   luar   negeri   tumpak   hatorangan   panggabean       ketua   kpk   sementara       nyata   bahwa   tidak   ada   unsur   paksa   dan   tidak   ada   orang   masuk   dirjen   imigrasi   yang   paksa   dalam   terbit   dan   cabut   surat   larang   pergi   ke   luar   negeri   yang   ditandatangani   oleh   chandra   m   hamzah   dan   bibit   samad   rianto         padahal   pasal   yang   tuduh   kepada   chandra   dan   bibit   harus   ada   bukti   unsur   paksa   dengan   wenang         namun   sidik   tetap   bersikukuh   bahwa   telah   jadi   penyalahgunaan   wenang   dengan   hanya   dasar   pada   tafsir   uu   kpk   dan   tidak   penuh   bukti   formil   kait   tuju   kolektif   dalam   terbit   surat   sebut          3         pimpin   kpk   dahulu   laku   prosedur   yang   sama   dapat   konvensi   atau   sepakat   di   internal   kpk   sejak   periode   pertama   hingga   periode   saat   ini   bahwa   dalam   terbit   atau   cabut   surat   larang   pergi   ke   luar   negeri       cegah       tidak   perlu   lalu   rapat   pimpin   kolektif       namun   cukup   ditandatangani   oleh   pimpin   kpk   yang   tangan   kasus   sebut   dan   sampai   salin   surat   sebut   kepada   pimpin   kpk   lain         hal   sebut   kuat   oleh   nyata   beberapa   mantan   pimpin   kpk          4         cabut   surat   larang   pergi   ke   luar   negeri    a       n         djoko   chandra   kait   dengan   kasus   arthalita   suryani   kpk   sedang   selidik   kait   antara   alir   uang   dari   pt         mulia   graha   tatalestari   besar    1   us    kepada   urip   tri   gunawan-artalyta   suryani         kpk   dapat   informasi   bahwa   alir   dana   di   rekening   joko   chandra   duga   kait   dengan   dana   yang   guna   arthalita   suryani   dalam   kasus   suap   urip   tri   gunawan       namun   nyata   duga   sebut   tidak   benar   telah   kpk   dapat   informasi   yang   akurat   bahwa   dana   sebut   nyata   alir   ke   yayasan   kesetiakawanan   dan   peduli   sosial         saat   itu   pula   kasus   arthalita   dan   jaksa   urip   tri   gunawan   sudah   selesai   periksa   dan   putus   di   adil       sehingga   kpk   anggap   tidak   cukup   alas   lagi   untuk   laku       larang   pergi   ke   luar   negeri       hadap   joko   chandra          5         tunda   laksana   sidik   anggoro   widjojo   dan   kasus   ms   ka   ban   yang   belum   sidik   karena   tunggu   putus   adil   yang   berkekuatan   hukum   tetap       in   kracht       kasus   skrt   duga   polisi   yang   arah   pada   ada   hubung   antara   tunda   laksana   sidik   pt         masaro   radiokom   dengan   alir   dana   dari   anggoro   ke   pimpin   kpk   bantah   dengan   fakta   yang   sampai   kpk   bahwa   tunda   sidik   laku   karena   kpk   tunggu   ada   putus   in   kracht   oleh   adil   tipikor   atas   perkara   yusuf   erwin   faisal   dalam   kasus   tanjung   siapi-api   yaitu   tanggal   23   maret   2009   mana   anggoro   bukti   suap   yusuf   erwin   faisal         turut   kpk       tunda   sidik   hingga   ada   putus   adil   sebut   adalah   salah   satu   strategi   sidik   untuk   mudah   proses   bukti   hadap   anggoro   dalam   kasus   pt         masaro   radiokom         chandra   m         hamzah   nyata   bahwa   tidak   ada   hubung   emosional   antara   diri   dengan   ms   ka   ban         chandra   hanya   beberapa   kali   temu   dengan   ms   ka   ban   dan   hanya   dalam   acara   resmi       \n",
            "\n",
            "Word count: 6525\n"
          ]
        }
      ]
    },
    {
      "cell_type": "code",
      "source": [
        "longest_text = train_df.loc[train_df['summary_word_length'].idxmax()]\n",
        "print(longest_text['text'])\n",
        "print(longest_text['text'])\n",
        "print(\"\\nWord count:\", longest_text['summary_word_length'])"
      ],
      "metadata": {
        "colab": {
          "base_uri": "https://localhost:8080/"
        },
        "id": "N57LObiTR_M4",
        "outputId": "bf4d21ba-a61f-49ed-9418-fb6ffc0cb4ec"
      },
      "execution_count": 17,
      "outputs": [
        {
          "output_type": "stream",
          "name": "stdout",
          "text": [
            "  buat   para   gemar   kelompok   flower   four       f4       atau    f   tse   di   tanah   air       hari   ini   sudah   lama   mereka   tunggu         sebab       kelompok   pemuda   asal   taiwan   itu   gelar   konser   musik   di   arena   pekan   raya   jakarta       mayor       jakarta   pusat       jumat       10 1             hari   belum       grup   yang   motor   vic   zhou       ken   zhou       vannes   jian   wu       dan   jerry   yan   ini   laku   jumpa   pers   di   hotel   borobudur       jakpus         empat   aku   senang   bisa   tampil   di   indonesia   dan   dapat   sambut   yang   luar   biasa   dari   gemar         dalam   konser   nanti   malam       banyak   100   tempat   duduk   kelas   very   very   important   person   sedia   untuk   keluarga   presiden   megawati   sukarnoputri         telah   dua   kali   konser   di   indonesia       kelompok   yang   lejit   telah   bintang   serial       meteor   garden       ini   lanjut   jalan   ke   malaysia   dan   amerika   serikat         di   sana       mereka   juga   gelar   konser   yang   rupa         sukses       \n",
            "  buat   para   gemar   kelompok   flower   four       f4       atau    f   tse   di   tanah   air       hari   ini   sudah   lama   mereka   tunggu         sebab       kelompok   pemuda   asal   taiwan   itu   gelar   konser   musik   di   arena   pekan   raya   jakarta       mayor       jakarta   pusat       jumat       10 1             hari   belum       grup   yang   motor   vic   zhou       ken   zhou       vannes   jian   wu       dan   jerry   yan   ini   laku   jumpa   pers   di   hotel   borobudur       jakpus         empat   aku   senang   bisa   tampil   di   indonesia   dan   dapat   sambut   yang   luar   biasa   dari   gemar         dalam   konser   nanti   malam       banyak   100   tempat   duduk   kelas   very   very   important   person   sedia   untuk   keluarga   presiden   megawati   sukarnoputri         telah   dua   kali   konser   di   indonesia       kelompok   yang   lejit   telah   bintang   serial       meteor   garden       ini   lanjut   jalan   ke   malaysia   dan   amerika   serikat         di   sana       mereka   juga   gelar   konser   yang   rupa         sukses       \n",
            "\n",
            "Word count: 80\n"
          ]
        }
      ]
    },
    {
      "cell_type": "code",
      "source": [
        "longest_text = train_df.loc[train_df['esummary_word_length'].idxmax()]\n",
        "print(longest_text['text'])\n",
        "print(longest_text['text'])\n",
        "print(\"\\nWord count:\", longest_text['esummary_word_length'])"
      ],
      "metadata": {
        "colab": {
          "base_uri": "https://localhost:8080/"
        },
        "id": "26ywEzl2SGeB",
        "outputId": "bbc036ba-8cf0-40f0-a694-ff18366fec5d"
      },
      "execution_count": 18,
      "outputs": [
        {
          "output_type": "stream",
          "name": "stdout",
          "text": [
            "  piala   dunia   1982tuan   rumah       spanyolnegara   serta       109juara       italiababak   sisih   grup   grup   apolandiaitaliakamerunperu   grup    b   jerman   barataustriaaljazairchili   grup    c   belgiaargentinahungariael   salvador   grup   d   inggrispranciscekoslowakiakuwait   grup    e   irlandia   utaraspanyolyugoslavia   honduras   grup    f   brasiluni   sovietskotlandiaselandia   baru   putar   dua   grup   1polandiauni   sovietbelgia   grup    2   jerman   baratinggrisspanyol   grup    3   italiabrasilargentina   grup    4   prancisaustriairlandia   utara   semifinalitalia   vs   polandia    2-0jerman   barat   vs   prancis    5-4        3-3       juara   ke-3polandia   vs   prancis    3-2   finalitalia   vs   jerman   barat    3-1   top   skorpaolo   rossi       ita        6   golkarl-heinz   rummenigge       jer        5   golzbigniew   boniek       pol        4   golzico       bra        4   gollaszlo   kiss       hun        3   golalain   giresse       pra        3   golfalcao       bra        3   golgerry   armstrong       irl        3   gol   piala   dunia   1986tuan   rumah       meksikonegara   serta       123juara       argentinababak   sisih   grup   grup   aargentinaitaliabulgariakorea   selatan   grup    b   meksikoparaguaybelgiairak   grup    c   uni   sovietprancishungariakanada   grup   d   brasilspanyolirlandia   utaraaljazair   grup    e   denmarkjerman   baraturuguayskotlandia   grup    f   marokoinggrispolandiaportugal   babak   16   besarmeksiko   vs   bulgaria    2-0uni   soviet   vs   belgia       aet        3-4brasil   vs   polandia    4-0argentina   vs   uruguay    1-0italia   vs   prancis    0-2maroko   vs   jerman   barat    0-1inggris   vs   paraguay    3-0denmark   vs   spanyol    1-5   empat   finalbrasil   vs   prancis    3-4jerman   barat   vs   meksiko    4-1argentina   vs   inggris    2-1spanyol   vs   belgia    4-5   semi   finalbelgia   vs   argentina    0-2jerman   barat   vs   prancis    2-0   juara   ketigaprancis   vs   belgia    4-2   finalargentina   vs   jerman   barat    3-2   top   skorgary   lineker       ing        6   goldiego   maradona       arg        5   golemilio   butrague o       spa        5   golcareca       bra        5   golpreben   elkj r-larsen       den        4   goligor   belanov       sov        4   goljorge   valdano       arg        4   golalessandro   altobelli       ita        4   golrudi   v ller       jer        3   goljesper   olsen       den        3   goljan   ceulemans       bel        3   golnico   claesen       bel        3   gol   piala   dunia   1990tuan   rumah       italianegara   serta       116juara       jerman   barat   babak   sisih   grup   grup   aitaliacekoslowakiaaustriaamerika   serikat   grup    b   kamerunrumaniaargentinauni   soviet   grup    c   brasilkosta   rikaskotlandiaswedia   grup   d   jerman   baratyugoslaviakolombiauni   emirat   arab   grup    e   spanyolbelgiauruguaykorea   selatan   grup    f   inggrisrepublik   irlandiabelandamesir   babak   16   besarkamerun   vs   kolombia    2-1cekoslowakia   vs   kosta   rika    4-1brasil   vs   argentina    0-1jerman   barat   vs   belanda    2-1rep         irlandia   vs   romania    0-0        5-4       italia   vs   uruguay    2-0spanyol   vs   yugoslavia    1-2inggris   vs   belgia    1-0perempat   finalargentina   vs   yugoslavia    3-2italia   vs   republik   irlandia    1-0jerman   barat   vs   cekoslowakia    1-0kamerun   vs   inggris    2-3   semi   finalitalia   vs   argentina    3-4        1-1       jerman   barat   vs   inggris    4-3        1-1       juara   ke-3italia   vs   inggris    2-1finaljerman   barat   vs   argentina    1-0   top   skorsalvatore   schillaci       ita        6   goltomas   skuhravy       cek        5   golmichel       spa        4   golroger   milla       kam        4   golgary   lineker       ing        4   gollothar   matth us       jer        4   goldavid   platt       ing        3   golandreas   brehme       jer        3   golrudi   v ller       jer        3   golj rgen   klinsmann       jer        3   gol   piala   dunia   1994tuan   rumah       amerika   serikatnegara   serta       147juara       brasil   babak   sisih   grup   grup   arumaniaswissamerika   serikatkolombia   grup    b   brasilswediarusiakamerun   grup    c   jermanspanyolkorea   selatanbolivia   grup   d   nigeriabulgariaargentinayunani   grup    e   meksikorepublik   irlandiaitalianorwegia   grup    f   belandasaudi   arabiabelgiamaroko   babak   16   besarjerman   barat   vs   belgia    3-2spanyol   vs   swiss    3-0swedia   vs   arab   saudi    3-1rumania   vs   argentina    3-2belanda   vs   republik   irlandia    2-0brasil   vs   amerika   serikat    1-0nigeria   vs   italia    1-2meksiko   vs   bulgaria    1-1        1-3       empat   finalswedia   vs   rumania    5-4bulgaria   vs   jerman    2-1brasil   vs   belanda    3-2italia   vs   spanyol    2-1   semi   finalitalia   vs   bulgaria    2-1brasil   vs   swedia    1-0   juara   ke-3swedia    v   bulgaria    4-0finalbrasil   vs   italia    3-2        0-0       top   skorhristo   stoitchkov       bul        6   gololeg   salenko       rus        6   golromario       bra        5   golroberto   baggio       ita        5   goljurgen   klinsmann       ger        5   golkennet   andersson       swe        5   golgabriel   batistuta       arg        4   golmartin   dahlin       swe        4   golflorin   raducioiu       rom        4   golbebeto       bra        3   goldennis   bergkamp       ned        3   goltomas   brolin       swe        3   goljose   caminero       spa        3   golgheorghe   hagi       rom        3   gol   piala   dunia   1998tuan   rumah       prancisnegara   serta       147juara       prancis   babak   sisih   grup   grup   abrasilnorwegiamarokoskotlandia   grup    b   italiachiliaustriakamerun   grup    c   prancisdenmarkafrika   selatanarab   saudi   grup   d   nigeriaparaguayspanyolbulgaria   grup    e   belandameksikobelgiakorea   selatan   grup    g   rumaniainggriskolombiatunisia   grup    f   jermanyugoslaviairanamerika   serikat   grup    h   argentinakroasiajamaikajepang   babak   16   besaritalia   vs   norwegia    1-0brasil   vs   cili    4-1prancis   vs   paraguay    1-0nigeria   vs   denmark    1-4jerman   vs   meksico    2-1belanda   vs   yugoslavia    2-1romania   vs   kroasia    0-1argentina   vs   england    2-2        4-3       empat   finalprancis   vs   italia    0-0        4-3       brasil   vs   denmark    3-2argentina   vs   belanda    1-2kroasia   vs   jerman    3-0semi   finalbelanda   vs   brasil    1-1        2-4       prancis   vs   kroasia    2-1juara   ke-3kroasia   vs   belanda    2-1finalprancis   vs   brasil    3-0   top   skordavor   suker       kro        6   golgabriel   batistuta       arg        5   golchristian   vieri       ita        5   golmarcelo   salas       chi        4   golronaldo       bra        4   golluis   hernandez       mek        4   golbebeto       bra        3   golcesar   sampaio       bra        3   golrivaldo       bra        3   goldennis   bergkamp       bel        3   gololiver   bierhoff       jer        3   golj rgen   klinsmann       jer        3   golthierry   henry       pra        3   gol   piala   dunia   2002tuan   rumah       jepang-   korea   selatannegara   serta       198juara       brasil   babak   sisih   grup   grup   adenmarksenegaluruguayprancis   grup    b   spanyolparaguayafrika   selatanslovenia   grup    c   brasilturkikosta   rikacina   grup   d   korea   selatanamerika   serikatportugalpolandia   grup    e   jermanrepublik   irlandiakamerunsaudi   arabia   grup    g   meksikoitaliakroasiaekuador   grup    f   swediainggrisargentinanigeria   grup    h   jepangbelgiarusiatunisia   babak   16   besarjerman   vs   paraguay    1-0denmark   vs   inggris    0-3swedia   vs   senegal    1-2spanyol   vs   irlandia    3-2meksiko   vs   as    0-2brasil    v   belgia    2-0jepang    v   turki    0-1korea   selatan   vs   italia    2-1perempat   finalinggris   vs   brasil    1-2jerman   vs   as    1-0spanyol   vs   korea   selatan    3-5senegal   vs   turki    0-1   semi   finaljerman   vs   korea   selatan    1-0brasil   vs   turki    1-0   juara   ke-3korea   selatan   vs   turki    2-3finaljerman   barat   vs   brasil    0-2   top   skorronaldo       bra        8   golmiroslav   klose       jer        5   golrivaldo       bra        5   goljon   dahl   tomasson       den        4   golchristian   vieri       ita        4   golmichael   ballack       jer        3   golpedro   pauleta       por        3   golraul       spa        3   golpapa   bouba   diop       sen        3   golmarc   wilmots       bel        3   golfernando   morientes       spa        3   golhenrik   larsson       swe        3   golrobbie   keane        r       irl        3   golilhan   mansiz       tur        3   golfernando   hierro       spa        2   goljunichi   inamoto       jep        2   golnelson   cuevas       par        2   golronald   gomez       kos        2   golhasan   sas       tur        2   goljared   borgetti       mek        2   golhenri   camara       sen        2   gollandon   donovan       as        2   golbrian   mcbride       as        2   golahn   jung-hwan       kor        2   gol mit   davala       tur        2   golronaldinho       bra        2   golmichael   owen       ing        2   gol       \n",
            "  piala   dunia   1982tuan   rumah       spanyolnegara   serta       109juara       italiababak   sisih   grup   grup   apolandiaitaliakamerunperu   grup    b   jerman   barataustriaaljazairchili   grup    c   belgiaargentinahungariael   salvador   grup   d   inggrispranciscekoslowakiakuwait   grup    e   irlandia   utaraspanyolyugoslavia   honduras   grup    f   brasiluni   sovietskotlandiaselandia   baru   putar   dua   grup   1polandiauni   sovietbelgia   grup    2   jerman   baratinggrisspanyol   grup    3   italiabrasilargentina   grup    4   prancisaustriairlandia   utara   semifinalitalia   vs   polandia    2-0jerman   barat   vs   prancis    5-4        3-3       juara   ke-3polandia   vs   prancis    3-2   finalitalia   vs   jerman   barat    3-1   top   skorpaolo   rossi       ita        6   golkarl-heinz   rummenigge       jer        5   golzbigniew   boniek       pol        4   golzico       bra        4   gollaszlo   kiss       hun        3   golalain   giresse       pra        3   golfalcao       bra        3   golgerry   armstrong       irl        3   gol   piala   dunia   1986tuan   rumah       meksikonegara   serta       123juara       argentinababak   sisih   grup   grup   aargentinaitaliabulgariakorea   selatan   grup    b   meksikoparaguaybelgiairak   grup    c   uni   sovietprancishungariakanada   grup   d   brasilspanyolirlandia   utaraaljazair   grup    e   denmarkjerman   baraturuguayskotlandia   grup    f   marokoinggrispolandiaportugal   babak   16   besarmeksiko   vs   bulgaria    2-0uni   soviet   vs   belgia       aet        3-4brasil   vs   polandia    4-0argentina   vs   uruguay    1-0italia   vs   prancis    0-2maroko   vs   jerman   barat    0-1inggris   vs   paraguay    3-0denmark   vs   spanyol    1-5   empat   finalbrasil   vs   prancis    3-4jerman   barat   vs   meksiko    4-1argentina   vs   inggris    2-1spanyol   vs   belgia    4-5   semi   finalbelgia   vs   argentina    0-2jerman   barat   vs   prancis    2-0   juara   ketigaprancis   vs   belgia    4-2   finalargentina   vs   jerman   barat    3-2   top   skorgary   lineker       ing        6   goldiego   maradona       arg        5   golemilio   butrague o       spa        5   golcareca       bra        5   golpreben   elkj r-larsen       den        4   goligor   belanov       sov        4   goljorge   valdano       arg        4   golalessandro   altobelli       ita        4   golrudi   v ller       jer        3   goljesper   olsen       den        3   goljan   ceulemans       bel        3   golnico   claesen       bel        3   gol   piala   dunia   1990tuan   rumah       italianegara   serta       116juara       jerman   barat   babak   sisih   grup   grup   aitaliacekoslowakiaaustriaamerika   serikat   grup    b   kamerunrumaniaargentinauni   soviet   grup    c   brasilkosta   rikaskotlandiaswedia   grup   d   jerman   baratyugoslaviakolombiauni   emirat   arab   grup    e   spanyolbelgiauruguaykorea   selatan   grup    f   inggrisrepublik   irlandiabelandamesir   babak   16   besarkamerun   vs   kolombia    2-1cekoslowakia   vs   kosta   rika    4-1brasil   vs   argentina    0-1jerman   barat   vs   belanda    2-1rep         irlandia   vs   romania    0-0        5-4       italia   vs   uruguay    2-0spanyol   vs   yugoslavia    1-2inggris   vs   belgia    1-0perempat   finalargentina   vs   yugoslavia    3-2italia   vs   republik   irlandia    1-0jerman   barat   vs   cekoslowakia    1-0kamerun   vs   inggris    2-3   semi   finalitalia   vs   argentina    3-4        1-1       jerman   barat   vs   inggris    4-3        1-1       juara   ke-3italia   vs   inggris    2-1finaljerman   barat   vs   argentina    1-0   top   skorsalvatore   schillaci       ita        6   goltomas   skuhravy       cek        5   golmichel       spa        4   golroger   milla       kam        4   golgary   lineker       ing        4   gollothar   matth us       jer        4   goldavid   platt       ing        3   golandreas   brehme       jer        3   golrudi   v ller       jer        3   golj rgen   klinsmann       jer        3   gol   piala   dunia   1994tuan   rumah       amerika   serikatnegara   serta       147juara       brasil   babak   sisih   grup   grup   arumaniaswissamerika   serikatkolombia   grup    b   brasilswediarusiakamerun   grup    c   jermanspanyolkorea   selatanbolivia   grup   d   nigeriabulgariaargentinayunani   grup    e   meksikorepublik   irlandiaitalianorwegia   grup    f   belandasaudi   arabiabelgiamaroko   babak   16   besarjerman   barat   vs   belgia    3-2spanyol   vs   swiss    3-0swedia   vs   arab   saudi    3-1rumania   vs   argentina    3-2belanda   vs   republik   irlandia    2-0brasil   vs   amerika   serikat    1-0nigeria   vs   italia    1-2meksiko   vs   bulgaria    1-1        1-3       empat   finalswedia   vs   rumania    5-4bulgaria   vs   jerman    2-1brasil   vs   belanda    3-2italia   vs   spanyol    2-1   semi   finalitalia   vs   bulgaria    2-1brasil   vs   swedia    1-0   juara   ke-3swedia    v   bulgaria    4-0finalbrasil   vs   italia    3-2        0-0       top   skorhristo   stoitchkov       bul        6   gololeg   salenko       rus        6   golromario       bra        5   golroberto   baggio       ita        5   goljurgen   klinsmann       ger        5   golkennet   andersson       swe        5   golgabriel   batistuta       arg        4   golmartin   dahlin       swe        4   golflorin   raducioiu       rom        4   golbebeto       bra        3   goldennis   bergkamp       ned        3   goltomas   brolin       swe        3   goljose   caminero       spa        3   golgheorghe   hagi       rom        3   gol   piala   dunia   1998tuan   rumah       prancisnegara   serta       147juara       prancis   babak   sisih   grup   grup   abrasilnorwegiamarokoskotlandia   grup    b   italiachiliaustriakamerun   grup    c   prancisdenmarkafrika   selatanarab   saudi   grup   d   nigeriaparaguayspanyolbulgaria   grup    e   belandameksikobelgiakorea   selatan   grup    g   rumaniainggriskolombiatunisia   grup    f   jermanyugoslaviairanamerika   serikat   grup    h   argentinakroasiajamaikajepang   babak   16   besaritalia   vs   norwegia    1-0brasil   vs   cili    4-1prancis   vs   paraguay    1-0nigeria   vs   denmark    1-4jerman   vs   meksico    2-1belanda   vs   yugoslavia    2-1romania   vs   kroasia    0-1argentina   vs   england    2-2        4-3       empat   finalprancis   vs   italia    0-0        4-3       brasil   vs   denmark    3-2argentina   vs   belanda    1-2kroasia   vs   jerman    3-0semi   finalbelanda   vs   brasil    1-1        2-4       prancis   vs   kroasia    2-1juara   ke-3kroasia   vs   belanda    2-1finalprancis   vs   brasil    3-0   top   skordavor   suker       kro        6   golgabriel   batistuta       arg        5   golchristian   vieri       ita        5   golmarcelo   salas       chi        4   golronaldo       bra        4   golluis   hernandez       mek        4   golbebeto       bra        3   golcesar   sampaio       bra        3   golrivaldo       bra        3   goldennis   bergkamp       bel        3   gololiver   bierhoff       jer        3   golj rgen   klinsmann       jer        3   golthierry   henry       pra        3   gol   piala   dunia   2002tuan   rumah       jepang-   korea   selatannegara   serta       198juara       brasil   babak   sisih   grup   grup   adenmarksenegaluruguayprancis   grup    b   spanyolparaguayafrika   selatanslovenia   grup    c   brasilturkikosta   rikacina   grup   d   korea   selatanamerika   serikatportugalpolandia   grup    e   jermanrepublik   irlandiakamerunsaudi   arabia   grup    g   meksikoitaliakroasiaekuador   grup    f   swediainggrisargentinanigeria   grup    h   jepangbelgiarusiatunisia   babak   16   besarjerman   vs   paraguay    1-0denmark   vs   inggris    0-3swedia   vs   senegal    1-2spanyol   vs   irlandia    3-2meksiko   vs   as    0-2brasil    v   belgia    2-0jepang    v   turki    0-1korea   selatan   vs   italia    2-1perempat   finalinggris   vs   brasil    1-2jerman   vs   as    1-0spanyol   vs   korea   selatan    3-5senegal   vs   turki    0-1   semi   finaljerman   vs   korea   selatan    1-0brasil   vs   turki    1-0   juara   ke-3korea   selatan   vs   turki    2-3finaljerman   barat   vs   brasil    0-2   top   skorronaldo       bra        8   golmiroslav   klose       jer        5   golrivaldo       bra        5   goljon   dahl   tomasson       den        4   golchristian   vieri       ita        4   golmichael   ballack       jer        3   golpedro   pauleta       por        3   golraul       spa        3   golpapa   bouba   diop       sen        3   golmarc   wilmots       bel        3   golfernando   morientes       spa        3   golhenrik   larsson       swe        3   golrobbie   keane        r       irl        3   golilhan   mansiz       tur        3   golfernando   hierro       spa        2   goljunichi   inamoto       jep        2   golnelson   cuevas       par        2   golronald   gomez       kos        2   golhasan   sas       tur        2   goljared   borgetti       mek        2   golhenri   camara       sen        2   gollandon   donovan       as        2   golbrian   mcbride       as        2   golahn   jung-hwan       kor        2   gol mit   davala       tur        2   golronaldinho       bra        2   golmichael   owen       ing        2   gol       \n",
            "\n",
            "Word count: 911\n"
          ]
        }
      ]
    },
    {
      "cell_type": "code",
      "source": [
        "plt.figure(figsize=(12, 6))\n",
        "sns.boxplot(data=train_df[['article_word_length', 'summary_word_length', 'esummary_word_length']])\n",
        "plt.title('Box Plot of Word Length for Text, Summary, and E-Summary')\n",
        "plt.ylabel('Word Count')\n",
        "plt.show()\n"
      ],
      "metadata": {
        "colab": {
          "base_uri": "https://localhost:8080/",
          "height": 773
        },
        "id": "VSGiJVazSI0X",
        "outputId": "557b58ac-d5ac-4f83-f6c4-8504cc9c9cce"
      },
      "execution_count": 19,
      "outputs": [
        {
          "output_type": "stream",
          "name": "stderr",
          "text": [
            "/usr/local/lib/python3.10/dist-packages/seaborn/_base.py:949: FutureWarning: When grouping with a length-1 list-like, you will need to pass a length-1 tuple to get_group in a future version of pandas. Pass `(name,)` instead of `name` to silence this warning.\n",
            "  data_subset = grouped_data.get_group(pd_key)\n",
            "/usr/local/lib/python3.10/dist-packages/seaborn/categorical.py:640: FutureWarning: SeriesGroupBy.grouper is deprecated and will be removed in a future version of pandas.\n",
            "  positions = grouped.grouper.result_index.to_numpy(dtype=float)\n",
            "/usr/local/lib/python3.10/dist-packages/seaborn/_base.py:949: FutureWarning: When grouping with a length-1 list-like, you will need to pass a length-1 tuple to get_group in a future version of pandas. Pass `(name,)` instead of `name` to silence this warning.\n",
            "  data_subset = grouped_data.get_group(pd_key)\n",
            "/usr/local/lib/python3.10/dist-packages/seaborn/categorical.py:640: FutureWarning: SeriesGroupBy.grouper is deprecated and will be removed in a future version of pandas.\n",
            "  positions = grouped.grouper.result_index.to_numpy(dtype=float)\n",
            "/usr/local/lib/python3.10/dist-packages/seaborn/_base.py:949: FutureWarning: When grouping with a length-1 list-like, you will need to pass a length-1 tuple to get_group in a future version of pandas. Pass `(name,)` instead of `name` to silence this warning.\n",
            "  data_subset = grouped_data.get_group(pd_key)\n",
            "/usr/local/lib/python3.10/dist-packages/seaborn/categorical.py:640: FutureWarning: SeriesGroupBy.grouper is deprecated and will be removed in a future version of pandas.\n",
            "  positions = grouped.grouper.result_index.to_numpy(dtype=float)\n"
          ]
        },
        {
          "output_type": "display_data",
          "data": {
            "text/plain": [
              "<Figure size 1200x600 with 1 Axes>"
            ],
            "image/png": "[encoded data removed]"
          },
          "metadata": {}
        }
      ]
    },
    {
      "cell_type": "code",
      "source": [
        "# prompt: find the outlier in article_word_length\n",
        "\n",
        "Q1 = train_df['article_word_length'].quantile(0.25)\n",
        "Q3 = train_df['article_word_length'].quantile(0.75)\n",
        "IQR = Q3 - Q1\n",
        "lower_bound = Q1 - 1.5 * IQR\n",
        "upper_bound = Q3 + 1.5 * IQR\n",
        "\n",
        "outliers = train_df[(train_df['article_word_length'] < lower_bound) | (train_df['article_word_length'] > upper_bound)]\n",
        "\n",
        "print(\"Outliers in 'article_word_length':\")\n",
        "print(outliers)\n"
      ],
      "metadata": {
        "colab": {
          "base_uri": "https://localhost:8080/"
        },
        "id": "yW-RzC50SmUp",
        "outputId": "6b28c7fa-f24c-4fb3-96b3-935cb72e91a6"
      },
      "execution_count": 34,
      "outputs": [
        {
          "output_type": "stream",
          "name": "stdout",
          "text": [
            "Outliers in 'article_word_length':\n",
            "            id                                                url  \\\n",
            "58      246383  https://www.liputan6.com/news/read/246383/chel...   \n",
            "119     255156  https://www.liputan6.com/news/read/255156/ani-...   \n",
            "140     253467  https://www.liputan6.com/news/read/253467/barc...   \n",
            "148      53851  https://www.liputan6.com/news/read/53851/pemer...   \n",
            "149     128084  https://www.liputan6.com/news/read/128084/soal...   \n",
            "...        ...                                                ...   \n",
            "193805   41864  https://www.liputan6.com/news/read/41864/akal-...   \n",
            "193812  121893  https://www.liputan6.com/news/read/121893/peme...   \n",
            "193814  140292  https://www.liputan6.com/news/read/140292/ujia...   \n",
            "193842   38988  https://www.liputan6.com/news/read/38988/jumla...   \n",
            "193866  210254  https://www.liputan6.com/news/read/210254/raha...   \n",
            "\n",
            "                                                     text  \\\n",
            "58        liputan6       com       london       kandid...   \n",
            "119       liputan6       com       jakarta       presi...   \n",
            "140       liputan6       com       nyon       asosiasi...   \n",
            "148       liputan6       com       jakarta       opera...   \n",
            "149       liputan6       com       jakarta       sudah...   \n",
            "...                                                   ...   \n",
            "193805    liputan6       com       pati       jantung ...   \n",
            "193812    liputan6       com       jakarta       lemba...   \n",
            "193814    liputan6       com       denpasar       uji ...   \n",
            "193842    liputan6       com       batam       gelomba...   \n",
            "193866    dalam   waktu   yang   relatif   singkat    ...   \n",
            "\n",
            "                                                  summary  \\\n",
            "58        gol   nicolas   anelka   dan   florent   mal...   \n",
            "119       selaku   kepala   negara   dan   pegang   ta...   \n",
            "140       asosiasi   sepakbola   eropa       uefa     ...   \n",
            "148       menko   polkam   susilo   bambang   yudhoyon...   \n",
            "149       benny   susetyo   wakil   50   tokoh   intel...   \n",
            "...                                                   ...   \n",
            "193805    alih   pasang   kamera   di   kamar   mandi ...   \n",
            "193812    pri   agung   rakhmanto   dari   divisi   te...   \n",
            "193814    mulai   hari   ini   uji   nasional   untuk ...   \n",
            "193842    arus   pulang   tki   lalu   batam       tan...   \n",
            "193866    dalam   waktu   yang   relatif   singkat    ...   \n",
            "\n",
            "                                                e_summary  text_length  \\\n",
            "58      dalam laga big-match yang langsung di stamford...         5725   \n",
            "119     namun  selaku kepala negara dan pegang tampuk ...        11755   \n",
            "140     liputan6  com  nyon  asosiasi sepakbola eropa ...         4956   \n",
            "148     turut menteri koordinator bidang politik dan a...         3749   \n",
            "149     kondisi ini undang prihatin 50 tokoh intelektu...         4228   \n",
            "...                                                   ...          ...   \n",
            "193805  nyata david pasang kamera kamar mandi di kanto...         7500   \n",
            "193812  apalagi jika bijak ini serta sanksi bagi yang ...         4180   \n",
            "193814  liputan6  com  denpasar  uji nasional untuk si...         5318   \n",
            "193842  liputan6  com  batam  gelombang pulang tenaga ...         3587   \n",
            "193866  dalam waktu yang relatif singkat  juande ramos...         3703   \n",
            "\n",
            "        summary_length  article_word_length  summary_word_length  \\\n",
            "58                 295                  628                   32   \n",
            "119                342                 1337                   38   \n",
            "140                244                  464                   27   \n",
            "148                199                  407                   22   \n",
            "149                237                  469                   26   \n",
            "...                ...                  ...                  ...   \n",
            "193805             203                  826                   22   \n",
            "193812             212                  475                   24   \n",
            "193814             237                  616                   27   \n",
            "193842             217                  408                   23   \n",
            "193866             318                  430                   32   \n",
            "\n",
            "        esummary_word_length  e_summary_length  \n",
            "58                        45               266  \n",
            "119                       40               254  \n",
            "140                       38               246  \n",
            "148                       38               270  \n",
            "149                       42               270  \n",
            "...                      ...               ...  \n",
            "193805                    22               143  \n",
            "193812                    42               261  \n",
            "193814                    34               205  \n",
            "193842                    52               353  \n",
            "193866                    35               235  \n",
            "\n",
            "[9138 rows x 11 columns]\n"
          ]
        }
      ]
    },
    {
      "cell_type": "code",
      "source": [
        "# Define a function to remove outliers based on IQR\n",
        "def remove_outliers(df, column):\n",
        "    Q1 = train_df[column].quantile(0.25)\n",
        "    Q3 = train_df[column].quantile(0.75)\n",
        "    IQR = Q3 - Q1\n",
        "    lower_bound = Q1 - 1.5 * IQR\n",
        "    upper_bound = Q3 + 1.5 * IQR\n",
        "    df_filtered = df[(df[column] >= lower_bound) & (df[column] <= upper_bound)]\n",
        "    return df_filtered\n",
        "\n",
        "# Apply the function to remove outliers in relevant columns\n",
        "text_cleaned = remove_outliers(train_df, 'article_word_length')\n",
        "summary_cleaned = remove_outliers(train_df, 'summary_word_length')\n",
        "esummary_cleaned = remove_outliers(train_df, 'esummary_word_length')"
      ],
      "metadata": {
        "id": "5GePNBXTTkR4"
      },
      "execution_count": 35,
      "outputs": []
    },
    {
      "cell_type": "code",
      "source": [
        "text_cleaned.shape\n"
      ],
      "metadata": {
        "colab": {
          "base_uri": "https://localhost:8080/"
        },
        "id": "d-HjuIydWmPE",
        "outputId": "8f671838-5ea8-4591-bc8a-fa0d08839cf5"
      },
      "execution_count": 36,
      "outputs": [
        {
          "output_type": "execute_result",
          "data": {
            "text/plain": [
              "(184745, 11)"
            ]
          },
          "metadata": {},
          "execution_count": 36
        }
      ]
    },
    {
      "cell_type": "code",
      "source": [
        "summary_cleaned.shape\n"
      ],
      "metadata": {
        "colab": {
          "base_uri": "https://localhost:8080/"
        },
        "id": "iSGMSuCpWmRU",
        "outputId": "d4002df4-2942-4a44-b6ab-cefdeeef5b78"
      },
      "execution_count": 37,
      "outputs": [
        {
          "output_type": "execute_result",
          "data": {
            "text/plain": [
              "(186164, 11)"
            ]
          },
          "metadata": {},
          "execution_count": 37
        }
      ]
    },
    {
      "cell_type": "code",
      "source": [
        "esummary_cleaned.shape"
      ],
      "metadata": {
        "colab": {
          "base_uri": "https://localhost:8080/"
        },
        "id": "6Oqr6okQWe9F",
        "outputId": "e1417358-8f5f-476d-92b2-b1a804157cad"
      },
      "execution_count": 38,
      "outputs": [
        {
          "output_type": "execute_result",
          "data": {
            "text/plain": [
              "(189817, 11)"
            ]
          },
          "metadata": {},
          "execution_count": 38
        }
      ]
    },
    {
      "cell_type": "code",
      "source": [
        "# prompt: show plot box based on text_cleaned\n",
        "\n",
        "plt.figure(figsize=(12, 6))\n",
        "sns.boxplot(data=text_cleaned[['article_word_length', 'summary_word_length', 'esummary_word_length']])\n",
        "plt.title('Box Plot of Word Length for Text, Summary, and E-Summary after outlier removal')\n",
        "plt.ylabel('Word Count')\n",
        "plt.show()\n"
      ],
      "metadata": {
        "colab": {
          "base_uri": "https://localhost:8080/",
          "height": 668
        },
        "id": "GScWTicZWzV9",
        "outputId": "8496a656-e4ff-4b99-a66a-6ae5c1735516"
      },
      "execution_count": 39,
      "outputs": [
        {
          "output_type": "stream",
          "name": "stderr",
          "text": [
            "/usr/local/lib/python3.10/dist-packages/seaborn/_base.py:949: FutureWarning: When grouping with a length-1 list-like, you will need to pass a length-1 tuple to get_group in a future version of pandas. Pass `(name,)` instead of `name` to silence this warning.\n",
            "  data_subset = grouped_data.get_group(pd_key)\n",
            "/usr/local/lib/python3.10/dist-packages/seaborn/categorical.py:640: FutureWarning: SeriesGroupBy.grouper is deprecated and will be removed in a future version of pandas.\n",
            "  positions = grouped.grouper.result_index.to_numpy(dtype=float)\n",
            "/usr/local/lib/python3.10/dist-packages/seaborn/_base.py:949: FutureWarning: When grouping with a length-1 list-like, you will need to pass a length-1 tuple to get_group in a future version of pandas. Pass `(name,)` instead of `name` to silence this warning.\n",
            "  data_subset = grouped_data.get_group(pd_key)\n",
            "/usr/local/lib/python3.10/dist-packages/seaborn/categorical.py:640: FutureWarning: SeriesGroupBy.grouper is deprecated and will be removed in a future version of pandas.\n",
            "  positions = grouped.grouper.result_index.to_numpy(dtype=float)\n",
            "/usr/local/lib/python3.10/dist-packages/seaborn/_base.py:949: FutureWarning: When grouping with a length-1 list-like, you will need to pass a length-1 tuple to get_group in a future version of pandas. Pass `(name,)` instead of `name` to silence this warning.\n",
            "  data_subset = grouped_data.get_group(pd_key)\n",
            "/usr/local/lib/python3.10/dist-packages/seaborn/categorical.py:640: FutureWarning: SeriesGroupBy.grouper is deprecated and will be removed in a future version of pandas.\n",
            "  positions = grouped.grouper.result_index.to_numpy(dtype=float)\n"
          ]
        },
        {
          "output_type": "display_data",
          "data": {
            "text/plain": [
              "<Figure size 1200x600 with 1 Axes>"
            ],
            "image/png": "[encoded data removed]"
          },
          "metadata": {}
        }
      ]
    },
    {
      "cell_type": "code",
      "source": [
        "# prompt: drop the column article_word_length, summary_word_length, esummary_word_length\n",
        "\n",
        "train_df = train_df.drop(['article_word_length', 'summary_word_length', 'esummary_word_length'], axis=1)\n"
      ],
      "metadata": {
        "id": "-1F1fFx6X86W"
      },
      "execution_count": 46,
      "outputs": []
    },
    {
      "cell_type": "code",
      "source": [
        "train_df.loc[1]"
      ],
      "metadata": {
        "colab": {
          "base_uri": "https://localhost:8080/",
          "height": 335
        },
        "id": "2FZlTD-EYV6U",
        "outputId": "bfbae1b7-d175-4034-e81b-4e12a56ae8a3"
      },
      "execution_count": 48,
      "outputs": [
        {
          "output_type": "execute_result",
          "data": {
            "text/plain": [
              "id                                                             205215\n",
              "url                 https://www.liputan6.com/news/read/205215/defo...\n",
              "text                  striker   timnas   inggris   yang   main   s...\n",
              "summary               tanding   lawan   manchester   city   rupa  ...\n",
              "e_summary           striker timnas inggris yang main sama tottenha...\n",
              "text_length                                                      3277\n",
              "summary_length                                                    268\n",
              "e_summary_length                                                  219\n",
              "Name: 1, dtype: object"
            ],
            "text/html": [
              "<div>\n",
              "<style scoped>\n",
              "    .dataframe tbody tr th:only-of-type {\n",
              "        vertical-align: middle;\n",
              "    }\n",
              "\n",
              "    .dataframe tbody tr th {\n",
              "        vertical-align: top;\n",
              "    }\n",
              "\n",
              "    .dataframe thead th {\n",
              "        text-align: right;\n",
              "    }\n",
              "</style>\n",
              "<table border=\"1\" class=\"dataframe\">\n",
              "  <thead>\n",
              "    <tr style=\"text-align: right;\">\n",
              "      <th></th>\n",
              "      <th>1</th>\n",
              "    </tr>\n",
              "  </thead>\n",
              "  <tbody>\n",
              "    <tr>\n",
              "      <th>id</th>\n",
              "      <td>205215</td>\n",
              "    </tr>\n",
              "    <tr>\n",
              "      <th>url</th>\n",
              "      <td>https://www.liputan6.com/news/read/205215/defo...</td>\n",
              "    </tr>\n",
              "    <tr>\n",
              "      <th>text</th>\n",
              "      <td>striker   timnas   inggris   yang   main   s...</td>\n",
              "    </tr>\n",
              "    <tr>\n",
              "      <th>summary</th>\n",
              "      <td>tanding   lawan   manchester   city   rupa  ...</td>\n",
              "    </tr>\n",
              "    <tr>\n",
              "      <th>e_summary</th>\n",
              "      <td>striker timnas inggris yang main sama tottenha...</td>\n",
              "    </tr>\n",
              "    <tr>\n",
              "      <th>text_length</th>\n",
              "      <td>3277</td>\n",
              "    </tr>\n",
              "    <tr>\n",
              "      <th>summary_length</th>\n",
              "      <td>268</td>\n",
              "    </tr>\n",
              "    <tr>\n",
              "      <th>e_summary_length</th>\n",
              "      <td>219</td>\n",
              "    </tr>\n",
              "  </tbody>\n",
              "</table>\n",
              "</div><br><label><b>dtype:</b> object</label>"
            ]
          },
          "metadata": {},
          "execution_count": 48
        }
      ]
    },
    {
      "cell_type": "code",
      "source": [
        "# prompt: delete data row with outlier based on text_length\n",
        "\n",
        "Q1 = train_df['text'].apply(lambda x: len(str(x).split())).quantile(0.25)\n",
        "Q3 = train_df['text'].apply(lambda x: len(str(x).split())).quantile(0.75)\n",
        "IQR = Q3 - Q1\n",
        "lower_bound = Q1 - 1.5 * IQR\n",
        "upper_bound = Q3 + 1.5 * IQR\n",
        "\n",
        "train_df_filtered = train_df[\n",
        "    train_df['text'].apply(lambda x: len(str(x).split())).between(lower_bound, upper_bound)\n",
        "]\n",
        "print(train_df_filtered.shape)\n"
      ],
      "metadata": {
        "colab": {
          "base_uri": "https://localhost:8080/"
        },
        "id": "FfFG2h-LYYYk",
        "outputId": "c2f565e6-262a-4868-992f-db02c463ce47"
      },
      "execution_count": 49,
      "outputs": [
        {
          "output_type": "stream",
          "name": "stdout",
          "text": [
            "(184745, 8)\n"
          ]
        }
      ]
    },
    {
      "cell_type": "code",
      "source": [
        "train_df.shape"
      ],
      "metadata": {
        "colab": {
          "base_uri": "https://localhost:8080/"
        },
        "id": "645nuOI4Yndr",
        "outputId": "3db3bddf-a23e-46ce-d6b0-fba180a851cb"
      },
      "execution_count": 51,
      "outputs": [
        {
          "output_type": "execute_result",
          "data": {
            "text/plain": [
              "(193883, 8)"
            ]
          },
          "metadata": {},
          "execution_count": 51
        }
      ]
    },
    {
      "cell_type": "code",
      "source": [
        "train_df_filtered.loc[1]"
      ],
      "metadata": {
        "colab": {
          "base_uri": "https://localhost:8080/",
          "height": 335
        },
        "id": "culNEZ1VYuGQ",
        "outputId": "62c90c6c-110d-44c8-c80a-5e723657ec91"
      },
      "execution_count": 52,
      "outputs": [
        {
          "output_type": "execute_result",
          "data": {
            "text/plain": [
              "id                                                             205215\n",
              "url                 https://www.liputan6.com/news/read/205215/defo...\n",
              "text                  striker   timnas   inggris   yang   main   s...\n",
              "summary               tanding   lawan   manchester   city   rupa  ...\n",
              "e_summary           striker timnas inggris yang main sama tottenha...\n",
              "text_length                                                      3277\n",
              "summary_length                                                    268\n",
              "e_summary_length                                                  219\n",
              "Name: 1, dtype: object"
            ],
            "text/html": [
              "<div>\n",
              "<style scoped>\n",
              "    .dataframe tbody tr th:only-of-type {\n",
              "        vertical-align: middle;\n",
              "    }\n",
              "\n",
              "    .dataframe tbody tr th {\n",
              "        vertical-align: top;\n",
              "    }\n",
              "\n",
              "    .dataframe thead th {\n",
              "        text-align: right;\n",
              "    }\n",
              "</style>\n",
              "<table border=\"1\" class=\"dataframe\">\n",
              "  <thead>\n",
              "    <tr style=\"text-align: right;\">\n",
              "      <th></th>\n",
              "      <th>1</th>\n",
              "    </tr>\n",
              "  </thead>\n",
              "  <tbody>\n",
              "    <tr>\n",
              "      <th>id</th>\n",
              "      <td>205215</td>\n",
              "    </tr>\n",
              "    <tr>\n",
              "      <th>url</th>\n",
              "      <td>https://www.liputan6.com/news/read/205215/defo...</td>\n",
              "    </tr>\n",
              "    <tr>\n",
              "      <th>text</th>\n",
              "      <td>striker   timnas   inggris   yang   main   s...</td>\n",
              "    </tr>\n",
              "    <tr>\n",
              "      <th>summary</th>\n",
              "      <td>tanding   lawan   manchester   city   rupa  ...</td>\n",
              "    </tr>\n",
              "    <tr>\n",
              "      <th>e_summary</th>\n",
              "      <td>striker timnas inggris yang main sama tottenha...</td>\n",
              "    </tr>\n",
              "    <tr>\n",
              "      <th>text_length</th>\n",
              "      <td>3277</td>\n",
              "    </tr>\n",
              "    <tr>\n",
              "      <th>summary_length</th>\n",
              "      <td>268</td>\n",
              "    </tr>\n",
              "    <tr>\n",
              "      <th>e_summary_length</th>\n",
              "      <td>219</td>\n",
              "    </tr>\n",
              "  </tbody>\n",
              "</table>\n",
              "</div><br><label><b>dtype:</b> object</label>"
            ]
          },
          "metadata": {},
          "execution_count": 52
        }
      ]
    },
    {
      "cell_type": "code",
      "source": [
        "# prompt: show boxplot of train_df_filtered\n",
        "\n",
        "plt.figure(figsize=(12, 6))\n",
        "sns.boxplot(data=train_df_filtered[['text_length','summary_length','e_summary_length']])\n",
        "plt.title('Box Plot of Word Length for Text after outlier removal')\n",
        "plt.ylabel('Word Count')\n",
        "plt.show()\n"
      ],
      "metadata": {
        "colab": {
          "base_uri": "https://localhost:8080/",
          "height": 664
        },
        "id": "IQZ7g_7hY2Ae",
        "outputId": "ef43c249-0726-4409-88e4-e4282a3a5926"
      },
      "execution_count": 56,
      "outputs": [
        {
          "output_type": "stream",
          "name": "stderr",
          "text": [
            "/usr/local/lib/python3.10/dist-packages/seaborn/_base.py:949: FutureWarning: When grouping with a length-1 list-like, you will need to pass a length-1 tuple to get_group in a future version of pandas. Pass `(name,)` instead of `name` to silence this warning.\n",
            "  data_subset = grouped_data.get_group(pd_key)\n",
            "/usr/local/lib/python3.10/dist-packages/seaborn/categorical.py:640: FutureWarning: SeriesGroupBy.grouper is deprecated and will be removed in a future version of pandas.\n",
            "  positions = grouped.grouper.result_index.to_numpy(dtype=float)\n",
            "/usr/local/lib/python3.10/dist-packages/seaborn/_base.py:949: FutureWarning: When grouping with a length-1 list-like, you will need to pass a length-1 tuple to get_group in a future version of pandas. Pass `(name,)` instead of `name` to silence this warning.\n",
            "  data_subset = grouped_data.get_group(pd_key)\n",
            "/usr/local/lib/python3.10/dist-packages/seaborn/categorical.py:640: FutureWarning: SeriesGroupBy.grouper is deprecated and will be removed in a future version of pandas.\n",
            "  positions = grouped.grouper.result_index.to_numpy(dtype=float)\n",
            "/usr/local/lib/python3.10/dist-packages/seaborn/_base.py:949: FutureWarning: When grouping with a length-1 list-like, you will need to pass a length-1 tuple to get_group in a future version of pandas. Pass `(name,)` instead of `name` to silence this warning.\n",
            "  data_subset = grouped_data.get_group(pd_key)\n",
            "/usr/local/lib/python3.10/dist-packages/seaborn/categorical.py:640: FutureWarning: SeriesGroupBy.grouper is deprecated and will be removed in a future version of pandas.\n",
            "  positions = grouped.grouper.result_index.to_numpy(dtype=float)\n"
          ]
        },
        {
          "output_type": "display_data",
          "data": {
            "text/plain": [
              "<Figure size 1200x600 with 1 Axes>"
            ],
            "image/png": "[encoded data removed]"
          },
          "metadata": {}
        }
      ]
    },
    {
      "cell_type": "code",
      "source": [
        "# prompt: delete the row with outlier in 'text_length','summary_length','e_summary_length' column\n",
        "\n",
        "# Calculate the IQR for each column\n",
        "Q1_text = train_df['text'].apply(lambda x: len(str(x).split())).quantile(0.25)\n",
        "Q3_text = train_df['text'].apply(lambda x: len(str(x).split())).quantile(0.75)\n",
        "IQR_text = Q3_text - Q1_text\n",
        "lower_bound_text = Q1_text - 1.5 * IQR_text\n",
        "upper_bound_text = Q3_text + 1.5 * IQR_text\n",
        "\n",
        "Q1_summary = train_df['summary'].apply(lambda x: len(str(x).split())).quantile(0.25)\n",
        "Q3_summary = train_df['summary'].apply(lambda x: len(str(x).split())).quantile(0.75)\n",
        "IQR_summary = Q3_summary - Q1_summary\n",
        "lower_bound_summary = Q1_summary - 1.5 * IQR_summary\n",
        "upper_bound_summary = Q3_summary + 1.5 * IQR_summary\n",
        "\n",
        "\n",
        "Q1_e_summary = train_df['e_summary'].apply(lambda x: len(str(x).split())).quantile(0.25)\n",
        "Q3_e_summary = train_df['e_summary'].apply(lambda x: len(str(x).split())).quantile(0.75)\n",
        "IQR_e_summary = Q3_e_summary - Q1_e_summary\n",
        "lower_bound_e_summary = Q1_e_summary - 1.5 * IQR_e_summary\n",
        "upper_bound_e_summary = Q3_e_summary + 1.5 * IQR_e_summary\n",
        "\n",
        "\n",
        "# Filter out rows with outliers in 'text_length', 'summary_length', and 'e_summary_length'\n",
        "train_df_no_outliers = train_df[\n",
        "    train_df['text'].apply(lambda x: len(str(x).split())).between(lower_bound_text, upper_bound_text) &\n",
        "    train_df['summary'].apply(lambda x: len(str(x).split())).between(lower_bound_summary, upper_bound_summary) &\n",
        "    train_df['e_summary'].apply(lambda x: len(str(x).split())).between(lower_bound_e_summary, upper_bound_e_summary)\n",
        "]\n",
        "\n",
        "print(\"Original DataFrame shape:\", train_df.shape)\n",
        "print(\"DataFrame shape after removing outliers:\", train_df_no_outliers.shape)\n"
      ],
      "metadata": {
        "colab": {
          "base_uri": "https://localhost:8080/"
        },
        "id": "fcDSc7P7Y-f1",
        "outputId": "5b7328a0-16b9-494d-d93a-678ae71dfa79"
      },
      "execution_count": 57,
      "outputs": [
        {
          "output_type": "stream",
          "name": "stdout",
          "text": [
            "Original DataFrame shape: (193883, 8)\n",
            "DataFrame shape after removing outliers: (174494, 8)\n"
          ]
        }
      ]
    },
    {
      "cell_type": "code",
      "source": [
        "train_df_no_outliers.iloc[1]"
      ],
      "metadata": {
        "colab": {
          "base_uri": "https://localhost:8080/",
          "height": 335
        },
        "id": "lElY6Z8kZyjf",
        "outputId": "ac42906a-8a6f-4c3d-92a0-d0f3f86a02ca"
      },
      "execution_count": 58,
      "outputs": [
        {
          "output_type": "execute_result",
          "data": {
            "text/plain": [
              "id                                                             205215\n",
              "url                 https://www.liputan6.com/news/read/205215/defo...\n",
              "text                  striker   timnas   inggris   yang   main   s...\n",
              "summary               tanding   lawan   manchester   city   rupa  ...\n",
              "e_summary           striker timnas inggris yang main sama tottenha...\n",
              "text_length                                                      3277\n",
              "summary_length                                                    268\n",
              "e_summary_length                                                  219\n",
              "Name: 1, dtype: object"
            ],
            "text/html": [
              "<div>\n",
              "<style scoped>\n",
              "    .dataframe tbody tr th:only-of-type {\n",
              "        vertical-align: middle;\n",
              "    }\n",
              "\n",
              "    .dataframe tbody tr th {\n",
              "        vertical-align: top;\n",
              "    }\n",
              "\n",
              "    .dataframe thead th {\n",
              "        text-align: right;\n",
              "    }\n",
              "</style>\n",
              "<table border=\"1\" class=\"dataframe\">\n",
              "  <thead>\n",
              "    <tr style=\"text-align: right;\">\n",
              "      <th></th>\n",
              "      <th>1</th>\n",
              "    </tr>\n",
              "  </thead>\n",
              "  <tbody>\n",
              "    <tr>\n",
              "      <th>id</th>\n",
              "      <td>205215</td>\n",
              "    </tr>\n",
              "    <tr>\n",
              "      <th>url</th>\n",
              "      <td>https://www.liputan6.com/news/read/205215/defo...</td>\n",
              "    </tr>\n",
              "    <tr>\n",
              "      <th>text</th>\n",
              "      <td>striker   timnas   inggris   yang   main   s...</td>\n",
              "    </tr>\n",
              "    <tr>\n",
              "      <th>summary</th>\n",
              "      <td>tanding   lawan   manchester   city   rupa  ...</td>\n",
              "    </tr>\n",
              "    <tr>\n",
              "      <th>e_summary</th>\n",
              "      <td>striker timnas inggris yang main sama tottenha...</td>\n",
              "    </tr>\n",
              "    <tr>\n",
              "      <th>text_length</th>\n",
              "      <td>3277</td>\n",
              "    </tr>\n",
              "    <tr>\n",
              "      <th>summary_length</th>\n",
              "      <td>268</td>\n",
              "    </tr>\n",
              "    <tr>\n",
              "      <th>e_summary_length</th>\n",
              "      <td>219</td>\n",
              "    </tr>\n",
              "  </tbody>\n",
              "</table>\n",
              "</div><br><label><b>dtype:</b> object</label>"
            ]
          },
          "metadata": {},
          "execution_count": 58
        }
      ]
    },
    {
      "cell_type": "code",
      "source": [
        "# prompt: show boxplot of train_df_filtered\n",
        "\n",
        "plt.figure(figsize=(12, 6))\n",
        "sns.boxplot(data=train_df_no_outliers[['text_length','summary_length','e_summary_length']])\n",
        "plt.title('Box Plot of Word Length for Text after outlier removal')\n",
        "plt.ylabel('Word Count')\n",
        "plt.show()"
      ],
      "metadata": {
        "colab": {
          "base_uri": "https://localhost:8080/",
          "height": 664
        },
        "id": "MoorD-2pZ7iQ",
        "outputId": "e72f9e6b-6ea8-43bb-8b6f-115cb607cb5f"
      },
      "execution_count": 59,
      "outputs": [
        {
          "output_type": "stream",
          "name": "stderr",
          "text": [
            "/usr/local/lib/python3.10/dist-packages/seaborn/_base.py:949: FutureWarning: When grouping with a length-1 list-like, you will need to pass a length-1 tuple to get_group in a future version of pandas. Pass `(name,)` instead of `name` to silence this warning.\n",
            "  data_subset = grouped_data.get_group(pd_key)\n",
            "/usr/local/lib/python3.10/dist-packages/seaborn/categorical.py:640: FutureWarning: SeriesGroupBy.grouper is deprecated and will be removed in a future version of pandas.\n",
            "  positions = grouped.grouper.result_index.to_numpy(dtype=float)\n",
            "/usr/local/lib/python3.10/dist-packages/seaborn/_base.py:949: FutureWarning: When grouping with a length-1 list-like, you will need to pass a length-1 tuple to get_group in a future version of pandas. Pass `(name,)` instead of `name` to silence this warning.\n",
            "  data_subset = grouped_data.get_group(pd_key)\n",
            "/usr/local/lib/python3.10/dist-packages/seaborn/categorical.py:640: FutureWarning: SeriesGroupBy.grouper is deprecated and will be removed in a future version of pandas.\n",
            "  positions = grouped.grouper.result_index.to_numpy(dtype=float)\n",
            "/usr/local/lib/python3.10/dist-packages/seaborn/_base.py:949: FutureWarning: When grouping with a length-1 list-like, you will need to pass a length-1 tuple to get_group in a future version of pandas. Pass `(name,)` instead of `name` to silence this warning.\n",
            "  data_subset = grouped_data.get_group(pd_key)\n",
            "/usr/local/lib/python3.10/dist-packages/seaborn/categorical.py:640: FutureWarning: SeriesGroupBy.grouper is deprecated and will be removed in a future version of pandas.\n",
            "  positions = grouped.grouper.result_index.to_numpy(dtype=float)\n"
          ]
        },
        {
          "output_type": "display_data",
          "data": {
            "text/plain": [
              "<Figure size 1200x600 with 1 Axes>"
            ],
            "image/png": "[encoded data removed]"
          },
          "metadata": {}
        }
      ]
    },
    {
      "cell_type": "code",
      "source": [
        "# prompt: rename the train_df_no_outliers to train2_df\n",
        "\n",
        "train2_df = train_df_no_outliers\n"
      ],
      "metadata": {
        "id": "2M8kITeuaAMI"
      },
      "execution_count": 60,
      "outputs": []
    },
    {
      "cell_type": "code",
      "source": [
        "train2_df.iloc[1]"
      ],
      "metadata": {
        "colab": {
          "base_uri": "https://localhost:8080/",
          "height": 241
        },
        "id": "eGMZ7S0GaI2L",
        "outputId": "6a9bf2ba-82e8-4671-a76e-cfb998e5221f"
      },
      "execution_count": 64,
      "outputs": [
        {
          "output_type": "execute_result",
          "data": {
            "text/plain": [
              "id                                                      205215\n",
              "url          https://www.liputan6.com/news/read/205215/defo...\n",
              "text           striker   timnas   inggris   yang   main   s...\n",
              "summary        tanding   lawan   manchester   city   rupa  ...\n",
              "e_summary    striker timnas inggris yang main sama tottenha...\n",
              "Name: 1, dtype: object"
            ],
            "text/html": [
              "<div>\n",
              "<style scoped>\n",
              "    .dataframe tbody tr th:only-of-type {\n",
              "        vertical-align: middle;\n",
              "    }\n",
              "\n",
              "    .dataframe tbody tr th {\n",
              "        vertical-align: top;\n",
              "    }\n",
              "\n",
              "    .dataframe thead th {\n",
              "        text-align: right;\n",
              "    }\n",
              "</style>\n",
              "<table border=\"1\" class=\"dataframe\">\n",
              "  <thead>\n",
              "    <tr style=\"text-align: right;\">\n",
              "      <th></th>\n",
              "      <th>1</th>\n",
              "    </tr>\n",
              "  </thead>\n",
              "  <tbody>\n",
              "    <tr>\n",
              "      <th>id</th>\n",
              "      <td>205215</td>\n",
              "    </tr>\n",
              "    <tr>\n",
              "      <th>url</th>\n",
              "      <td>https://www.liputan6.com/news/read/205215/defo...</td>\n",
              "    </tr>\n",
              "    <tr>\n",
              "      <th>text</th>\n",
              "      <td>striker   timnas   inggris   yang   main   s...</td>\n",
              "    </tr>\n",
              "    <tr>\n",
              "      <th>summary</th>\n",
              "      <td>tanding   lawan   manchester   city   rupa  ...</td>\n",
              "    </tr>\n",
              "    <tr>\n",
              "      <th>e_summary</th>\n",
              "      <td>striker timnas inggris yang main sama tottenha...</td>\n",
              "    </tr>\n",
              "  </tbody>\n",
              "</table>\n",
              "</div><br><label><b>dtype:</b> object</label>"
            ]
          },
          "metadata": {},
          "execution_count": 64
        }
      ]
    },
    {
      "cell_type": "code",
      "source": [
        "# prompt: see the outlier in train2_df\n",
        "\n",
        "# Calculate the IQR for each column\n",
        "Q1_text = train2_df['text'].apply(lambda x: len(str(x).split())).quantile(0.25)\n",
        "Q3_text = train2_df['text'].apply(lambda x: len(str(x).split())).quantile(0.75)\n",
        "IQR_text = Q3_text - Q1_text\n",
        "lower_bound_text = Q1_text - 1.5 * IQR_text\n",
        "upper_bound_text = Q3_text + 1.5 * IQR_text\n",
        "\n",
        "Q1_summary = train2_df['summary'].apply(lambda x: len(str(x).split())).quantile(0.25)\n",
        "Q3_summary = train2_df['summary'].apply(lambda x: len(str(x).split())).quantile(0.75)\n",
        "IQR_summary = Q3_summary - Q1_summary\n",
        "lower_bound_summary = Q1_summary - 1.5 * IQR_summary\n",
        "upper_bound_summary = Q3_summary + 1.5 * IQR_summary\n",
        "\n",
        "\n",
        "Q1_e_summary = train2_df['e_summary'].apply(lambda x: len(str(x).split())).quantile(0.25)\n",
        "Q3_e_summary = train2_df['e_summary'].apply(lambda x: len(str(x).split())).quantile(0.75)\n",
        "IQR_e_summary = Q3_e_summary - Q1_e_summary\n",
        "lower_bound_e_summary = Q1_e_summary - 1.5 * IQR_e_summary\n",
        "upper_bound_e_summary = Q3_e_summary + 1.5 * IQR_e_summary\n",
        "\n",
        "\n",
        "# Find rows with outliers in 'text_length', 'summary_length', and 'e_summary_length'\n",
        "outliers = train2_df[\n",
        "    ~(train2_df['text'].apply(lambda x: len(str(x).split())).between(lower_bound_text, upper_bound_text) &\n",
        "      train2_df['summary'].apply(lambda x: len(str(x).split())).between(lower_bound_summary, upper_bound_summary) &\n",
        "      train2_df['e_summary'].apply(lambda x: len(str(x).split())).between(lower_bound_e_summary, upper_bound_e_summary))\n",
        "]\n",
        "\n",
        "print(\"Outliers in train2_df:\")\n",
        "print(outliers)\n"
      ],
      "metadata": {
        "colab": {
          "base_uri": "https://localhost:8080/"
        },
        "id": "KtP3kHUVabIl",
        "outputId": "6586763d-93ff-4825-ed58-6e67941244ba"
      },
      "execution_count": 65,
      "outputs": [
        {
          "output_type": "stream",
          "name": "stdout",
          "text": [
            "Outliers in train2_df:\n",
            "            id                                                url  \\\n",
            "1       205215  https://www.liputan6.com/news/read/205215/defo...   \n",
            "9       212975  https://www.liputan6.com/news/read/212975/pers...   \n",
            "75      262375  https://www.liputan6.com/news/read/262375/demi...   \n",
            "102      89818  https://www.liputan6.com/news/read/89818/jalur...   \n",
            "136     214673  https://www.liputan6.com/news/read/214673/il-t...   \n",
            "...        ...                                                ...   \n",
            "193685  259892  https://www.liputan6.com/news/read/259892/weng...   \n",
            "193791  210187  https://www.liputan6.com/news/read/210187/keeg...   \n",
            "193803   38083  https://www.liputan6.com/news/read/38083/dpp-p...   \n",
            "193850  233043  https://www.liputan6.com/news/read/233043/dicu...   \n",
            "193867  298620  https://www.liputan6.com/news/read/298620/bank...   \n",
            "\n",
            "                                                     text  \\\n",
            "1         striker   timnas   inggris   yang   main   s...   \n",
            "9         partai   kandang   tidak   sia   oleh   pers...   \n",
            "75        liputan6       com       portsmouth       de...   \n",
            "102       liputan6       com       purwakarta       ar...   \n",
            "136       ac   mil   gagal   bawa   pulang   poin   ma...   \n",
            "...                                                   ...   \n",
            "193685    liputan6       com       london       awal  ...   \n",
            "193791    dalam   debut   kembali   tangan   newcastle...   \n",
            "193803    liputan6       com       jakarta       rapat...   \n",
            "193850    liputan6       com       mil       serasa   ...   \n",
            "193867    liputan6       com       jakarta       bank ...   \n",
            "\n",
            "                                                  summary  \\\n",
            "1         tanding   lawan   manchester   city   rupa  ...   \n",
            "9         dua   klub   asal   papua   petik   menang  ...   \n",
            "75        demi   saing   raih   satu   tempat   dalam ...   \n",
            "102       kapolri   jenderal   polisi   da    i   bach...   \n",
            "136       ac   mil   tak   sanggup   bawa   pulang   t...   \n",
            "...                                                   ...   \n",
            "193685    bursa   transfer   januari   tinggal   sisa ...   \n",
            "193791    tinggal   puluh   hari   bagi   manajer   ne...   \n",
            "193803    jumlah   anggota   dpd   pdi-p   kecewa   de...   \n",
            "193850    sikap   petinggi   klub   yang   lebih   pen...   \n",
            "193867    bank   dunia   nyata   bahwa   fundamental  ...   \n",
            "\n",
            "                                                e_summary  \n",
            "1       striker timnas inggris yang main sama tottenha...  \n",
            "9       dua klub asal papua itu raih poin sempurna dal...  \n",
            "75      liputan6  com  portsmouth  demi tampil di turn...  \n",
            "102     pada jumat  12 11   macet jadi di pasar tumpah...  \n",
            "136     ac mil gagal bawa pulang poin maksimal dari la...  \n",
            "...                                                   ...  \n",
            "193685  akan tetapi  sampai detik ini ketika bursa tra...  \n",
            "193791  absen sembilan main pilar jadi alas keegan  da...  \n",
            "193803  namun  jumlah anggota dewan pimpin daerah pdi-...  \n",
            "193850  apalagi  usai kompetisi musim 2008-09 akhir  n...  \n",
            "193867  liputan6  com  jakarta  bank dunia nyata bahwa...  \n",
            "\n",
            "[5436 rows x 5 columns]\n"
          ]
        }
      ]
    },
    {
      "cell_type": "code",
      "source": [
        "# prompt: delete that rows that assumed as outlier in train2_df\n",
        "\n",
        "# Remove rows with outliers\n",
        "train2_df_no_outliers = train2_df[\n",
        "    train2_df['text'].apply(lambda x: len(str(x).split())).between(lower_bound_text, upper_bound_text) &\n",
        "    train2_df['summary'].apply(lambda x: len(str(x).split())).between(lower_bound_summary, upper_bound_summary) &\n",
        "    train2_df['e_summary'].apply(lambda x: len(str(x).split())).between(lower_bound_e_summary, upper_bound_e_summary)\n",
        "]\n",
        "\n",
        "print(\"Original DataFrame shape:\", train2_df.shape)\n",
        "print(\"DataFrame shape after removing outliers:\", train2_df_no_outliers.shape)\n"
      ],
      "metadata": {
        "colab": {
          "base_uri": "https://localhost:8080/"
        },
        "id": "ltIxeMIbaltZ",
        "outputId": "bdbc5686-2465-4d79-971f-9f22e401ab94"
      },
      "execution_count": 66,
      "outputs": [
        {
          "output_type": "stream",
          "name": "stdout",
          "text": [
            "Original DataFrame shape: (174494, 5)\n",
            "DataFrame shape after removing outliers: (169058, 5)\n"
          ]
        }
      ]
    },
    {
      "cell_type": "code",
      "source": [
        "train2_df_no_outliers.iloc[1]"
      ],
      "metadata": {
        "colab": {
          "base_uri": "https://localhost:8080/",
          "height": 241
        },
        "id": "8cluhL6uawi2",
        "outputId": "4ee45f1c-b4d6-4f54-a861-4e1ef30830fc"
      },
      "execution_count": 68,
      "outputs": [
        {
          "output_type": "execute_result",
          "data": {
            "text/plain": [
              "id                                                      146657\n",
              "url          https://www.liputan6.com/news/read/146657/rama...\n",
              "text           liputan6       com       jakarta       harga...\n",
              "summary        harga   bahan   pokok   seperti   minyak   g...\n",
              "e_summary    liputan6  com  jakarta  harga jumlah butuh pok...\n",
              "Name: 2, dtype: object"
            ],
            "text/html": [
              "<div>\n",
              "<style scoped>\n",
              "    .dataframe tbody tr th:only-of-type {\n",
              "        vertical-align: middle;\n",
              "    }\n",
              "\n",
              "    .dataframe tbody tr th {\n",
              "        vertical-align: top;\n",
              "    }\n",
              "\n",
              "    .dataframe thead th {\n",
              "        text-align: right;\n",
              "    }\n",
              "</style>\n",
              "<table border=\"1\" class=\"dataframe\">\n",
              "  <thead>\n",
              "    <tr style=\"text-align: right;\">\n",
              "      <th></th>\n",
              "      <th>2</th>\n",
              "    </tr>\n",
              "  </thead>\n",
              "  <tbody>\n",
              "    <tr>\n",
              "      <th>id</th>\n",
              "      <td>146657</td>\n",
              "    </tr>\n",
              "    <tr>\n",
              "      <th>url</th>\n",
              "      <td>https://www.liputan6.com/news/read/146657/rama...</td>\n",
              "    </tr>\n",
              "    <tr>\n",
              "      <th>text</th>\n",
              "      <td>liputan6       com       jakarta       harga...</td>\n",
              "    </tr>\n",
              "    <tr>\n",
              "      <th>summary</th>\n",
              "      <td>harga   bahan   pokok   seperti   minyak   g...</td>\n",
              "    </tr>\n",
              "    <tr>\n",
              "      <th>e_summary</th>\n",
              "      <td>liputan6  com  jakarta  harga jumlah butuh pok...</td>\n",
              "    </tr>\n",
              "  </tbody>\n",
              "</table>\n",
              "</div><br><label><b>dtype:</b> object</label>"
            ]
          },
          "metadata": {},
          "execution_count": 68
        }
      ]
    },
    {
      "cell_type": "code",
      "source": [
        "import matplotlib.pyplot as plt\n",
        "import seaborn as sns\n",
        "\n",
        "# Calculate the word lengths for each column and store them in new columns\n",
        "train2_df_no_outliers['text_length'] = train2_df_no_outliers['text'].apply(lambda x: len(str(x).split()))\n",
        "train2_df_no_outliers['summary_length'] = train2_df_no_outliers['summary'].apply(lambda x: len(str(x).split()))\n",
        "train2_df_no_outliers['e_summary_length'] = train2_df_no_outliers['e_summary'].apply(lambda x: len(str(x).split()))\n",
        "\n",
        "plt.figure(figsize=(12, 6))\n",
        "# Use the new columns for the boxplot\n",
        "sns.boxplot(data=train2_df_no_outliers[['text_length', 'summary_length', 'e_summary_length']])\n",
        "plt.title('Box Plot of Word Length for Text, Summary, and E-Summary after outlier removal')\n",
        "plt.ylabel('Word Count')\n",
        "plt.show()"
      ],
      "metadata": {
        "colab": {
          "base_uri": "https://localhost:8080/",
          "height": 981
        },
        "id": "wsQp6hiIa0ZZ",
        "outputId": "88bc8a52-76d5-443f-9a46-be26262682a2"
      },
      "execution_count": 71,
      "outputs": [
        {
          "output_type": "stream",
          "name": "stderr",
          "text": [
            "<ipython-input-71-0c5ace14a45f>:5: SettingWithCopyWarning: \n",
            "A value is trying to be set on a copy of a slice from a DataFrame.\n",
            "Try using .loc[row_indexer,col_indexer] = value instead\n",
            "\n",
            "See the caveats in the documentation: https://pandas.pydata.org/pandas-docs/stable/user_guide/indexing.html#returning-a-view-versus-a-copy\n",
            "  train2_df_no_outliers['text_length'] = train2_df_no_outliers['text'].apply(lambda x: len(str(x).split()))\n",
            "<ipython-input-71-0c5ace14a45f>:6: SettingWithCopyWarning: \n",
            "A value is trying to be set on a copy of a slice from a DataFrame.\n",
            "Try using .loc[row_indexer,col_indexer] = value instead\n",
            "\n",
            "See the caveats in the documentation: https://pandas.pydata.org/pandas-docs/stable/user_guide/indexing.html#returning-a-view-versus-a-copy\n",
            "  train2_df_no_outliers['summary_length'] = train2_df_no_outliers['summary'].apply(lambda x: len(str(x).split()))\n",
            "<ipython-input-71-0c5ace14a45f>:7: SettingWithCopyWarning: \n",
            "A value is trying to be set on a copy of a slice from a DataFrame.\n",
            "Try using .loc[row_indexer,col_indexer] = value instead\n",
            "\n",
            "See the caveats in the documentation: https://pandas.pydata.org/pandas-docs/stable/user_guide/indexing.html#returning-a-view-versus-a-copy\n",
            "  train2_df_no_outliers['e_summary_length'] = train2_df_no_outliers['e_summary'].apply(lambda x: len(str(x).split()))\n",
            "/usr/local/lib/python3.10/dist-packages/seaborn/_base.py:949: FutureWarning: When grouping with a length-1 list-like, you will need to pass a length-1 tuple to get_group in a future version of pandas. Pass `(name,)` instead of `name` to silence this warning.\n",
            "  data_subset = grouped_data.get_group(pd_key)\n",
            "/usr/local/lib/python3.10/dist-packages/seaborn/categorical.py:640: FutureWarning: SeriesGroupBy.grouper is deprecated and will be removed in a future version of pandas.\n",
            "  positions = grouped.grouper.result_index.to_numpy(dtype=float)\n",
            "/usr/local/lib/python3.10/dist-packages/seaborn/_base.py:949: FutureWarning: When grouping with a length-1 list-like, you will need to pass a length-1 tuple to get_group in a future version of pandas. Pass `(name,)` instead of `name` to silence this warning.\n",
            "  data_subset = grouped_data.get_group(pd_key)\n",
            "/usr/local/lib/python3.10/dist-packages/seaborn/categorical.py:640: FutureWarning: SeriesGroupBy.grouper is deprecated and will be removed in a future version of pandas.\n",
            "  positions = grouped.grouper.result_index.to_numpy(dtype=float)\n",
            "/usr/local/lib/python3.10/dist-packages/seaborn/_base.py:949: FutureWarning: When grouping with a length-1 list-like, you will need to pass a length-1 tuple to get_group in a future version of pandas. Pass `(name,)` instead of `name` to silence this warning.\n",
            "  data_subset = grouped_data.get_group(pd_key)\n",
            "/usr/local/lib/python3.10/dist-packages/seaborn/categorical.py:640: FutureWarning: SeriesGroupBy.grouper is deprecated and will be removed in a future version of pandas.\n",
            "  positions = grouped.grouper.result_index.to_numpy(dtype=float)\n"
          ]
        },
        {
          "output_type": "display_data",
          "data": {
            "text/plain": [
              "<Figure size 1200x600 with 1 Axes>"
            ],
            "image/png": "[encoded data removed]"
          },
          "metadata": {}
        }
      ]
    },
    {
      "cell_type": "code",
      "source": [
        "train2_df_no_outliers.shape"
      ],
      "metadata": {
        "colab": {
          "base_uri": "https://localhost:8080/"
        },
        "id": "8FmJLac1a_8U",
        "outputId": "d1deb323-c59f-47ec-e2d6-8b46b95bb73e"
      },
      "execution_count": 72,
      "outputs": [
        {
          "output_type": "execute_result",
          "data": {
            "text/plain": [
              "(169058, 8)"
            ]
          },
          "metadata": {},
          "execution_count": 72
        }
      ]
    },
    {
      "cell_type": "code",
      "source": [
        "train_df = train2_df_no_outliers"
      ],
      "metadata": {
        "id": "gyG9tO7RbRxo"
      },
      "execution_count": 73,
      "outputs": []
    },
    {
      "cell_type": "code",
      "source": [
        "train_df.shape"
      ],
      "metadata": {
        "colab": {
          "base_uri": "https://localhost:8080/"
        },
        "id": "YXRKJ5ltbU7Q",
        "outputId": "af0a337d-191f-499b-8ec3-89c1e9b22b5d"
      },
      "execution_count": 74,
      "outputs": [
        {
          "output_type": "execute_result",
          "data": {
            "text/plain": [
              "(169058, 8)"
            ]
          },
          "metadata": {},
          "execution_count": 74
        }
      ]
    },
    {
      "cell_type": "code",
      "source": [
        "train_df.iloc[1\n",
        "              ]"
      ],
      "metadata": {
        "colab": {
          "base_uri": "https://localhost:8080/",
          "height": 335
        },
        "id": "LWgzuuOtbW7W",
        "outputId": "2d05dfc7-0e89-46b1-b54b-d8ff0e838834"
      },
      "execution_count": 75,
      "outputs": [
        {
          "output_type": "execute_result",
          "data": {
            "text/plain": [
              "id                                                             146657\n",
              "url                 https://www.liputan6.com/news/read/146657/rama...\n",
              "text                  liputan6       com       jakarta       harga...\n",
              "summary               harga   bahan   pokok   seperti   minyak   g...\n",
              "e_summary           liputan6  com  jakarta  harga jumlah butuh pok...\n",
              "text_length                                                       196\n",
              "summary_length                                                     26\n",
              "e_summary_length                                                   35\n",
              "Name: 2, dtype: object"
            ],
            "text/html": [
              "<div>\n",
              "<style scoped>\n",
              "    .dataframe tbody tr th:only-of-type {\n",
              "        vertical-align: middle;\n",
              "    }\n",
              "\n",
              "    .dataframe tbody tr th {\n",
              "        vertical-align: top;\n",
              "    }\n",
              "\n",
              "    .dataframe thead th {\n",
              "        text-align: right;\n",
              "    }\n",
              "</style>\n",
              "<table border=\"1\" class=\"dataframe\">\n",
              "  <thead>\n",
              "    <tr style=\"text-align: right;\">\n",
              "      <th></th>\n",
              "      <th>2</th>\n",
              "    </tr>\n",
              "  </thead>\n",
              "  <tbody>\n",
              "    <tr>\n",
              "      <th>id</th>\n",
              "      <td>146657</td>\n",
              "    </tr>\n",
              "    <tr>\n",
              "      <th>url</th>\n",
              "      <td>https://www.liputan6.com/news/read/146657/rama...</td>\n",
              "    </tr>\n",
              "    <tr>\n",
              "      <th>text</th>\n",
              "      <td>liputan6       com       jakarta       harga...</td>\n",
              "    </tr>\n",
              "    <tr>\n",
              "      <th>summary</th>\n",
              "      <td>harga   bahan   pokok   seperti   minyak   g...</td>\n",
              "    </tr>\n",
              "    <tr>\n",
              "      <th>e_summary</th>\n",
              "      <td>liputan6  com  jakarta  harga jumlah butuh pok...</td>\n",
              "    </tr>\n",
              "    <tr>\n",
              "      <th>text_length</th>\n",
              "      <td>196</td>\n",
              "    </tr>\n",
              "    <tr>\n",
              "      <th>summary_length</th>\n",
              "      <td>26</td>\n",
              "    </tr>\n",
              "    <tr>\n",
              "      <th>e_summary_length</th>\n",
              "      <td>35</td>\n",
              "    </tr>\n",
              "  </tbody>\n",
              "</table>\n",
              "</div><br><label><b>dtype:</b> object</label>"
            ]
          },
          "metadata": {},
          "execution_count": 75
        }
      ]
    },
    {
      "cell_type": "code",
      "source": [
        "# prompt: see outlier in text_length in train_df\n",
        "\n",
        "# Calculate the IQR for 'text_length'\n",
        "Q1_text = train_df['text_length'].quantile(0.25)\n",
        "Q3_text = train_df['text_length'].quantile(0.75)\n",
        "IQR_text = Q3_text - Q1_text\n",
        "lower_bound_text = Q1_text - 1.5 * IQR_text\n",
        "upper_bound_text = Q3_text + 1.5 * IQR_text\n",
        "\n",
        "# Find rows with outliers in 'text_length'\n",
        "outliers_text = train_df[\n",
        "    ~train_df['text_length'].between(lower_bound_text, upper_bound_text)\n",
        "]\n",
        "\n",
        "print(\"Outliers in 'text_length':\")\n",
        "print(outliers_text)\n"
      ],
      "metadata": {
        "colab": {
          "base_uri": "https://localhost:8080/"
        },
        "id": "BCcZoDAYbacI",
        "outputId": "51f706bb-07c4-4dc1-bf0e-f0176cb2a449"
      },
      "execution_count": 76,
      "outputs": [
        {
          "output_type": "stream",
          "name": "stdout",
          "text": [
            "Outliers in 'text_length':\n",
            "            id                                                url  \\\n",
            "23      208688  https://www.liputan6.com/news/read/208688/ada-...   \n",
            "36      118180  https://www.liputan6.com/news/read/118180/kant...   \n",
            "185     216447  https://www.liputan6.com/news/read/216447/the-...   \n",
            "203      96593  https://www.liputan6.com/news/read/96593/konsu...   \n",
            "218      51415  https://www.liputan6.com/news/read/51415/air-n...   \n",
            "...        ...                                                ...   \n",
            "193489  267878  https://www.liputan6.com/news/read/267878/tali...   \n",
            "193529  290388  https://www.liputan6.com/news/read/290388/pepe...   \n",
            "193575  206330  https://www.liputan6.com/news/read/206330/lege...   \n",
            "193577  274935  https://www.liputan6.com/news/read/274935/soal...   \n",
            "193717  284441  https://www.liputan6.com/news/read/284441/stra...   \n",
            "\n",
            "                                                     text  \\\n",
            "23        tanpa   ada   gejala   dan   tanda   belum  ...   \n",
            "36        liputan6       com       jakarta       kanto...   \n",
            "185       harap   publik   st   james   park   akhir  ...   \n",
            "203       liputan6       com       surabaya       kaba...   \n",
            "218       liputan6       com       cilacap       hujan...   \n",
            "...                                                   ...   \n",
            "193489    liputan6       com       kandahar       lima...   \n",
            "193529    liputan6       com       liverpool       cha...   \n",
            "193575    cristiano   ronaldo       tidak   bisa   san...   \n",
            "193577    liputan6       com       new   york       la...   \n",
            "193717    liputan6       com       cape   town       d...   \n",
            "\n",
            "                                                  summary  \\\n",
            "23        kejut         west   ham   united   laku   r...   \n",
            "36        kantor   pt   freeport   indonesia   yang   ...   \n",
            "185       selenting   itu   jadi   nyata         newca...   \n",
            "203       guna   kendara   motor       baik   roda   d...   \n",
            "218       ketika   sawah   sudah   tak   beri   harap ...   \n",
            "...                                                   ...   \n",
            "193489    kelompok   talib   nyata       rangkai   led...   \n",
            "193529    chairman   liverpool   martin   broughton   ...   \n",
            "193575    hujan   puji   banjir   cristiano   ronaldo ...   \n",
            "193577    kabar   buruk   bagi   striker   charlie   d...   \n",
            "193717    argentina   bakal   tampil   serang   saat  ...   \n",
            "\n",
            "                                                e_summary  text_length  \\\n",
            "23      tanpa ada gejala dan tanda belum  cara kejut w...          360   \n",
            "36      liputan6  com  jakarta  kantor pt freeport ind...          357   \n",
            "185     harap publik st james park akhir kabul sudah  ...          362   \n",
            "203     para guna kendara motor  baik roda dua maupun ...          361   \n",
            "218     itu yang kini rasa warga dusun sidodadi  desa ...          365   \n",
            "...                                                   ...          ...   \n",
            "193489  liputan6  com  kandahar  lima ledak yang jadi ...          354   \n",
            "193529  liputan6  com  liverpool  chairman liverpool m...          356   \n",
            "193575  cristiano ronaldo  tidak bisa sangsi lagi  rup...          355   \n",
            "193577  bradley aku begitu populer davies di mata fans...          354   \n",
            "193717  ia akan tahu apa yang bakal kami laku nanti   ...          355   \n",
            "\n",
            "        summary_length  e_summary_length  \n",
            "23                  29                30  \n",
            "36                  33                30  \n",
            "185                 37                49  \n",
            "203                 31                35  \n",
            "218                 28                47  \n",
            "...                ...               ...  \n",
            "193489              21                37  \n",
            "193529              27                45  \n",
            "193575              26                49  \n",
            "193577              29                43  \n",
            "193717              27                42  \n",
            "\n",
            "[1910 rows x 8 columns]\n"
          ]
        }
      ]
    },
    {
      "cell_type": "code",
      "source": [
        "# prompt: delete the data rows that assumed as outlier in train_df\n",
        "\n",
        "# Remove rows with outliers in 'text_length'\n",
        "train_df_no_outliers = train_df[\n",
        "    train_df['text_length'].between(lower_bound_text, upper_bound_text)\n",
        "]\n",
        "\n",
        "print(\"Original DataFrame shape:\", train_df.shape)\n",
        "print(\"DataFrame shape after removing outliers:\", train_df_no_outliers.shape)\n",
        "\n",
        "# Update train_df with the DataFrame without outliers\n",
        "train_df = train_df_no_outliers\n"
      ],
      "metadata": {
        "colab": {
          "base_uri": "https://localhost:8080/"
        },
        "id": "j75H6_srbia_",
        "outputId": "e93acde8-622b-44d3-b5e5-fdc986d58bbc"
      },
      "execution_count": 77,
      "outputs": [
        {
          "output_type": "stream",
          "name": "stdout",
          "text": [
            "Original DataFrame shape: (169058, 8)\n",
            "DataFrame shape after removing outliers: (167148, 8)\n"
          ]
        }
      ]
    },
    {
      "cell_type": "code",
      "source": [
        "train_df_no_outliers.iloc[1]"
      ],
      "metadata": {
        "colab": {
          "base_uri": "https://localhost:8080/",
          "height": 335
        },
        "id": "L_m3Byu5bp39",
        "outputId": "b9b85948-ce27-4dcd-fe41-db3d801b0f70"
      },
      "execution_count": 80,
      "outputs": [
        {
          "output_type": "execute_result",
          "data": {
            "text/plain": [
              "id                                                             146657\n",
              "url                 https://www.liputan6.com/news/read/146657/rama...\n",
              "text                  liputan6       com       jakarta       harga...\n",
              "summary               harga   bahan   pokok   seperti   minyak   g...\n",
              "e_summary           liputan6  com  jakarta  harga jumlah butuh pok...\n",
              "text_length                                                       196\n",
              "summary_length                                                     26\n",
              "e_summary_length                                                   35\n",
              "Name: 2, dtype: object"
            ],
            "text/html": [
              "<div>\n",
              "<style scoped>\n",
              "    .dataframe tbody tr th:only-of-type {\n",
              "        vertical-align: middle;\n",
              "    }\n",
              "\n",
              "    .dataframe tbody tr th {\n",
              "        vertical-align: top;\n",
              "    }\n",
              "\n",
              "    .dataframe thead th {\n",
              "        text-align: right;\n",
              "    }\n",
              "</style>\n",
              "<table border=\"1\" class=\"dataframe\">\n",
              "  <thead>\n",
              "    <tr style=\"text-align: right;\">\n",
              "      <th></th>\n",
              "      <th>2</th>\n",
              "    </tr>\n",
              "  </thead>\n",
              "  <tbody>\n",
              "    <tr>\n",
              "      <th>id</th>\n",
              "      <td>146657</td>\n",
              "    </tr>\n",
              "    <tr>\n",
              "      <th>url</th>\n",
              "      <td>https://www.liputan6.com/news/read/146657/rama...</td>\n",
              "    </tr>\n",
              "    <tr>\n",
              "      <th>text</th>\n",
              "      <td>liputan6       com       jakarta       harga...</td>\n",
              "    </tr>\n",
              "    <tr>\n",
              "      <th>summary</th>\n",
              "      <td>harga   bahan   pokok   seperti   minyak   g...</td>\n",
              "    </tr>\n",
              "    <tr>\n",
              "      <th>e_summary</th>\n",
              "      <td>liputan6  com  jakarta  harga jumlah butuh pok...</td>\n",
              "    </tr>\n",
              "    <tr>\n",
              "      <th>text_length</th>\n",
              "      <td>196</td>\n",
              "    </tr>\n",
              "    <tr>\n",
              "      <th>summary_length</th>\n",
              "      <td>26</td>\n",
              "    </tr>\n",
              "    <tr>\n",
              "      <th>e_summary_length</th>\n",
              "      <td>35</td>\n",
              "    </tr>\n",
              "  </tbody>\n",
              "</table>\n",
              "</div><br><label><b>dtype:</b> object</label>"
            ]
          },
          "metadata": {},
          "execution_count": 80
        }
      ]
    },
    {
      "cell_type": "code",
      "source": [
        "# prompt: drop the column text_length, summary_length, and e_summary_length in train_df_no_outliers\n",
        "\n",
        "train_df_no_outliers = train_df_no_outliers.drop(['text_length', 'summary_length', 'e_summary_length'], axis=1)\n"
      ],
      "metadata": {
        "id": "rnvorlV5bvsB"
      },
      "execution_count": 81,
      "outputs": []
    },
    {
      "cell_type": "code",
      "source": [
        "train_df.iloc[1]"
      ],
      "metadata": {
        "colab": {
          "base_uri": "https://localhost:8080/",
          "height": 241
        },
        "id": "zjAs2ByZcBiQ",
        "outputId": "b1090a06-d917-4793-835a-7cc8d8245138"
      },
      "execution_count": 84,
      "outputs": [
        {
          "output_type": "execute_result",
          "data": {
            "text/plain": [
              "id                                                      146657\n",
              "url          https://www.liputan6.com/news/read/146657/rama...\n",
              "text           liputan6       com       jakarta       harga...\n",
              "summary        harga   bahan   pokok   seperti   minyak   g...\n",
              "e_summary    liputan6  com  jakarta  harga jumlah butuh pok...\n",
              "Name: 2, dtype: object"
            ],
            "text/html": [
              "<div>\n",
              "<style scoped>\n",
              "    .dataframe tbody tr th:only-of-type {\n",
              "        vertical-align: middle;\n",
              "    }\n",
              "\n",
              "    .dataframe tbody tr th {\n",
              "        vertical-align: top;\n",
              "    }\n",
              "\n",
              "    .dataframe thead th {\n",
              "        text-align: right;\n",
              "    }\n",
              "</style>\n",
              "<table border=\"1\" class=\"dataframe\">\n",
              "  <thead>\n",
              "    <tr style=\"text-align: right;\">\n",
              "      <th></th>\n",
              "      <th>2</th>\n",
              "    </tr>\n",
              "  </thead>\n",
              "  <tbody>\n",
              "    <tr>\n",
              "      <th>id</th>\n",
              "      <td>146657</td>\n",
              "    </tr>\n",
              "    <tr>\n",
              "      <th>url</th>\n",
              "      <td>https://www.liputan6.com/news/read/146657/rama...</td>\n",
              "    </tr>\n",
              "    <tr>\n",
              "      <th>text</th>\n",
              "      <td>liputan6       com       jakarta       harga...</td>\n",
              "    </tr>\n",
              "    <tr>\n",
              "      <th>summary</th>\n",
              "      <td>harga   bahan   pokok   seperti   minyak   g...</td>\n",
              "    </tr>\n",
              "    <tr>\n",
              "      <th>e_summary</th>\n",
              "      <td>liputan6  com  jakarta  harga jumlah butuh pok...</td>\n",
              "    </tr>\n",
              "  </tbody>\n",
              "</table>\n",
              "</div><br><label><b>dtype:</b> object</label>"
            ]
          },
          "metadata": {},
          "execution_count": 84
        }
      ]
    },
    {
      "cell_type": "code",
      "source": [
        "train_df = train_df_no_outliers"
      ],
      "metadata": {
        "id": "M4VMojCMcDdM"
      },
      "execution_count": 83,
      "outputs": []
    },
    {
      "cell_type": "code",
      "source": [
        "# prompt: see the outliers from train_df\n",
        "\n",
        "import matplotlib.pyplot as plt\n",
        "import seaborn as sns\n",
        "\n",
        "# Calculate the IQR for each column\n",
        "Q1_text = train_df['text'].apply(lambda x: len(str(x).split())).quantile(0.25)\n",
        "Q3_text = train_df['text'].apply(lambda x: len(str(x).split())).quantile(0.75)\n",
        "IQR_text = Q3_text - Q1_text\n",
        "lower_bound_text = Q1_text - 1.5 * IQR_text\n",
        "upper_bound_text = Q3_text + 1.5 * IQR_text\n",
        "\n",
        "Q1_summary = train_df['summary'].apply(lambda x: len(str(x).split())).quantile(0.25)\n",
        "Q3_summary = train_df['summary'].apply(lambda x: len(str(x).split())).quantile(0.75)\n",
        "IQR_summary = Q3_summary - Q1_summary\n",
        "lower_bound_summary = Q1_summary - 1.5 * IQR_summary\n",
        "upper_bound_summary = Q3_summary + 1.5 * IQR_summary\n",
        "\n",
        "\n",
        "Q1_e_summary = train_df['e_summary'].apply(lambda x: len(str(x).split())).quantile(0.25)\n",
        "Q3_e_summary = train_df['e_summary'].apply(lambda x: len(str(x).split())).quantile(0.75)\n",
        "IQR_e_summary = Q3_e_summary - Q1_e_summary\n",
        "lower_bound_e_summary = Q1_e_summary - 1.5 * IQR_e_summary\n",
        "upper_bound_e_summary = Q3_e_summary + 1.5 * IQR_e_summary\n",
        "\n",
        "\n",
        "# Find rows with outliers in 'text_length', 'summary_length', and 'e_summary_length'\n",
        "outliers = train_df[\n",
        "    ~(train_df['text'].apply(lambda x: len(str(x).split())).between(lower_bound_text, upper_bound_text) &\n",
        "      train_df['summary'].apply(lambda x: len(str(x).split())).between(lower_bound_summary, upper_bound_summary) &\n",
        "      train_df['e_summary'].apply(lambda x: len(str(x).split())).between(lower_bound_e_summary, upper_bound_e_summary))\n",
        "]\n",
        "\n",
        "print(\"Outliers in train_df:\")\n",
        "print(outliers)\n",
        "\n"
      ],
      "metadata": {
        "colab": {
          "base_uri": "https://localhost:8080/"
        },
        "id": "zWqyt4aCcGVc",
        "outputId": "d4a3cd5e-9a68-4206-c35f-02ddb2a5f391"
      },
      "execution_count": 86,
      "outputs": [
        {
          "output_type": "stream",
          "name": "stdout",
          "text": [
            "Outliers in train_df:\n",
            "            id                                                url  \\\n",
            "402     213510  https://www.liputan6.com/news/read/213510/soal...   \n",
            "831     256788  https://www.liputan6.com/news/read/256788/riwa...   \n",
            "897     251067  https://www.liputan6.com/news/read/251067/indo...   \n",
            "1124    170900  https://www.liputan6.com/news/read/170900/penu...   \n",
            "1292    202342  https://www.liputan6.com/news/read/202342/juve...   \n",
            "...        ...                                                ...   \n",
            "191600  208300  https://www.liputan6.com/news/read/208300/take...   \n",
            "191986  131580  https://www.liputan6.com/news/read/131580/wapr...   \n",
            "191997  215277  https://www.liputan6.com/news/read/215277/asa-...   \n",
            "192145   80790  https://www.liputan6.com/news/read/80790/menke...   \n",
            "193193   73957  https://www.liputan6.com/news/read/73957/atrib...   \n",
            "\n",
            "                                                     text  \\\n",
            "402       bursa   calon   manajer   newcastle   united...   \n",
            "831       liputan6       com       jakarta       riway...   \n",
            "897       liputan6       com       kuwait   city      ...   \n",
            "1124      liputan6       com       jakarta       arus ...   \n",
            "1292      bagai   upaya   ringan   beban   fabio   can...   \n",
            "...                                                   ...   \n",
            "191600    carson   yeung   tengah   siap   untuk   jad...   \n",
            "191986    liputan6       com       palu       wakil   ...   \n",
            "191997    jalan   andrei   arshavin   untuk   gabung  ...   \n",
            "192145    liputan6       com       jakarta       jual ...   \n",
            "193193    liputan6       com       jakarta       sirin...   \n",
            "\n",
            "                                                  summary  \\\n",
            "402       nama   alan   shearer   ramai   bincang   ba...   \n",
            "831       mantan   presiden   abdurrahman   wahid   at...   \n",
            "897       sempat   pimpin   lebih   dulu       laskar ...   \n",
            "1124      di   stasiun   jatinegara       jakarta   ti...   \n",
            "1292      bagai   upaya   ringan   beban   fabio   can...   \n",
            "...                                                   ...   \n",
            "191600    carson   yeung   tengah   siap   jadi   usah...   \n",
            "191986    wakil   presiden   jusuf   kalla   telah   h...   \n",
            "191997    cara   signifikan   jalan   andrei   arshavi...   \n",
            "192145    menkeu   boediono   tak   mau   komentar   s...   \n",
            "193193    begitu   bendera   ke-24   parpol   kerek   ...   \n",
            "\n",
            "                                                e_summary  \n",
            "402     serang legendaris inggris itu jadi salah satu ...  \n",
            "831     liputan6  com  jakarta  riwayat sakit mendiang...  \n",
            "897     liputan6  com  kuwait city  indonesia pulang d...  \n",
            "1124    di stasiun jatinegara  jakarta timur  misal  s...  \n",
            "1292    bagai upaya ringan beban fabio cannavaro dan l...  \n",
            "...                                                   ...  \n",
            "191600  carson yeung tengah siap untuk jadi owner asin...  \n",
            "191986  namun jelang petang  aman makin ketat  karena ...  \n",
            "191997  jalan andrei arshavin untuk gabung dengan arse...  \n",
            "192145  sayang menkeu boediono tak mau komentar  dia j...  \n",
            "193193  begitu bendera kerek langsung ikut dengan baga...  \n",
            "\n",
            "[793 rows x 5 columns]\n"
          ]
        }
      ]
    },
    {
      "cell_type": "code",
      "source": [
        "# prompt: delete those 793 rows as outlier in train_df\n",
        "\n",
        "# Remove rows with outliers\n",
        "train_df_no_outliers = train_df[\n",
        "    train_df['text'].apply(lambda x: len(str(x).split())).between(lower_bound_text, upper_bound_text) &\n",
        "    train_df['summary'].apply(lambda x: len(str(x).split())).between(lower_bound_summary, upper_bound_summary) &\n",
        "    train_df['e_summary'].apply(lambda x: len(str(x).split())).between(lower_bound_e_summary, upper_bound_e_summary)\n",
        "]\n",
        "\n",
        "print(\"Original DataFrame shape:\", train_df.shape)\n",
        "print(\"DataFrame shape after removing outliers:\", train_df_no_outliers.shape)\n",
        "\n",
        "# Update train_df with the DataFrame without outliers\n",
        "train_df = train_df_no_outliers\n"
      ],
      "metadata": {
        "colab": {
          "base_uri": "https://localhost:8080/"
        },
        "id": "L29MQAo5cQaF",
        "outputId": "fe7abaff-56d5-4eac-d22e-7fc4e8c39123"
      },
      "execution_count": 87,
      "outputs": [
        {
          "output_type": "stream",
          "name": "stdout",
          "text": [
            "Original DataFrame shape: (167148, 5)\n",
            "DataFrame shape after removing outliers: (166355, 5)\n"
          ]
        }
      ]
    },
    {
      "cell_type": "code",
      "source": [
        "# prompt: make a boxplot based on train_df for column text, summary, and e_summary\n",
        "\n",
        "plt.figure(figsize=(12, 6))\n",
        "train_df['text_length'] = train_df['text'].apply(lambda x: len(str(x).split()))\n",
        "train_df['summary_length'] = train_df['summary'].apply(lambda x: len(str(x).split()))\n",
        "train_df['e_summary_length'] = train_df['e_summary'].apply(lambda x: len(str(x).split()))\n",
        "sns.boxplot(data=train_df[['text_length', 'summary_length', 'e_summary_length']])\n",
        "plt.title('Box Plot of Word Length for Text, Summary, and E-Summary')\n",
        "plt.ylabel('Word Count')\n",
        "plt.show()\n"
      ],
      "metadata": {
        "colab": {
          "base_uri": "https://localhost:8080/",
          "height": 773
        },
        "id": "UtUxG2jZcyyV",
        "outputId": "fb06faaa-da97-401d-acbb-c200fd4f9f35"
      },
      "execution_count": 88,
      "outputs": [
        {
          "output_type": "stream",
          "name": "stderr",
          "text": [
            "/usr/local/lib/python3.10/dist-packages/seaborn/_base.py:949: FutureWarning: When grouping with a length-1 list-like, you will need to pass a length-1 tuple to get_group in a future version of pandas. Pass `(name,)` instead of `name` to silence this warning.\n",
            "  data_subset = grouped_data.get_group(pd_key)\n",
            "/usr/local/lib/python3.10/dist-packages/seaborn/categorical.py:640: FutureWarning: SeriesGroupBy.grouper is deprecated and will be removed in a future version of pandas.\n",
            "  positions = grouped.grouper.result_index.to_numpy(dtype=float)\n",
            "/usr/local/lib/python3.10/dist-packages/seaborn/_base.py:949: FutureWarning: When grouping with a length-1 list-like, you will need to pass a length-1 tuple to get_group in a future version of pandas. Pass `(name,)` instead of `name` to silence this warning.\n",
            "  data_subset = grouped_data.get_group(pd_key)\n",
            "/usr/local/lib/python3.10/dist-packages/seaborn/categorical.py:640: FutureWarning: SeriesGroupBy.grouper is deprecated and will be removed in a future version of pandas.\n",
            "  positions = grouped.grouper.result_index.to_numpy(dtype=float)\n",
            "/usr/local/lib/python3.10/dist-packages/seaborn/_base.py:949: FutureWarning: When grouping with a length-1 list-like, you will need to pass a length-1 tuple to get_group in a future version of pandas. Pass `(name,)` instead of `name` to silence this warning.\n",
            "  data_subset = grouped_data.get_group(pd_key)\n",
            "/usr/local/lib/python3.10/dist-packages/seaborn/categorical.py:640: FutureWarning: SeriesGroupBy.grouper is deprecated and will be removed in a future version of pandas.\n",
            "  positions = grouped.grouper.result_index.to_numpy(dtype=float)\n"
          ]
        },
        {
          "output_type": "display_data",
          "data": {
            "text/plain": [
              "<Figure size 1200x600 with 1 Axes>"
            ],
            "image/png": "[encoded data removed]"
          },
          "metadata": {}
        }
      ]
    },
    {
      "cell_type": "code",
      "source": [
        "train_df.shape"
      ],
      "metadata": {
        "colab": {
          "base_uri": "https://localhost:8080/"
        },
        "id": "UWZCGTbUdZFl",
        "outputId": "decc3db1-9a78-4329-a2ee-273416641144"
      },
      "execution_count": 92,
      "outputs": [
        {
          "output_type": "execute_result",
          "data": {
            "text/plain": [
              "(166355, 8)"
            ]
          },
          "metadata": {},
          "execution_count": 92
        }
      ]
    },
    {
      "cell_type": "code",
      "source": [
        "train_raw_df = pd.read_csv('/content/drive/MyDrive/Bootcamp AI/Dataset/Task2 : Text Summarization/reformed_dataset/train_reformed.csv')"
      ],
      "metadata": {
        "id": "6vdmi7MBc8dj"
      },
      "execution_count": 89,
      "outputs": []
    },
    {
      "cell_type": "code",
      "source": [
        "\n",
        "plt.figure(figsize=(12, 6))\n",
        "train_raw_df['text_length'] = train_raw_df['text'].apply(lambda x: len(str(x).split()))\n",
        "train_raw_df['summary_length'] = train_raw_df['summary'].apply(lambda x: len(str(x).split()))\n",
        "train_raw_df['e_summary_length'] = train_raw_df['e_summary'].apply(lambda x: len(str(x).split()))\n",
        "sns.boxplot(data=train_raw_df[['text_length', 'summary_length', 'e_summary_length']])\n",
        "plt.title('Box Plot of Word Length for Text, Summary, and E-Summary')\n",
        "plt.ylabel('Word Count')\n",
        "plt.show()"
      ],
      "metadata": {
        "colab": {
          "base_uri": "https://localhost:8080/",
          "height": 664
        },
        "id": "4PO2ry9mdGHu",
        "outputId": "307a6a9b-fd68-4bc0-8ad8-bda66b07cae2"
      },
      "execution_count": 90,
      "outputs": [
        {
          "output_type": "stream",
          "name": "stderr",
          "text": [
            "/usr/local/lib/python3.10/dist-packages/seaborn/_base.py:949: FutureWarning: When grouping with a length-1 list-like, you will need to pass a length-1 tuple to get_group in a future version of pandas. Pass `(name,)` instead of `name` to silence this warning.\n",
            "  data_subset = grouped_data.get_group(pd_key)\n",
            "/usr/local/lib/python3.10/dist-packages/seaborn/categorical.py:640: FutureWarning: SeriesGroupBy.grouper is deprecated and will be removed in a future version of pandas.\n",
            "  positions = grouped.grouper.result_index.to_numpy(dtype=float)\n",
            "/usr/local/lib/python3.10/dist-packages/seaborn/_base.py:949: FutureWarning: When grouping with a length-1 list-like, you will need to pass a length-1 tuple to get_group in a future version of pandas. Pass `(name,)` instead of `name` to silence this warning.\n",
            "  data_subset = grouped_data.get_group(pd_key)\n",
            "/usr/local/lib/python3.10/dist-packages/seaborn/categorical.py:640: FutureWarning: SeriesGroupBy.grouper is deprecated and will be removed in a future version of pandas.\n",
            "  positions = grouped.grouper.result_index.to_numpy(dtype=float)\n",
            "/usr/local/lib/python3.10/dist-packages/seaborn/_base.py:949: FutureWarning: When grouping with a length-1 list-like, you will need to pass a length-1 tuple to get_group in a future version of pandas. Pass `(name,)` instead of `name` to silence this warning.\n",
            "  data_subset = grouped_data.get_group(pd_key)\n",
            "/usr/local/lib/python3.10/dist-packages/seaborn/categorical.py:640: FutureWarning: SeriesGroupBy.grouper is deprecated and will be removed in a future version of pandas.\n",
            "  positions = grouped.grouper.result_index.to_numpy(dtype=float)\n"
          ]
        },
        {
          "output_type": "display_data",
          "data": {
            "text/plain": [
              "<Figure size 1200x600 with 1 Axes>"
            ],
            "image/png": "[encoded data removed]"
          },
          "metadata": {}
        }
      ]
    },
    {
      "cell_type": "code",
      "source": [
        "train_raw_df.shape\n"
      ],
      "metadata": {
        "colab": {
          "base_uri": "https://localhost:8080/"
        },
        "id": "HYdY0UxCdSx_",
        "outputId": "30452647-61ef-4746-e73b-f3bad426bb09"
      },
      "execution_count": 91,
      "outputs": [
        {
          "output_type": "execute_result",
          "data": {
            "text/plain": [
              "(193883, 8)"
            ]
          },
          "metadata": {},
          "execution_count": 91
        }
      ]
    },
    {
      "cell_type": "code",
      "source": [
        "\n",
        "train_df"
      ],
      "metadata": {
        "colab": {
          "base_uri": "https://localhost:8080/",
          "height": 979
        },
        "id": "VaE9xFiXeGI-",
        "outputId": "f5eccd55-1114-49c6-827b-9d81ec26eb12"
      },
      "execution_count": 98,
      "outputs": [
        {
          "output_type": "execute_result",
          "data": {
            "text/plain": [
              "            id                                                url  \\\n",
              "0       238168  https://www.liputan6.com/news/read/238168/hayk...   \n",
              "2       146657  https://www.liputan6.com/news/read/146657/rama...   \n",
              "3       123694  https://www.liputan6.com/news/read/123694/evak...   \n",
              "4       139266  https://www.liputan6.com/news/read/139266/gunu...   \n",
              "5        57375  https://www.liputan6.com/news/read/57375/puluh...   \n",
              "...        ...                                                ...   \n",
              "193878  196443  https://www.liputan6.com/news/read/196443/seba...   \n",
              "193879  126536  https://www.liputan6.com/news/read/126536/razi...   \n",
              "193880  142536  https://www.liputan6.com/news/read/142536/bers...   \n",
              "193881  125546  https://www.liputan6.com/news/read/125546/lint...   \n",
              "193882  131112  https://www.liputan6.com/news/read/131112/peti...   \n",
              "\n",
              "                                                     text  \\\n",
              "0         liputan6       com       jakarta       telah...   \n",
              "2         liputan6       com       jakarta       harga...   \n",
              "3         liputan6       com       kupang       evakua...   \n",
              "4         liputan6       com       lembata       pusat...   \n",
              "5         liputan6       com       jakarta       puluh...   \n",
              "...                                                   ...   \n",
              "193878    liputan6       com       padang       banyak...   \n",
              "193879    liputan6       com       jakarta       telah...   \n",
              "193880    liputan6       com       bandung       manta...   \n",
              "193881    ingat   40   hari   pascagempa   color      ...   \n",
              "193882    liputan6       com       palu       ajun   i...   \n",
              "\n",
              "                                                  summary  \\\n",
              "0         artis   muda   haykal   dan   putri   titan ...   \n",
              "2         harga   bahan   pokok   seperti   minyak   g...   \n",
              "3         evakuasi   warga   negara   indonesia   dari...   \n",
              "4         status   gunung   batutara   tetap   siaga  ...   \n",
              "5         polisi   pamong   praja   pemda   jakarta   ...   \n",
              "...                                                   ...   \n",
              "193878    jumlah   serta   jamsostek   nonaktif   jauh...   \n",
              "193879    razia   kerja   seks   komersial   yang   ge...   \n",
              "193880     i   nyoman   sumaryadi   kembali   periksa ...   \n",
              "193881    ingat   40   hari   pascagempa   bumi   yogy...   \n",
              "193882    kecewa   pada   korps   yang   anggap   tak ...   \n",
              "\n",
              "                                                e_summary  \n",
              "0       liputan6  com  jakarta  telah jalan uji nasion...  \n",
              "2       liputan6  com  jakarta  harga jumlah butuh pok...  \n",
              "3       dalam empat hari ini  1  540 wni telah angkut ...  \n",
              "4       lahar panas juga keluar dari bagi belah timur ...  \n",
              "5       haryono  jakarta timur  hanya bisa mangu tatap...  \n",
              "...                                                   ...  \n",
              "193878  ia sebut  jumlah serta jamsostek nonaktif itu ...  \n",
              "193879  lokasi memang kenal bagai kawasan tempat mangk...  \n",
              "193880  sejak kemarin  nyoman kena status sangka  nyom...  \n",
              "193881  ingat 40 hari pascagempa color  ffff00  liputa...  \n",
              "193882  liputan6  com  palu  ajun inspektur satu polis...  \n",
              "\n",
              "[166355 rows x 5 columns]"
            ],
            "text/html": [
              "\n",
              "  <div id=\"df-37ffd325-1eaf-4432-ba15-9be1da988979\" class=\"colab-df-container\">\n",
              "    <div>\n",
              "<style scoped>\n",
              "    .dataframe tbody tr th:only-of-type {\n",
              "        vertical-align: middle;\n",
              "    }\n",
              "\n",
              "    .dataframe tbody tr th {\n",
              "        vertical-align: top;\n",
              "    }\n",
              "\n",
              "    .dataframe thead th {\n",
              "        text-align: right;\n",
              "    }\n",
              "</style>\n",
              "<table border=\"1\" class=\"dataframe\">\n",
              "  <thead>\n",
              "    <tr style=\"text-align: right;\">\n",
              "      <th></th>\n",
              "      <th>id</th>\n",
              "      <th>url</th>\n",
              "      <th>text</th>\n",
              "      <th>summary</th>\n",
              "      <th>e_summary</th>\n",
              "    </tr>\n",
              "  </thead>\n",
              "  <tbody>\n",
              "    <tr>\n",
              "      <th>0</th>\n",
              "      <td>238168</td>\n",
              "      <td>https://www.liputan6.com/news/read/238168/hayk...</td>\n",
              "      <td>liputan6       com       jakarta       telah...</td>\n",
              "      <td>artis   muda   haykal   dan   putri   titan ...</td>\n",
              "      <td>liputan6  com  jakarta  telah jalan uji nasion...</td>\n",
              "    </tr>\n",
              "    <tr>\n",
              "      <th>2</th>\n",
              "      <td>146657</td>\n",
              "      <td>https://www.liputan6.com/news/read/146657/rama...</td>\n",
              "      <td>liputan6       com       jakarta       harga...</td>\n",
              "      <td>harga   bahan   pokok   seperti   minyak   g...</td>\n",
              "      <td>liputan6  com  jakarta  harga jumlah butuh pok...</td>\n",
              "    </tr>\n",
              "    <tr>\n",
              "      <th>3</th>\n",
              "      <td>123694</td>\n",
              "      <td>https://www.liputan6.com/news/read/123694/evak...</td>\n",
              "      <td>liputan6       com       kupang       evakua...</td>\n",
              "      <td>evakuasi   warga   negara   indonesia   dari...</td>\n",
              "      <td>dalam empat hari ini  1  540 wni telah angkut ...</td>\n",
              "    </tr>\n",
              "    <tr>\n",
              "      <th>4</th>\n",
              "      <td>139266</td>\n",
              "      <td>https://www.liputan6.com/news/read/139266/gunu...</td>\n",
              "      <td>liputan6       com       lembata       pusat...</td>\n",
              "      <td>status   gunung   batutara   tetap   siaga  ...</td>\n",
              "      <td>lahar panas juga keluar dari bagi belah timur ...</td>\n",
              "    </tr>\n",
              "    <tr>\n",
              "      <th>5</th>\n",
              "      <td>57375</td>\n",
              "      <td>https://www.liputan6.com/news/read/57375/puluh...</td>\n",
              "      <td>liputan6       com       jakarta       puluh...</td>\n",
              "      <td>polisi   pamong   praja   pemda   jakarta   ...</td>\n",
              "      <td>haryono  jakarta timur  hanya bisa mangu tatap...</td>\n",
              "    </tr>\n",
              "    <tr>\n",
              "      <th>...</th>\n",
              "      <td>...</td>\n",
              "      <td>...</td>\n",
              "      <td>...</td>\n",
              "      <td>...</td>\n",
              "      <td>...</td>\n",
              "    </tr>\n",
              "    <tr>\n",
              "      <th>193878</th>\n",
              "      <td>196443</td>\n",
              "      <td>https://www.liputan6.com/news/read/196443/seba...</td>\n",
              "      <td>liputan6       com       padang       banyak...</td>\n",
              "      <td>jumlah   serta   jamsostek   nonaktif   jauh...</td>\n",
              "      <td>ia sebut  jumlah serta jamsostek nonaktif itu ...</td>\n",
              "    </tr>\n",
              "    <tr>\n",
              "      <th>193879</th>\n",
              "      <td>126536</td>\n",
              "      <td>https://www.liputan6.com/news/read/126536/razi...</td>\n",
              "      <td>liputan6       com       jakarta       telah...</td>\n",
              "      <td>razia   kerja   seks   komersial   yang   ge...</td>\n",
              "      <td>lokasi memang kenal bagai kawasan tempat mangk...</td>\n",
              "    </tr>\n",
              "    <tr>\n",
              "      <th>193880</th>\n",
              "      <td>142536</td>\n",
              "      <td>https://www.liputan6.com/news/read/142536/bers...</td>\n",
              "      <td>liputan6       com       bandung       manta...</td>\n",
              "      <td>i   nyoman   sumaryadi   kembali   periksa ...</td>\n",
              "      <td>sejak kemarin  nyoman kena status sangka  nyom...</td>\n",
              "    </tr>\n",
              "    <tr>\n",
              "      <th>193881</th>\n",
              "      <td>125546</td>\n",
              "      <td>https://www.liputan6.com/news/read/125546/lint...</td>\n",
              "      <td>ingat   40   hari   pascagempa   color      ...</td>\n",
              "      <td>ingat   40   hari   pascagempa   bumi   yogy...</td>\n",
              "      <td>ingat 40 hari pascagempa color  ffff00  liputa...</td>\n",
              "    </tr>\n",
              "    <tr>\n",
              "      <th>193882</th>\n",
              "      <td>131112</td>\n",
              "      <td>https://www.liputan6.com/news/read/131112/peti...</td>\n",
              "      <td>liputan6       com       palu       ajun   i...</td>\n",
              "      <td>kecewa   pada   korps   yang   anggap   tak ...</td>\n",
              "      <td>liputan6  com  palu  ajun inspektur satu polis...</td>\n",
              "    </tr>\n",
              "  </tbody>\n",
              "</table>\n",
              "<p>166355 rows × 5 columns</p>\n",
              "</div>\n",
              "    <div class=\"colab-df-buttons\">\n",
              "\n",
              "  <div class=\"colab-df-container\">\n",
              "    <button class=\"colab-df-convert\" onclick=\"convertToInteractive('df-37ffd325-1eaf-4432-ba15-9be1da988979')\"\n",
              "            title=\"Convert this dataframe to an interactive table.\"\n",
              "            style=\"display:none;\">\n",
              "\n",
              "  <svg xmlns=\"http://www.w3.org/2000/svg\" height=\"24px\" viewBox=\"0 -960 960 960\">\n",
              "    <path d=\"M120-120v-720h720v720H120Zm60-500h600v-160H180v160Zm220 220h160v-160H400v160Zm0 220h160v-160H400v160ZM180-400h160v-160H180v160Zm440 0h160v-160H620v160ZM180-180h160v-160H180v160Zm440 0h160v-160H620v160Z\"/>\n",
              "  </svg>\n",
              "    </button>\n",
              "\n",
              "  <style>\n",
              "    .colab-df-container {\n",
              "      display:flex;\n",
              "      gap: 12px;\n",
              "    }\n",
              "\n",
              "    .colab-df-convert {\n",
              "      background-color: #E8F0FE;\n",
              "      border: none;\n",
              "      border-radius: 50%;\n",
              "      cursor: pointer;\n",
              "      display: none;\n",
              "      fill: #1967D2;\n",
              "      height: 32px;\n",
              "      padding: 0 0 0 0;\n",
              "      width: 32px;\n",
              "    }\n",
              "\n",
              "    .colab-df-convert:hover {\n",
              "      background-color: #E2EBFA;\n",
              "      box-shadow: 0px 1px 2px rgba(60, 64, 67, 0.3), 0px 1px 3px 1px rgba(60, 64, 67, 0.15);\n",
              "      fill: #174EA6;\n",
              "    }\n",
              "\n",
              "    .colab-df-buttons div {\n",
              "      margin-bottom: 4px;\n",
              "    }\n",
              "\n",
              "    [theme=dark] .colab-df-convert {\n",
              "      background-color: #3B4455;\n",
              "      fill: #D2E3FC;\n",
              "    }\n",
              "\n",
              "    [theme=dark] .colab-df-convert:hover {\n",
              "      background-color: #434B5C;\n",
              "      box-shadow: 0px 1px 3px 1px rgba(0, 0, 0, 0.15);\n",
              "      filter: drop-shadow(0px 1px 2px rgba(0, 0, 0, 0.3));\n",
              "      fill: #FFFFFF;\n",
              "    }\n",
              "  </style>\n",
              "\n",
              "    <script>\n",
              "      const buttonEl =\n",
              "        document.querySelector('#df-37ffd325-1eaf-4432-ba15-9be1da988979 button.colab-df-convert');\n",
              "      buttonEl.style.display =\n",
              "        google.colab.kernel.accessAllowed ? 'block' : 'none';\n",
              "\n",
              "      async function convertToInteractive(key) {\n",
              "        const element = document.querySelector('#df-37ffd325-1eaf-4432-ba15-9be1da988979');\n",
              "        const dataTable =\n",
              "          await google.colab.kernel.invokeFunction('convertToInteractive',\n",
              "                                                    [key], {});\n",
              "        if (!dataTable) return;\n",
              "\n",
              "        const docLinkHtml = 'Like what you see? Visit the ' +\n",
              "          '<a target=\"_blank\" href=https://colab.research.google.com/notebooks/data_table.ipynb>data table notebook</a>'\n",
              "          + ' to learn more about interactive tables.';\n",
              "        element.innerHTML = '';\n",
              "        dataTable['output_type'] = 'display_data';\n",
              "        await google.colab.output.renderOutput(dataTable, element);\n",
              "        const docLink = document.createElement('div');\n",
              "        docLink.innerHTML = docLinkHtml;\n",
              "        element.appendChild(docLink);\n",
              "      }\n",
              "    </script>\n",
              "  </div>\n",
              "\n",
              "\n",
              "<div id=\"df-8e2a7030-f550-44fe-b27f-37dc2b004f49\">\n",
              "  <button class=\"colab-df-quickchart\" onclick=\"quickchart('df-8e2a7030-f550-44fe-b27f-37dc2b004f49')\"\n",
              "            title=\"Suggest charts\"\n",
              "            style=\"display:none;\">\n",
              "\n",
              "<svg xmlns=\"http://www.w3.org/2000/svg\" height=\"24px\"viewBox=\"0 0 24 24\"\n",
              "     width=\"24px\">\n",
              "    <g>\n",
              "        <path d=\"M19 3H5c-1.1 0-2 .9-2 2v14c0 1.1.9 2 2 2h14c1.1 0 2-.9 2-2V5c0-1.1-.9-2-2-2zM9 17H7v-7h2v7zm4 0h-2V7h2v10zm4 0h-2v-4h2v4z\"/>\n",
              "    </g>\n",
              "</svg>\n",
              "  </button>\n",
              "\n",
              "<style>\n",
              "  .colab-df-quickchart {\n",
              "      --bg-color: #E8F0FE;\n",
              "      --fill-color: #1967D2;\n",
              "      --hover-bg-color: #E2EBFA;\n",
              "      --hover-fill-color: #174EA6;\n",
              "      --disabled-fill-color: #AAA;\n",
              "      --disabled-bg-color: #DDD;\n",
              "  }\n",
              "\n",
              "  [theme=dark] .colab-df-quickchart {\n",
              "      --bg-color: #3B4455;\n",
              "      --fill-color: #D2E3FC;\n",
              "      --hover-bg-color: #434B5C;\n",
              "      --hover-fill-color: #FFFFFF;\n",
              "      --disabled-bg-color: #3B4455;\n",
              "      --disabled-fill-color: #666;\n",
              "  }\n",
              "\n",
              "  .colab-df-quickchart {\n",
              "    background-color: var(--bg-color);\n",
              "    border: none;\n",
              "    border-radius: 50%;\n",
              "    cursor: pointer;\n",
              "    display: none;\n",
              "    fill: var(--fill-color);\n",
              "    height: 32px;\n",
              "    padding: 0;\n",
              "    width: 32px;\n",
              "  }\n",
              "\n",
              "  .colab-df-quickchart:hover {\n",
              "    background-color: var(--hover-bg-color);\n",
              "    box-shadow: 0 1px 2px rgba(60, 64, 67, 0.3), 0 1px 3px 1px rgba(60, 64, 67, 0.15);\n",
              "    fill: var(--button-hover-fill-color);\n",
              "  }\n",
              "\n",
              "  .colab-df-quickchart-complete:disabled,\n",
              "  .colab-df-quickchart-complete:disabled:hover {\n",
              "    background-color: var(--disabled-bg-color);\n",
              "    fill: var(--disabled-fill-color);\n",
              "    box-shadow: none;\n",
              "  }\n",
              "\n",
              "  .colab-df-spinner {\n",
              "    border: 2px solid var(--fill-color);\n",
              "    border-color: transparent;\n",
              "    border-bottom-color: var(--fill-color);\n",
              "    animation:\n",
              "      spin 1s steps(1) infinite;\n",
              "  }\n",
              "\n",
              "  @keyframes spin {\n",
              "    0% {\n",
              "      border-color: transparent;\n",
              "      border-bottom-color: var(--fill-color);\n",
              "      border-left-color: var(--fill-color);\n",
              "    }\n",
              "    20% {\n",
              "      border-color: transparent;\n",
              "      border-left-color: var(--fill-color);\n",
              "      border-top-color: var(--fill-color);\n",
              "    }\n",
              "    30% {\n",
              "      border-color: transparent;\n",
              "      border-left-color: var(--fill-color);\n",
              "      border-top-color: var(--fill-color);\n",
              "      border-right-color: var(--fill-color);\n",
              "    }\n",
              "    40% {\n",
              "      border-color: transparent;\n",
              "      border-right-color: var(--fill-color);\n",
              "      border-top-color: var(--fill-color);\n",
              "    }\n",
              "    60% {\n",
              "      border-color: transparent;\n",
              "      border-right-color: var(--fill-color);\n",
              "    }\n",
              "    80% {\n",
              "      border-color: transparent;\n",
              "      border-right-color: var(--fill-color);\n",
              "      border-bottom-color: var(--fill-color);\n",
              "    }\n",
              "    90% {\n",
              "      border-color: transparent;\n",
              "      border-bottom-color: var(--fill-color);\n",
              "    }\n",
              "  }\n",
              "</style>\n",
              "\n",
              "  <script>\n",
              "    async function quickchart(key) {\n",
              "      const quickchartButtonEl =\n",
              "        document.querySelector('#' + key + ' button');\n",
              "      quickchartButtonEl.disabled = true;  // To prevent multiple clicks.\n",
              "      quickchartButtonEl.classList.add('colab-df-spinner');\n",
              "      try {\n",
              "        const charts = await google.colab.kernel.invokeFunction(\n",
              "            'suggestCharts', [key], {});\n",
              "      } catch (error) {\n",
              "        console.error('Error during call to suggestCharts:', error);\n",
              "      }\n",
              "      quickchartButtonEl.classList.remove('colab-df-spinner');\n",
              "      quickchartButtonEl.classList.add('colab-df-quickchart-complete');\n",
              "    }\n",
              "    (() => {\n",
              "      let quickchartButtonEl =\n",
              "        document.querySelector('#df-8e2a7030-f550-44fe-b27f-37dc2b004f49 button');\n",
              "      quickchartButtonEl.style.display =\n",
              "        google.colab.kernel.accessAllowed ? 'block' : 'none';\n",
              "    })();\n",
              "  </script>\n",
              "</div>\n",
              "\n",
              "  <div id=\"id_fa6d8e7d-f414-4fca-8b91-34c746fcb591\">\n",
              "    <style>\n",
              "      .colab-df-generate {\n",
              "        background-color: #E8F0FE;\n",
              "        border: none;\n",
              "        border-radius: 50%;\n",
              "        cursor: pointer;\n",
              "        display: none;\n",
              "        fill: #1967D2;\n",
              "        height: 32px;\n",
              "        padding: 0 0 0 0;\n",
              "        width: 32px;\n",
              "      }\n",
              "\n",
              "      .colab-df-generate:hover {\n",
              "        background-color: #E2EBFA;\n",
              "        box-shadow: 0px 1px 2px rgba(60, 64, 67, 0.3), 0px 1px 3px 1px rgba(60, 64, 67, 0.15);\n",
              "        fill: #174EA6;\n",
              "      }\n",
              "\n",
              "      [theme=dark] .colab-df-generate {\n",
              "        background-color: #3B4455;\n",
              "        fill: #D2E3FC;\n",
              "      }\n",
              "\n",
              "      [theme=dark] .colab-df-generate:hover {\n",
              "        background-color: #434B5C;\n",
              "        box-shadow: 0px 1px 3px 1px rgba(0, 0, 0, 0.15);\n",
              "        filter: drop-shadow(0px 1px 2px rgba(0, 0, 0, 0.3));\n",
              "        fill: #FFFFFF;\n",
              "      }\n",
              "    </style>\n",
              "    <button class=\"colab-df-generate\" onclick=\"generateWithVariable('train_df')\"\n",
              "            title=\"Generate code using this dataframe.\"\n",
              "            style=\"display:none;\">\n",
              "\n",
              "  <svg xmlns=\"http://www.w3.org/2000/svg\" height=\"24px\"viewBox=\"0 0 24 24\"\n",
              "       width=\"24px\">\n",
              "    <path d=\"M7,19H8.4L18.45,9,17,7.55,7,17.6ZM5,21V16.75L18.45,3.32a2,2,0,0,1,2.83,0l1.4,1.43a1.91,1.91,0,0,1,.58,1.4,1.91,1.91,0,0,1-.58,1.4L9.25,21ZM18.45,9,17,7.55Zm-12,3A5.31,5.31,0,0,0,4.9,8.1,5.31,5.31,0,0,0,1,6.5,5.31,5.31,0,0,0,4.9,4.9,5.31,5.31,0,0,0,6.5,1,5.31,5.31,0,0,0,8.1,4.9,5.31,5.31,0,0,0,12,6.5,5.46,5.46,0,0,0,6.5,12Z\"/>\n",
              "  </svg>\n",
              "    </button>\n",
              "    <script>\n",
              "      (() => {\n",
              "      const buttonEl =\n",
              "        document.querySelector('#id_fa6d8e7d-f414-4fca-8b91-34c746fcb591 button.colab-df-generate');\n",
              "      buttonEl.style.display =\n",
              "        google.colab.kernel.accessAllowed ? 'block' : 'none';\n",
              "\n",
              "      buttonEl.onclick = () => {\n",
              "        google.colab.notebook.generateWithVariable('train_df');\n",
              "      }\n",
              "      })();\n",
              "    </script>\n",
              "  </div>\n",
              "\n",
              "    </div>\n",
              "  </div>\n"
            ],
            "application/vnd.google.colaboratory.intrinsic+json": {
              "type": "dataframe",
              "variable_name": "train_df"
            }
          },
          "metadata": {},
          "execution_count": 98
        }
      ]
    },
    {
      "cell_type": "code",
      "source": [
        "# prompt: save the train_df in csv file\n",
        "\n",
        "train_df.to_csv('/content/drive/MyDrive/Bootcamp AI/Dataset/Task2 : Text Summarization/reformed_dataset/train_df_no_outliers.csv', index=False)\n"
      ],
      "metadata": {
        "id": "ClefuwchdOkW"
      },
      "execution_count": 99,
      "outputs": []
    },
    {
      "cell_type": "code",
      "source": [
        "df = pd.read_csv('/content/drive/MyDrive/Bootcamp AI/Dataset/Task2 : Text Summarization/reformed_dataset/train_df_no_outliers.csv')"
      ],
      "metadata": {
        "id": "80nrI-xVdzga"
      },
      "execution_count": 100,
      "outputs": []
    },
    {
      "cell_type": "code",
      "source": [
        "df"
      ],
      "metadata": {
        "colab": {
          "base_uri": "https://localhost:8080/",
          "height": 979
        },
        "id": "HDhbjcQPd90n",
        "outputId": "ad8aca73-3eae-4f41-9020-1fa137a4a636"
      },
      "execution_count": 101,
      "outputs": [
        {
          "output_type": "execute_result",
          "data": {
            "text/plain": [
              "            id                                                url  \\\n",
              "0       238168  https://www.liputan6.com/news/read/238168/hayk...   \n",
              "1       146657  https://www.liputan6.com/news/read/146657/rama...   \n",
              "2       123694  https://www.liputan6.com/news/read/123694/evak...   \n",
              "3       139266  https://www.liputan6.com/news/read/139266/gunu...   \n",
              "4        57375  https://www.liputan6.com/news/read/57375/puluh...   \n",
              "...        ...                                                ...   \n",
              "166350  196443  https://www.liputan6.com/news/read/196443/seba...   \n",
              "166351  126536  https://www.liputan6.com/news/read/126536/razi...   \n",
              "166352  142536  https://www.liputan6.com/news/read/142536/bers...   \n",
              "166353  125546  https://www.liputan6.com/news/read/125546/lint...   \n",
              "166354  131112  https://www.liputan6.com/news/read/131112/peti...   \n",
              "\n",
              "                                                     text  \\\n",
              "0         liputan6       com       jakarta       telah...   \n",
              "1         liputan6       com       jakarta       harga...   \n",
              "2         liputan6       com       kupang       evakua...   \n",
              "3         liputan6       com       lembata       pusat...   \n",
              "4         liputan6       com       jakarta       puluh...   \n",
              "...                                                   ...   \n",
              "166350    liputan6       com       padang       banyak...   \n",
              "166351    liputan6       com       jakarta       telah...   \n",
              "166352    liputan6       com       bandung       manta...   \n",
              "166353    ingat   40   hari   pascagempa   color      ...   \n",
              "166354    liputan6       com       palu       ajun   i...   \n",
              "\n",
              "                                                  summary  \\\n",
              "0         artis   muda   haykal   dan   putri   titan ...   \n",
              "1         harga   bahan   pokok   seperti   minyak   g...   \n",
              "2         evakuasi   warga   negara   indonesia   dari...   \n",
              "3         status   gunung   batutara   tetap   siaga  ...   \n",
              "4         polisi   pamong   praja   pemda   jakarta   ...   \n",
              "...                                                   ...   \n",
              "166350    jumlah   serta   jamsostek   nonaktif   jauh...   \n",
              "166351    razia   kerja   seks   komersial   yang   ge...   \n",
              "166352     i   nyoman   sumaryadi   kembali   periksa ...   \n",
              "166353    ingat   40   hari   pascagempa   bumi   yogy...   \n",
              "166354    kecewa   pada   korps   yang   anggap   tak ...   \n",
              "\n",
              "                                                e_summary  \n",
              "0       liputan6  com  jakarta  telah jalan uji nasion...  \n",
              "1       liputan6  com  jakarta  harga jumlah butuh pok...  \n",
              "2       dalam empat hari ini  1  540 wni telah angkut ...  \n",
              "3       lahar panas juga keluar dari bagi belah timur ...  \n",
              "4       haryono  jakarta timur  hanya bisa mangu tatap...  \n",
              "...                                                   ...  \n",
              "166350  ia sebut  jumlah serta jamsostek nonaktif itu ...  \n",
              "166351  lokasi memang kenal bagai kawasan tempat mangk...  \n",
              "166352  sejak kemarin  nyoman kena status sangka  nyom...  \n",
              "166353  ingat 40 hari pascagempa color  ffff00  liputa...  \n",
              "166354  liputan6  com  palu  ajun inspektur satu polis...  \n",
              "\n",
              "[166355 rows x 5 columns]"
            ],
            "text/html": [
              "\n",
              "  <div id=\"df-fc760ded-b851-4e08-ae68-6fa00323612a\" class=\"colab-df-container\">\n",
              "    <div>\n",
              "<style scoped>\n",
              "    .dataframe tbody tr th:only-of-type {\n",
              "        vertical-align: middle;\n",
              "    }\n",
              "\n",
              "    .dataframe tbody tr th {\n",
              "        vertical-align: top;\n",
              "    }\n",
              "\n",
              "    .dataframe thead th {\n",
              "        text-align: right;\n",
              "    }\n",
              "</style>\n",
              "<table border=\"1\" class=\"dataframe\">\n",
              "  <thead>\n",
              "    <tr style=\"text-align: right;\">\n",
              "      <th></th>\n",
              "      <th>id</th>\n",
              "      <th>url</th>\n",
              "      <th>text</th>\n",
              "      <th>summary</th>\n",
              "      <th>e_summary</th>\n",
              "    </tr>\n",
              "  </thead>\n",
              "  <tbody>\n",
              "    <tr>\n",
              "      <th>0</th>\n",
              "      <td>238168</td>\n",
              "      <td>https://www.liputan6.com/news/read/238168/hayk...</td>\n",
              "      <td>liputan6       com       jakarta       telah...</td>\n",
              "      <td>artis   muda   haykal   dan   putri   titan ...</td>\n",
              "      <td>liputan6  com  jakarta  telah jalan uji nasion...</td>\n",
              "    </tr>\n",
              "    <tr>\n",
              "      <th>1</th>\n",
              "      <td>146657</td>\n",
              "      <td>https://www.liputan6.com/news/read/146657/rama...</td>\n",
              "      <td>liputan6       com       jakarta       harga...</td>\n",
              "      <td>harga   bahan   pokok   seperti   minyak   g...</td>\n",
              "      <td>liputan6  com  jakarta  harga jumlah butuh pok...</td>\n",
              "    </tr>\n",
              "    <tr>\n",
              "      <th>2</th>\n",
              "      <td>123694</td>\n",
              "      <td>https://www.liputan6.com/news/read/123694/evak...</td>\n",
              "      <td>liputan6       com       kupang       evakua...</td>\n",
              "      <td>evakuasi   warga   negara   indonesia   dari...</td>\n",
              "      <td>dalam empat hari ini  1  540 wni telah angkut ...</td>\n",
              "    </tr>\n",
              "    <tr>\n",
              "      <th>3</th>\n",
              "      <td>139266</td>\n",
              "      <td>https://www.liputan6.com/news/read/139266/gunu...</td>\n",
              "      <td>liputan6       com       lembata       pusat...</td>\n",
              "      <td>status   gunung   batutara   tetap   siaga  ...</td>\n",
              "      <td>lahar panas juga keluar dari bagi belah timur ...</td>\n",
              "    </tr>\n",
              "    <tr>\n",
              "      <th>4</th>\n",
              "      <td>57375</td>\n",
              "      <td>https://www.liputan6.com/news/read/57375/puluh...</td>\n",
              "      <td>liputan6       com       jakarta       puluh...</td>\n",
              "      <td>polisi   pamong   praja   pemda   jakarta   ...</td>\n",
              "      <td>haryono  jakarta timur  hanya bisa mangu tatap...</td>\n",
              "    </tr>\n",
              "    <tr>\n",
              "      <th>...</th>\n",
              "      <td>...</td>\n",
              "      <td>...</td>\n",
              "      <td>...</td>\n",
              "      <td>...</td>\n",
              "      <td>...</td>\n",
              "    </tr>\n",
              "    <tr>\n",
              "      <th>166350</th>\n",
              "      <td>196443</td>\n",
              "      <td>https://www.liputan6.com/news/read/196443/seba...</td>\n",
              "      <td>liputan6       com       padang       banyak...</td>\n",
              "      <td>jumlah   serta   jamsostek   nonaktif   jauh...</td>\n",
              "      <td>ia sebut  jumlah serta jamsostek nonaktif itu ...</td>\n",
              "    </tr>\n",
              "    <tr>\n",
              "      <th>166351</th>\n",
              "      <td>126536</td>\n",
              "      <td>https://www.liputan6.com/news/read/126536/razi...</td>\n",
              "      <td>liputan6       com       jakarta       telah...</td>\n",
              "      <td>razia   kerja   seks   komersial   yang   ge...</td>\n",
              "      <td>lokasi memang kenal bagai kawasan tempat mangk...</td>\n",
              "    </tr>\n",
              "    <tr>\n",
              "      <th>166352</th>\n",
              "      <td>142536</td>\n",
              "      <td>https://www.liputan6.com/news/read/142536/bers...</td>\n",
              "      <td>liputan6       com       bandung       manta...</td>\n",
              "      <td>i   nyoman   sumaryadi   kembali   periksa ...</td>\n",
              "      <td>sejak kemarin  nyoman kena status sangka  nyom...</td>\n",
              "    </tr>\n",
              "    <tr>\n",
              "      <th>166353</th>\n",
              "      <td>125546</td>\n",
              "      <td>https://www.liputan6.com/news/read/125546/lint...</td>\n",
              "      <td>ingat   40   hari   pascagempa   color      ...</td>\n",
              "      <td>ingat   40   hari   pascagempa   bumi   yogy...</td>\n",
              "      <td>ingat 40 hari pascagempa color  ffff00  liputa...</td>\n",
              "    </tr>\n",
              "    <tr>\n",
              "      <th>166354</th>\n",
              "      <td>131112</td>\n",
              "      <td>https://www.liputan6.com/news/read/131112/peti...</td>\n",
              "      <td>liputan6       com       palu       ajun   i...</td>\n",
              "      <td>kecewa   pada   korps   yang   anggap   tak ...</td>\n",
              "      <td>liputan6  com  palu  ajun inspektur satu polis...</td>\n",
              "    </tr>\n",
              "  </tbody>\n",
              "</table>\n",
              "<p>166355 rows × 5 columns</p>\n",
              "</div>\n",
              "    <div class=\"colab-df-buttons\">\n",
              "\n",
              "  <div class=\"colab-df-container\">\n",
              "    <button class=\"colab-df-convert\" onclick=\"convertToInteractive('df-fc760ded-b851-4e08-ae68-6fa00323612a')\"\n",
              "            title=\"Convert this dataframe to an interactive table.\"\n",
              "            style=\"display:none;\">\n",
              "\n",
              "  <svg xmlns=\"http://www.w3.org/2000/svg\" height=\"24px\" viewBox=\"0 -960 960 960\">\n",
              "    <path d=\"M120-120v-720h720v720H120Zm60-500h600v-160H180v160Zm220 220h160v-160H400v160Zm0 220h160v-160H400v160ZM180-400h160v-160H180v160Zm440 0h160v-160H620v160ZM180-180h160v-160H180v160Zm440 0h160v-160H620v160Z\"/>\n",
              "  </svg>\n",
              "    </button>\n",
              "\n",
              "  <style>\n",
              "    .colab-df-container {\n",
              "      display:flex;\n",
              "      gap: 12px;\n",
              "    }\n",
              "\n",
              "    .colab-df-convert {\n",
              "      background-color: #E8F0FE;\n",
              "      border: none;\n",
              "      border-radius: 50%;\n",
              "      cursor: pointer;\n",
              "      display: none;\n",
              "      fill: #1967D2;\n",
              "      height: 32px;\n",
              "      padding: 0 0 0 0;\n",
              "      width: 32px;\n",
              "    }\n",
              "\n",
              "    .colab-df-convert:hover {\n",
              "      background-color: #E2EBFA;\n",
              "      box-shadow: 0px 1px 2px rgba(60, 64, 67, 0.3), 0px 1px 3px 1px rgba(60, 64, 67, 0.15);\n",
              "      fill: #174EA6;\n",
              "    }\n",
              "\n",
              "    .colab-df-buttons div {\n",
              "      margin-bottom: 4px;\n",
              "    }\n",
              "\n",
              "    [theme=dark] .colab-df-convert {\n",
              "      background-color: #3B4455;\n",
              "      fill: #D2E3FC;\n",
              "    }\n",
              "\n",
              "    [theme=dark] .colab-df-convert:hover {\n",
              "      background-color: #434B5C;\n",
              "      box-shadow: 0px 1px 3px 1px rgba(0, 0, 0, 0.15);\n",
              "      filter: drop-shadow(0px 1px 2px rgba(0, 0, 0, 0.3));\n",
              "      fill: #FFFFFF;\n",
              "    }\n",
              "  </style>\n",
              "\n",
              "    <script>\n",
              "      const buttonEl =\n",
              "        document.querySelector('#df-fc760ded-b851-4e08-ae68-6fa00323612a button.colab-df-convert');\n",
              "      buttonEl.style.display =\n",
              "        google.colab.kernel.accessAllowed ? 'block' : 'none';\n",
              "\n",
              "      async function convertToInteractive(key) {\n",
              "        const element = document.querySelector('#df-fc760ded-b851-4e08-ae68-6fa00323612a');\n",
              "        const dataTable =\n",
              "          await google.colab.kernel.invokeFunction('convertToInteractive',\n",
              "                                                    [key], {});\n",
              "        if (!dataTable) return;\n",
              "\n",
              "        const docLinkHtml = 'Like what you see? Visit the ' +\n",
              "          '<a target=\"_blank\" href=https://colab.research.google.com/notebooks/data_table.ipynb>data table notebook</a>'\n",
              "          + ' to learn more about interactive tables.';\n",
              "        element.innerHTML = '';\n",
              "        dataTable['output_type'] = 'display_data';\n",
              "        await google.colab.output.renderOutput(dataTable, element);\n",
              "        const docLink = document.createElement('div');\n",
              "        docLink.innerHTML = docLinkHtml;\n",
              "        element.appendChild(docLink);\n",
              "      }\n",
              "    </script>\n",
              "  </div>\n",
              "\n",
              "\n",
              "<div id=\"df-45596302-27b4-4ffb-b587-3e94219bad1a\">\n",
              "  <button class=\"colab-df-quickchart\" onclick=\"quickchart('df-45596302-27b4-4ffb-b587-3e94219bad1a')\"\n",
              "            title=\"Suggest charts\"\n",
              "            style=\"display:none;\">\n",
              "\n",
              "<svg xmlns=\"http://www.w3.org/2000/svg\" height=\"24px\"viewBox=\"0 0 24 24\"\n",
              "     width=\"24px\">\n",
              "    <g>\n",
              "        <path d=\"M19 3H5c-1.1 0-2 .9-2 2v14c0 1.1.9 2 2 2h14c1.1 0 2-.9 2-2V5c0-1.1-.9-2-2-2zM9 17H7v-7h2v7zm4 0h-2V7h2v10zm4 0h-2v-4h2v4z\"/>\n",
              "    </g>\n",
              "</svg>\n",
              "  </button>\n",
              "\n",
              "<style>\n",
              "  .colab-df-quickchart {\n",
              "      --bg-color: #E8F0FE;\n",
              "      --fill-color: #1967D2;\n",
              "      --hover-bg-color: #E2EBFA;\n",
              "      --hover-fill-color: #174EA6;\n",
              "      --disabled-fill-color: #AAA;\n",
              "      --disabled-bg-color: #DDD;\n",
              "  }\n",
              "\n",
              "  [theme=dark] .colab-df-quickchart {\n",
              "      --bg-color: #3B4455;\n",
              "      --fill-color: #D2E3FC;\n",
              "      --hover-bg-color: #434B5C;\n",
              "      --hover-fill-color: #FFFFFF;\n",
              "      --disabled-bg-color: #3B4455;\n",
              "      --disabled-fill-color: #666;\n",
              "  }\n",
              "\n",
              "  .colab-df-quickchart {\n",
              "    background-color: var(--bg-color);\n",
              "    border: none;\n",
              "    border-radius: 50%;\n",
              "    cursor: pointer;\n",
              "    display: none;\n",
              "    fill: var(--fill-color);\n",
              "    height: 32px;\n",
              "    padding: 0;\n",
              "    width: 32px;\n",
              "  }\n",
              "\n",
              "  .colab-df-quickchart:hover {\n",
              "    background-color: var(--hover-bg-color);\n",
              "    box-shadow: 0 1px 2px rgba(60, 64, 67, 0.3), 0 1px 3px 1px rgba(60, 64, 67, 0.15);\n",
              "    fill: var(--button-hover-fill-color);\n",
              "  }\n",
              "\n",
              "  .colab-df-quickchart-complete:disabled,\n",
              "  .colab-df-quickchart-complete:disabled:hover {\n",
              "    background-color: var(--disabled-bg-color);\n",
              "    fill: var(--disabled-fill-color);\n",
              "    box-shadow: none;\n",
              "  }\n",
              "\n",
              "  .colab-df-spinner {\n",
              "    border: 2px solid var(--fill-color);\n",
              "    border-color: transparent;\n",
              "    border-bottom-color: var(--fill-color);\n",
              "    animation:\n",
              "      spin 1s steps(1) infinite;\n",
              "  }\n",
              "\n",
              "  @keyframes spin {\n",
              "    0% {\n",
              "      border-color: transparent;\n",
              "      border-bottom-color: var(--fill-color);\n",
              "      border-left-color: var(--fill-color);\n",
              "    }\n",
              "    20% {\n",
              "      border-color: transparent;\n",
              "      border-left-color: var(--fill-color);\n",
              "      border-top-color: var(--fill-color);\n",
              "    }\n",
              "    30% {\n",
              "      border-color: transparent;\n",
              "      border-left-color: var(--fill-color);\n",
              "      border-top-color: var(--fill-color);\n",
              "      border-right-color: var(--fill-color);\n",
              "    }\n",
              "    40% {\n",
              "      border-color: transparent;\n",
              "      border-right-color: var(--fill-color);\n",
              "      border-top-color: var(--fill-color);\n",
              "    }\n",
              "    60% {\n",
              "      border-color: transparent;\n",
              "      border-right-color: var(--fill-color);\n",
              "    }\n",
              "    80% {\n",
              "      border-color: transparent;\n",
              "      border-right-color: var(--fill-color);\n",
              "      border-bottom-color: var(--fill-color);\n",
              "    }\n",
              "    90% {\n",
              "      border-color: transparent;\n",
              "      border-bottom-color: var(--fill-color);\n",
              "    }\n",
              "  }\n",
              "</style>\n",
              "\n",
              "  <script>\n",
              "    async function quickchart(key) {\n",
              "      const quickchartButtonEl =\n",
              "        document.querySelector('#' + key + ' button');\n",
              "      quickchartButtonEl.disabled = true;  // To prevent multiple clicks.\n",
              "      quickchartButtonEl.classList.add('colab-df-spinner');\n",
              "      try {\n",
              "        const charts = await google.colab.kernel.invokeFunction(\n",
              "            'suggestCharts', [key], {});\n",
              "      } catch (error) {\n",
              "        console.error('Error during call to suggestCharts:', error);\n",
              "      }\n",
              "      quickchartButtonEl.classList.remove('colab-df-spinner');\n",
              "      quickchartButtonEl.classList.add('colab-df-quickchart-complete');\n",
              "    }\n",
              "    (() => {\n",
              "      let quickchartButtonEl =\n",
              "        document.querySelector('#df-45596302-27b4-4ffb-b587-3e94219bad1a button');\n",
              "      quickchartButtonEl.style.display =\n",
              "        google.colab.kernel.accessAllowed ? 'block' : 'none';\n",
              "    })();\n",
              "  </script>\n",
              "</div>\n",
              "\n",
              "  <div id=\"id_55ca3b03-0589-43a3-8e3d-7c98c1e91eeb\">\n",
              "    <style>\n",
              "      .colab-df-generate {\n",
              "        background-color: #E8F0FE;\n",
              "        border: none;\n",
              "        border-radius: 50%;\n",
              "        cursor: pointer;\n",
              "        display: none;\n",
              "        fill: #1967D2;\n",
              "        height: 32px;\n",
              "        padding: 0 0 0 0;\n",
              "        width: 32px;\n",
              "      }\n",
              "\n",
              "      .colab-df-generate:hover {\n",
              "        background-color: #E2EBFA;\n",
              "        box-shadow: 0px 1px 2px rgba(60, 64, 67, 0.3), 0px 1px 3px 1px rgba(60, 64, 67, 0.15);\n",
              "        fill: #174EA6;\n",
              "      }\n",
              "\n",
              "      [theme=dark] .colab-df-generate {\n",
              "        background-color: #3B4455;\n",
              "        fill: #D2E3FC;\n",
              "      }\n",
              "\n",
              "      [theme=dark] .colab-df-generate:hover {\n",
              "        background-color: #434B5C;\n",
              "        box-shadow: 0px 1px 3px 1px rgba(0, 0, 0, 0.15);\n",
              "        filter: drop-shadow(0px 1px 2px rgba(0, 0, 0, 0.3));\n",
              "        fill: #FFFFFF;\n",
              "      }\n",
              "    </style>\n",
              "    <button class=\"colab-df-generate\" onclick=\"generateWithVariable('df')\"\n",
              "            title=\"Generate code using this dataframe.\"\n",
              "            style=\"display:none;\">\n",
              "\n",
              "  <svg xmlns=\"http://www.w3.org/2000/svg\" height=\"24px\"viewBox=\"0 0 24 24\"\n",
              "       width=\"24px\">\n",
              "    <path d=\"M7,19H8.4L18.45,9,17,7.55,7,17.6ZM5,21V16.75L18.45,3.32a2,2,0,0,1,2.83,0l1.4,1.43a1.91,1.91,0,0,1,.58,1.4,1.91,1.91,0,0,1-.58,1.4L9.25,21ZM18.45,9,17,7.55Zm-12,3A5.31,5.31,0,0,0,4.9,8.1,5.31,5.31,0,0,0,1,6.5,5.31,5.31,0,0,0,4.9,4.9,5.31,5.31,0,0,0,6.5,1,5.31,5.31,0,0,0,8.1,4.9,5.31,5.31,0,0,0,12,6.5,5.46,5.46,0,0,0,6.5,12Z\"/>\n",
              "  </svg>\n",
              "    </button>\n",
              "    <script>\n",
              "      (() => {\n",
              "      const buttonEl =\n",
              "        document.querySelector('#id_55ca3b03-0589-43a3-8e3d-7c98c1e91eeb button.colab-df-generate');\n",
              "      buttonEl.style.display =\n",
              "        google.colab.kernel.accessAllowed ? 'block' : 'none';\n",
              "\n",
              "      buttonEl.onclick = () => {\n",
              "        google.colab.notebook.generateWithVariable('df');\n",
              "      }\n",
              "      })();\n",
              "    </script>\n",
              "  </div>\n",
              "\n",
              "    </div>\n",
              "  </div>\n"
            ],
            "application/vnd.google.colaboratory.intrinsic+json": {
              "type": "dataframe",
              "variable_name": "df"
            }
          },
          "metadata": {},
          "execution_count": 101
        }
      ]
    },
    {
      "cell_type": "code",
      "source": [],
      "metadata": {
        "id": "6yNOkFK8eBg3"
      },
      "execution_count": null,
      "outputs": []
    }
  ]
}