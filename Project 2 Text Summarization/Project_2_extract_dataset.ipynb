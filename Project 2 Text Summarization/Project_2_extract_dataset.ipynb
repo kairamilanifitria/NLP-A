{
  "nbformat": 4,
  "nbformat_minor": 0,
  "metadata": {
    "colab": {
      "provenance": [],
      "mount_file_id": "1MKnTx6J9EkVdN_dQVfvfcNPrtPvn7EdI",
      "authorship_tag": "ABX9TyOzDRLhA4ka8oYGyCU1Xoq7",
      "include_colab_link": true
    },
    "kernelspec": {
      "name": "python3",
      "display_name": "Python 3"
    },
    "language_info": {
      "name": "python"
    }
  },
  "cells": [
    {
      "cell_type": "markdown",
      "metadata": {
        "id": "view-in-github",
        "colab_type": "text"
      },
      "source": [
        "<a href=\"https://colab.research.google.com/github/kairamilanifitria/NLP-Projects/blob/main/Project%202%20Text%20Summarization/Project_2_extract_dataset.ipynb\" target=\"_parent\"><img src=\"https://colab.research.google.com/assets/colab-badge.svg\" alt=\"Open In Colab\"/></a>"
      ]
    },
    {
      "cell_type": "code",
      "source": [
        "import tarfile\n",
        "import os\n",
        "\n",
        "# Replace with your tar.gz file path\n",
        "tar_gz_file_path = '/content/drive/MyDrive/Bootcamp AI/Dataset/Task2 : Text Summarization/liputan6_data.tar.gz'\n",
        "\n",
        "# Replace with your desired extraction directory in Google Drive\n",
        "extracted_folder_path = '/content/drive/MyDrive/Bootcamp AI/Dataset/Task2 : Text Summarization/liputan6'\n",
        "\n",
        "# Create the extraction directory if it doesn't exist\n",
        "if not os.path.exists(extracted_folder_path):\n",
        "    os.makedirs(extracted_folder_path)\n",
        "\n",
        "# Extract the tar.gz file\n",
        "with tarfile.open(tar_gz_file_path, 'r:gz') as tar:\n",
        "    tar.extractall(path=extracted_folder_path)\n",
        "\n",
        "print(f\"File extracted to: {extracted_folder_path}\")\n"
      ],
      "metadata": {
        "id": "s_grJ5U6Jodm",
        "colab": {
          "base_uri": "https://localhost:8080/"
        },
        "outputId": "406a59d2-754e-4abe-dc33-00f0a034891f"
      },
      "execution_count": 1,
      "outputs": [
        {
          "output_type": "stream",
          "name": "stdout",
          "text": [
            "File extracted to: /content/drive/MyDrive/Bootcamp AI/Dataset/Task2 : Text Summarization/liputan6\n"
          ]
        }
      ]
    },
    {
      "cell_type": "markdown",
      "source": [
        "## Extracted Dataset :\n",
        "https://drive.google.com/drive/folders/1eGh-hY1pD8nLCAU9gWIAJXeSm5PaOCaI?usp=sharing"
      ],
      "metadata": {
        "id": "tdEsbChSsAgR"
      }
    },
    {
      "cell_type": "code",
      "source": [
        "# prompt: see the total data in liputan6 folder\n",
        "\n",
        "import os\n",
        "\n",
        "folder_path = '/content/drive/MyDrive/Bootcamp AI/Dataset/Task2 : Text Summarization/liputan6/liputan6_data/canonical/train'\n",
        "\n",
        "total_files = 0\n",
        "for root, dirs, files in os.walk(folder_path):\n",
        "  total_files += len(files)\n",
        "\n",
        "print(f\"Total files in {folder_path}: {total_files}\")\n"
      ],
      "metadata": {
        "colab": {
          "base_uri": "https://localhost:8080/"
        },
        "id": "loXgaPYAq3GG",
        "outputId": "1a255c98-f501-406f-f5dd-da7ec9cede89"
      },
      "execution_count": 5,
      "outputs": [
        {
          "output_type": "stream",
          "name": "stdout",
          "text": [
            "Total files in /content/drive/MyDrive/Bootcamp AI/Dataset/Task2 : Text Summarization/liputan6/liputan6_data/canonical/train: 193883\n"
          ]
        }
      ]
    },
    {
      "cell_type": "code",
      "source": [],
      "metadata": {
        "id": "8wMGf6lde0Nd"
      },
      "execution_count": null,
      "outputs": []
    }
  ]
}